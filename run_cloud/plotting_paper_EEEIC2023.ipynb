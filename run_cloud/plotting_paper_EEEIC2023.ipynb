{
 "cells": [
  {
   "attachments": {},
   "cell_type": "markdown",
   "metadata": {},
   "source": [
    "# Notebook plots for paper presented at conference EEEIC 2023\n",
    "\n",
    "This notebook contains the code used to plot the images shown at conference EEEIC 2023.\n",
    "If you use this code, please cite \"D. Fioriti, T. Ferrucci, D. Poli, Fairness and reward in Energy Communities: game-theory versus simplified approaches, EEEIC 2023\""
   ]
  },
  {
   "cell_type": "code",
   "execution_count": 1,
   "metadata": {},
   "outputs": [
    {
     "name": "stderr",
     "output_type": "stream",
     "text": [
      "\u001b[32m\u001b[1m  Activating\u001b[22m\u001b[39m new project at `c:\\Users\\Davide\\git\\gitdf\\EnergyCommunity.jl\\examples`\n"
     ]
    }
   ],
   "source": [
    "using Pkg\n",
    "Pkg.activate(\".\")"
   ]
  },
  {
   "cell_type": "code",
   "execution_count": 2,
   "metadata": {},
   "outputs": [
    {
     "data": {
      "text/plain": [
       "(600, 250)"
      ]
     },
     "metadata": {},
     "output_type": "display_data"
    }
   ],
   "source": [
    "parent_dir = \"results_final_15_3_2023/results_paper_NC\"\n",
    "saveenum_dir = \"$parent_dir/enum\"\n",
    "\n",
    "folder_imgs = \"$parent_dir/imgs_EEEIC\"\n",
    "\n",
    "n_base_users=10\n",
    "add_EC=true\n",
    "\n",
    "id_filter = [7, 11, 14, 15]\n",
    "\n",
    "fig_size = (600, 250)"
   ]
  },
  {
   "cell_type": "code",
   "execution_count": 3,
   "metadata": {},
   "outputs": [
    {
     "ename": "ArgumentError",
     "evalue": "ArgumentError: Package EnergyCommunity not found in current path.\n- Run `import Pkg; Pkg.add(\"EnergyCommunity\")` to install the EnergyCommunity package.",
     "output_type": "error",
     "traceback": [
      "ArgumentError: Package EnergyCommunity not found in current path.\n",
      "- Run `import Pkg; Pkg.add(\"EnergyCommunity\")` to install the EnergyCommunity package.\n",
      "\n",
      "Stacktrace:\n",
      "  [1] macro expansion\n",
      "    @ .\\loading.jl:1163 [inlined]\n",
      "  [2] macro expansion\n",
      "    @ .\\lock.jl:223 [inlined]\n",
      "  [3] require(into::Module, mod::Symbol)\n",
      "    @ Base .\\loading.jl:1144\n",
      "  [4] eval\n",
      "    @ .\\boot.jl:368 [inlined]\n",
      "  [5] include_string(mapexpr::typeof(REPL.softscope), mod::Module, code::String, filename::String)\n",
      "    @ Base .\\loading.jl:1428\n",
      "  [6] #invokelatest#2\n",
      "    @ .\\essentials.jl:729 [inlined]\n",
      "  [7] invokelatest\n",
      "    @ .\\essentials.jl:726 [inlined]\n",
      "  [8] (::VSCodeServer.var\"#198#199\"{VSCodeServer.NotebookRunCellArguments, String})()\n",
      "    @ VSCodeServer c:\\Users\\Davide\\.vscode\\extensions\\julialang.language-julia-1.47.2\\scripts\\packages\\VSCodeServer\\src\\serve_notebook.jl:19\n",
      "  [9] withpath(f::VSCodeServer.var\"#198#199\"{VSCodeServer.NotebookRunCellArguments, String}, path::String)\n",
      "    @ VSCodeServer c:\\Users\\Davide\\.vscode\\extensions\\julialang.language-julia-1.47.2\\scripts\\packages\\VSCodeServer\\src\\repl.jl:249\n",
      " [10] notebook_runcell_request(conn::VSCodeServer.JSONRPC.JSONRPCEndpoint{Base.PipeEndpoint, Base.PipeEndpoint}, params::VSCodeServer.NotebookRunCellArguments)\n",
      "    @ VSCodeServer c:\\Users\\Davide\\.vscode\\extensions\\julialang.language-julia-1.47.2\\scripts\\packages\\VSCodeServer\\src\\serve_notebook.jl:13\n",
      " [11] dispatch_msg(x::VSCodeServer.JSONRPC.JSONRPCEndpoint{Base.PipeEndpoint, Base.PipeEndpoint}, dispatcher::VSCodeServer.JSONRPC.MsgDispatcher, msg::Dict{String, Any})\n",
      "    @ VSCodeServer.JSONRPC c:\\Users\\Davide\\.vscode\\extensions\\julialang.language-julia-1.47.2\\scripts\\packages\\JSONRPC\\src\\typed.jl:67\n",
      " [12] serve_notebook(pipename::String, outputchannel_logger::Base.CoreLogging.SimpleLogger; crashreporting_pipename::String)\n",
      "    @ VSCodeServer c:\\Users\\Davide\\.vscode\\extensions\\julialang.language-julia-1.47.2\\scripts\\packages\\VSCodeServer\\src\\serve_notebook.jl:139\n",
      " [13] top-level scope\n",
      "    @ c:\\Users\\Davide\\.vscode\\extensions\\julialang.language-julia-1.47.2\\scripts\\notebook\\notebook.jl:32"
     ]
    }
   ],
   "source": [
    "using EnergyCommunity\n",
    "using FileIO\n",
    "using HiGHS, Plots, StatsPlots, CategoricalArrays\n",
    "using JuMP\n",
    "using Gurobi\n",
    "using TheoryOfGames\n",
    "using TickTock\n",
    "using Combinatorics\n",
    "using DataFrames\n",
    "using JLD2\n",
    "using Latexify, LaTeXStrings\n",
    "using YAML\n",
    "using CSV\n",
    "\n",
    "mkpath(folder_imgs)\n",
    "\n",
    "fontsize = 1\n",
    "fontname = \"times\"\n",
    "\n",
    "gr()\n",
    "\n",
    "# default(\n",
    "#     titlefontsize=20,\n",
    "#     # tickfontsize=fontsize-2,\n",
    "#     guidefontsize=fontsize-2,\n",
    "#     legend_title_font_pointsize=fontsize-1,\n",
    "#     labelfontsize=fontsize-2,\n",
    "#     legendfontsize=fontsize-2,\n",
    "# )"
   ]
  },
  {
   "cell_type": "code",
   "execution_count": 4,
   "metadata": {},
   "outputs": [
    {
     "data": {
      "text/plain": [
       "f_userlist (generic function with 1 method)"
      ]
     },
     "metadata": {},
     "output_type": "display_data"
    }
   ],
   "source": [
    "f_userlist(add_EC, n_users) = [add_EC ? [EC_CODE] : String[]; [\"user$u\" for u=1:n_users]]"
   ]
  },
  {
   "attachments": {},
   "cell_type": "markdown",
   "metadata": {},
   "source": [
    "## Store the data of the simulations"
   ]
  },
  {
   "attachments": {},
   "cell_type": "markdown",
   "metadata": {},
   "source": [
    "#### Enumerative configurations"
   ]
  },
  {
   "cell_type": "code",
   "execution_count": 5,
   "metadata": {},
   "outputs": [
    {
     "ename": "UndefVarError",
     "evalue": "UndefVarError: load not defined",
     "output_type": "error",
     "traceback": [
      "UndefVarError: load not defined\n",
      "\n",
      "Stacktrace:\n",
      " [1] top-level scope\n",
      "   @ c:\\Users\\Davide\\git\\gitdf\\EnergyCommunity.jl\\examples\\plotting_paper_EEEIC2023.ipynb:8"
     ]
    }
   ],
   "source": [
    "EC_size_list_enum = []\n",
    "dict_enums = Dict()\n",
    "\n",
    "for filename in readdir(saveenum_dir)\n",
    "    if endswith(filename, \".jld2\") && startswith(filename, \"enum_simulations_results_\")\n",
    "        size_enum = parse(Int, replace(filename, \"enum_simulations_results_\"=>\"\", \".jld2\"=>\"\"))\n",
    "        push!(EC_size_list_enum, size_enum)\n",
    "        dict_enums[size_enum] = load(\"$saveenum_dir/enum_simulations_results_$size_enum.jld2\")\n",
    "        dict_enums[size_enum][\"ECmodel\"] = load!(\"$saveenum_dir/ec_model_$size_enum.jld2\", ModelEC())\n",
    "        dict_enums[size_enum][\"NCmodel\"] = load!(\"$saveenum_dir/nc_model_$size_enum.jld2\", ModelEC())\n",
    "    end\n",
    "end"
   ]
  },
  {
   "attachments": {},
   "cell_type": "markdown",
   "metadata": {},
   "source": [
    "## Benefit distribution versus size"
   ]
  },
  {
   "attachments": {},
   "cell_type": "markdown",
   "metadata": {},
   "source": [
    "### Store data of reward distribution"
   ]
  },
  {
   "cell_type": "code",
   "execution_count": 6,
   "metadata": {},
   "outputs": [
    {
     "ename": "KeyError",
     "evalue": "KeyError: key 10 not found",
     "output_type": "error",
     "traceback": [
      "KeyError: key 10 not found\n",
      "\n",
      "Stacktrace:\n",
      " [1] getindex(h::Dict{Any, Any}, key::Int64)\n",
      "   @ Base .\\dict.jl:498\n",
      " [2] top-level scope\n",
      "   @ c:\\Users\\Davide\\git\\gitdf\\EnergyCommunity.jl\\examples\\plotting_paper_EEEIC2023.ipynb:1"
     ]
    }
   ],
   "source": [
    "df_benefit = dict_enums[10][\"df_reward_enum\"]\n",
    "ecm = dict_enums[10][\"ECmodel\"]\n",
    "ncm = dict_enums[10][\"NCmodel\"]\n",
    "df_time = dict_enums[10][\"df_time_enum\"]\n",
    "\n",
    "nc_obj_by_user = objective_by_user(ncm)\n",
    "ec_obj_by_user = objective_by_user(ecm)\n",
    "\n",
    "# rCO = split_financial_terms(ECModel, profit_distribution)\n",
    "# df_CO = financial_terms_to_df(rCO)\n",
    "\n",
    "# rNC = split_financial_terms(NC_Model, obj_by_user)\n",
    "# df_NC ) financial_terms_to_df(rNC)"
   ]
  },
  {
   "attachments": {},
   "cell_type": "markdown",
   "metadata": {},
   "source": [
    "### utils for benefit computations"
   ]
  },
  {
   "cell_type": "code",
   "execution_count": 7,
   "metadata": {},
   "outputs": [
    {
     "data": {
      "text/plain": [
       "#13 (generic function with 1 method)"
      ]
     },
     "metadata": {},
     "output_type": "display_data"
    }
   ],
   "source": [
    "# function to automatically create matrix blocks for aggregation on the data\n",
    "function prepare_grouped(df, u_list, cols, col_user=:user_set)\n",
    "\n",
    "    idx_list = [findfirst(u .== df[!, col_user]) for u in u_list]\n",
    "\n",
    "    grp_x = repeat(string.(cols), inner=length(u_list))\n",
    "    grp_lbls = repeat(string.(u_list), outer=length(cols))\n",
    "    df_list = []\n",
    "    for c=cols\n",
    "        append!(df_list, df[idx_list, c])\n",
    "    end\n",
    "\n",
    "    return (\n",
    "        data=Vector{Float64}(df_list),\n",
    "        grp_x=grp_x,\n",
    "        grp_lbls=grp_lbls,\n",
    "    )\n",
    "end\n",
    "\n",
    "function filter_reward_labels!(ulist)\n",
    "    return replace!(\n",
    "        ulist,\n",
    "        \"shapley_enum\"=>\"Shapley\",\n",
    "        \"nucleolus_enum\"=>\"Nucleolus\",\n",
    "        \"varleastcore_enum\"=>\"VarLeastCore\",\n",
    "    )\n",
    "end\n",
    "\n",
    "function filter_user_labels!(ulist)\n",
    "    return replace!(\n",
    "        ulist,\n",
    "        \"EC\"=>\"Agg\",\n",
    "    )\n",
    "end\n",
    "\n",
    "financial_terms_to_df = r->DataFrame([:user_set=>axes(r.NPV)[1]; [k=>r[k].data for k in keys(r)]])\n"
   ]
  },
  {
   "attachments": {},
   "cell_type": "markdown",
   "metadata": {},
   "source": [
    "### Show benefit (delta NPV)"
   ]
  },
  {
   "cell_type": "code",
   "execution_count": 8,
   "metadata": {},
   "outputs": [
    {
     "ename": "UndefVarError",
     "evalue": "UndefVarError: EC_CODE not defined",
     "output_type": "error",
     "traceback": [
      "UndefVarError: EC_CODE not defined\n",
      "\n",
      "Stacktrace:\n",
      " [1] f_userlist(add_EC::Bool, n_users::Int64)\n",
      "   @ Main c:\\Users\\Davide\\git\\gitdf\\EnergyCommunity.jl\\examples\\plotting_paper_EEEIC2023.ipynb:1\n",
      " [2] top-level scope\n",
      "   @ c:\\Users\\Davide\\git\\gitdf\\EnergyCommunity.jl\\examples\\plotting_paper_EEEIC2023.ipynb:2"
     ]
    }
   ],
   "source": [
    "cols = [\"shapley_enum\", \"nucleolus_enum\", \"varleastcore_enum\"]\n",
    "u_list = f_userlist(true, 10)\n",
    "out = prepare_grouped(\n",
    "    df_benefit,\n",
    "    u_list,\n",
    "    cols\n",
    ")\n",
    "\n",
    "filter_reward_labels!(out.grp_x)\n",
    "filter_user_labels!(out.grp_lbls)\n",
    "filter_user_labels!(u_list)\n",
    "\n",
    "p = groupedbar(\n",
    "        CategoricalArray(out.grp_lbls, levels = u_list),\n",
    "        out.data ./ 1000,\n",
    "        group=out.grp_x,\n",
    "        framestyle=:box,\n",
    "        legendtitle=\"Reward scheme\",\n",
    "        xlabel=\"User/Agg\",\n",
    "        ylabel=\"Net benefit (DNPV) [k€]\",\n",
    "        # title=title_plot[k],\n",
    "        # yerror=(min_err, max_err),\n",
    "        # legend=:outerright,\n",
    "        # legend=:right,\n",
    "        ylims=[0, 120],\n",
    "        # yaxis=:log,\n",
    "        size=fig_size,\n",
    "    )\n",
    "display(p)\n",
    "\n",
    "savefig(p, \"$folder_imgs/benefit.pdf\");"
   ]
  },
  {
   "attachments": {},
   "cell_type": "markdown",
   "metadata": {},
   "source": [
    "### Plot shared energy"
   ]
  },
  {
   "cell_type": "code",
   "execution_count": 9,
   "metadata": {},
   "outputs": [
    {
     "ename": "UndefVarError",
     "evalue": "UndefVarError: calculate_shared_consumption not defined",
     "output_type": "error",
     "traceback": [
      "UndefVarError: calculate_shared_consumption not defined\n",
      "\n",
      "Stacktrace:\n",
      " [1] top-level scope\n",
      "   @ c:\\Users\\Davide\\git\\gitdf\\EnergyCommunity.jl\\examples\\plotting_paper_EEEIC2023.ipynb:4"
     ]
    }
   ],
   "source": [
    "per_unit = false\n",
    "only_shared = true\n",
    "\n",
    "shared_cons = calculate_shared_consumption(ecm; per_unit=per_unit, only_shared=only_shared)\n",
    "shared_prod = calculate_shared_production(ecm; per_unit=per_unit, only_shared=only_shared)\n",
    "shared_tot = shared_cons .+ shared_prod\n",
    "\n",
    "self_cons = calculate_self_consumption(ecm; per_unit=per_unit)\n",
    "self_prod = calculate_self_production(ecm; per_unit=per_unit)\n",
    "\n",
    "data_list_content = [shared_cons, shared_prod, shared_tot, self_cons] #, self_prod]\n",
    "data_list_tags = [\"Shared cons.\", \"Shared prod.\", \"Shared cons. + prod.\", \"Self cons./prod.\"]#, \"Self prod.\"]\n",
    "\n",
    "u_list = f_userlist(false, 10)\n",
    "\n",
    "data_y = Float64[]\n",
    "data_x = []\n",
    "data_group = []\n",
    "for (dd, lbl) in zip(\n",
    "        data_list_content,\n",
    "        data_list_tags,\n",
    "    )\n",
    "\n",
    "    append!(data_x, u_list)\n",
    "    append!(data_y, dd[u_list].data)\n",
    "    append!(data_group, repeat([lbl], length(dd[u_list].data)))\n",
    "end\n",
    "\n",
    "out = (\n",
    "    data=data_y,\n",
    "    grp_x=data_x,\n",
    "    grp_lbls=data_group,\n",
    ")\n",
    "\n",
    "\n",
    "filter_reward_labels!(out.grp_x)\n",
    "filter_user_labels!(out.grp_lbls)\n",
    "\n",
    "\n",
    "p = groupedbar(\n",
    "        CategoricalArray(out.grp_x, levels = u_list),\n",
    "        out.data ./1000,\n",
    "        group=CategoricalArray(out.grp_lbls, levels = data_list_tags),\n",
    "        framestyle=:box,\n",
    "        # legendtitle=\"Reward scheme\",\n",
    "        xlabel=\"User/Agg\",\n",
    "        ylabel=\"[MWh]\",\n",
    "        # title=title_plot[k],\n",
    "        # yerror=(min_err, max_err),\n",
    "        # legend=:outerright,\n",
    "        # legend=:right,\n",
    "        # ylims=[1, 300],\n",
    "        # yaxis=:log,\n",
    "        size=fig_size,\n",
    "    )\n",
    "\n",
    "display(p)\n",
    "\n",
    "savefig(p, \"$folder_imgs/shared_self_energy.pdf\");"
   ]
  },
  {
   "attachments": {},
   "cell_type": "markdown",
   "metadata": {},
   "source": [
    "### Calculate main financial-related terms"
   ]
  },
  {
   "attachments": {},
   "cell_type": "markdown",
   "metadata": {},
   "source": [
    "#### Prepare financial terms"
   ]
  },
  {
   "cell_type": "code",
   "execution_count": 10,
   "metadata": {},
   "outputs": [
    {
     "ename": "UndefVarError",
     "evalue": "UndefVarError: JuMP not defined",
     "output_type": "error",
     "traceback": [
      "UndefVarError: JuMP not defined\n",
      "\n",
      "Stacktrace:\n",
      " [1] top-level scope\n",
      "   @ c:\\Users\\Davide\\git\\gitdf\\EnergyCommunity.jl\\examples\\plotting_paper_EEEIC2023.ipynb:6"
     ]
    }
   ],
   "source": [
    "# Calculate financial dictionary of elements\n",
    "dict_financial = Dict{String, Any}()\n",
    "\n",
    "for c in cols\n",
    "\n",
    "    rew = JuMP.Containers.DenseAxisArray(df_benefit[!, c], df_benefit[!, :user_set])\n",
    "\n",
    "    profit_distribution = JuMP.Containers.DenseAxisArray(\n",
    "        collect([rew[k] + nc_obj_by_user[k] for k in df_benefit[!, :user_set]]),\n",
    "        df_benefit[:, :user_set],\n",
    "    )\n",
    "\n",
    "    rCO = split_financial_terms(ecm, profit_distribution)\n",
    "\n",
    "    dict_financial[c] = rCO\n",
    "\n",
    "end\n",
    "\n",
    "rNC = split_financial_terms(ncm, nc_obj_by_user)\n",
    "rCO = split_financial_terms(ecm, nc_obj_by_user);"
   ]
  },
  {
   "attachments": {},
   "cell_type": "markdown",
   "metadata": {},
   "source": [
    "#### Main costs EC vs NC"
   ]
  },
  {
   "cell_type": "code",
   "execution_count": 11,
   "metadata": {},
   "outputs": [
    {
     "ename": "UndefVarError",
     "evalue": "UndefVarError: df_benefit not defined",
     "output_type": "error",
     "traceback": [
      "UndefVarError: df_benefit not defined\n",
      "\n",
      "Stacktrace:\n",
      " [1] top-level scope\n",
      "   @ c:\\Users\\Davide\\git\\gitdf\\EnergyCommunity.jl\\examples\\plotting_paper_EEEIC2023.ipynb:1"
     ]
    }
   ],
   "source": [
    "df_CAPEX_OEM = df_benefit[:, [:user_set]]\n",
    "\n",
    "df_CAPEX_OEM[!, \"CAPEX - CO\"] = [rCO.CAPEX[k] for k in df_CAPEX_OEM[!, :user_set]]\n",
    "df_CAPEX_OEM[!, \"OPEX - CO\"] = [rCO.OPEX[k] for k in df_CAPEX_OEM[!, :user_set]]\n",
    "df_CAPEX_OEM[!, \"CAPEX - NC\"] = [rNC.CAPEX[k] for k in df_CAPEX_OEM[!, :user_set]]\n",
    "df_CAPEX_OEM[!, \"OPEX - NC\"] = [rNC.OPEX[k] for k in df_CAPEX_OEM[!, :user_set]]\n",
    "\n",
    "cols = names(df_CAPEX_OEM)[2:end]\n",
    "\n",
    "u_list = f_userlist(true, 10)\n",
    "out = prepare_grouped(\n",
    "    df_CAPEX_OEM,\n",
    "    u_list,\n",
    "    cols\n",
    ")\n",
    "\n",
    "# filter_reward_labels!(out.grp_x)\n",
    "filter_user_labels!(out.grp_lbls)\n",
    "filter_user_labels!(u_list)\n",
    "high = .9\n",
    "low = .1\n",
    "mid = .4\n",
    "colors_grouped = [RGB(high,low,low),RGB(high,mid,mid),RGB(low,low,high), RGB(mid,mid,high)]\n",
    "\n",
    "p = groupedbar(\n",
    "        CategoricalArray(out.grp_lbls, levels = u_list),\n",
    "        out.data ./ 1000,\n",
    "        group=out.grp_x,\n",
    "        framestyle=:box,\n",
    "        legendtitle=\"Reward scheme\",\n",
    "        xlabel=\"User\",\n",
    "        ylabel=\"[k€]\",\n",
    "        # title=title_plot[k],\n",
    "        # yerror=(min_err, max_err),\n",
    "        # legend=:outerright,\n",
    "        # legend=:right,\n",
    "        # ylims=[1, 300],\n",
    "        # yaxis=:log,\n",
    "        color = reshape(colors_grouped, (1,4)),\n",
    "        size=fig_size,\n",
    "    )\n",
    "\n",
    "display(p)\n",
    "\n",
    "savefig(p, \"$folder_imgs/capex_opex.pdf\");"
   ]
  },
  {
   "attachments": {},
   "cell_type": "markdown",
   "metadata": {},
   "source": [
    "#### Reward allocation"
   ]
  },
  {
   "cell_type": "code",
   "execution_count": 12,
   "metadata": {},
   "outputs": [
    {
     "ename": "UndefVarError",
     "evalue": "UndefVarError: df_benefit not defined",
     "output_type": "error",
     "traceback": [
      "UndefVarError: df_benefit not defined\n",
      "\n",
      "Stacktrace:\n",
      " [1] top-level scope\n",
      "   @ c:\\Users\\Davide\\git\\gitdf\\EnergyCommunity.jl\\examples\\plotting_paper_EEEIC2023.ipynb:3"
     ]
    }
   ],
   "source": [
    "cols = [\"shapley_enum\", \"nucleolus_enum\", \"varleastcore_enum\"]\n",
    "\n",
    "df_reward = df_benefit[:, [:user_set]]\n",
    "\n",
    "for c in cols\n",
    "    r = dict_financial[c]\n",
    "    df_reward[!, c] = [r.REWARD[k] for k in df_benefit[!, :user_set]]\n",
    "end\n",
    "\n",
    "u_list = f_userlist(true, 10)\n",
    "out = prepare_grouped(\n",
    "    df_reward,\n",
    "    u_list,\n",
    "    cols\n",
    ")\n",
    "\n",
    "filter_reward_labels!(out.grp_x)\n",
    "filter_user_labels!(out.grp_lbls)\n",
    "filter_user_labels!(u_list)\n",
    "\n",
    "p = groupedbar(\n",
    "        CategoricalArray(out.grp_lbls, levels = u_list),\n",
    "        out.data ./ 1000,\n",
    "        group=out.grp_x,\n",
    "        framestyle=:box,\n",
    "        legendtitle=\"Reward scheme\",\n",
    "        xlabel=\"User/Agg\",\n",
    "        ylabel=\"Reward allocation [k€]\",\n",
    "        # title=title_plot[k],\n",
    "        # yerror=(min_err, max_err),\n",
    "        # legend=:outerright,\n",
    "        # legend=:right,\n",
    "        ylims=[1, 120],\n",
    "        # yaxis=:log,\n",
    "        size=fig_size,\n",
    "    )\n",
    "\n",
    "display(p)\n",
    "\n",
    "savefig(p, \"$folder_imgs/reward.pdf\");"
   ]
  },
  {
   "attachments": {},
   "cell_type": "markdown",
   "metadata": {},
   "source": [
    "#### Simplified schemes plots"
   ]
  },
  {
   "cell_type": "code",
   "execution_count": 13,
   "metadata": {},
   "outputs": [
    {
     "ename": "UndefVarError",
     "evalue": "UndefVarError: df_reward not defined",
     "output_type": "error",
     "traceback": [
      "UndefVarError: df_reward not defined\n",
      "\n",
      "Stacktrace:\n",
      " [1] top-level scope\n",
      "   @ c:\\Users\\Davide\\git\\gitdf\\EnergyCommunity.jl\\examples\\plotting_paper_EEEIC2023.ipynb:1"
     ]
    }
   ],
   "source": [
    "df_simplified = df_reward[:, [:user_set]]\n",
    "\n",
    "shared_tot_vec = [ k == \"EC\" ? 0.0 : shared_tot[k] for k in df_simplified[!, :user_set]]\n",
    "capex_vec = [rCO.CAPEX[k] for k in df_simplified[!, :user_set]]\n",
    "\n",
    "ann_factor = sum(Float64[1/(1+field(ecm.gen_data, \"d_rate\"))^y for y = 1:field(ecm.gen_data, \"project_lifetime\")])\n",
    "\n",
    "df_simplified[!, \"Shared scheme [€/kWh]\"] = df_reward[!, \"varleastcore_enum\"] ./ shared_tot_vec / ann_factor\n",
    "df_simplified[!, \"Financial scheme [€/€]\"] = df_reward[!, \"varleastcore_enum\"] ./ capex_vec\n",
    "\n",
    "u_list = f_userlist(true, 10)\n",
    "out = prepare_grouped(\n",
    "    df_simplified,\n",
    "    u_list,\n",
    "    names(df_simplified)[2:end],\n",
    ")\n",
    "\n",
    "# filter_reward_labels!(out.grp_x)\n",
    "filter_user_labels!(out.grp_lbls)\n",
    "filter_user_labels!(u_list)\n",
    "\n",
    "p = groupedbar(\n",
    "        CategoricalArray(out.grp_lbls, levels = u_list),\n",
    "        out.data,\n",
    "        group=out.grp_x,\n",
    "        framestyle=:box,\n",
    "        legendtitle=\"Reward scheme\",\n",
    "        xlabel=\"User/Agg\",\n",
    "        ylabel=\"Eq. price\",\n",
    "        # title=title_plot[k],\n",
    "        # yerror=(min_err, max_err),\n",
    "        # legend=:outerright,\n",
    "        # legend=:right,\n",
    "        ylims=[0, 0.35],\n",
    "        # yaxis=:log,\n",
    "        size=fig_size,\n",
    "    )\n",
    "\n",
    "display(p)\n",
    "\n",
    "savefig(p, \"$folder_imgs/simplified_allocations.pdf\");"
   ]
  },
  {
   "cell_type": "code",
   "execution_count": 14,
   "metadata": {},
   "outputs": [
    {
     "data": {
      "application/vnd.code.notebook.error": {
       "message": "UndefVarError: df_simplified not defined",
       "name": "UndefVarError",
       "stack": "UndefVarError: df_simplified not defined\n"
      }
     },
     "metadata": {},
     "output_type": "display_data"
    }
   ],
   "source": [
    "df_simplified"
   ]
  }
 ],
 "metadata": {
  "kernelspec": {
   "display_name": "Julia 1.8.5",
   "language": "julia",
   "name": "julia-1.8"
  },
  "language_info": {
   "file_extension": ".jl",
   "mimetype": "application/julia",
   "name": "julia",
   "version": "1.8.5"
  },
  "orig_nbformat": 4,
  "vscode": {
   "interpreter": {
    "hash": "c911838deca95b70c357598f2c33026ecf69b7da04a9af606fe9d881309e8203"
   }
  }
 },
 "nbformat": 4,
 "nbformat_minor": 2
}
