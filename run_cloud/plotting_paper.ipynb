{
 "cells": [
  {
   "attachments": {},
   "cell_type": "markdown",
   "metadata": {},
   "source": [
    "# File for plotting\n",
    "\n",
    "This notebook aims at containing the code for plotting nice pictures for papers using EnergyCommunity.jl"
   ]
  },
  {
   "cell_type": "code",
   "execution_count": null,
   "metadata": {},
   "outputs": [],
   "source": [
    "using Pkg\n",
    "Pkg.activate(\".\")"
   ]
  },
  {
   "cell_type": "code",
   "execution_count": null,
   "metadata": {},
   "outputs": [],
   "source": [
    "# parent_dir = \"C:/Users/Davide/Downloads/results_DEC/results_paper_NC\" #git/gitdf/EnergyCommunity.jl/run_cloud\"\n",
    "parent_dir = \"results_final_15_3_2023/results_paper_NC\"\n",
    "saveiter_dir = \"$parent_dir/iter\"\n",
    "saveenum_dir = \"$parent_dir/enum\"\n",
    "\n",
    "folder_imgs = \"$parent_dir/imgs\"\n",
    "folder_imgs_comp = \"$folder_imgs/comput\"\n",
    "folder_imgs_leastcore = \"$folder_imgs/leastcore\"\n",
    "folder_imgs_reward = \"$folder_imgs/reward\"\n",
    "folder_imgs_benefit = \"$folder_imgs/benefit\"\n",
    "\n",
    "n_base_users=10\n",
    "add_EC=true\n",
    "\n",
    "id_filter = [7, 11, 14, 15]"
   ]
  },
  {
   "cell_type": "code",
   "execution_count": null,
   "metadata": {},
   "outputs": [],
   "source": [
    "using EnergyCommunity\n",
    "using FileIO\n",
    "using HiGHS, Plots, StatsPlots, CategoricalArrays\n",
    "using JuMP\n",
    "using Gurobi\n",
    "using TheoryOfGames\n",
    "using TickTock\n",
    "using Combinatorics\n",
    "using DataFrames\n",
    "using JLD2\n",
    "using Latexify, LaTeXStrings\n",
    "using YAML\n",
    "using CSV\n",
    "\n",
    "mkpath(folder_imgs)\n",
    "mkpath(folder_imgs_comp)\n",
    "mkpath(folder_imgs_leastcore)\n",
    "mkpath(folder_imgs_reward)\n",
    "mkpath(folder_imgs_benefit)\n",
    "\n",
    "fontsize = 1\n",
    "fontname = \"times\"\n",
    "\n",
    "gr()\n",
    "\n",
    "# default(\n",
    "#     titlefontsize=20,\n",
    "#     # tickfontsize=fontsize-2,\n",
    "#     guidefontsize=fontsize-2,\n",
    "#     legend_title_font_pointsize=fontsize-1,\n",
    "#     labelfontsize=fontsize-2,\n",
    "#     legendfontsize=fontsize-2,\n",
    "# )"
   ]
  },
  {
   "cell_type": "code",
   "execution_count": null,
   "metadata": {},
   "outputs": [],
   "source": [
    "f_userlist(add_EC, n_users) = [add_EC ? [EC_CODE] : String[]; [\"user$u\" for u=1:n_users]]"
   ]
  },
  {
   "attachments": {},
   "cell_type": "markdown",
   "metadata": {},
   "source": [
    "## Store the data of the simulations"
   ]
  },
  {
   "attachments": {},
   "cell_type": "markdown",
   "metadata": {},
   "source": [
    "#### Enumerative configurations"
   ]
  },
  {
   "cell_type": "code",
   "execution_count": null,
   "metadata": {},
   "outputs": [],
   "source": [
    "EC_size_list_enum = []\n",
    "dict_enums = Dict()\n",
    "\n",
    "for filename in readdir(saveenum_dir)\n",
    "    if endswith(filename, \".jld2\") && startswith(filename, \"enum_simulations_results_\")\n",
    "        size_enum = parse(Int, replace(filename, \"enum_simulations_results_\"=>\"\", \".jld2\"=>\"\"))\n",
    "        push!(EC_size_list_enum, size_enum)\n",
    "        dict_enums[size_enum] = load(\"$saveenum_dir/enum_simulations_results_$size_enum.jld2\")\n",
    "    end\n",
    "end"
   ]
  },
  {
   "attachments": {},
   "cell_type": "markdown",
   "metadata": {},
   "source": [
    "#### Iterative configurations"
   ]
  },
  {
   "cell_type": "code",
   "execution_count": null,
   "metadata": {},
   "outputs": [],
   "source": [
    "df_iter_options = CSV.read(\"$saveiter_dir/options_backup.csv\", DataFrame)\n",
    "df_iter_options[!, :id_run] = 1:nrow(df_iter_options)\n",
    "\n",
    "dict_iter = Dict()\n",
    "n_iter = 0\n",
    "\n",
    "while isfile(\"$saveiter_dir/iter_simulations_results_$(n_iter+1).jld2\")\n",
    "    n_iter += 1\n",
    "    dict_iter[n_iter] = load(\"$saveiter_dir/iter_simulations_results_$n_iter.jld2\")\n",
    "end"
   ]
  },
  {
   "attachments": {},
   "cell_type": "markdown",
   "metadata": {},
   "source": [
    "## Create comparison of computational time"
   ]
  },
  {
   "attachments": {},
   "cell_type": "markdown",
   "metadata": {},
   "source": [
    "#### Prepare enumerative data"
   ]
  },
  {
   "cell_type": "code",
   "execution_count": null,
   "metadata": {},
   "outputs": [],
   "source": [
    "header_df_time = [\"EC_size\"]#, \"title\"]\n",
    "\n",
    "df_time_enum = DataFrame()\n",
    "\n",
    "for EC_size in EC_size_list_enum\n",
    "    df_time_temp = DataFrame(dict_enums[EC_size][\"df_time_enum\"])  # dict_time_enum\n",
    "\n",
    "    # df_time_temp[!, setdiff(names(df_time_temp), [\"name\", \"id_run\", \"EC_size\"])] ./= 3600  # change units to hours\n",
    "\n",
    "    # df_time_temp[!, \"title\"] = [L\"Time [h]\"]\n",
    "    df_time_temp = df_time_temp[!, [header_df_time; setdiff(names(df_time_temp), header_df_time)]]\n",
    "\n",
    "    if nrow(df_time_enum) == 0\n",
    "        df_time_enum = df_time_temp\n",
    "    else\n",
    "        df_time_enum = vcat(df_time_enum, df_time_temp)\n",
    "    end\n",
    "end\n",
    "\n",
    "df_time_enum"
   ]
  },
  {
   "attachments": {},
   "cell_type": "markdown",
   "metadata": {},
   "source": [
    "#### Prepare iterative data"
   ]
  },
  {
   "cell_type": "code",
   "execution_count": null,
   "metadata": {},
   "outputs": [],
   "source": [
    "df_history_iter = DataFrame()\n",
    "\n",
    "for id_run in id_filter #1:n_iter\n",
    "    df_history_temp = deepcopy(dict_iter[id_run][\"df_history\"])\n",
    "    df_history_temp[!, \"id_run\"] .= id_run\n",
    "\n",
    "    df_history_temp = df_history_temp[!, [\"id_run\"; setdiff(names(df_history_temp), [\"id_run\"])]]\n",
    "    \n",
    "    replace!(df_history_temp[!, :benefit_coal], NaN=>0.0)\n",
    "\n",
    "    if nrow(df_history_iter) == 0\n",
    "        df_history_iter = df_history_temp\n",
    "    else\n",
    "        df_history_iter = vcat(df_history_iter, df_history_temp)\n",
    "    end\n",
    "end\n",
    "header_cols = [\"name\", \"id_run\"]\n",
    "df_history_iter = df_history_iter[!, [header_cols; setdiff(names(df_history_iter), header_cols)]]\n",
    "\n",
    "# add elapsed time to history dataframe\n",
    "\n",
    "sort!(df_history_iter, [:id_run, :name])\n",
    "\n",
    "df_history_iter[!, :iteration_time] .= NaN\n",
    "\n",
    "groups = groupby(df_history_iter, [:id_run, :name])\n",
    "\n",
    "for (grp_key, grp) in zip(keys(groups), groups)\n",
    "    grp[!, :iteration_time] = [grp[1, :elapsed_time]; diff(grp[!, :elapsed_time])]\n",
    "end\n",
    "\n",
    "# add gap\n",
    "df_history_iter[!, :gap] = df_history_iter[!, :value_min_surplus] .- df_history_iter[!, :lower_problem_min_surplus]\n",
    "df_history_iter[!, :log10_gap] = map(x-> (x<1.0 ? 0.0 : log10(x)), df_history_iter[!, :gap]);"
   ]
  },
  {
   "attachments": {},
   "cell_type": "markdown",
   "metadata": {},
   "source": [
    "#### Preliminary definitions for plotting"
   ]
  },
  {
   "cell_type": "code",
   "execution_count": null,
   "metadata": {},
   "outputs": [],
   "source": [
    "title_plot = Dict(\n",
    "    \"incore_iter\" => \"Core\",\n",
    "    \"leastcore_iter\" => \"LeastCore\",\n",
    "    \"varleastcore_iter\" => \"VarLeastCore\",\n",
    "    \"varcore_iter\" => \"VarCore\",\n",
    ");\n",
    "title_plot_general = Dict(\n",
    "    \"incore_iter\" => \"IT - Core\",\n",
    "    \"leastcore_iter\" => \"IT - LeastCore\",\n",
    "    \"varleastcore_iter\" => \"IT - VarLeastCore\",\n",
    "    \"varcore_iter\" => \"IT - VarCore\",\n",
    "    \"shapley_enum\" => \"EN - Shapley\",\n",
    "    \"nucleolus_enum\" => \"EN - Nucleolus\",\n",
    "    \"mode_time\" => \"EN - Base\",\n",
    "    \"incore_enum\" => \"EN - Core\",\n",
    "    \"leastcore_enum\" => \"EN - LeastCore\",\n",
    "    \"varleastcore_enum\" => \"EN - VarLeastCore\",\n",
    "    \"varcore_enum\" => \"EN - VarCore\",\n",
    ");\n",
    "\n",
    "plot_xlims_iters = [0., 50.]\n",
    "plot_xlims_time = [0., 10.]\n",
    "plot_ylims = [0., 6.]\n",
    "\n",
    "rectangle(w, h, x, y) = Shape(x .+ [0,w,w,0], y .+ [0,0,h,h])"
   ]
  },
  {
   "attachments": {},
   "cell_type": "markdown",
   "metadata": {},
   "source": [
    "#### Plot total computational time"
   ]
  },
  {
   "cell_type": "code",
   "execution_count": null,
   "metadata": {},
   "outputs": [],
   "source": [
    "cols = Symbol.([string(n) for n in names(df_time_enum) if endswith(string(n), \"_enum\")])\n",
    "df_time_enum_sel = stack(df_time_enum, cols)\n",
    "select!(df_time_enum_sel, Not([:name, :mode_time]))\n",
    "rename!(df_time_enum_sel, :variable=>:name, :value=>:time)\n",
    "\n",
    "df_time_iter_sel = combine(groupby(df_history_iter,[:name, :id_run]), :elapsed_time => maximum => :time)\n",
    "df_time_iter_sel[!, :EC_size] = map(x->df_iter_options[x, :EC_size], df_time_iter_sel[!, :id_run])\n",
    "\n",
    "df_time_tot = vcat(df_time_iter_sel, df_time_enum_sel)\n",
    "select!(df_time_tot, Not(:id_run))\n",
    "\n",
    "first(df_time_tot, 5)"
   ]
  },
  {
   "cell_type": "code",
   "execution_count": null,
   "metadata": {},
   "outputs": [],
   "source": [
    "df_time_unstacked = unstack(df_time_tot, :EC_size, :time)\n",
    "df_time_unstacked[!, :name] = map(x->title_plot_general[x], df_time_unstacked[!, :name])\n",
    "for col in eachcol(df_time_unstacked)\n",
    "    replace!(col, missing=>NaN)\n",
    "end\n",
    "\n",
    "df_time_unstacked[!, 2:end] ./= 3600  # convert from seconds to hours\n",
    "\n",
    "# filter!(\n",
    "#     x->(contains(x[:name], \"Core\") | contains(x[:name], \"Shapley\")), df_time_unstacked\n",
    "# )\n",
    "\n",
    "n_functions = length(unique(df_time_unstacked[!, :name]))\n",
    "n_ec_sizes = length(unique(df_time_tot[!, :EC_size]))\n",
    "\n",
    "dataplot = Matrix{Float64}(df_time_unstacked[!, 2:end])\n",
    "ecsize_names = repeat(sort(string.(unique(df_time_tot[!, :EC_size]))), inner=n_functions)\n",
    "funnames = repeat(unique(df_time_unstacked[!, :name]), outer=n_ec_sizes)\n",
    "\n",
    "p_total_time = groupedbar(\n",
    "    ecsize_names,\n",
    "    (dataplot),\n",
    "    group=funnames,\n",
    "    framestyle=:box,\n",
    "    xlabel=\"EC size\",\n",
    "    ylabel=\"Time [h]\",\n",
    "    # ylims=[2900, 3300],\n",
    ")\n",
    "\n",
    "display(p_total_time)\n",
    "\n",
    "savefig(p_total_time, \"$folder_imgs/total_time_map.pdf\")"
   ]
  },
  {
   "cell_type": "code",
   "execution_count": null,
   "metadata": {},
   "outputs": [],
   "source": [
    "df_time_unstacked"
   ]
  },
  {
   "attachments": {},
   "cell_type": "markdown",
   "metadata": {},
   "source": [
    "#### Plot of computational time by iteration"
   ]
  },
  {
   "cell_type": "code",
   "execution_count": null,
   "metadata": {},
   "outputs": [],
   "source": [
    "for ((k,), v) in pairs(groupby(df_history_iter, [:name]))\n",
    "    # initialize plot\n",
    "    p = plot(title=title_plot[k])\n",
    "\n",
    "    # loop over run ids\n",
    "    for ((k_r,), v_r) in pairs(groupby(v, [:id_run]))\n",
    "        plot!(\n",
    "            p,\n",
    "            v_r[!, :iteration],\n",
    "            v_r[!, :log10_gap],\n",
    "            label=\"$(df_iter_options[k_r, :EC_size])\",\n",
    "            legendtitle=\"EC size\",\n",
    "            xlims=plot_xlims_iters,\n",
    "            ylims=plot_ylims,\n",
    "        )\n",
    "    end\n",
    "\n",
    "    xlabel!(\"Iteration [#]\")\n",
    "    ylabel!(\"log10 gap [-]\")\n",
    "\n",
    "    if k in [\"incore_iter\", \"varcore_iter\"]\n",
    "        hline!([1], label=nothing, color=:black, linestyle=:dash)\n",
    "    else\n",
    "        plot!(rectangle(plot_xlims_iters[2],log10(20)-log10(10),0,log10(10)), color=:black, opacity=.2, label=nothing)\n",
    "    end\n",
    "    annotate!(230, 1.03, text(\"Convergence tolerance\", :black, :right, :bottom, 9))\n",
    "\n",
    "    display(p)\n",
    "\n",
    "    savefig(p, \"$folder_imgs_comp/gap_iters_$k.pdf\")\n",
    "end"
   ]
  },
  {
   "cell_type": "code",
   "execution_count": null,
   "metadata": {},
   "outputs": [],
   "source": [
    "for ((k,), v) in pairs(groupby(df_history_iter, [:name]))\n",
    "    # initialize plot\n",
    "    p = plot(title=title_plot[k])\n",
    "\n",
    "    # loop over run ids\n",
    "    for ((k_r,), v_r) in pairs(groupby(v, [:id_run]))\n",
    "        plot!(\n",
    "            p,\n",
    "            v_r[!, :elapsed_time] ./3600,\n",
    "            v_r[!, :log10_gap],\n",
    "            label=\"$(df_iter_options[k_r, :EC_size])\",\n",
    "            legendtitle=\"EC size\",\n",
    "            xlims=plot_xlims_time,\n",
    "            ylims=plot_ylims,\n",
    "        )\n",
    "    end\n",
    "\n",
    "    # if k ∈ [\"incore_iter\", \"leastcore_iter\", \"varcore_iter\", \"varleastcore_iter\"]\n",
    "    #     for row in eachrow(df_time_enum)\n",
    "    #         hline!(\n",
    "    #             p,\n",
    "    #             [row[replace(k, \"_iter\"=>\"_enum\")]],\n",
    "    #             label=\"ENUM - $(row[:EC_size])\",\n",
    "    #             linestyle=:dash,\n",
    "    #         )\n",
    "    #     end\n",
    "    # end\n",
    "\n",
    "    xlabel!(\"Elapsed time [h]\")\n",
    "    ylabel!(\"log10 gap [-]\")\n",
    "\n",
    "    if k in [\"incore_iter\", \"varcore_iter\"]\n",
    "        hline!([1], label=nothing, color=:black, linestyle=:dash)\n",
    "    else\n",
    "        plot!(rectangle(plot_xlims_iters[2],log10(20)-log10(10),0,log10(10)), color=:black, opacity=.2, label=nothing)\n",
    "    end\n",
    "    annotate!(plot_xlims_iters[2], 1.03, text(\"Convergence tolerance\", :black, :right, :bottom, 9))\n",
    "\n",
    "    display(p)\n",
    "\n",
    "    savefig(p, \"$folder_imgs_comp/gap_time_$k.pdf\")\n",
    "end"
   ]
  },
  {
   "attachments": {},
   "cell_type": "markdown",
   "metadata": {},
   "source": [
    "## Least core versus size"
   ]
  },
  {
   "cell_type": "code",
   "execution_count": null,
   "metadata": {},
   "outputs": [],
   "source": [
    "functions_to_consider = [\"leastcore_iter\", \"varleastcore_iter\"]\n",
    "\n",
    "history_selection = filter(x->(x.name ∈ functions_to_consider), df_history_iter)\n",
    "history_sel_last = combine(groupby(history_selection, [:name, :id_run])) do sdf\n",
    "    sdf[argmax(sdf.iteration), :]\n",
    "end\n",
    "\n",
    "df_merged = innerjoin(\n",
    "    history_sel_last[:, [:name, :id_run, :value_min_surplus, :lower_problem_min_surplus]],\n",
    "    df_iter_options[!, [:id_run, :EC_size]],\n",
    "    on=[:id_run],\n",
    ")[!, [:name, :EC_size, :value_min_surplus]]\n",
    "\n",
    "sort!(df_merged, [:name, :EC_size])"
   ]
  },
  {
   "cell_type": "code",
   "execution_count": null,
   "metadata": {},
   "outputs": [],
   "source": [
    "df_unstacked = unstack(df_merged, :EC_size, :value_min_surplus)\n",
    "dataplot = Matrix{Float64}(df_unstacked[!, 2:end])\n",
    "ecsize_names = repeat(sort([string(df_iter_options[r, :EC_size]) for r in id_filter]), inner=length(functions_to_consider))\n",
    "funnames = repeat([title_plot[f] for f in functions_to_consider], outer=length(id_filter))\n",
    "\n",
    "p_leastcore = groupedbar(\n",
    "    ecsize_names,\n",
    "    dataplot,\n",
    "    group=funnames,\n",
    "    framestyle=:box,\n",
    "    xlabel=\"EC size\",\n",
    "    ylabel=\"LeastCore [€]\",\n",
    "    ylims=[2900, 3300],\n",
    ")\n",
    "\n",
    "display(p_leastcore)\n",
    "\n",
    "savefig(p_leastcore, \"$folder_imgs_leastcore/leastcore_vs_size.pdf\");"
   ]
  },
  {
   "attachments": {},
   "cell_type": "markdown",
   "metadata": {},
   "source": [
    "## Benefit distribution versus size"
   ]
  },
  {
   "attachments": {},
   "cell_type": "markdown",
   "metadata": {},
   "source": [
    "#### Store data of reward distribution"
   ]
  },
  {
   "cell_type": "code",
   "execution_count": null,
   "metadata": {},
   "outputs": [],
   "source": [
    "df_reward_iter = DataFrame()\n",
    "\n",
    "largest_user_set = []\n",
    "\n",
    "for id_run in id_filter\n",
    "    df_benefit_temp = deepcopy(dict_iter[id_run][\"df_reward_iter\"])\n",
    "    df_benefit_temp[!, \"EC_size\"] .= nrow(df_benefit_temp)-1\n",
    "    df_benefit_temp[!, \"id_run\"] .= id_run\n",
    "\n",
    "    # Put users as columns\n",
    "    df_benefit_temp = unstack(stack(df_benefit_temp), :user_set, :value)\n",
    "    if nrow(df_reward_iter) == 0\n",
    "        df_reward_iter = df_benefit_temp\n",
    "    else\n",
    "        df_reward_iter = vcat(df_reward_iter, df_benefit_temp, cols=:union)\n",
    "    end\n",
    "end\n",
    "\n",
    "# sort by user set\n",
    "df_reward_iter = df_reward_iter[!, [\"variable\"; \"EC_size\"; \"id_run\"; EC_CODE; [\"user$i\" for i = 1:(ncol(df_reward_iter)-4)]]]\n",
    "first(df_reward_iter, 5)"
   ]
  },
  {
   "attachments": {},
   "cell_type": "markdown",
   "metadata": {},
   "source": [
    "#### utils for benefit computations"
   ]
  },
  {
   "cell_type": "code",
   "execution_count": null,
   "metadata": {},
   "outputs": [],
   "source": [
    "# custom mean, maximum and minimum function handling missing values\n",
    "_mean(x) = sum(sum(skipmissing(x)))/count(!ismissing, x)\n",
    "_maximum = maximum ∘ skipmissing\n",
    "_minimum = minimum ∘ skipmissing\n",
    "\n",
    "# function to automatically create matrix blocks for aggregation on the data\n",
    "function draw_stats(f, df, n_base_users=n_base_users, add_EC=add_EC)\n",
    "    reward_EC = add_EC ? df[:, [EC_CODE]] : DataFrame()\n",
    "\n",
    "    df_list = []\n",
    "    for u=1:n_base_users\n",
    "    \n",
    "        sel = df[!, [\"user$uu\" for uu in u:n_base_users:maximum(df[!, :EC_size])]]\n",
    "    \n",
    "        push!(df_list, combine(sel, AsTable(:) => ByRow(f) => \"user$u\"))\n",
    "    end\n",
    "    \n",
    "    df_out = hcat(reward_EC, df_list...)\n",
    "\n",
    "    return Matrix{Float64}(df_out)\n",
    "end"
   ]
  },
  {
   "attachments": {},
   "cell_type": "markdown",
   "metadata": {},
   "source": [
    "#### Plot benefit distribution with increasing size community"
   ]
  },
  {
   "cell_type": "code",
   "execution_count": null,
   "metadata": {},
   "outputs": [],
   "source": [
    "user_focus = f_userlist(add_EC, 10)\n",
    "\n",
    "for ((k,), v) in pairs(groupby(df_reward_iter, [:variable]))\n",
    "\n",
    "    df_benefit_selection = sort(v, [:EC_size])\n",
    "\n",
    "    mean_data = draw_stats(_mean, df_benefit_selection)' ./ 1000\n",
    "    max_data = draw_stats(_maximum, df_benefit_selection)' ./ 1000\n",
    "    min_data = draw_stats(_minimum, df_benefit_selection)' ./ 1000\n",
    "\n",
    "    max_err = max_data - mean_data\n",
    "    min_err = mean_data - min_data\n",
    "\n",
    "    grp_ecsize = repeat(string.(sort(collect(v[!, :EC_size]))), inner=length(user_focus))\n",
    "    grp_users = CategoricalArray(repeat(user_focus, outer=length(id_filter)))\n",
    "    levels!(grp_users, user_focus)\n",
    "\n",
    "    p = groupedbar(\n",
    "        grp_users,\n",
    "        mean_data,\n",
    "        group=grp_ecsize,\n",
    "        framestyle=:box,\n",
    "        legendtitle=\"EC size\",\n",
    "        xlabel=\"User/EC\",\n",
    "        ylabel=\"Net benefit [k€]\",\n",
    "        title=title_plot[k],\n",
    "        yerror=(min_err, max_err),\n",
    "        # legend=:outerright,\n",
    "        # ylims=[0, 100]\n",
    "    )\n",
    "\n",
    "    display(p)\n",
    "    \n",
    "    savefig(p, \"$folder_imgs_benefit/benefit_vs_size_$k.pdf\");\n",
    "end"
   ]
  },
  {
   "attachments": {},
   "cell_type": "markdown",
   "metadata": {},
   "source": [
    "## Reward distribution versus size"
   ]
  },
  {
   "attachments": {},
   "cell_type": "markdown",
   "metadata": {},
   "source": [
    "#### Load the solved networks for each size of community"
   ]
  },
  {
   "cell_type": "code",
   "execution_count": null,
   "metadata": {},
   "outputs": [],
   "source": [
    "ec_models = Dict(\n",
    "    ec_size=>load!(\"$parent_dir/iter/ec_model_$ec_size.jld2\", ModelEC())\n",
    "    for ec_size in unique(df_reward_iter[!, :EC_size])\n",
    ")\n",
    "\n",
    "nc_models = Dict(\n",
    "    ec_size=>load!(\"$parent_dir/iter/nc_model_$ec_size.jld2\", ModelEC())\n",
    "    for ec_size in unique(df_reward_iter[!, :EC_size])\n",
    ")\n",
    "\n",
    "total_reward_by_EC = Dict(\n",
    "    ec_size=>ecm.results[:R_Reward_agg_NPV] for (ec_size, ecm) in ec_models\n",
    ")"
   ]
  },
  {
   "attachments": {},
   "cell_type": "markdown",
   "metadata": {},
   "source": [
    "#### Calculate shared reward for each user"
   ]
  },
  {
   "cell_type": "code",
   "execution_count": null,
   "metadata": {},
   "outputs": [],
   "source": [
    "all_users = f_userlist(add_EC, maximum(df_iter_options[!, :EC_size]))\n",
    "\n",
    "function get_split_terms(ec_models, nc_models, id_run, data)\n",
    "    ec_size = df_iter_options[id_run, :EC_size]\n",
    "    ecm = ec_models[ec_size]\n",
    "    ncm = nc_models[ec_size]\n",
    "    ulist = f_userlist(add_EC, ec_size)\n",
    "    NPV_tot = Dict(\n",
    "        uname=> (uname==EC_CODE) ? 0.0 : ncm.results[:NPV_us][uname] for uname in ulist\n",
    "    )\n",
    "    profit_dist = Dict(uname=>data[Symbol(uname)] + NPV_tot[uname] for uname in ulist)\n",
    "\n",
    "    return split_financial_terms(ecm, profit_dist)\n",
    "end\n",
    "\n",
    "function reward_terms(ec_models, nc_models, id_run, data, all_user_list)\n",
    "    ec_size = df_iter_options[id_run, :EC_size]\n",
    "    ulist = f_userlist(add_EC, ec_size)\n",
    "    reward = get_split_terms(ec_models, nc_models, id_run, data).REWARD\n",
    "\n",
    "    return [((u in ulist) ? reward[u] : missing) for u in all_user_list]\n",
    "end\n",
    "\n",
    "df_sharedreward_iter = combine(\n",
    "    df_reward_iter,\n",
    "    AsTable(:) => ByRow(x-> [\n",
    "        values(x[[:variable, :id_run, :EC_size]])...;\n",
    "        reward_terms(ec_models, nc_models, x.id_run, x, all_users)\n",
    "    ]) => [:variable; :id_run; :EC_size; Symbol.(all_users)]\n",
    ");"
   ]
  },
  {
   "attachments": {},
   "cell_type": "markdown",
   "metadata": {},
   "source": [
    "#### Plot reward allocation across users"
   ]
  },
  {
   "cell_type": "code",
   "execution_count": null,
   "metadata": {},
   "outputs": [],
   "source": [
    "user_focus = f_userlist(add_EC, 10)\n",
    "\n",
    "for ((k,), v) in pairs(groupby(df_sharedreward_iter, [:variable]))\n",
    "\n",
    "    df_shared = sort(v, [:EC_size])\n",
    "\n",
    "    mean_data = draw_stats(_mean, df_shared)' ./ 1000\n",
    "    max_data = draw_stats(_maximum, df_shared)' ./ 1000\n",
    "    min_data = draw_stats(_minimum, df_shared)' ./ 1000\n",
    "\n",
    "    max_err = max_data - mean_data\n",
    "    min_err = mean_data - min_data\n",
    "\n",
    "    grp_ecsize = repeat(string.(sort(collect(v[!, :EC_size]))), inner=length(user_focus))\n",
    "    grp_users = CategoricalArray(repeat(user_focus, outer=length(id_filter)))\n",
    "    levels!(grp_users, user_focus)\n",
    "\n",
    "    p = groupedbar(\n",
    "        grp_users,\n",
    "        mean_data,\n",
    "        group=grp_ecsize,\n",
    "        framestyle=:box,\n",
    "        legendtitle=\"EC size\",\n",
    "        xlabel=\"User/EC\",\n",
    "        ylabel=\"Reward allocation [k€]\",\n",
    "        title=title_plot[k],\n",
    "        yerror=(min_err, max_err),\n",
    "        # legend=:outerright,\n",
    "        # ylims=[0, 100]\n",
    "    )\n",
    "\n",
    "    display(p)\n",
    "    \n",
    "    savefig(p, \"$folder_imgs_reward/reward_vs_size_$k.pdf\");\n",
    "end"
   ]
  }
 ],
 "metadata": {
  "kernelspec": {
   "display_name": "Julia 1.8.5",
   "language": "julia",
   "name": "julia-1.8"
  },
  "language_info": {
   "file_extension": ".jl",
   "mimetype": "application/julia",
   "name": "julia",
   "version": "1.8.5"
  },
  "orig_nbformat": 4,
  "vscode": {
   "interpreter": {
    "hash": "c911838deca95b70c357598f2c33026ecf69b7da04a9af606fe9d881309e8203"
   }
  }
 },
 "nbformat": 4,
 "nbformat_minor": 2
}
