{
 "cells": [
  {
   "cell_type": "code",
   "execution_count": 38,
   "metadata": {},
   "outputs": [
    {
     "data": {
      "text/plain": [
       "3-element Vector{Int64}:\n",
       " 3\n",
       " 4\n",
       " 5"
      ]
     },
     "metadata": {},
     "output_type": "display_data"
    }
   ],
   "source": [
    "parent_dir = \"C:/Users/Davide/git/gitdf/EnergyCommunity.jl/run_cloud\"\n",
    "\n",
    "n_iter = 2\n",
    "EC_size_list_enum = [3,4,5] #[5, 10, 20]  # List of sizes of the EC to test in enum mode"
   ]
  },
  {
   "cell_type": "code",
   "execution_count": 33,
   "metadata": {},
   "outputs": [],
   "source": [
    "using EnergyCommunity\n",
    "using FileIO\n",
    "using HiGHS, Plots\n",
    "using JuMP\n",
    "using Gurobi\n",
    "using Games\n",
    "using TickTock\n",
    "using Combinatorics\n",
    "using DataFrames\n",
    "using JLD2\n",
    "using Latexify, LaTeXStrings\n",
    "using YAML"
   ]
  },
  {
   "cell_type": "markdown",
   "metadata": {},
   "source": [
    "## Compare ENUM_MODE"
   ]
  },
  {
   "cell_type": "code",
   "execution_count": 34,
   "metadata": {},
   "outputs": [
    {
     "data": {
      "text/plain": [
       "Dict{Int64, Dict{String, Any}} with 3 entries:\n",
       "  5 => Dict(\"df_reward_enum\"=>\u001b[1m6×5 DataFrame\u001b[0m…\n",
       "  4 => Dict(\"df_reward_enum\"=>\u001b[1m5×5 DataFrame\u001b[0m…\n",
       "  3 => Dict(\"df_reward_enum\"=>\u001b[1m4×5 DataFrame\u001b[0m…"
      ]
     },
     "metadata": {},
     "output_type": "display_data"
    }
   ],
   "source": [
    "dict_enums = Dict(\n",
    "    size_enum=>load(\"$parent_dir/results_paper/enum/enum_simulations_results_$size_enum.jld2\")\n",
    "    for size_enum in EC_size_list_enum\n",
    ")"
   ]
  },
  {
   "cell_type": "markdown",
   "metadata": {},
   "source": []
  },
  {
   "cell_type": "markdown",
   "metadata": {},
   "source": [
    "### ENUM_MODE: Create reward redistribution of enum modes"
   ]
  },
  {
   "cell_type": "code",
   "execution_count": 35,
   "metadata": {},
   "outputs": [
    {
     "data": {
      "text/html": [
       "<div class=\"data-frame\"><p>6 rows × 13 columns (omitted printing of 8 columns)</p><table class=\"data-frame\"><thead><tr><th></th><th>user_set</th><th>shapley_enum_3</th><th>nucleolus_enum_3</th><th>varcore_enum_3</th><th>varleastcore_enum_3</th></tr><tr><th></th><th title=\"String\">String</th><th title=\"Union{Missing, Float64}\">Float64?</th><th title=\"Union{Missing, Float64}\">Float64?</th><th title=\"Union{Missing, Float64}\">Float64?</th><th title=\"Union{Missing, Float64}\">Float64?</th></tr></thead><tbody><tr><th>1</th><td>EC</td><td>3026.19</td><td>3364.02</td><td>4062.18</td><td>3364.02</td></tr><tr><th>2</th><td>user1</td><td>5333.46</td><td>5957.57</td><td>4062.18</td><td>5758.51</td></tr><tr><th>3</th><td>user2</td><td>3612.78</td><td>3364.02</td><td>4062.18</td><td>3364.02</td></tr><tr><th>4</th><td>user3</td><td>4276.28</td><td>3563.09</td><td>4062.18</td><td>3762.15</td></tr><tr><th>5</th><td>user4</td><td><em>missing</em></td><td><em>missing</em></td><td><em>missing</em></td><td><em>missing</em></td></tr><tr><th>6</th><td>user5</td><td><em>missing</em></td><td><em>missing</em></td><td><em>missing</em></td><td><em>missing</em></td></tr></tbody></table></div>"
      ],
      "text/latex": [
       "\\begin{tabular}{r|cccccc}\n",
       "\t& user\\_set & shapley\\_enum\\_3 & nucleolus\\_enum\\_3 & varcore\\_enum\\_3 & varleastcore\\_enum\\_3 & \\\\\n",
       "\t\\hline\n",
       "\t& String & Float64? & Float64? & Float64? & Float64? & \\\\\n",
       "\t\\hline\n",
       "\t1 & EC & 3026.19 & 3364.02 & 4062.18 & 3364.02 & $\\dots$ \\\\\n",
       "\t2 & user1 & 5333.46 & 5957.57 & 4062.18 & 5758.51 & $\\dots$ \\\\\n",
       "\t3 & user2 & 3612.78 & 3364.02 & 4062.18 & 3364.02 & $\\dots$ \\\\\n",
       "\t4 & user3 & 4276.28 & 3563.09 & 4062.18 & 3762.15 & $\\dots$ \\\\\n",
       "\t5 & user4 & \\emph{missing} & \\emph{missing} & \\emph{missing} & \\emph{missing} & $\\dots$ \\\\\n",
       "\t6 & user5 & \\emph{missing} & \\emph{missing} & \\emph{missing} & \\emph{missing} & $\\dots$ \\\\\n",
       "\\end{tabular}\n"
      ],
      "text/plain": [
       "\u001b[1m6×13 DataFrame\u001b[0m\n",
       "\u001b[1m Row \u001b[0m│\u001b[1m user_set \u001b[0m\u001b[1m shapley_enum_3 \u001b[0m\u001b[1m nucleolus_enum_3 \u001b[0m\u001b[1m varcore_enum_3 \u001b[0m\u001b[1m varleastcor\u001b[0m ⋯\n",
       "\u001b[1m     \u001b[0m│\u001b[90m String   \u001b[0m\u001b[90m Float64?       \u001b[0m\u001b[90m Float64?         \u001b[0m\u001b[90m Float64?       \u001b[0m\u001b[90m Float64?   \u001b[0m ⋯\n",
       "─────┼──────────────────────────────────────────────────────────────────────────\n",
       "   1 │ EC               3026.19           3364.02         4062.18              ⋯\n",
       "   2 │ user1            5333.46           5957.57         4062.18\n",
       "   3 │ user2            3612.78           3364.02         4062.18\n",
       "   4 │ user3            4276.28           3563.09         4062.18\n",
       "   5 │ user4    \u001b[90m     missing    \u001b[0m\u001b[90m       missing    \u001b[0m\u001b[90m     missing    \u001b[0m\u001b[90m          mi\u001b[0m ⋯\n",
       "   6 │ user5    \u001b[90m     missing    \u001b[0m\u001b[90m       missing    \u001b[0m\u001b[90m     missing    \u001b[0m\u001b[90m          mi\u001b[0m\n",
       "\u001b[36m                                                               9 columns omitted\u001b[0m"
      ]
     },
     "metadata": {},
     "output_type": "display_data"
    }
   ],
   "source": [
    "df_reward_enum = DataFrame()\n",
    "\n",
    "for EC_size in EC_size_list_enum\n",
    "    df_reward_temp = deepcopy(dict_enums[EC_size][\"df_reward_enum\"])\n",
    "    reward_list = setdiff(names(df_reward_temp), [\"user_set\"])\n",
    "    rename!(df_reward_temp, reward_list .=> reward_list .* \"_$EC_size\")\n",
    "    if nrow(df_reward_enum) == 0\n",
    "        df_reward_enum = df_reward_temp\n",
    "    else\n",
    "        df_reward_enum = outerjoin(df_reward_enum, df_reward_temp, on=:user_set, makeunique=true)\n",
    "    end\n",
    "end\n",
    "\n",
    "# sort by user set\n",
    "sort!(df_reward_enum, :user_set)\n",
    "\n",
    "df_reward_enum"
   ]
  },
  {
   "cell_type": "markdown",
   "metadata": {},
   "source": [
    "### ENUM_MODE: Create comparison of computational time"
   ]
  },
  {
   "cell_type": "code",
   "execution_count": 36,
   "metadata": {},
   "outputs": [
    {
     "data": {
      "text/html": [
       "<div class=\"data-frame\"><p>3 rows × 10 columns (omitted printing of 2 columns)</p><table class=\"data-frame\"><thead><tr><th></th><th>EC size</th><th>title</th><th>name</th><th>id_run</th><th>EC_size</th><th>mode_time</th><th>shapley_enum</th><th>nucleolus_enum</th></tr><tr><th></th><th title=\"Int64\">Int64</th><th title=\"LaTeXString\">LaTeXStr…</th><th title=\"String\">String</th><th title=\"Float64\">Float64</th><th title=\"Int64\">Int64</th><th title=\"Float64\">Float64</th><th title=\"Float64\">Float64</th><th title=\"Float64\">Float64</th></tr></thead><tbody><tr><th>1</th><td>3</td><td>$Time [h]$</td><td>enum_mode</td><td>0.0</td><td>3</td><td>8.2594</td><td>8.3987</td><td>9.48579</td></tr><tr><th>2</th><td>4</td><td>$Time [h]$</td><td>enum_mode</td><td>0.0</td><td>4</td><td>13.5661</td><td>13.5671</td><td>13.608</td></tr><tr><th>3</th><td>5</td><td>$Time [h]$</td><td>enum_mode</td><td>0.0</td><td>5</td><td>33.464</td><td>33.4647</td><td>33.5301</td></tr></tbody></table></div>"
      ],
      "text/latex": [
       "\\begin{tabular}{r|ccccccccc}\n",
       "\t& EC size & title & name & id\\_run & EC\\_size & mode\\_time & shapley\\_enum & nucleolus\\_enum & \\\\\n",
       "\t\\hline\n",
       "\t& Int64 & LaTeXStr… & String & Float64 & Int64 & Float64 & Float64 & Float64 & \\\\\n",
       "\t\\hline\n",
       "\t1 & 3 & $Time [h]$ & enum\\_mode & 0.0 & 3 & 8.2594 & 8.3987 & 9.48579 & $\\dots$ \\\\\n",
       "\t2 & 4 & $Time [h]$ & enum\\_mode & 0.0 & 4 & 13.5661 & 13.5671 & 13.608 & $\\dots$ \\\\\n",
       "\t3 & 5 & $Time [h]$ & enum\\_mode & 0.0 & 5 & 33.464 & 33.4647 & 33.5301 & $\\dots$ \\\\\n",
       "\\end{tabular}\n"
      ],
      "text/plain": [
       "\u001b[1m3×10 DataFrame\u001b[0m\n",
       "\u001b[1m Row \u001b[0m│\u001b[1m EC size \u001b[0m\u001b[1m title      \u001b[0m\u001b[1m name      \u001b[0m\u001b[1m id_run  \u001b[0m\u001b[1m EC_size \u001b[0m\u001b[1m mode_time \u001b[0m\u001b[1m shapley_en\u001b[0m ⋯\n",
       "\u001b[1m     \u001b[0m│\u001b[90m Int64   \u001b[0m\u001b[90m LaTeXStr…  \u001b[0m\u001b[90m String    \u001b[0m\u001b[90m Float64 \u001b[0m\u001b[90m Int64   \u001b[0m\u001b[90m Float64   \u001b[0m\u001b[90m Float64   \u001b[0m ⋯\n",
       "─────┼──────────────────────────────────────────────────────────────────────────\n",
       "   1 │       3  $Time [h]$  enum_mode      0.0        3     8.2594        8.39 ⋯\n",
       "   2 │       4  $Time [h]$  enum_mode      0.0        4    13.5661       13.56\n",
       "   3 │       5  $Time [h]$  enum_mode      0.0        5    33.464        33.46\n",
       "\u001b[36m                                                               4 columns omitted\u001b[0m"
      ]
     },
     "metadata": {},
     "output_type": "display_data"
    }
   ],
   "source": [
    "df_time_enum = DataFrame()\n",
    "\n",
    "for EC_size in EC_size_list_enum\n",
    "    df_time_temp = DataFrame(dict_enums[EC_size][\"df_time_enum\"])  # dict_time_enum\n",
    "\n",
    "    # df_time_temp[!, 2:end] ./= 3600  # change units to hours\n",
    "\n",
    "    df_time_temp[!, \"EC size\"] = [EC_size]\n",
    "    df_time_temp[!, \"title\"] = [L\"Time [h]\"]\n",
    "    df_time_temp = df_time_temp[!, [\"EC size\"; \"title\"; names(df_time_temp)[1:end-2]]]\n",
    "\n",
    "    if nrow(df_time_enum) == 0\n",
    "        df_time_enum = df_time_temp\n",
    "    else\n",
    "        df_time_enum = vcat(df_time_enum, df_time_temp)\n",
    "    end\n",
    "end\n",
    "\n",
    "df_time_enum"
   ]
  },
  {
   "cell_type": "markdown",
   "metadata": {},
   "source": [
    "## Compare ITER_MODE"
   ]
  },
  {
   "cell_type": "code",
   "execution_count": 40,
   "metadata": {},
   "outputs": [
    {
     "data": {
      "text/plain": [
       "Dict{Int64, Dict{String, Any}} with 2 entries:\n",
       "  2 => Dict(\"df_reward_iter\"=>\u001b[1m5×5 DataFrame\u001b[0m…\n",
       "  1 => Dict(\"df_reward_iter\"=>\u001b[1m4×5 DataFrame\u001b[0m…"
      ]
     },
     "metadata": {},
     "output_type": "display_data"
    }
   ],
   "source": [
    "dict_iter = Dict(\n",
    "    id_run=>load(\"$parent_dir/results_paper/iter/iter_simulations_results_$id_run.jld2\")\n",
    "    for id_run in 1:n_iter\n",
    ")"
   ]
  },
  {
   "cell_type": "markdown",
   "metadata": {},
   "source": [
    "#### ITER_MODE: Comparison of reward distribution"
   ]
  },
  {
   "cell_type": "code",
   "execution_count": 43,
   "metadata": {},
   "outputs": [
    {
     "data": {
      "text/html": [
       "<div class=\"data-frame\"><p>5 rows × 9 columns (omitted printing of 4 columns)</p><table class=\"data-frame\"><thead><tr><th></th><th>user_set</th><th>incore_iter_3</th><th>leastcore_iter_3</th><th>varcore_iter_3</th><th>varleastcore_iter_3</th></tr><tr><th></th><th title=\"String\">String</th><th title=\"Union{Missing, Float64}\">Float64?</th><th title=\"Union{Missing, Float64}\">Float64?</th><th title=\"Union{Missing, Float64}\">Float64?</th><th title=\"Union{Missing, Float64}\">Float64?</th></tr></thead><tbody><tr><th>1</th><td>EC</td><td>7623.01</td><td>3364.02</td><td>4062.18</td><td>3364.02</td></tr><tr><th>2</th><td>user1</td><td>6288.13</td><td>6156.63</td><td>4062.18</td><td>5758.51</td></tr><tr><th>3</th><td>user2</td><td>2337.57</td><td>3364.02</td><td>4062.18</td><td>3364.02</td></tr><tr><th>4</th><td>user3</td><td>0.0</td><td>3364.02</td><td>4062.18</td><td>3762.15</td></tr><tr><th>5</th><td>user4</td><td><em>missing</em></td><td><em>missing</em></td><td><em>missing</em></td><td><em>missing</em></td></tr></tbody></table></div>"
      ],
      "text/latex": [
       "\\begin{tabular}{r|cccccc}\n",
       "\t& user\\_set & incore\\_iter\\_3 & leastcore\\_iter\\_3 & varcore\\_iter\\_3 & varleastcore\\_iter\\_3 & \\\\\n",
       "\t\\hline\n",
       "\t& String & Float64? & Float64? & Float64? & Float64? & \\\\\n",
       "\t\\hline\n",
       "\t1 & EC & 7623.01 & 3364.02 & 4062.18 & 3364.02 & $\\dots$ \\\\\n",
       "\t2 & user1 & 6288.13 & 6156.63 & 4062.18 & 5758.51 & $\\dots$ \\\\\n",
       "\t3 & user2 & 2337.57 & 3364.02 & 4062.18 & 3364.02 & $\\dots$ \\\\\n",
       "\t4 & user3 & 0.0 & 3364.02 & 4062.18 & 3762.15 & $\\dots$ \\\\\n",
       "\t5 & user4 & \\emph{missing} & \\emph{missing} & \\emph{missing} & \\emph{missing} & $\\dots$ \\\\\n",
       "\\end{tabular}\n"
      ],
      "text/plain": [
       "\u001b[1m5×9 DataFrame\u001b[0m\n",
       "\u001b[1m Row \u001b[0m│\u001b[1m user_set \u001b[0m\u001b[1m incore_iter_3 \u001b[0m\u001b[1m leastcore_iter_3 \u001b[0m\u001b[1m varcore_iter_3 \u001b[0m\u001b[1m varleastcore\u001b[0m ⋯\n",
       "\u001b[1m     \u001b[0m│\u001b[90m String   \u001b[0m\u001b[90m Float64?      \u001b[0m\u001b[90m Float64?         \u001b[0m\u001b[90m Float64?       \u001b[0m\u001b[90m Float64?    \u001b[0m ⋯\n",
       "─────┼──────────────────────────────────────────────────────────────────────────\n",
       "   1 │ EC              7623.01           3364.02         4062.18               ⋯\n",
       "   2 │ user1           6288.13           6156.63         4062.18\n",
       "   3 │ user2           2337.57           3364.02         4062.18\n",
       "   4 │ user3              0.0            3364.02         4062.18\n",
       "   5 │ user4    \u001b[90m    missing    \u001b[0m\u001b[90m       missing    \u001b[0m\u001b[90m     missing    \u001b[0m\u001b[90m          mis\u001b[0m ⋯\n",
       "\u001b[36m                                                               5 columns omitted\u001b[0m"
      ]
     },
     "metadata": {},
     "output_type": "display_data"
    }
   ],
   "source": [
    "df_reward_iter = DataFrame()\n",
    "\n",
    "for id_run in 1:n_iter\n",
    "    df_reward_temp = deepcopy(dict_iter[id_run][\"df_reward_iter\"])\n",
    "    reward_list = setdiff(names(df_reward_temp), [\"user_set\"])\n",
    "    rename!(df_reward_temp, reward_list .=> reward_list .* \"_$(nrow(df_reward_temp)-1)\")\n",
    "    if nrow(df_reward_iter) == 0\n",
    "        df_reward_iter = df_reward_temp\n",
    "    else\n",
    "        df_reward_iter = outerjoin(df_reward_iter, df_reward_temp, on=:user_set, makeunique=true)\n",
    "    end\n",
    "end\n",
    "\n",
    "# sort by user set\n",
    "sort!(df_reward_iter, :user_set)\n",
    "\n",
    "df_reward_iter"
   ]
  },
  {
   "cell_type": "markdown",
   "metadata": {},
   "source": [
    "#### ITER_MODE: Create comparison of computational time"
   ]
  },
  {
   "cell_type": "code",
   "execution_count": 47,
   "metadata": {},
   "outputs": [
    {
     "data": {
      "text/html": [
       "<div class=\"data-frame\"><p>1 rows × 8 columns (omitted printing of 1 columns)</p><table class=\"data-frame\"><thead><tr><th></th><th>name</th><th>id_run</th><th>EC_size</th><th>mode_time</th><th>incore_iter</th><th>leastcore_iter</th><th>varcore_iter</th></tr><tr><th></th><th title=\"String\">String</th><th title=\"Int64\">Int64</th><th title=\"Int64\">Int64</th><th title=\"Float64\">Float64</th><th title=\"Float64\">Float64</th><th title=\"Float64\">Float64</th><th title=\"Float64\">Float64</th></tr></thead><tbody><tr><th>1</th><td>iter_mode</td><td>1</td><td>3</td><td>0.0</td><td>48.6476</td><td>59.9421</td><td>27.2023</td></tr></tbody></table></div>"
      ],
      "text/latex": [
       "\\begin{tabular}{r|cccccccc}\n",
       "\t& name & id\\_run & EC\\_size & mode\\_time & incore\\_iter & leastcore\\_iter & varcore\\_iter & \\\\\n",
       "\t\\hline\n",
       "\t& String & Int64 & Int64 & Float64 & Float64 & Float64 & Float64 & \\\\\n",
       "\t\\hline\n",
       "\t1 & iter\\_mode & 1 & 3 & 0.0 & 48.6476 & 59.9421 & 27.2023 & $\\dots$ \\\\\n",
       "\\end{tabular}\n"
      ],
      "text/plain": [
       "\u001b[1m1×8 DataFrame\u001b[0m\n",
       "\u001b[1m Row \u001b[0m│\u001b[1m name      \u001b[0m\u001b[1m id_run \u001b[0m\u001b[1m EC_size \u001b[0m\u001b[1m mode_time \u001b[0m\u001b[1m incore_iter \u001b[0m\u001b[1m leastcore_iter \u001b[0m\u001b[1m var\u001b[0m ⋯\n",
       "\u001b[1m     \u001b[0m│\u001b[90m String    \u001b[0m\u001b[90m Int64  \u001b[0m\u001b[90m Int64   \u001b[0m\u001b[90m Float64   \u001b[0m\u001b[90m Float64     \u001b[0m\u001b[90m Float64        \u001b[0m\u001b[90m Flo\u001b[0m ⋯\n",
       "─────┼──────────────────────────────────────────────────────────────────────────\n",
       "   1 │ iter_mode       1        3        0.0      48.6476         59.9421      ⋯\n",
       "\u001b[36m                                                               2 columns omitted\u001b[0m"
      ]
     },
     "metadata": {},
     "output_type": "display_data"
    }
   ],
   "source": [
    "dict_iter[1][\"df_time_iter\"]"
   ]
  },
  {
   "cell_type": "code",
   "execution_count": 51,
   "metadata": {},
   "outputs": [
    {
     "data": {
      "text/html": [
       "<div class=\"data-frame\"><p>2 rows × 9 columns (omitted printing of 2 columns)</p><table class=\"data-frame\"><thead><tr><th></th><th>name</th><th>EC_size</th><th>id_run</th><th>title</th><th>mode_time</th><th>incore_iter</th><th>leastcore_iter</th></tr><tr><th></th><th title=\"String\">String</th><th title=\"Int64\">Int64</th><th title=\"Int64\">Int64</th><th title=\"LaTeXString\">LaTeXStr…</th><th title=\"Float64\">Float64</th><th title=\"Float64\">Float64</th><th title=\"Float64\">Float64</th></tr></thead><tbody><tr><th>1</th><td>iter_mode</td><td>3</td><td>1</td><td>$Time [h]$</td><td>0.0</td><td>48.6476</td><td>59.9421</td></tr><tr><th>2</th><td>iter_mode</td><td>4</td><td>2</td><td>$Time [h]$</td><td>0.0</td><td>150.975</td><td>91.2564</td></tr></tbody></table></div>"
      ],
      "text/latex": [
       "\\begin{tabular}{r|cccccccc}\n",
       "\t& name & EC\\_size & id\\_run & title & mode\\_time & incore\\_iter & leastcore\\_iter & \\\\\n",
       "\t\\hline\n",
       "\t& String & Int64 & Int64 & LaTeXStr… & Float64 & Float64 & Float64 & \\\\\n",
       "\t\\hline\n",
       "\t1 & iter\\_mode & 3 & 1 & $Time [h]$ & 0.0 & 48.6476 & 59.9421 & $\\dots$ \\\\\n",
       "\t2 & iter\\_mode & 4 & 2 & $Time [h]$ & 0.0 & 150.975 & 91.2564 & $\\dots$ \\\\\n",
       "\\end{tabular}\n"
      ],
      "text/plain": [
       "\u001b[1m2×9 DataFrame\u001b[0m\n",
       "\u001b[1m Row \u001b[0m│\u001b[1m name      \u001b[0m\u001b[1m EC_size \u001b[0m\u001b[1m id_run \u001b[0m\u001b[1m title      \u001b[0m\u001b[1m mode_time \u001b[0m\u001b[1m incore_iter \u001b[0m\u001b[1m leastco\u001b[0m ⋯\n",
       "\u001b[1m     \u001b[0m│\u001b[90m String    \u001b[0m\u001b[90m Int64   \u001b[0m\u001b[90m Int64  \u001b[0m\u001b[90m LaTeXStr…  \u001b[0m\u001b[90m Float64   \u001b[0m\u001b[90m Float64     \u001b[0m\u001b[90m Float64\u001b[0m ⋯\n",
       "─────┼──────────────────────────────────────────────────────────────────────────\n",
       "   1 │ iter_mode        3       1  $Time [h]$        0.0      48.6476          ⋯\n",
       "   2 │ iter_mode        4       2  $Time [h]$        0.0     150.975\n",
       "\u001b[36m                                                               3 columns omitted\u001b[0m"
      ]
     },
     "metadata": {},
     "output_type": "display_data"
    }
   ],
   "source": [
    "df_time_iter = DataFrame()\n",
    "\n",
    "for id_run in 1:n_iter\n",
    "    df_time_temp = deepcopy(dict_iter[id_run][\"df_time_iter\"])\n",
    "\n",
    "    # df_time_temp[!, 2:end] ./= 3600  # change units to hours\n",
    "\n",
    "    df_time_temp[!, \"title\"] = [L\"Time [h]\"]\n",
    "\n",
    "    if nrow(df_time_iter) == 0\n",
    "        df_time_iter = df_time_temp\n",
    "    else\n",
    "        df_time_iter = vcat(df_time_iter, df_time_temp)\n",
    "    end\n",
    "end\n",
    "\n",
    "header_cols = [\"name\", \"EC_size\", \"id_run\", \"title\"]\n",
    "df_list_rewards = setdiff(names(df_time_iter), header_cols)\n",
    "\n",
    "df_time_iter = df_time_iter[!, [header_cols; df_list_rewards]]"
   ]
  }
 ],
 "metadata": {
  "kernelspec": {
   "display_name": "Julia 1.7.3",
   "language": "julia",
   "name": "julia-1.7"
  },
  "language_info": {
   "file_extension": ".jl",
   "mimetype": "application/julia",
   "name": "julia",
   "version": "1.7.3"
  },
  "orig_nbformat": 4,
  "vscode": {
   "interpreter": {
    "hash": "3bfaeecedf253908c6d8da07a77979cd04405f6ff56d07cd432c822e25783765"
   }
  }
 },
 "nbformat": 4,
 "nbformat_minor": 2
}
