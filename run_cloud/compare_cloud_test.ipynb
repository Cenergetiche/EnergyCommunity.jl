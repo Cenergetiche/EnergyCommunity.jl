{
 "cells": [
  {
   "cell_type": "code",
   "execution_count": 9,
   "metadata": {},
   "outputs": [
    {
     "data": {
      "text/plain": [
       "2-element Vector{Int64}:\n",
       " 3\n",
       " 4"
      ]
     },
     "metadata": {},
     "output_type": "display_data"
    }
   ],
   "source": [
    "parent_dir = \"C:/Users/Davide/Il mio Drive/Universita/Dottorato/git/EnergyCommunity.jl/run_cloud\"\n",
    "\n",
    "n_iter = 2\n",
    "EC_size_list_enum = [3,4] #[5, 10, 20]  # List of sizes of the EC to test in enum mode"
   ]
  },
  {
   "cell_type": "code",
   "execution_count": 1,
   "metadata": {},
   "outputs": [],
   "source": [
    "using EnergyCommunity\n",
    "using FileIO\n",
    "using HiGHS, Plots\n",
    "using JuMP\n",
    "using Gurobi\n",
    "using Games\n",
    "using TickTock\n",
    "using Combinatorics\n",
    "using DataFrames\n",
    "using JLD2\n",
    "using Latexify, LaTeXStrings\n",
    "using YAML"
   ]
  },
  {
   "cell_type": "code",
   "execution_count": 7,
   "metadata": {},
   "outputs": [
    {
     "ename": "ArgumentError",
     "evalue": "ArgumentError: No file exists at given path: C:/Users/Davide/Il mio Drive/Universita/Dottorato/git/EnergyCommunity.jl/run_cloud/results_paper/enum/enum_simulations_results_3.jld2",
     "output_type": "error",
     "traceback": [
      "ArgumentError: No file exists at given path: C:/Users/Davide/Il mio Drive/Universita/Dottorato/git/EnergyCommunity.jl/run_cloud/results_paper/enum/enum_simulations_results_3.jld2\n",
      "\n",
      "Stacktrace:\n",
      " [1] checkpath_load\n",
      "   @ C:\\Users\\Davide\\.julia\\packages\\FileIO\\Nl9Lh\\src\\loadsave.jl:167 [inlined]\n",
      " [2] load(::String; options::Base.Pairs{Symbol, Union{}, Tuple{}, NamedTuple{(), Tuple{}}})\n",
      "   @ FileIO C:\\Users\\Davide\\.julia\\packages\\FileIO\\Nl9Lh\\src\\loadsave.jl:110\n",
      " [3] load\n",
      "   @ C:\\Users\\Davide\\.julia\\packages\\FileIO\\Nl9Lh\\src\\loadsave.jl:110 [inlined]\n",
      " [4] (::var\"#15#16\")(size_enum::Int64)\n",
      "   @ Main .\\none:0\n",
      " [5] iterate\n",
      "   @ .\\generator.jl:47 [inlined]\n",
      " [6] _all(f::Base.var\"#318#320\", itr::Base.Generator{Vector{Int64}, var\"#15#16\"}, #unused#::Colon)\n",
      "   @ Base .\\reduce.jl:1156\n",
      " [7] all\n",
      "   @ .\\reduce.jl:1152 [inlined]\n",
      " [8] Dict(kv::Base.Generator{Vector{Int64}, var\"#15#16\"})\n",
      "   @ Base .\\dict.jl:131\n",
      " [9] top-level scope\n",
      "   @ c:\\Users\\Davide\\Il mio Drive\\Universita\\Dottorato\\git\\EnergyCommunity.jl\\run_cloud\\compare_cloud_test.ipynb:1"
     ]
    }
   ],
   "source": [
    "list_enums = Dict(\n",
    "    size_enum=>load(\"$parent_dir/results_paper/enum/enum_simulations_results_$size_enum.jld2\")\n",
    "    for size_enum in EC_size_list_enum\n",
    ")"
   ]
  },
  {
   "cell_type": "markdown",
   "metadata": {},
   "source": []
  },
  {
   "cell_type": "markdown",
   "metadata": {},
   "source": [
    "### Create reward redistribution of enum modes"
   ]
  },
  {
   "cell_type": "code",
   "execution_count": null,
   "metadata": {},
   "outputs": [],
   "source": [
    "df_reward_enum = DataFrame()\n",
    "\n",
    "for (id_enum, enum_data) in enumerate(list_enums)\n",
    "    if nrow(df_reward) == 0\n",
    "        df_reward_enum = enum_data[\"df_reward_enum\"]\n",
    "    else\n",
    "        df_reward_enum = innerjoin(df_reward_enum, enum_data[\"df_reward_enum\"], on=:user_set)\n",
    "    end\n",
    "end\n",
    "\n",
    "# sort by user set\n",
    "sort!(df_reward_enum, :user_set)\n",
    "\n",
    "df_reward_enum"
   ]
  },
  {
   "cell_type": "markdown",
   "metadata": {},
   "source": [
    "### Create comparison of computational time"
   ]
  },
  {
   "cell_type": "code",
   "execution_count": null,
   "metadata": {},
   "outputs": [],
   "source": [
    "df_time_enum = DataFrame()\n",
    "\n",
    "for (id_enum, enum_data) in enumerate(list_enums)\n",
    "    df_time_temp = DataFrame(enum_data[\"dict_time_enum\"])]./3600\n",
    "\n",
    "    df_time_temp[!, \"EC size\"] = [L\"Time [h]\"]\n",
    "    df_time_temp[!, \"title\"] = [L\"Time [h]\"]\n",
    "    df_time_temp = df_time_temp[!, [\"EC size\"; \"title\"; names(df_time_temp)[1:end-2]]]\n",
    "\n",
    "    if nrow(df_time_enum) == 0\n",
    "        df_time_enum = df_time_temp\n",
    "    else\n",
    "        df_time_enum = vcat(df_time_enum, df_time_temp)\n",
    "    end\n",
    "end\n",
    "\n",
    "df_time_enum"
   ]
  },
  {
   "cell_type": "code",
   "execution_count": 11,
   "metadata": {},
   "outputs": [],
   "source": [
    "list_iter = Dict(\n",
    "    id_run=>load(\"$parent_dir/results_paper/iter/iter_simulations_results_$id_run.jld2\")\n",
    "    for id_run in 1:n_iter\n",
    ")"
   ]
  }
 ],
 "metadata": {
  "kernelspec": {
   "display_name": "Julia 1.7.3",
   "language": "julia",
   "name": "julia-1.7"
  },
  "language_info": {
   "file_extension": ".jl",
   "mimetype": "application/julia",
   "name": "julia",
   "version": "1.7.3"
  },
  "orig_nbformat": 4,
  "vscode": {
   "interpreter": {
    "hash": "3bfaeecedf253908c6d8da07a77979cd04405f6ff56d07cd432c822e25783765"
   }
  }
 },
 "nbformat": 4,
 "nbformat_minor": 2
}
