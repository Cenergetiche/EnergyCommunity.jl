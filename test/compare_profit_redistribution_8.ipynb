{
 "cells": [
  {
   "cell_type": "markdown",
   "metadata": {},
   "source": [
    "# Compare EC profit redistribution\n",
    "\n",
    "This notebook aims at comparing the profit redistribution for an Energy Community\n",
    "using the package EnergyCommunity.jl and TheoryOfGames.jl"
   ]
  },
  {
   "cell_type": "markdown",
   "metadata": {},
   "source": [
    "## Configuration"
   ]
  },
  {
   "cell_type": "markdown",
   "metadata": {},
   "source": [
    "### Paths"
   ]
  },
  {
   "cell_type": "code",
   "execution_count": 1,
   "metadata": {
    "vscode": {
     "languageId": "julia"
    }
   },
   "outputs": [
    {
     "data": {
      "text/plain": [
       "true"
      ]
     },
     "metadata": {},
     "output_type": "display_data"
    }
   ],
   "source": [
    "input_file = joinpath(@__DIR__, \"../data/energy_community_model.yml\")  # Input file\n",
    "\n",
    "output_file_isolated = joinpath(@__DIR__, \"../results/output_file_NC.xlsx\")  # Output file - model users alone\n",
    "output_plot_isolated = joinpath(@__DIR__, \"../results/Img/plot_user_{:s}_NC.png\")  # Output png file of plot - model users alone\n",
    "\n",
    "output_file_combined = joinpath(@__DIR__, \"../results/output_file_EC.xlsx\")  # Output file - model Energy community\n",
    "output_plot_combined = joinpath(@__DIR__, \"../results/Img/plot_user_{:s}_EC.pdf\")  # Output png file of plot - model energy community\n",
    "\n",
    "output_plot_sankey_agg = joinpath(@__DIR__, \"../results/Img/sankey_EC.png\")  # Output plot of the sankey plot related to the aggregator case\n",
    "output_plot_sankey_noagg = joinpath(@__DIR__, \"../results/Img/sankey_NC.png\")  # Output plot of the sankey plot related to the no aggregator case\n",
    "\n",
    "enum_mode_file = \"enum_mode_datasest.jld2\"  # file used to store the enumerative results\n",
    "total_results_file = \"total_results_file.jld2\"  # file to store all major results\n",
    "\n",
    "overwrite_files = true  # when true, output files are overwritten"
   ]
  },
  {
   "cell_type": "markdown",
   "metadata": {},
   "source": [
    "### Import libraries"
   ]
  },
  {
   "cell_type": "code",
   "execution_count": 2,
   "metadata": {
    "vscode": {
     "languageId": "julia"
    }
   },
   "outputs": [],
   "source": [
    "using Revise\n",
    "using EnergyCommunity\n",
    "using FileIO\n",
    "using HiGHS, Plots\n",
    "using JuMP\n",
    "using Gurobi\n",
    "using TheoryOfGames\n",
    "using TickTock\n",
    "using Combinatorics\n",
    "using DataFrames\n",
    "using JLD2\n",
    "using Latexify"
   ]
  },
  {
   "cell_type": "markdown",
   "metadata": {},
   "source": [
    "### Solver configurations"
   ]
  },
  {
   "cell_type": "code",
   "execution_count": 3,
   "metadata": {
    "vscode": {
     "languageId": "julia"
    }
   },
   "outputs": [
    {
     "data": {
      "text/plain": [
       "MathOptInterface.OptimizerWithAttributes(Gurobi.Optimizer, Pair{MathOptInterface.AbstractOptimizerAttribute, Any}[MathOptInterface.RawOptimizerAttribute(\"OutputFlag\") => 1, MathOptInterface.RawOptimizerAttribute(\"LogToConsole\") => 0, MathOptInterface.RawOptimizerAttribute(\"MIPGap\") => 0.1, MathOptInterface.RawOptimizerAttribute(\"TimeLimit\") => 1000, MathOptInterface.RawOptimizerAttribute(\"LogFile\") => \"gurobi.log\", MathOptInterface.RawOptimizerAttribute(\"Threads\") => 10, MathOptInterface.RawOptimizerAttribute(\"PoolSolutions\") => 20, MathOptInterface.RawOptimizerAttribute(\"PoolSearchMode\") => 1])"
      ]
     },
     "metadata": {},
     "output_type": "display_data"
    }
   ],
   "source": [
    "# General optimizer\n",
    "OPTIMIZER = optimizer_with_attributes(Gurobi.Optimizer, \"OutputFlag\"=>0, \"Threads\"=>10)\n",
    "\n",
    "# Optimizer for row-generation techniques, used in the IterMode of TheoryOfGames.jl\n",
    "OPTIMIZER_ROW_GENERATION = optimizer_with_attributes(Gurobi.Optimizer,\n",
    "    \"OutputFlag\"=>1,\n",
    "    \"LogToConsole\"=>0,\n",
    "    \"MIPGap\"=>0.1,\n",
    "    # \"MIPFocus\"=>1,\n",
    "    \"TimeLimit\"=>1000,\n",
    "    \"LogFile\"=>\"gurobi.log\",\n",
    "    \"Threads\"=>10,\n",
    "    # \"NoRelHeurTime\"=>10,\n",
    "    \"PoolSolutions\"=>20,\n",
    "    \"PoolSearchMode\"=>1,\n",
    ")"
   ]
  },
  {
   "cell_type": "markdown",
   "metadata": {},
   "source": [
    "### Energy Community options"
   ]
  },
  {
   "cell_type": "code",
   "execution_count": 4,
   "metadata": {
    "vscode": {
     "languageId": "julia"
    }
   },
   "outputs": [],
   "source": [
    "NO_AGG_GROUP = GroupANC();  # type of aggregation when the Aggregator does not belong to the coalition.\n",
    "                            # options: GroupANC() or GroupNC()\n",
    "BASE_GROUP = GroupNC();     # base type of aggregation (it shall be GroupNC)"
   ]
  },
  {
   "cell_type": "markdown",
   "metadata": {},
   "source": [
    "## General"
   ]
  },
  {
   "cell_type": "code",
   "execution_count": 5,
   "metadata": {
    "vscode": {
     "languageId": "julia"
    }
   },
   "outputs": [
    {
     "data": {
      "text/plain": [
       "1000"
      ]
     },
     "metadata": {},
     "output_type": "display_data"
    }
   ],
   "source": [
    "ENV[\"COLUMNS\"] = 1000  # to print more columns in the output"
   ]
  },
  {
   "cell_type": "markdown",
   "metadata": {},
   "source": [
    "## Optimize the Energy Community in the COperative configuration"
   ]
  },
  {
   "cell_type": "code",
   "execution_count": 6,
   "metadata": {
    "vscode": {
     "languageId": "julia"
    }
   },
   "outputs": [
    {
     "name": "stdout",
     "output_type": "stream",
     "text": [
      "Academic license - for non-commercial use only - expires 2023-02-04\r\n"
     ]
    },
    {
     "data": {
      "text/plain": [
       "An Energy Community Model\n",
       "Energy Community problem for a Cooperative Model\n",
       "User set: [\"user1\", \"user2\", \"user3\", \"user4\", \"user5\", \"user6\", \"user7\", \"user8\"]\n"
      ]
     },
     "metadata": {},
     "output_type": "display_data"
    },
    {
     "name": "stdout",
     "output_type": "stream",
     "text": [
      "Solved model"
     ]
    },
    {
     "name": "stdout",
     "output_type": "stream",
     "text": [
      "\n"
     ]
    }
   ],
   "source": [
    "# Read data from excel file\n",
    "ECModel = ModelEC(input_file, EnergyCommunity.GroupCO(), OPTIMIZER)\n",
    "\n",
    "# Reset the user set to use all stored users (10)\n",
    "# reset_user_set!(ECModel)\n",
    "set_user_set!(ECModel, [\"user$id\" for id=1:8])\n",
    "\n",
    "# Build the model\n",
    "build_model!(ECModel)\n",
    "\n",
    "# Optimize the model\n",
    "optimize!(ECModel)"
   ]
  },
  {
   "cell_type": "markdown",
   "metadata": {},
   "source": [
    "## Calculate the reward distribution functions by enumerative techniques (EnumMode in TheoryOfGames.jl)"
   ]
  },
  {
   "cell_type": "markdown",
   "metadata": {},
   "source": [
    "### Create enumerative mode\n",
    "\n",
    "Calculation of the enumerative mode used to compute several reward distribution functions"
   ]
  },
  {
   "cell_type": "code",
   "execution_count": 7,
   "metadata": {
    "vscode": {
     "languageId": "julia"
    }
   },
   "outputs": [
    {
     "name": "stderr",
     "output_type": "stream",
     "text": [
      "┌ Info:  started timer at: 2022-06-07T17:05:01.329\n",
      "└ @ TickTock C:\\Users\\Davide\\.julia\\packages\\TickTock\\fGILW\\src\\TickTock.jl:54\n"
     ]
    },
    {
     "name": "stdout",
     "output_type": "stream",
     "text": [
      "Academic license - for non-commercial use only - expires 2023-02-04\r\n",
      "Academic license - for non-commercial use only - expires 2023-02-04\r\n"
     ]
    },
    {
     "name": "stderr",
     "output_type": "stream",
     "text": [
      "\r0.0%┣                                             ┫ 0/511 [00:00<00:-26, -0s/it]"
     ]
    },
    {
     "name": "stderr",
     "output_type": "stream",
     "text": [
      "\n",
      "\u001b[1A\r0.2%┣                                          ┫ 1/511 [00:00<Inf:Inf, InfGs/it]"
     ]
    },
    {
     "name": "stderr",
     "output_type": "stream",
     "text": [
      "\n",
      "\u001b[1A\r0.4%┣▏                                              ┫ 2/511 [00:01<05:57, 1it/s]\n"
     ]
    },
    {
     "name": "stdout",
     "output_type": "stream",
     "text": [
      "Academic license - for non-commercial use only - expires 2023-02-04\r\n"
     ]
    },
    {
     "name": "stderr",
     "output_type": "stream",
     "text": [
      "\u001b[1A\r2.0%┣█                                             ┫ 10/511 [00:03<03:01, 3it/s]\n"
     ]
    },
    {
     "name": "stdout",
     "output_type": "stream",
     "text": [
      "Academic license - for non-commercial use only - expires 2023-02-04\r\n"
     ]
    },
    {
     "name": "stderr",
     "output_type": "stream",
     "text": [
      "\u001b[1A\r2.2%┣█                                             ┫ 11/511 [00:04<03:45, 2it/s]\n"
     ]
    },
    {
     "name": "stdout",
     "output_type": "stream",
     "text": [
      "Academic license - for non-commercial use only - expires 2023-02-04\r\n"
     ]
    },
    {
     "name": "stderr",
     "output_type": "stream",
     "text": [
      "\u001b[1A\r2.3%┣█                                             ┫ 12/511 [00:06<04:23, 2it/s]"
     ]
    },
    {
     "name": "stdout",
     "output_type": "stream",
     "text": [
      "Academic license - for non-commercial use only - expires 2023-02-04\r\n"
     ]
    },
    {
     "name": "stderr",
     "output_type": "stream",
     "text": [
      "\n",
      "\u001b[1A\r2.5%┣█▏                                            ┫ 13/511 [00:06<04:24, 2it/s]"
     ]
    },
    {
     "name": "stdout",
     "output_type": "stream",
     "text": [
      "Academic license - for non-commercial use only - expires 2023-02-04\r\n"
     ]
    },
    {
     "name": "stderr",
     "output_type": "stream",
     "text": [
      "\n",
      "\u001b[1A\r2.7%┣█▎                                            ┫ 14/511 [00:09<05:49, 1it/s]"
     ]
    },
    {
     "name": "stdout",
     "output_type": "stream",
     "text": [
      "Academic license - for non-commercial use only - expires 2023-02-04\r\n"
     ]
    },
    {
     "name": "stderr",
     "output_type": "stream",
     "text": [
      "\n",
      "\u001b[1A\r2.9%┣█▍                                            ┫ 15/511 [00:11<06:13, 1it/s]"
     ]
    },
    {
     "name": "stdout",
     "output_type": "stream",
     "text": [
      "Academic license - for non-commercial use only - expires 2023-02-04\r\n"
     ]
    },
    {
     "name": "stderr",
     "output_type": "stream",
     "text": [
      "\n",
      "\u001b[1A\r3.1%┣█▍                                            ┫ 16/511 [00:11<06:09, 1it/s]\n"
     ]
    },
    {
     "name": "stdout",
     "output_type": "stream",
     "text": [
      "Academic license - for non-commercial use only - expires 2023-02-04\r\n"
     ]
    },
    {
     "name": "stderr",
     "output_type": "stream",
     "text": [
      "\u001b[1A\r3.3%┣█▌                                            ┫ 17/511 [00:13<06:33, 1it/s]\n",
      "\u001b[1A\r7.2%┣███▎                                          ┫ 37/511 [00:13<02:49, 3it/s]\n"
     ]
    },
    {
     "name": "stdout",
     "output_type": "stream",
     "text": [
      "Academic license - for non-commercial use only - expires 2023-02-04\r\n"
     ]
    },
    {
     "name": "stderr",
     "output_type": "stream",
     "text": [
      "\u001b[1A\r9.0%┣████▏                                         ┫ 46/511 [00:15<02:33, 3it/s]\n"
     ]
    },
    {
     "name": "stdout",
     "output_type": "stream",
     "text": [
      "Academic license - for non-commercial use only - expires 2023-02-04\r\n"
     ]
    },
    {
     "name": "stderr",
     "output_type": "stream",
     "text": [
      "\u001b[1A\r9.2%┣████▎                                         ┫ 47/511 [00:17<02:50, 3it/s]"
     ]
    },
    {
     "name": "stdout",
     "output_type": "stream",
     "text": [
      "Academic license - for non-commercial use only - expires 2023-02-04\r\n"
     ]
    },
    {
     "name": "stderr",
     "output_type": "stream",
     "text": [
      "\n",
      "\u001b[1A\r9.4%┣████▎                                         ┫ 48/511 [00:18<02:54, 3it/s]\n"
     ]
    },
    {
     "name": "stdout",
     "output_type": "stream",
     "text": [
      "Academic license - for non-commercial use only - expires 2023-02-04\r\n"
     ]
    },
    {
     "name": "stderr",
     "output_type": "stream",
     "text": [
      "\u001b[1A\r9.6%┣████▍                                         ┫ 49/511 [00:19<03:01, 3it/s]"
     ]
    },
    {
     "name": "stdout",
     "output_type": "stream",
     "text": [
      "Academic license - for non-commercial use only - expires 2023-02-04\r\n"
     ]
    },
    {
     "name": "stderr",
     "output_type": "stream",
     "text": [
      "\n",
      "\u001b[1A\r9.8%┣████▌                                         ┫ 50/511 [00:21<03:15, 2it/s]\n"
     ]
    },
    {
     "name": "stdout",
     "output_type": "stream",
     "text": [
      "Academic license - for non-commercial use only - expires 2023-02-04\r\n"
     ]
    },
    {
     "name": "stderr",
     "output_type": "stream",
     "text": [
      "\u001b[1A\r10.0%┣████▌                                        ┫ 51/511 [00:22<03:19, 2it/s]\n"
     ]
    },
    {
     "name": "stdout",
     "output_type": "stream",
     "text": [
      "Academic license - for non-commercial use only - expires 2023-02-04\r\n"
     ]
    },
    {
     "name": "stderr",
     "output_type": "stream",
     "text": [
      "\u001b[1A\r10.2%┣████▋                                        ┫ 52/511 [00:24<03:36, 2it/s]"
     ]
    },
    {
     "name": "stdout",
     "output_type": "stream",
     "text": [
      "Academic license - for non-commercial use only - expires 2023-02-04\r\n"
     ]
    },
    {
     "name": "stderr",
     "output_type": "stream",
     "text": [
      "\n",
      "\u001b[1A\r10.4%┣████▊                                        ┫ 53/511 [00:27<03:58, 2it/s]"
     ]
    },
    {
     "name": "stdout",
     "output_type": "stream",
     "text": [
      "Academic license - for non-commercial use only - expires 2023-02-04\r\n"
     ]
    },
    {
     "name": "stderr",
     "output_type": "stream",
     "text": [
      "\n",
      "\u001b[1A\r10.6%┣████▊                                        ┫ 54/511 [00:29<04:11, 2it/s]\n"
     ]
    },
    {
     "name": "stdout",
     "output_type": "stream",
     "text": [
      "Academic license - for non-commercial use only - expires 2023-02-04\r\n"
     ]
    },
    {
     "name": "stderr",
     "output_type": "stream",
     "text": [
      "\u001b[1A\r10.8%┣████▉                                        ┫ 55/511 [00:31<04:20, 2it/s]"
     ]
    },
    {
     "name": "stdout",
     "output_type": "stream",
     "text": [
      "Academic license - for non-commercial use only - expires 2023-02-04\r\n"
     ]
    },
    {
     "name": "stderr",
     "output_type": "stream",
     "text": [
      "\n",
      "\u001b[1A\r11.0%┣█████                                        ┫ 56/511 [00:34<04:38, 2it/s]"
     ]
    },
    {
     "name": "stdout",
     "output_type": "stream",
     "text": [
      "Academic license - for non-commercial use only - expires 2023-02-04\r\n"
     ]
    },
    {
     "name": "stderr",
     "output_type": "stream",
     "text": [
      "\n",
      "\u001b[1A\r11.2%┣█████                                        ┫ 57/511 [00:35<04:46, 2it/s]"
     ]
    },
    {
     "name": "stdout",
     "output_type": "stream",
     "text": [
      "Academic license - for non-commercial use only - expires 2023-02-04\r\n"
     ]
    },
    {
     "name": "stderr",
     "output_type": "stream",
     "text": [
      "\n",
      "\u001b[1A\r11.4%┣█████                                        ┫ 58/511 [00:38<05:05, 1it/s]"
     ]
    },
    {
     "name": "stdout",
     "output_type": "stream",
     "text": [
      "Academic license - for non-commercial use only - expires 2023-02-04\r\n"
     ]
    },
    {
     "name": "stderr",
     "output_type": "stream",
     "text": [
      "\n",
      "\u001b[1A\r11.5%┣█████▏                                       ┫ 59/511 [00:40<05:15, 1it/s]\n"
     ]
    },
    {
     "name": "stdout",
     "output_type": "stream",
     "text": [
      "Academic license - for non-commercial use only - expires 2023-02-04\r\n"
     ]
    },
    {
     "name": "stderr",
     "output_type": "stream",
     "text": [
      "\u001b[1A\r11.7%┣█████▎                                       ┫ 60/511 [00:42<05:24, 1it/s]"
     ]
    },
    {
     "name": "stdout",
     "output_type": "stream",
     "text": [
      "Academic license - for non-commercial use only - expires 2023-02-04\r\n"
     ]
    },
    {
     "name": "stderr",
     "output_type": "stream",
     "text": [
      "\n",
      "\u001b[1A\r11.9%┣█████▍                                       ┫ 61/511 [00:45<05:38, 1it/s]\n"
     ]
    },
    {
     "name": "stdout",
     "output_type": "stream",
     "text": [
      "Academic license - for non-commercial use only - expires 2023-02-04\r\n"
     ]
    },
    {
     "name": "stderr",
     "output_type": "stream",
     "text": [
      "\u001b[1A\r12.1%┣█████▌                                       ┫ 62/511 [00:47<05:46, 1it/s]\n"
     ]
    },
    {
     "name": "stdout",
     "output_type": "stream",
     "text": [
      "Academic license - for non-commercial use only - expires 2023-02-04\r\n"
     ]
    },
    {
     "name": "stderr",
     "output_type": "stream",
     "text": [
      "\u001b[1A\r12.3%┣█████▌                                       ┫ 63/511 [00:50<06:00, 1it/s]\n"
     ]
    },
    {
     "name": "stdout",
     "output_type": "stream",
     "text": [
      "Academic license - for non-commercial use only - expires 2023-02-04\r\n"
     ]
    },
    {
     "name": "stderr",
     "output_type": "stream",
     "text": [
      "\u001b[1A\r12.5%┣█████▋                                       ┫ 64/511 [00:51<06:00, 1it/s]\n"
     ]
    },
    {
     "name": "stdout",
     "output_type": "stream",
     "text": [
      "Academic license - for non-commercial use only - expires 2023-02-04\r\n"
     ]
    },
    {
     "name": "stderr",
     "output_type": "stream",
     "text": [
      "\u001b[1A\r12.7%┣█████▊                                       ┫ 65/511 [00:53<06:08, 1it/s]"
     ]
    },
    {
     "name": "stdout",
     "output_type": "stream",
     "text": [
      "Academic license - for non-commercial use only - expires 2023-02-04\r\n"
     ]
    },
    {
     "name": "stderr",
     "output_type": "stream",
     "text": [
      "\n",
      "\u001b[1A\r12.9%┣█████▉                                       ┫ 66/511 [00:54<06:07, 1it/s]\n"
     ]
    },
    {
     "name": "stdout",
     "output_type": "stream",
     "text": [
      "Academic license - for non-commercial use only - expires 2023-02-04\r\n"
     ]
    },
    {
     "name": "stderr",
     "output_type": "stream",
     "text": [
      "\u001b[1A\r13.1%┣██████                                       ┫ 67/511 [00:56<06:15, 1it/s]"
     ]
    },
    {
     "name": "stdout",
     "output_type": "stream",
     "text": [
      "Academic license - for non-commercial use only - expires 2023-02-04\r\n"
     ]
    },
    {
     "name": "stderr",
     "output_type": "stream",
     "text": [
      "\n",
      "\u001b[1A\r13.3%┣██████                                       ┫ 68/511 [00:57<06:19, 1it/s]"
     ]
    },
    {
     "name": "stdout",
     "output_type": "stream",
     "text": [
      "Academic license - for non-commercial use only - expires 2023-02-04\r\n"
     ]
    },
    {
     "name": "stderr",
     "output_type": "stream",
     "text": [
      "\n",
      "\u001b[1A\r13.5%┣██████                                       ┫ 69/511 [00:58<06:19, 1it/s]\n"
     ]
    },
    {
     "name": "stdout",
     "output_type": "stream",
     "text": [
      "Academic license - for non-commercial use only - expires 2023-02-04\r\n"
     ]
    },
    {
     "name": "stderr",
     "output_type": "stream",
     "text": [
      "\u001b[1A\r13.7%┣██████▏                                      ┫ 70/511 [01:00<06:24, 1it/s]"
     ]
    },
    {
     "name": "stdout",
     "output_type": "stream",
     "text": [
      "Academic license - for non-commercial use only - expires 2023-02-04\r\n"
     ]
    },
    {
     "name": "stderr",
     "output_type": "stream",
     "text": [
      "\n",
      "\u001b[1A\r13.9%┣██████▎                                      ┫ 71/511 [01:02<06:27, 1it/s]\n"
     ]
    },
    {
     "name": "stdout",
     "output_type": "stream",
     "text": [
      "Academic license - for non-commercial use only - expires 2023-02-04\r\n"
     ]
    },
    {
     "name": "stderr",
     "output_type": "stream",
     "text": [
      "\u001b[1A\r14.1%┣██████▍                                      ┫ 72/511 [01:05<06:40, 1it/s]"
     ]
    },
    {
     "name": "stdout",
     "output_type": "stream",
     "text": [
      "Academic license - for non-commercial use only - expires 2023-02-04\r\n"
     ]
    },
    {
     "name": "stderr",
     "output_type": "stream",
     "text": [
      "\n",
      "\u001b[1A\r"
     ]
    },
    {
     "name": "stderr",
     "output_type": "stream",
     "text": [
      "14.3%┣██████▍                                      ┫ 73/511 [01:07<06:46, 1it/s]\n"
     ]
    },
    {
     "name": "stderr",
     "output_type": "stream",
     "text": [
      "\u001b[1A\r15.7%┣███████                                      ┫ 80/511 [01:07<06:05, 1it/s]\n",
      "\u001b[1A\r"
     ]
    },
    {
     "name": "stderr",
     "output_type": "stream",
     "text": [
      "17.6%┣████████                                     ┫ 90/511 [01:07<05:17, 1it/s]\n",
      "\u001b[1A\r20.0%┣████████▉                                   ┫ 102/511 [01:07<04:32, 2it/s]\n"
     ]
    },
    {
     "name": "stderr",
     "output_type": "stream",
     "text": [
      "\u001b[1A\r22.7%┣██████████                                  ┫ 116/511 [01:07<03:51, 2it/s]\n",
      "\u001b[1A\r24.9%┣███████████                                 ┫ 127/511 [01:07<03:25, 2it/s]\n"
     ]
    },
    {
     "name": "stdout",
     "output_type": "stream",
     "text": [
      "Academic license - for non-commercial use only - expires 2023-02-04\r\n"
     ]
    },
    {
     "name": "stderr",
     "output_type": "stream",
     "text": [
      "\u001b[1A\r25.4%┣███████████▏                                ┫ 130/511 [01:13<03:34, 2it/s]"
     ]
    },
    {
     "name": "stdout",
     "output_type": "stream",
     "text": [
      "Academic license - for non-commercial use only - expires 2023-02-04\r\n"
     ]
    },
    {
     "name": "stderr",
     "output_type": "stream",
     "text": [
      "\n",
      "\u001b[1A\r25.6%┣███████████▎                                ┫ 131/511 [01:16<03:41, 2it/s]"
     ]
    },
    {
     "name": "stdout",
     "output_type": "stream",
     "text": [
      "Academic license - for non-commercial use only - expires 2023-02-04\r\n"
     ]
    },
    {
     "name": "stderr",
     "output_type": "stream",
     "text": [
      "\n",
      "\u001b[1A\r25.8%┣███████████▍                                ┫ 132/511 [01:17<03:44, 2it/s]\n"
     ]
    },
    {
     "name": "stdout",
     "output_type": "stream",
     "text": [
      "Academic license - for non-commercial use only - expires 2023-02-04\r\n"
     ]
    },
    {
     "name": "stderr",
     "output_type": "stream",
     "text": [
      "\u001b[1A\r26.0%┣███████████▌                                ┫ 133/511 [01:21<03:53, 2it/s]"
     ]
    },
    {
     "name": "stdout",
     "output_type": "stream",
     "text": [
      "Academic license - for non-commercial use only - expires 2023-02-04\r\n"
     ]
    },
    {
     "name": "stderr",
     "output_type": "stream",
     "text": [
      "\n",
      "\u001b[1A\r26.2%┣███████████▌                                ┫ 134/511 [01:23<03:57, 2it/s]\n"
     ]
    },
    {
     "name": "stdout",
     "output_type": "stream",
     "text": [
      "Academic license - for non-commercial use only - expires 2023-02-04\r\n"
     ]
    },
    {
     "name": "stderr",
     "output_type": "stream",
     "text": [
      "\u001b[1A\r26.4%┣███████████▋                                ┫ 135/511 [01:27<04:03, 2it/s]\n"
     ]
    },
    {
     "name": "stdout",
     "output_type": "stream",
     "text": [
      "Academic license - for non-commercial use only - expires 2023-02-04\r\n"
     ]
    },
    {
     "name": "stderr",
     "output_type": "stream",
     "text": [
      "\u001b[1A\r26.6%┣███████████▊                                ┫ 136/511 [01:30<04:09, 2it/s]"
     ]
    },
    {
     "name": "stdout",
     "output_type": "stream",
     "text": [
      "Academic license - for non-commercial use only - expires 2023-02-04\r\n"
     ]
    },
    {
     "name": "stderr",
     "output_type": "stream",
     "text": [
      "\n",
      "\u001b[1A\r26.8%┣███████████▉                                ┫ 137/511 [01:35<04:22, 1it/s]\n"
     ]
    },
    {
     "name": "stdout",
     "output_type": "stream",
     "text": [
      "Academic license - for non-commercial use only - expires 2023-02-04\r\n"
     ]
    },
    {
     "name": "stderr",
     "output_type": "stream",
     "text": [
      "\u001b[1A\r27.0%┣███████████▉                                ┫ 138/511 [01:46<04:48, 1it/s]\n"
     ]
    },
    {
     "name": "stdout",
     "output_type": "stream",
     "text": [
      "Academic license - for non-commercial use only - expires 2023-02-04\r\n"
     ]
    },
    {
     "name": "stderr",
     "output_type": "stream",
     "text": [
      "\u001b[1A\r27.2%┣████████████                                ┫ 139/511 [01:49<04:55, 1it/s]\n"
     ]
    },
    {
     "name": "stdout",
     "output_type": "stream",
     "text": [
      "Academic license - for non-commercial use only - expires 2023-02-04\r\n"
     ]
    },
    {
     "name": "stderr",
     "output_type": "stream",
     "text": [
      "\u001b[1A\r27.4%┣████████████                                ┫ 140/511 [01:54<05:06, 1it/s]"
     ]
    },
    {
     "name": "stdout",
     "output_type": "stream",
     "text": [
      "Academic license - for non-commercial use only - expires 2023-02-04\r\n"
     ]
    },
    {
     "name": "stderr",
     "output_type": "stream",
     "text": [
      "\n",
      "\u001b[1A\r27.6%┣████████████▏                               ┫ 141/511 [01:56<05:07, 1it/s]"
     ]
    },
    {
     "name": "stdout",
     "output_type": "stream",
     "text": [
      "Academic license - for non-commercial use only - expires 2023-02-04\r\n"
     ]
    },
    {
     "name": "stderr",
     "output_type": "stream",
     "text": [
      "\n",
      "\u001b[1A\r27.8%┣████████████▎                               ┫ 142/511 [01:59<05:12, 1it/s]"
     ]
    },
    {
     "name": "stdout",
     "output_type": "stream",
     "text": [
      "Academic license - for non-commercial use only - expires 2023-02-04\r\n"
     ]
    },
    {
     "name": "stderr",
     "output_type": "stream",
     "text": [
      "\n",
      "\u001b[1A\r28.0%┣████████████▎                               ┫ 143/511 [02:01<05:13, 1it/s]\n"
     ]
    },
    {
     "name": "stdout",
     "output_type": "stream",
     "text": [
      "Academic license - for non-commercial use only - expires 2023-02-04\r\n"
     ]
    },
    {
     "name": "stderr",
     "output_type": "stream",
     "text": [
      "\u001b[1A\r28.2%┣████████████▍                               ┫ 144/511 [02:04<05:18, 1it/s]"
     ]
    },
    {
     "name": "stdout",
     "output_type": "stream",
     "text": [
      "Academic license - for non-commercial use only - expires 2023-02-04\r\n"
     ]
    },
    {
     "name": "stderr",
     "output_type": "stream",
     "text": [
      "\n",
      "\u001b[1A\r28.4%┣████████████▌                               ┫ 145/511 [02:07<05:22, 1it/s]\n"
     ]
    },
    {
     "name": "stdout",
     "output_type": "stream",
     "text": [
      "Academic license - for non-commercial use only - expires 2023-02-04\r\n"
     ]
    },
    {
     "name": "stderr",
     "output_type": "stream",
     "text": [
      "\u001b[1A\r28.6%┣████████████▋                               ┫ 146/511 [02:09<05:24, 1it/s]\n"
     ]
    },
    {
     "name": "stdout",
     "output_type": "stream",
     "text": [
      "Academic license - for non-commercial use only - expires 2023-02-04\r\n"
     ]
    },
    {
     "name": "stderr",
     "output_type": "stream",
     "text": [
      "\u001b[1A\r28.8%┣████████████▋                               ┫ 147/511 [02:13<05:31, 1it/s]"
     ]
    },
    {
     "name": "stdout",
     "output_type": "stream",
     "text": [
      "Academic license - for non-commercial use only - expires 2023-02-04\r\n"
     ]
    },
    {
     "name": "stderr",
     "output_type": "stream",
     "text": [
      "\n",
      "\u001b[1A\r29.0%┣████████████▊                               ┫ 148/511 [02:15<05:33, 1it/s]\n"
     ]
    },
    {
     "name": "stdout",
     "output_type": "stream",
     "text": [
      "Academic license - for non-commercial use only - expires 2023-02-04\r\n"
     ]
    },
    {
     "name": "stderr",
     "output_type": "stream",
     "text": [
      "\u001b[1A\r29.2%┣████████████▉                               ┫ 149/511 [02:20<05:41, 1it/s]"
     ]
    },
    {
     "name": "stdout",
     "output_type": "stream",
     "text": [
      "Academic license - for non-commercial use only - expires 2023-02-04\r\n"
     ]
    },
    {
     "name": "stderr",
     "output_type": "stream",
     "text": [
      "\n",
      "\u001b[1A\r29.4%┣█████████████                               ┫ 150/511 [02:23<05:46, 1it/s]\n"
     ]
    },
    {
     "name": "stdout",
     "output_type": "stream",
     "text": [
      "Academic license - for non-commercial use only - expires 2023-02-04\r\n"
     ]
    },
    {
     "name": "stderr",
     "output_type": "stream",
     "text": [
      "\u001b[1A\r29.5%┣█████████████                               ┫ 151/511 [02:26<05:51, 1it/s]\n"
     ]
    },
    {
     "name": "stdout",
     "output_type": "stream",
     "text": [
      "Academic license - for non-commercial use only - expires 2023-02-04\r\n"
     ]
    },
    {
     "name": "stderr",
     "output_type": "stream",
     "text": [
      "\u001b[1A\r29.7%┣█████████████                               ┫ 152/511 [02:30<05:57, 1it/s]\n"
     ]
    },
    {
     "name": "stdout",
     "output_type": "stream",
     "text": [
      "Academic license - for non-commercial use only - expires 2023-02-04\r\n"
     ]
    },
    {
     "name": "stderr",
     "output_type": "stream",
     "text": [
      "\u001b[1A\r29.9%┣█████████████▏                              ┫ 153/511 [02:36<06:07, 1s/it]\n"
     ]
    },
    {
     "name": "stdout",
     "output_type": "stream",
     "text": [
      "Academic license - for non-commercial use only - expires 2023-02-04\r\n"
     ]
    },
    {
     "name": "stderr",
     "output_type": "stream",
     "text": [
      "\u001b[1A\r30.1%┣█████████████▎                              ┫ 154/511 [02:40<06:14, 1s/it]"
     ]
    },
    {
     "name": "stdout",
     "output_type": "stream",
     "text": [
      "Academic license - for non-commercial use only - expires 2023-02-04\r\n"
     ]
    },
    {
     "name": "stderr",
     "output_type": "stream",
     "text": [
      "\n",
      "\u001b[1A\r30.3%┣█████████████▍                              ┫ 155/511 [02:46<06:23, 1s/it]\n"
     ]
    },
    {
     "name": "stdout",
     "output_type": "stream",
     "text": [
      "Academic license - for non-commercial use only - expires 2023-02-04\r\n"
     ]
    },
    {
     "name": "stderr",
     "output_type": "stream",
     "text": [
      "\u001b[1A\r30.5%┣█████████████▍                              ┫ 156/511 [02:48<06:24, 1s/it]"
     ]
    },
    {
     "name": "stdout",
     "output_type": "stream",
     "text": [
      "Academic license - for non-commercial use only - expires 2023-02-04\r\n"
     ]
    },
    {
     "name": "stderr",
     "output_type": "stream",
     "text": [
      "\n",
      "\u001b[1A\r30.7%┣█████████████▌                              ┫ 157/511 [02:52<06:30, 1s/it]\n"
     ]
    },
    {
     "name": "stdout",
     "output_type": "stream",
     "text": [
      "Academic license - for non-commercial use only - expires 2023-02-04\r\n"
     ]
    },
    {
     "name": "stderr",
     "output_type": "stream",
     "text": [
      "\u001b[1A\r30.9%┣█████████████▋                              ┫ 158/511 [02:54<06:32, 1s/it]"
     ]
    },
    {
     "name": "stdout",
     "output_type": "stream",
     "text": [
      "Academic license - for non-commercial use only - expires 2023-02-04\r\n"
     ]
    },
    {
     "name": "stderr",
     "output_type": "stream",
     "text": [
      "\n",
      "\u001b[1A\r31.1%┣█████████████▊                              ┫ 159/511 [02:57<06:35, 1s/it]"
     ]
    },
    {
     "name": "stdout",
     "output_type": "stream",
     "text": [
      "Academic license - for non-commercial use only - expires 2023-02-04\r\n"
     ]
    },
    {
     "name": "stderr",
     "output_type": "stream",
     "text": [
      "\n",
      "\u001b[1A\r31.3%┣█████████████▊                              ┫ 160/511 [03:01<06:39, 1s/it]"
     ]
    },
    {
     "name": "stdout",
     "output_type": "stream",
     "text": [
      "Academic license - for non-commercial use only - expires 2023-02-04\r\n"
     ]
    },
    {
     "name": "stderr",
     "output_type": "stream",
     "text": [
      "\n",
      "\u001b[1A\r31.5%┣█████████████▉                              ┫ 161/511 [03:03<06:40, 1s/it]\n"
     ]
    },
    {
     "name": "stdout",
     "output_type": "stream",
     "text": [
      "Academic license - for non-commercial use only - expires 2023-02-04\r\n"
     ]
    },
    {
     "name": "stderr",
     "output_type": "stream",
     "text": [
      "\u001b[1A\r31.7%┣██████████████                              ┫ 162/511 [03:06<06:43, 1s/it]"
     ]
    },
    {
     "name": "stdout",
     "output_type": "stream",
     "text": [
      "Academic license - for non-commercial use only - expires 2023-02-04\r\n"
     ]
    },
    {
     "name": "stderr",
     "output_type": "stream",
     "text": [
      "\n",
      "\u001b[1A\r31.9%┣██████████████                              ┫ 163/511 [03:10<06:48, 1s/it]"
     ]
    },
    {
     "name": "stdout",
     "output_type": "stream",
     "text": [
      "Academic license - for non-commercial use only - expires 2023-02-04\r\n"
     ]
    },
    {
     "name": "stderr",
     "output_type": "stream",
     "text": [
      "\n",
      "\u001b[1A\r32.1%┣██████████████▏                             ┫ 164/511 [03:14<06:54, 1s/it]"
     ]
    },
    {
     "name": "stdout",
     "output_type": "stream",
     "text": [
      "Academic license - for non-commercial use only - expires 2023-02-04\r\n"
     ]
    },
    {
     "name": "stderr",
     "output_type": "stream",
     "text": [
      "\n",
      "\u001b[1A\r32.3%┣██████████████▏                             ┫ 165/511 [03:18<06:58, 1s/it]\n"
     ]
    },
    {
     "name": "stdout",
     "output_type": "stream",
     "text": [
      "Academic license - for non-commercial use only - expires 2023-02-04\r\n"
     ]
    },
    {
     "name": "stderr",
     "output_type": "stream",
     "text": [
      "\u001b[1A\r32.5%┣██████████████▎                             ┫ 166/511 [03:22<07:01, 1s/it]"
     ]
    },
    {
     "name": "stdout",
     "output_type": "stream",
     "text": [
      "Academic license - for non-commercial use only - expires 2023-02-04\r\n"
     ]
    },
    {
     "name": "stderr",
     "output_type": "stream",
     "text": [
      "\n",
      "\u001b[1A\r32.7%┣██████████████▍                             ┫ 167/511 [03:26<07:06, 1s/it]"
     ]
    },
    {
     "name": "stdout",
     "output_type": "stream",
     "text": [
      "Academic license - for non-commercial use only - expires 2023-02-04\r\n"
     ]
    },
    {
     "name": "stderr",
     "output_type": "stream",
     "text": [
      "\n",
      "\u001b[1A\r32.9%┣██████████████▌                             ┫ 168/511 [03:28<07:07, 1s/it]\n"
     ]
    },
    {
     "name": "stdout",
     "output_type": "stream",
     "text": [
      "Academic license - for non-commercial use only - expires 2023-02-04\r\n"
     ]
    },
    {
     "name": "stderr",
     "output_type": "stream",
     "text": [
      "\u001b[1A\r33.1%┣██████████████▌                             ┫ 169/511 [03:31<07:10, 1s/it]\n"
     ]
    },
    {
     "name": "stdout",
     "output_type": "stream",
     "text": [
      "Academic license - for non-commercial use only - expires 2023-02-04\r\n"
     ]
    },
    {
     "name": "stderr",
     "output_type": "stream",
     "text": [
      "\u001b[1A\r33.3%┣██████████████▋                             ┫ 170/511 [03:37<07:17, 1s/it]"
     ]
    },
    {
     "name": "stdout",
     "output_type": "stream",
     "text": [
      "Academic license - for non-commercial use only - expires 2023-02-04\r\n"
     ]
    },
    {
     "name": "stderr",
     "output_type": "stream",
     "text": [
      "\n",
      "\u001b[1A\r33.5%┣██████████████▊                             ┫ 171/511 [03:40<07:19, 1s/it]\n"
     ]
    },
    {
     "name": "stdout",
     "output_type": "stream",
     "text": [
      "Academic license - for non-commercial use only - expires 2023-02-04\r\n"
     ]
    },
    {
     "name": "stderr",
     "output_type": "stream",
     "text": [
      "\u001b[1A\r33.7%┣██████████████▉                             ┫ 172/511 [03:44<07:24, 1s/it]"
     ]
    },
    {
     "name": "stdout",
     "output_type": "stream",
     "text": [
      "Academic license - for non-commercial use only - expires 2023-02-04\r\n"
     ]
    },
    {
     "name": "stderr",
     "output_type": "stream",
     "text": [
      "\n",
      "\u001b[1A\r33.9%┣███████████████                             ┫ 173/511 [03:49<07:30, 1s/it]"
     ]
    },
    {
     "name": "stdout",
     "output_type": "stream",
     "text": [
      "Academic license - for non-commercial use only - expires 2023-02-04\r\n"
     ]
    },
    {
     "name": "stderr",
     "output_type": "stream",
     "text": [
      "\n",
      "\u001b[1A\r34.1%┣███████████████                             ┫ 174/511 [03:54<07:36, 1s/it]"
     ]
    },
    {
     "name": "stdout",
     "output_type": "stream",
     "text": [
      "Academic license - for non-commercial use only - expires 2023-02-04\r\n"
     ]
    },
    {
     "name": "stderr",
     "output_type": "stream",
     "text": [
      "\n",
      "\u001b[1A\r34.2%┣███████████████                             ┫ 175/511 [03:57<07:38, 1s/it]\n"
     ]
    },
    {
     "name": "stdout",
     "output_type": "stream",
     "text": [
      "Academic license - for non-commercial use only - expires 2023-02-04\r\n"
     ]
    },
    {
     "name": "stderr",
     "output_type": "stream",
     "text": [
      "\u001b[1A\r34.4%┣███████████████▏                            ┫ 176/511 [03:59<07:38, 1s/it]\n"
     ]
    },
    {
     "name": "stdout",
     "output_type": "stream",
     "text": [
      "Academic license - for non-commercial use only - expires 2023-02-04\r\n"
     ]
    },
    {
     "name": "stderr",
     "output_type": "stream",
     "text": [
      "\u001b[1A\r34.6%┣███████████████▎                            ┫ 177/511 [04:01<07:36, 1s/it]\n"
     ]
    },
    {
     "name": "stdout",
     "output_type": "stream",
     "text": [
      "Academic license - for non-commercial use only - expires 2023-02-04\r\n"
     ]
    },
    {
     "name": "stderr",
     "output_type": "stream",
     "text": [
      "\u001b[1A\r34.8%┣███████████████▎                            ┫ 178/511 [04:03<07:38, 1s/it]"
     ]
    },
    {
     "name": "stdout",
     "output_type": "stream",
     "text": [
      "Academic license - for non-commercial use only - expires 2023-02-04\r\n"
     ]
    },
    {
     "name": "stderr",
     "output_type": "stream",
     "text": [
      "\n",
      "\u001b[1A\r35.0%┣███████████████▍                            ┫ 179/511 [04:05<07:38, 1s/it]\n"
     ]
    },
    {
     "name": "stdout",
     "output_type": "stream",
     "text": [
      "Academic license - for non-commercial use only - expires 2023-02-04\r\n"
     ]
    },
    {
     "name": "stderr",
     "output_type": "stream",
     "text": [
      "\u001b[1A\r35.2%┣███████████████▌                            ┫ 180/511 [04:09<07:40, 1s/it]"
     ]
    },
    {
     "name": "stdout",
     "output_type": "stream",
     "text": [
      "Academic license - for non-commercial use only - expires 2023-02-04\r\n"
     ]
    },
    {
     "name": "stderr",
     "output_type": "stream",
     "text": [
      "\n",
      "\u001b[1A\r35.4%┣███████████████▋                            ┫ 181/511 [04:12<07:42, 1s/it]\n"
     ]
    },
    {
     "name": "stdout",
     "output_type": "stream",
     "text": [
      "Academic license - for non-commercial use only - expires 2023-02-04\r\n"
     ]
    },
    {
     "name": "stderr",
     "output_type": "stream",
     "text": [
      "\u001b[1A\r35.6%┣███████████████▊                            ┫ 182/511 [04:14<07:42, 1s/it]"
     ]
    },
    {
     "name": "stdout",
     "output_type": "stream",
     "text": [
      "Academic license - for non-commercial use only - expires 2023-02-04\r\n"
     ]
    },
    {
     "name": "stderr",
     "output_type": "stream",
     "text": [
      "\n",
      "\u001b[1A\r35.8%┣███████████████▊                            ┫ 183/511 [04:18<07:45, 1s/it]"
     ]
    },
    {
     "name": "stdout",
     "output_type": "stream",
     "text": [
      "Academic license - for non-commercial use only - expires 2023-02-04\r\n"
     ]
    },
    {
     "name": "stderr",
     "output_type": "stream",
     "text": [
      "\n",
      "\u001b[1A\r36.0%┣███████████████▉                            ┫ 184/511 [04:21<07:46, 1s/it]"
     ]
    },
    {
     "name": "stdout",
     "output_type": "stream",
     "text": [
      "Academic license - for non-commercial use only - expires 2023-02-04\r\n"
     ]
    },
    {
     "name": "stderr",
     "output_type": "stream",
     "text": [
      "\n",
      "\u001b[1A\r36.2%┣████████████████                            ┫ 185/511 [04:26<07:51, 1s/it]\n",
      "\u001b[1A\r40.1%┣█████████████████▋                          ┫ 205/511 [04:26<06:39, 1s/it]\n"
     ]
    },
    {
     "name": "stderr",
     "output_type": "stream",
     "text": [
      "\u001b[1A\r43.8%┣███████████████████▎                        ┫ 224/511 [04:26<05:42, 1s/it]\n",
      "\u001b[1A\r47.7%┣█████████████████████                       ┫ 244/511 [04:26<04:52, 1s/it]\n"
     ]
    },
    {
     "name": "stdout",
     "output_type": "stream",
     "text": [
      "Academic license - for non-commercial use only - expires 2023-02-04\r\n"
     ]
    },
    {
     "name": "stderr",
     "output_type": "stream",
     "text": [
      "\u001b[1A\r50.1%┣██████████████████████                      ┫ 256/511 [04:30<04:30, 1s/it]"
     ]
    },
    {
     "name": "stdout",
     "output_type": "stream",
     "text": [
      "Academic license - for non-commercial use only - expires 2023-02-04\r\n"
     ]
    },
    {
     "name": "stderr",
     "output_type": "stream",
     "text": [
      "\n",
      "\u001b[1A\r50.3%┣██████████████████████▏                     ┫ 257/511 [04:35<04:33, 1s/it]\n"
     ]
    },
    {
     "name": "stdout",
     "output_type": "stream",
     "text": [
      "Academic license - for non-commercial use only - expires 2023-02-04\r\n"
     ]
    },
    {
     "name": "stderr",
     "output_type": "stream",
     "text": [
      "\u001b[1A\r50.5%┣██████████████████████▏                     ┫ 258/511 [04:44<04:40, 1s/it]"
     ]
    },
    {
     "name": "stdout",
     "output_type": "stream",
     "text": [
      "Academic license - for non-commercial use only - expires 2023-02-04\r\n"
     ]
    },
    {
     "name": "stderr",
     "output_type": "stream",
     "text": [
      "\n",
      "\u001b[1A\r50.7%┣██████████████████████▎                     ┫ 259/511 [04:49<04:42, 1s/it]"
     ]
    },
    {
     "name": "stdout",
     "output_type": "stream",
     "text": [
      "Academic license - for non-commercial use only - expires 2023-02-04\r\n"
     ]
    },
    {
     "name": "stderr",
     "output_type": "stream",
     "text": [
      "\n",
      "\u001b[1A\r50.9%┣██████████████████████▍                     ┫ 260/511 [04:56<04:46, 1s/it]"
     ]
    },
    {
     "name": "stdout",
     "output_type": "stream",
     "text": [
      "Academic license - for non-commercial use only - expires 2023-02-04\r\n"
     ]
    },
    {
     "name": "stderr",
     "output_type": "stream",
     "text": [
      "\n",
      "\u001b[1A\r51.1%┣██████████████████████▌                     ┫ 261/511 [05:00<04:48, 1s/it]"
     ]
    },
    {
     "name": "stdout",
     "output_type": "stream",
     "text": [
      "Academic license - for non-commercial use only - expires 2023-02-04\r\n"
     ]
    },
    {
     "name": "stderr",
     "output_type": "stream",
     "text": [
      "\n",
      "\u001b[1A\r51.3%┣██████████████████████▋                     ┫ 262/511 [05:06<04:52, 1s/it]\n"
     ]
    },
    {
     "name": "stdout",
     "output_type": "stream",
     "text": [
      "Academic license - for non-commercial use only - expires 2023-02-04\r\n"
     ]
    },
    {
     "name": "stderr",
     "output_type": "stream",
     "text": [
      "\u001b[1A\r51.5%┣██████████████████████▋                     ┫ 263/511 [05:09<04:52, 1s/it]\n"
     ]
    },
    {
     "name": "stdout",
     "output_type": "stream",
     "text": [
      "Academic license - for non-commercial use only - expires 2023-02-04\r\n"
     ]
    },
    {
     "name": "stderr",
     "output_type": "stream",
     "text": [
      "\u001b[1A\r51.7%┣██████████████████████▊                     ┫ 264/511 [05:15<04:56, 1s/it]\n"
     ]
    },
    {
     "name": "stdout",
     "output_type": "stream",
     "text": [
      "Academic license - for non-commercial use only - expires 2023-02-04\r\n"
     ]
    },
    {
     "name": "stderr",
     "output_type": "stream",
     "text": [
      "\u001b[1A\r51.9%┣██████████████████████▉                     ┫ 265/511 [05:20<04:59, 1s/it]"
     ]
    },
    {
     "name": "stdout",
     "output_type": "stream",
     "text": [
      "Academic license - for non-commercial use only - expires 2023-02-04\r\n"
     ]
    },
    {
     "name": "stderr",
     "output_type": "stream",
     "text": [
      "\n",
      "\u001b[1A\r52.1%┣███████████████████████                     ┫ 266/511 [05:23<04:59, 1s/it]\n"
     ]
    },
    {
     "name": "stdout",
     "output_type": "stream",
     "text": [
      "Academic license - for non-commercial use only - expires 2023-02-04\r\n"
     ]
    },
    {
     "name": "stderr",
     "output_type": "stream",
     "text": [
      "\u001b[1A\r52.3%┣███████████████████████                     ┫ 267/511 [05:28<05:01, 1s/it]"
     ]
    },
    {
     "name": "stdout",
     "output_type": "stream",
     "text": [
      "Academic license - for non-commercial use only - expires 2023-02-04\r\n"
     ]
    },
    {
     "name": "stderr",
     "output_type": "stream",
     "text": [
      "\n",
      "\u001b[1A\r52.4%┣███████████████████████                     ┫ 268/511 [05:33<05:03, 1s/it]"
     ]
    },
    {
     "name": "stdout",
     "output_type": "stream",
     "text": [
      "Academic license - for non-commercial use only - expires 2023-02-04\r\n"
     ]
    },
    {
     "name": "stderr",
     "output_type": "stream",
     "text": [
      "\n",
      "\u001b[1A\r52.6%┣███████████████████████▏                    ┫ 269/511 [05:39<05:06, 1s/it]\n"
     ]
    },
    {
     "name": "stdout",
     "output_type": "stream",
     "text": [
      "Academic license - for non-commercial use only - expires 2023-02-04\r\n"
     ]
    },
    {
     "name": "stderr",
     "output_type": "stream",
     "text": [
      "\u001b[1A\r52.8%┣███████████████████████▎                    ┫ 270/511 [05:44<05:08, 1s/it]\n"
     ]
    },
    {
     "name": "stdout",
     "output_type": "stream",
     "text": [
      "Academic license - for non-commercial use only - expires 2023-02-04\r\n"
     ]
    },
    {
     "name": "stderr",
     "output_type": "stream",
     "text": [
      "\u001b[1A\r53.0%┣███████████████████████▍                    ┫ 271/511 [05:46<05:08, 1s/it]"
     ]
    },
    {
     "name": "stdout",
     "output_type": "stream",
     "text": [
      "Academic license - for non-commercial use only - expires 2023-02-04\r\n"
     ]
    },
    {
     "name": "stderr",
     "output_type": "stream",
     "text": [
      "\n",
      "\u001b[1A\r53.2%┣███████████████████████▍                    ┫ 272/511 [05:51<05:09, 1s/it]\n"
     ]
    },
    {
     "name": "stdout",
     "output_type": "stream",
     "text": [
      "Academic license - for non-commercial use only - expires 2023-02-04\r\n"
     ]
    },
    {
     "name": "stderr",
     "output_type": "stream",
     "text": [
      "\u001b[1A\r53.4%┣███████████████████████▌                    ┫ 273/511 [05:54<05:10, 1s/it]"
     ]
    },
    {
     "name": "stdout",
     "output_type": "stream",
     "text": [
      "Academic license - for non-commercial use only - expires 2023-02-04\r\n"
     ]
    },
    {
     "name": "stderr",
     "output_type": "stream",
     "text": [
      "\n",
      "\u001b[1A\r53.6%┣███████████████████████▋                    ┫ 274/511 [05:58<05:11, 1s/it]\n"
     ]
    },
    {
     "name": "stdout",
     "output_type": "stream",
     "text": [
      "Academic license - for non-commercial use only - expires 2023-02-04\r\n"
     ]
    },
    {
     "name": "stderr",
     "output_type": "stream",
     "text": [
      "\u001b[1A\r53.8%┣███████████████████████▊                    ┫ 275/511 [06:03<05:12, 1s/it]\n"
     ]
    },
    {
     "name": "stdout",
     "output_type": "stream",
     "text": [
      "Academic license - for non-commercial use only - expires 2023-02-04\r\n"
     ]
    },
    {
     "name": "stderr",
     "output_type": "stream",
     "text": [
      "\u001b[1A\r54.0%┣███████████████████████▊                    ┫ 276/511 [06:06<05:12, 1s/it]\n"
     ]
    },
    {
     "name": "stdout",
     "output_type": "stream",
     "text": [
      "Academic license - for non-commercial use only - expires 2023-02-04\r\n"
     ]
    },
    {
     "name": "stderr",
     "output_type": "stream",
     "text": [
      "\u001b[1A\r54.2%┣███████████████████████▉                    ┫ 277/511 [06:11<05:15, 1s/it]\n"
     ]
    },
    {
     "name": "stdout",
     "output_type": "stream",
     "text": [
      "Academic license - for non-commercial use only - expires 2023-02-04\r\n"
     ]
    },
    {
     "name": "stderr",
     "output_type": "stream",
     "text": [
      "\u001b[1A\r54.4%┣████████████████████████                    ┫ 278/511 [06:16<05:16, 1s/it]"
     ]
    },
    {
     "name": "stdout",
     "output_type": "stream",
     "text": [
      "Academic license - for non-commercial use only - expires 2023-02-04\r\n"
     ]
    },
    {
     "name": "stderr",
     "output_type": "stream",
     "text": [
      "\n",
      "\u001b[1A\r54.6%┣████████████████████████                    ┫ 279/511 [06:22<05:19, 1s/it]\n"
     ]
    },
    {
     "name": "stdout",
     "output_type": "stream",
     "text": [
      "Academic license - for non-commercial use only - expires 2023-02-04\r\n"
     ]
    },
    {
     "name": "stderr",
     "output_type": "stream",
     "text": [
      "\u001b[1A\r54.8%┣████████████████████████                    ┫ 280/511 [06:26<05:20, 1s/it]"
     ]
    },
    {
     "name": "stdout",
     "output_type": "stream",
     "text": [
      "Academic license - for non-commercial use only - expires 2023-02-04\r\n"
     ]
    },
    {
     "name": "stderr",
     "output_type": "stream",
     "text": [
      "\n",
      "\u001b[1A\r55.0%┣████████████████████████▏                   ┫ 281/511 [06:29<05:19, 1s/it]\n"
     ]
    },
    {
     "name": "stdout",
     "output_type": "stream",
     "text": [
      "Academic license - for non-commercial use only - expires 2023-02-04\r\n"
     ]
    },
    {
     "name": "stderr",
     "output_type": "stream",
     "text": [
      "\u001b[1A\r55.2%┣████████████████████████▎                   ┫ 282/511 [06:31<05:18, 1s/it]"
     ]
    },
    {
     "name": "stdout",
     "output_type": "stream",
     "text": [
      "Academic license - for non-commercial use only - expires 2023-02-04\r\n"
     ]
    },
    {
     "name": "stderr",
     "output_type": "stream",
     "text": [
      "\n",
      "\u001b[1A\r55.4%┣████████████████████████▍                   ┫ 283/511 [06:35<05:19, 1s/it]"
     ]
    },
    {
     "name": "stdout",
     "output_type": "stream",
     "text": [
      "Academic license - for non-commercial use only - expires 2023-02-04\r\n"
     ]
    },
    {
     "name": "stderr",
     "output_type": "stream",
     "text": [
      "\n",
      "\u001b[1A\r55.6%┣████████████████████████▌                   ┫ 284/511 [06:39<05:20, 1s/it]\n"
     ]
    },
    {
     "name": "stdout",
     "output_type": "stream",
     "text": [
      "Academic license - for non-commercial use only - expires 2023-02-04\r\n"
     ]
    },
    {
     "name": "stderr",
     "output_type": "stream",
     "text": [
      "\u001b[1A\r55.8%┣████████████████████████▌                   ┫ 285/511 [06:45<05:22, 1s/it]"
     ]
    },
    {
     "name": "stdout",
     "output_type": "stream",
     "text": [
      "Academic license - for non-commercial use only - expires 2023-02-04\r\n"
     ]
    },
    {
     "name": "stderr",
     "output_type": "stream",
     "text": [
      "\n",
      "\u001b[1A\r56.0%┣████████████████████████▋                   ┫ 286/511 [06:49<05:23, 1s/it]"
     ]
    },
    {
     "name": "stdout",
     "output_type": "stream",
     "text": [
      "Academic license - for non-commercial use only - expires 2023-02-04\r\n"
     ]
    },
    {
     "name": "stderr",
     "output_type": "stream",
     "text": [
      "\n",
      "\u001b[1A\r56.2%┣████████████████████████▊                   ┫ 287/511 [06:51<05:22, 1s/it]\n"
     ]
    },
    {
     "name": "stdout",
     "output_type": "stream",
     "text": [
      "Academic license - for non-commercial use only - expires 2023-02-04\r\n"
     ]
    },
    {
     "name": "stderr",
     "output_type": "stream",
     "text": [
      "\u001b[1A\r56.4%┣████████████████████████▉                   ┫ 288/511 [06:58<05:25, 1s/it]\n"
     ]
    },
    {
     "name": "stdout",
     "output_type": "stream",
     "text": [
      "Academic license - for non-commercial use only - expires 2023-02-04\r\n"
     ]
    },
    {
     "name": "stderr",
     "output_type": "stream",
     "text": [
      "\u001b[1A\r56.6%┣████████████████████████▉                   ┫ 289/511 [07:01<05:24, 1s/it]\n"
     ]
    },
    {
     "name": "stdout",
     "output_type": "stream",
     "text": [
      "Academic license - for non-commercial use only - expires 2023-02-04\r\n"
     ]
    },
    {
     "name": "stderr",
     "output_type": "stream",
     "text": [
      "\u001b[1A\r56.8%┣█████████████████████████                   ┫ 290/511 [07:07<05:26, 1s/it]"
     ]
    },
    {
     "name": "stdout",
     "output_type": "stream",
     "text": [
      "Academic license - for non-commercial use only - expires 2023-02-04\r\n"
     ]
    },
    {
     "name": "stderr",
     "output_type": "stream",
     "text": [
      "\n",
      "\u001b[1A\r56.9%┣█████████████████████████                   ┫ 291/511 [07:10<05:26, 1s/it]\n"
     ]
    },
    {
     "name": "stdout",
     "output_type": "stream",
     "text": [
      "Academic license - for non-commercial use only - expires 2023-02-04\r\n"
     ]
    },
    {
     "name": "stderr",
     "output_type": "stream",
     "text": [
      "\u001b[1A\r57.1%┣█████████████████████████▏                  ┫ 292/511 [07:17<05:29, 2s/it]"
     ]
    },
    {
     "name": "stdout",
     "output_type": "stream",
     "text": [
      "Academic license - for non-commercial use only - expires 2023-02-04\r\n"
     ]
    },
    {
     "name": "stderr",
     "output_type": "stream",
     "text": [
      "\n",
      "\u001b[1A\r57.3%┣█████████████████████████▎                  ┫ 293/511 [07:22<05:30, 2s/it]"
     ]
    },
    {
     "name": "stdout",
     "output_type": "stream",
     "text": [
      "Academic license - for non-commercial use only - expires 2023-02-04\r\n"
     ]
    },
    {
     "name": "stderr",
     "output_type": "stream",
     "text": [
      "\n",
      "\u001b[1A\r57.5%┣█████████████████████████▎                  ┫ 294/511 [07:28<05:31, 2s/it]"
     ]
    },
    {
     "name": "stdout",
     "output_type": "stream",
     "text": [
      "Academic license - for non-commercial use only - expires 2023-02-04\r\n"
     ]
    },
    {
     "name": "stderr",
     "output_type": "stream",
     "text": [
      "\n",
      "\u001b[1A\r57.7%┣█████████████████████████▍                  ┫ 295/511 [07:34<05:33, 2s/it]"
     ]
    },
    {
     "name": "stdout",
     "output_type": "stream",
     "text": [
      "Academic license - for non-commercial use only - expires 2023-02-04\r\n"
     ]
    },
    {
     "name": "stderr",
     "output_type": "stream",
     "text": [
      "\n",
      "\u001b[1A\r57.9%┣█████████████████████████▌                  ┫ 296/511 [07:39<05:34, 2s/it]\n"
     ]
    },
    {
     "name": "stdout",
     "output_type": "stream",
     "text": [
      "Academic license - for non-commercial use only - expires 2023-02-04\r\n"
     ]
    },
    {
     "name": "stderr",
     "output_type": "stream",
     "text": [
      "\u001b[1A\r58.1%┣█████████████████████████▋                  ┫ 297/511 [07:44<05:35, 2s/it]\n"
     ]
    },
    {
     "name": "stdout",
     "output_type": "stream",
     "text": [
      "Academic license - for non-commercial use only - expires 2023-02-04\r\n"
     ]
    },
    {
     "name": "stderr",
     "output_type": "stream",
     "text": [
      "\u001b[1A\r58.3%┣█████████████████████████▋                  ┫ 298/511 [07:49<05:36, 2s/it]\n"
     ]
    },
    {
     "name": "stdout",
     "output_type": "stream",
     "text": [
      "Academic license - for non-commercial use only - expires 2023-02-04\r\n"
     ]
    },
    {
     "name": "stderr",
     "output_type": "stream",
     "text": [
      "\u001b[1A\r58.5%┣█████████████████████████▊                  ┫ 299/511 [07:56<05:39, 2s/it]\n"
     ]
    },
    {
     "name": "stdout",
     "output_type": "stream",
     "text": [
      "Academic license - for non-commercial use only - expires 2023-02-04\r\n"
     ]
    },
    {
     "name": "stderr",
     "output_type": "stream",
     "text": [
      "\u001b[1A\r58.7%┣█████████████████████████▉                  ┫ 300/511 [08:01<05:39, 2s/it]"
     ]
    },
    {
     "name": "stdout",
     "output_type": "stream",
     "text": [
      "Academic license - for non-commercial use only - expires 2023-02-04\r\n"
     ]
    },
    {
     "name": "stderr",
     "output_type": "stream",
     "text": [
      "\n",
      "\u001b[1A\r58.9%┣██████████████████████████                  ┫ 301/511 [08:05<05:40, 2s/it]\n"
     ]
    },
    {
     "name": "stdout",
     "output_type": "stream",
     "text": [
      "Academic license - for non-commercial use only - expires 2023-02-04\r\n"
     ]
    },
    {
     "name": "stderr",
     "output_type": "stream",
     "text": [
      "\u001b[1A\r59.1%┣██████████████████████████                  ┫ 302/511 [08:08<05:39, 2s/it]"
     ]
    },
    {
     "name": "stdout",
     "output_type": "stream",
     "text": [
      "Academic license - for non-commercial use only - expires 2023-02-04\r\n"
     ]
    },
    {
     "name": "stderr",
     "output_type": "stream",
     "text": [
      "\n",
      "\u001b[1A\r59.3%┣██████████████████████████                  ┫ 303/511 [08:14<05:40, 2s/it]\n"
     ]
    },
    {
     "name": "stdout",
     "output_type": "stream",
     "text": [
      "Academic license - for non-commercial use only - expires 2023-02-04\r\n"
     ]
    },
    {
     "name": "stderr",
     "output_type": "stream",
     "text": [
      "\u001b[1A\r59.5%┣██████████████████████████▏                 ┫ 304/511 [08:18<05:41, 2s/it]"
     ]
    },
    {
     "name": "stdout",
     "output_type": "stream",
     "text": [
      "Academic license - for non-commercial use only - expires 2023-02-04\r\n"
     ]
    },
    {
     "name": "stderr",
     "output_type": "stream",
     "text": [
      "\n",
      "\u001b[1A\r59.7%┣██████████████████████████▎                 ┫ 305/511 [08:25<05:42, 2s/it]\n"
     ]
    },
    {
     "name": "stdout",
     "output_type": "stream",
     "text": [
      "Academic license - for non-commercial use only - expires 2023-02-04\r\n"
     ]
    },
    {
     "name": "stderr",
     "output_type": "stream",
     "text": [
      "\u001b[1A\r59.9%┣██████████████████████████▍                 ┫ 306/511 [08:31<05:43, 2s/it]\n"
     ]
    },
    {
     "name": "stdout",
     "output_type": "stream",
     "text": [
      "Academic license - for non-commercial use only - expires 2023-02-04\r\n"
     ]
    },
    {
     "name": "stderr",
     "output_type": "stream",
     "text": [
      "\u001b[1A\r60.1%┣██████████████████████████▍                 ┫ 307/511 [08:34<05:43, 2s/it]\n"
     ]
    },
    {
     "name": "stdout",
     "output_type": "stream",
     "text": [
      "Academic license - for non-commercial use only - expires 2023-02-04\r\n"
     ]
    },
    {
     "name": "stderr",
     "output_type": "stream",
     "text": [
      "\u001b[1A\r60.3%┣██████████████████████████▌                 ┫ 308/511 [08:40<05:44, 2s/it]"
     ]
    },
    {
     "name": "stdout",
     "output_type": "stream",
     "text": [
      "Academic license - for non-commercial use only - expires 2023-02-04\r\n"
     ]
    },
    {
     "name": "stderr",
     "output_type": "stream",
     "text": [
      "\n",
      "\u001b[1A\r60.5%┣██████████████████████████▋                 ┫ 309/511 [08:44<05:44, 2s/it]\n"
     ]
    },
    {
     "name": "stdout",
     "output_type": "stream",
     "text": [
      "Academic license - for non-commercial use only - expires 2023-02-04\r\n"
     ]
    },
    {
     "name": "stderr",
     "output_type": "stream",
     "text": [
      "\u001b[1A\r60.7%┣██████████████████████████▊                 ┫ 310/511 [08:50<05:45, 2s/it]"
     ]
    },
    {
     "name": "stdout",
     "output_type": "stream",
     "text": [
      "Academic license - for non-commercial use only - expires 2023-02-04\r\n"
     ]
    },
    {
     "name": "stderr",
     "output_type": "stream",
     "text": [
      "\n",
      "\u001b[1A\r60.9%┣██████████████████████████▉                 ┫ 311/511 [08:55<05:45, 2s/it]"
     ]
    },
    {
     "name": "stdout",
     "output_type": "stream",
     "text": [
      "Academic license - for non-commercial use only - expires 2023-02-04\r\n"
     ]
    },
    {
     "name": "stderr",
     "output_type": "stream",
     "text": [
      "\n",
      "\u001b[1A\r61.1%┣██████████████████████████▉                 ┫ 312/511 [08:58<05:44, 2s/it]"
     ]
    },
    {
     "name": "stdout",
     "output_type": "stream",
     "text": [
      "Academic license - for non-commercial use only - expires 2023-02-04\r\n"
     ]
    },
    {
     "name": "stderr",
     "output_type": "stream",
     "text": [
      "\n",
      "\u001b[1A\r61.3%┣███████████████████████████                 ┫ 313/511 [09:03<05:44, 2s/it]"
     ]
    },
    {
     "name": "stdout",
     "output_type": "stream",
     "text": [
      "Academic license - for non-commercial use only - expires 2023-02-04\r\n"
     ]
    },
    {
     "name": "stderr",
     "output_type": "stream",
     "text": [
      "\n",
      "\u001b[1A\r61.4%┣███████████████████████████                 ┫ 314/511 [09:08<05:45, 2s/it]"
     ]
    },
    {
     "name": "stdout",
     "output_type": "stream",
     "text": [
      "Academic license - for non-commercial use only - expires 2023-02-04\r\n"
     ]
    },
    {
     "name": "stderr",
     "output_type": "stream",
     "text": [
      "\n",
      "\u001b[1A\r61.6%┣███████████████████████████▏                ┫ 315/511 [09:14<05:46, 2s/it]\n"
     ]
    },
    {
     "name": "stdout",
     "output_type": "stream",
     "text": [
      "Academic license - for non-commercial use only - expires 2023-02-04\r\n"
     ]
    },
    {
     "name": "stderr",
     "output_type": "stream",
     "text": [
      "\u001b[1A\r61.8%┣███████████████████████████▏                ┫ 316/511 [09:19<05:46, 2s/it]"
     ]
    },
    {
     "name": "stdout",
     "output_type": "stream",
     "text": [
      "Academic license - for non-commercial use only - expires 2023-02-04\r\n"
     ]
    },
    {
     "name": "stderr",
     "output_type": "stream",
     "text": [
      "\n",
      "\u001b[1A\r62.0%┣███████████████████████████▎                ┫ 317/511 [09:23<05:45, 2s/it]\n"
     ]
    },
    {
     "name": "stdout",
     "output_type": "stream",
     "text": [
      "Academic license - for non-commercial use only - expires 2023-02-04\r\n"
     ]
    },
    {
     "name": "stderr",
     "output_type": "stream",
     "text": [
      "\u001b[1A\r62.2%┣███████████████████████████▍                ┫ 318/511 [09:29<05:46, 2s/it]"
     ]
    },
    {
     "name": "stdout",
     "output_type": "stream",
     "text": [
      "Academic license - for non-commercial use only - expires 2023-02-04\r\n"
     ]
    },
    {
     "name": "stderr",
     "output_type": "stream",
     "text": [
      "\n",
      "\u001b[1A\r62.4%┣███████████████████████████▌                ┫ 319/511 [09:33<05:46, 2s/it]\n"
     ]
    },
    {
     "name": "stdout",
     "output_type": "stream",
     "text": [
      "Academic license - for non-commercial use only - expires 2023-02-04\r\n"
     ]
    },
    {
     "name": "stderr",
     "output_type": "stream",
     "text": [
      "\u001b[1A\r62.6%┣███████████████████████████▌                ┫ 320/511 [09:37<05:46, 2s/it]"
     ]
    },
    {
     "name": "stdout",
     "output_type": "stream",
     "text": [
      "Academic license - for non-commercial use only - expires 2023-02-04\r\n"
     ]
    },
    {
     "name": "stderr",
     "output_type": "stream",
     "text": [
      "\n",
      "\u001b[1A\r62.8%┣███████████████████████████▋                ┫ 321/511 [09:40<05:44, 2s/it]\n"
     ]
    },
    {
     "name": "stdout",
     "output_type": "stream",
     "text": [
      "Academic license - for non-commercial use only - expires 2023-02-04\r\n"
     ]
    },
    {
     "name": "stderr",
     "output_type": "stream",
     "text": [
      "\u001b[1A\r63.0%┣███████████████████████████▊                ┫ 322/511 [09:45<05:44, 2s/it]"
     ]
    },
    {
     "name": "stdout",
     "output_type": "stream",
     "text": [
      "Academic license - for non-commercial use only - expires 2023-02-04\r\n"
     ]
    },
    {
     "name": "stderr",
     "output_type": "stream",
     "text": [
      "\n",
      "\u001b[1A\r63.2%┣███████████████████████████▉                ┫ 323/511 [09:48<05:43, 2s/it]\n"
     ]
    },
    {
     "name": "stdout",
     "output_type": "stream",
     "text": [
      "Academic license - for non-commercial use only - expires 2023-02-04\r\n"
     ]
    },
    {
     "name": "stderr",
     "output_type": "stream",
     "text": [
      "\u001b[1A\r63.4%┣████████████████████████████                ┫ 324/511 [09:52<05:43, 2s/it]"
     ]
    },
    {
     "name": "stdout",
     "output_type": "stream",
     "text": [
      "Academic license - for non-commercial use only - expires 2023-02-04\r\n"
     ]
    },
    {
     "name": "stderr",
     "output_type": "stream",
     "text": [
      "\n",
      "\u001b[1A\r63.6%┣████████████████████████████                ┫ 325/511 [09:57<05:43, 2s/it]\n",
      "\u001b[1A\r66.7%┣█████████████████████████████▍              ┫ 341/511 [09:57<04:59, 2s/it]\n"
     ]
    },
    {
     "name": "stderr",
     "output_type": "stream",
     "text": [
      "\u001b[1A\r69.5%┣██████████████████████████████▋             ┫ 355/511 [09:57<04:23, 2s/it]\n",
      "\u001b[1A\r72.2%┣███████████████████████████████▊            ┫ 369/511 [09:57<03:50, 2s/it]\n"
     ]
    },
    {
     "name": "stderr",
     "output_type": "stream",
     "text": [
      "\u001b[1A\r74.6%┣████████████████████████████████▉           ┫ 381/511 [09:57<03:24, 2s/it]"
     ]
    },
    {
     "name": "stdout",
     "output_type": "stream",
     "text": [
      "Academic license - for non-commercial use only - expires 2023-02-04\r\n"
     ]
    },
    {
     "name": "stderr",
     "output_type": "stream",
     "text": [
      "\n",
      "\u001b[1A\r74.8%┣█████████████████████████████████           ┫ 382/511 [10:02<03:24, 2s/it]"
     ]
    },
    {
     "name": "stdout",
     "output_type": "stream",
     "text": [
      "Academic license - for non-commercial use only - expires 2023-02-04\r\n"
     ]
    },
    {
     "name": "stderr",
     "output_type": "stream",
     "text": [
      "\n",
      "\u001b[1A\r75.0%┣█████████████████████████████████           ┫ 383/511 [10:08<03:24, 2s/it]\n"
     ]
    },
    {
     "name": "stdout",
     "output_type": "stream",
     "text": [
      "Academic license - for non-commercial use only - expires 2023-02-04\r\n"
     ]
    },
    {
     "name": "stderr",
     "output_type": "stream",
     "text": [
      "\u001b[1A\r75.1%┣█████████████████████████████████           ┫ 384/511 [10:13<03:23, 2s/it]\n"
     ]
    },
    {
     "name": "stdout",
     "output_type": "stream",
     "text": [
      "Academic license - for non-commercial use only - expires 2023-02-04\r\n"
     ]
    },
    {
     "name": "stderr",
     "output_type": "stream",
     "text": [
      "\u001b[1A\r75.3%┣█████████████████████████████████▏          ┫ 385/511 [10:19<03:23, 2s/it]\n"
     ]
    },
    {
     "name": "stdout",
     "output_type": "stream",
     "text": [
      "Academic license - for non-commercial use only - expires 2023-02-04\r\n"
     ]
    },
    {
     "name": "stderr",
     "output_type": "stream",
     "text": [
      "\u001b[1A\r75.5%┣█████████████████████████████████▎          ┫ 386/511 [10:25<03:23, 2s/it]"
     ]
    },
    {
     "name": "stdout",
     "output_type": "stream",
     "text": [
      "Academic license - for non-commercial use only - expires 2023-02-04\r\n"
     ]
    },
    {
     "name": "stderr",
     "output_type": "stream",
     "text": [
      "\n",
      "\u001b[1A\r75.7%┣█████████████████████████████████▎          ┫ 387/511 [10:30<03:22, 2s/it]"
     ]
    },
    {
     "name": "stdout",
     "output_type": "stream",
     "text": [
      "Academic license - for non-commercial use only - expires 2023-02-04\r\n"
     ]
    },
    {
     "name": "stderr",
     "output_type": "stream",
     "text": [
      "\n",
      "\u001b[1A\r75.9%┣█████████████████████████████████▍          ┫ 388/511 [10:36<03:22, 2s/it]"
     ]
    },
    {
     "name": "stdout",
     "output_type": "stream",
     "text": [
      "Academic license - for non-commercial use only - expires 2023-02-04\r\n"
     ]
    },
    {
     "name": "stderr",
     "output_type": "stream",
     "text": [
      "\n",
      "\u001b[1A\r76.1%┣█████████████████████████████████▌          ┫ 389/511 [10:44<03:23, 2s/it]"
     ]
    },
    {
     "name": "stdout",
     "output_type": "stream",
     "text": [
      "Academic license - for non-commercial use only - expires 2023-02-04\r\n"
     ]
    },
    {
     "name": "stderr",
     "output_type": "stream",
     "text": [
      "\n",
      "\u001b[1A\r76.3%┣█████████████████████████████████▋          ┫ 390/511 [10:51<03:22, 2s/it]\n"
     ]
    },
    {
     "name": "stdout",
     "output_type": "stream",
     "text": [
      "Academic license - for non-commercial use only - expires 2023-02-04\r\n"
     ]
    },
    {
     "name": "stderr",
     "output_type": "stream",
     "text": [
      "\u001b[1A\r76.5%┣█████████████████████████████████▊          ┫ 391/511 [10:56<03:22, 2s/it]\n"
     ]
    },
    {
     "name": "stdout",
     "output_type": "stream",
     "text": [
      "Academic license - for non-commercial use only - expires 2023-02-04\r\n"
     ]
    },
    {
     "name": "stderr",
     "output_type": "stream",
     "text": [
      "\u001b[1A\r76.7%┣█████████████████████████████████▊          ┫ 392/511 [11:00<03:21, 2s/it]\n"
     ]
    },
    {
     "name": "stdout",
     "output_type": "stream",
     "text": [
      "Academic license - for non-commercial use only - expires 2023-02-04\r\n"
     ]
    },
    {
     "name": "stderr",
     "output_type": "stream",
     "text": [
      "\u001b[1A\r76.9%┣█████████████████████████████████▉          ┫ 393/511 [11:03<03:20, 2s/it]"
     ]
    },
    {
     "name": "stdout",
     "output_type": "stream",
     "text": [
      "Academic license - for non-commercial use only - expires 2023-02-04\r\n"
     ]
    },
    {
     "name": "stderr",
     "output_type": "stream",
     "text": [
      "\n",
      "\u001b[1A\r77.1%┣██████████████████████████████████          ┫ 394/511 [11:08<03:19, 2s/it]\n"
     ]
    },
    {
     "name": "stdout",
     "output_type": "stream",
     "text": [
      "Academic license - for non-commercial use only - expires 2023-02-04\r\n"
     ]
    },
    {
     "name": "stderr",
     "output_type": "stream",
     "text": [
      "\u001b[1A\r77.3%┣██████████████████████████████████          ┫ 395/511 [11:13<03:18, 2s/it]"
     ]
    },
    {
     "name": "stdout",
     "output_type": "stream",
     "text": [
      "Academic license - for non-commercial use only - expires 2023-02-04\r\n"
     ]
    },
    {
     "name": "stderr",
     "output_type": "stream",
     "text": [
      "\n",
      "\u001b[1A\r77.5%┣██████████████████████████████████          ┫ 396/511 [11:20<03:18, 2s/it]"
     ]
    },
    {
     "name": "stdout",
     "output_type": "stream",
     "text": [
      "Academic license - for non-commercial use only - expires 2023-02-04\r\n"
     ]
    },
    {
     "name": "stderr",
     "output_type": "stream",
     "text": [
      "\n",
      "\u001b[1A\r77.7%┣██████████████████████████████████▏         ┫ 397/511 [11:25<03:17, 2s/it]"
     ]
    },
    {
     "name": "stdout",
     "output_type": "stream",
     "text": [
      "Academic license - for non-commercial use only - expires 2023-02-04\r\n"
     ]
    },
    {
     "name": "stderr",
     "output_type": "stream",
     "text": [
      "\n",
      "\u001b[1A\r77.9%┣██████████████████████████████████▎         ┫ 398/511 [11:28<03:16, 2s/it]\n"
     ]
    },
    {
     "name": "stdout",
     "output_type": "stream",
     "text": [
      "Academic license - for non-commercial use only - expires 2023-02-04\r\n"
     ]
    },
    {
     "name": "stderr",
     "output_type": "stream",
     "text": [
      "\u001b[1A\r78.1%┣██████████████████████████████████▍         ┫ 399/511 [11:35<03:16, 2s/it]"
     ]
    },
    {
     "name": "stdout",
     "output_type": "stream",
     "text": [
      "Academic license - for non-commercial use only - expires 2023-02-04\r\n"
     ]
    },
    {
     "name": "stderr",
     "output_type": "stream",
     "text": [
      "\n",
      "\u001b[1A\r78.3%┣██████████████████████████████████▍         ┫ 400/511 [11:40<03:15, 2s/it]"
     ]
    },
    {
     "name": "stdout",
     "output_type": "stream",
     "text": [
      "Academic license - for non-commercial use only - expires 2023-02-04\r\n"
     ]
    },
    {
     "name": "stderr",
     "output_type": "stream",
     "text": [
      "\n",
      "\u001b[1A\r78.5%┣██████████████████████████████████▌         ┫ 401/511 [11:47<03:14, 2s/it]\n"
     ]
    },
    {
     "name": "stdout",
     "output_type": "stream",
     "text": [
      "Academic license - for non-commercial use only - expires 2023-02-04\r\n"
     ]
    },
    {
     "name": "stderr",
     "output_type": "stream",
     "text": [
      "\u001b[1A\r78.7%┣██████████████████████████████████▋         ┫ 402/511 [11:51<03:13, 2s/it]"
     ]
    },
    {
     "name": "stdout",
     "output_type": "stream",
     "text": [
      "Academic license - for non-commercial use only - expires 2023-02-04\r\n"
     ]
    },
    {
     "name": "stderr",
     "output_type": "stream",
     "text": [
      "\n",
      "\u001b[1A\r78.9%┣██████████████████████████████████▊         ┫ 403/511 [11:54<03:12, 2s/it]"
     ]
    },
    {
     "name": "stdout",
     "output_type": "stream",
     "text": [
      "Academic license - for non-commercial use only - expires 2023-02-04\r\n"
     ]
    },
    {
     "name": "stderr",
     "output_type": "stream",
     "text": [
      "\n",
      "\u001b[1A\r79.1%┣██████████████████████████████████▉         ┫ 404/511 [11:59<03:11, 2s/it]"
     ]
    },
    {
     "name": "stdout",
     "output_type": "stream",
     "text": [
      "Academic license - for non-commercial use only - expires 2023-02-04\r\n"
     ]
    },
    {
     "name": "stderr",
     "output_type": "stream",
     "text": [
      "\n",
      "\u001b[1A\r79.3%┣██████████████████████████████████▉         ┫ 405/511 [12:03<03:10, 2s/it]\n"
     ]
    },
    {
     "name": "stdout",
     "output_type": "stream",
     "text": [
      "Academic license - for non-commercial use only - expires 2023-02-04\r\n"
     ]
    },
    {
     "name": "stderr",
     "output_type": "stream",
     "text": [
      "\u001b[1A\r79.5%┣███████████████████████████████████         ┫ 406/511 [12:09<03:09, 2s/it]\n"
     ]
    },
    {
     "name": "stdout",
     "output_type": "stream",
     "text": [
      "Academic license - for non-commercial use only - expires 2023-02-04\r\n"
     ]
    },
    {
     "name": "stderr",
     "output_type": "stream",
     "text": [
      "\u001b[1A\r79.6%┣███████████████████████████████████         ┫ 407/511 [12:14<03:08, 2s/it]"
     ]
    },
    {
     "name": "stdout",
     "output_type": "stream",
     "text": [
      "Academic license - for non-commercial use only - expires 2023-02-04\r\n"
     ]
    },
    {
     "name": "stderr",
     "output_type": "stream",
     "text": [
      "\n",
      "\u001b[1A\r79.8%┣███████████████████████████████████▏        ┫ 408/511 [12:19<03:07, 2s/it]\n"
     ]
    },
    {
     "name": "stdout",
     "output_type": "stream",
     "text": [
      "Academic license - for non-commercial use only - expires 2023-02-04\r\n"
     ]
    },
    {
     "name": "stderr",
     "output_type": "stream",
     "text": [
      "\u001b[1A\r80.0%┣███████████████████████████████████▏        ┫ 409/511 [12:25<03:06, 2s/it]"
     ]
    },
    {
     "name": "stdout",
     "output_type": "stream",
     "text": [
      "Academic license - for non-commercial use only - expires 2023-02-04\r\n"
     ]
    },
    {
     "name": "stderr",
     "output_type": "stream",
     "text": [
      "\n",
      "\u001b[1A\r80.2%┣███████████████████████████████████▎        ┫ 410/511 [12:30<03:05, 2s/it]"
     ]
    },
    {
     "name": "stdout",
     "output_type": "stream",
     "text": [
      "Academic license - for non-commercial use only - expires 2023-02-04\r\n"
     ]
    },
    {
     "name": "stderr",
     "output_type": "stream",
     "text": [
      "\n",
      "\u001b[1A\r80.4%┣███████████████████████████████████▍        ┫ 411/511 [12:36<03:04, 2s/it]\n"
     ]
    },
    {
     "name": "stdout",
     "output_type": "stream",
     "text": [
      "Academic license - for non-commercial use only - expires 2023-02-04\r\n"
     ]
    },
    {
     "name": "stderr",
     "output_type": "stream",
     "text": [
      "\u001b[1A\r80.6%┣███████████████████████████████████▌        ┫ 412/511 [12:39<03:03, 2s/it]\n"
     ]
    },
    {
     "name": "stdout",
     "output_type": "stream",
     "text": [
      "Academic license - for non-commercial use only - expires 2023-02-04\r\n"
     ]
    },
    {
     "name": "stderr",
     "output_type": "stream",
     "text": [
      "\u001b[1A\r80.8%┣███████████████████████████████████▋        ┫ 413/511 [12:45<03:02, 2s/it]\n"
     ]
    },
    {
     "name": "stdout",
     "output_type": "stream",
     "text": [
      "Academic license - for non-commercial use only - expires 2023-02-04\r\n"
     ]
    },
    {
     "name": "stderr",
     "output_type": "stream",
     "text": [
      "\u001b[1A\r81.0%┣███████████████████████████████████▋        ┫ 414/511 [12:48<03:00, 2s/it]\n"
     ]
    },
    {
     "name": "stdout",
     "output_type": "stream",
     "text": [
      "Academic license - for non-commercial use only - expires 2023-02-04\r\n"
     ]
    },
    {
     "name": "stderr",
     "output_type": "stream",
     "text": [
      "\u001b[1A\r81.2%┣███████████████████████████████████▊        ┫ 415/511 [12:52<02:59, 2s/it]"
     ]
    },
    {
     "name": "stdout",
     "output_type": "stream",
     "text": [
      "Academic license - for non-commercial use only - expires 2023-02-04\r\n"
     ]
    },
    {
     "name": "stderr",
     "output_type": "stream",
     "text": [
      "\n",
      "\u001b[1A\r81.4%┣███████████████████████████████████▉        ┫ 416/511 [12:57<02:58, 2s/it]\n"
     ]
    },
    {
     "name": "stdout",
     "output_type": "stream",
     "text": [
      "Academic license - for non-commercial use only - expires 2023-02-04\r\n"
     ]
    },
    {
     "name": "stderr",
     "output_type": "stream",
     "text": [
      "\u001b[1A\r81.6%┣████████████████████████████████████        ┫ 417/511 [13:05<02:57, 2s/it]\n"
     ]
    },
    {
     "name": "stdout",
     "output_type": "stream",
     "text": [
      "Academic license - for non-commercial use only - expires 2023-02-04\r\n"
     ]
    },
    {
     "name": "stderr",
     "output_type": "stream",
     "text": [
      "\u001b[1A\r81.8%┣████████████████████████████████████        ┫ 418/511 [13:10<02:56, 2s/it]"
     ]
    },
    {
     "name": "stdout",
     "output_type": "stream",
     "text": [
      "Academic license - for non-commercial use only - expires 2023-02-04\r\n"
     ]
    },
    {
     "name": "stderr",
     "output_type": "stream",
     "text": [
      "\n",
      "\u001b[1A\r82.0%┣████████████████████████████████████        ┫ 419/511 [13:16<02:55, 2s/it]"
     ]
    },
    {
     "name": "stdout",
     "output_type": "stream",
     "text": [
      "Academic license - for non-commercial use only - expires 2023-02-04\r\n"
     ]
    },
    {
     "name": "stderr",
     "output_type": "stream",
     "text": [
      "\n",
      "\u001b[1A\r82.2%┣████████████████████████████████████▏       ┫ 420/511 [13:22<02:54, 2s/it]\n"
     ]
    },
    {
     "name": "stdout",
     "output_type": "stream",
     "text": [
      "Academic license - for non-commercial use only - expires 2023-02-04\r\n"
     ]
    },
    {
     "name": "stderr",
     "output_type": "stream",
     "text": [
      "\u001b[1A\r82.4%┣████████████████████████████████████▎       ┫ 421/511 [13:30<02:53, 2s/it]\n"
     ]
    },
    {
     "name": "stdout",
     "output_type": "stream",
     "text": [
      "Academic license - for non-commercial use only - expires 2023-02-04\r\n"
     ]
    },
    {
     "name": "stderr",
     "output_type": "stream",
     "text": [
      "\u001b[1A\r82.6%┣████████████████████████████████████▍       ┫ 422/511 [13:37<02:53, 2s/it]"
     ]
    },
    {
     "name": "stdout",
     "output_type": "stream",
     "text": [
      "Academic license - for non-commercial use only - expires 2023-02-04\r\n"
     ]
    },
    {
     "name": "stderr",
     "output_type": "stream",
     "text": [
      "\n",
      "\u001b[1A\r82.8%┣████████████████████████████████████▍       ┫ 423/511 [13:45<02:52, 2s/it]"
     ]
    },
    {
     "name": "stdout",
     "output_type": "stream",
     "text": [
      "Academic license - for non-commercial use only - expires 2023-02-04\r\n"
     ]
    },
    {
     "name": "stderr",
     "output_type": "stream",
     "text": [
      "\n",
      "\u001b[1A\r83.0%┣████████████████████████████████████▌       ┫ 424/511 [13:50<02:51, 2s/it]"
     ]
    },
    {
     "name": "stdout",
     "output_type": "stream",
     "text": [
      "Academic license - for non-commercial use only - expires 2023-02-04\r\n"
     ]
    },
    {
     "name": "stderr",
     "output_type": "stream",
     "text": [
      "\n",
      "\u001b[1A\r83.2%┣████████████████████████████████████▋       ┫ 425/511 [13:54<02:49, 2s/it]\n"
     ]
    },
    {
     "name": "stdout",
     "output_type": "stream",
     "text": [
      "Academic license - for non-commercial use only - expires 2023-02-04\r\n"
     ]
    },
    {
     "name": "stderr",
     "output_type": "stream",
     "text": [
      "\u001b[1A\r83.4%┣████████████████████████████████████▊       ┫ 426/511 [14:00<02:48, 2s/it]\n"
     ]
    },
    {
     "name": "stdout",
     "output_type": "stream",
     "text": [
      "Academic license - for non-commercial use only - expires 2023-02-04\r\n"
     ]
    },
    {
     "name": "stderr",
     "output_type": "stream",
     "text": [
      "\u001b[1A\r83.6%┣████████████████████████████████████▊       ┫ 427/511 [14:04<02:46, 2s/it]"
     ]
    },
    {
     "name": "stdout",
     "output_type": "stream",
     "text": [
      "Academic license - for non-commercial use only - expires 2023-02-04\r\n"
     ]
    },
    {
     "name": "stderr",
     "output_type": "stream",
     "text": [
      "\n",
      "\u001b[1A\r83.8%┣████████████████████████████████████▉       ┫ 428/511 [14:10<02:45, 2s/it]\n"
     ]
    },
    {
     "name": "stdout",
     "output_type": "stream",
     "text": [
      "Academic license - for non-commercial use only - expires 2023-02-04\r\n"
     ]
    },
    {
     "name": "stderr",
     "output_type": "stream",
     "text": [
      "\u001b[1A\r84.0%┣█████████████████████████████████████       ┫ 429/511 [14:14<02:44, 2s/it]"
     ]
    },
    {
     "name": "stdout",
     "output_type": "stream",
     "text": [
      "Academic license - for non-commercial use only - expires 2023-02-04\r\n"
     ]
    },
    {
     "name": "stderr",
     "output_type": "stream",
     "text": [
      "\n",
      "\u001b[1A\r84.1%┣█████████████████████████████████████       ┫ 430/511 [14:21<02:43, 2s/it]\n"
     ]
    },
    {
     "name": "stdout",
     "output_type": "stream",
     "text": [
      "Academic license - for non-commercial use only - expires 2023-02-04\r\n"
     ]
    },
    {
     "name": "stderr",
     "output_type": "stream",
     "text": [
      "\u001b[1A\r84.3%┣█████████████████████████████████████▏      ┫ 431/511 [14:27<02:41, 2s/it]"
     ]
    },
    {
     "name": "stdout",
     "output_type": "stream",
     "text": [
      "Academic license - for non-commercial use only - expires 2023-02-04\r\n"
     ]
    },
    {
     "name": "stderr",
     "output_type": "stream",
     "text": [
      "\n",
      "\u001b[1A\r84.5%┣█████████████████████████████████████▏      ┫ 432/511 [14:32<02:40, 2s/it]"
     ]
    },
    {
     "name": "stdout",
     "output_type": "stream",
     "text": [
      "Academic license - for non-commercial use only - expires 2023-02-04\r\n"
     ]
    },
    {
     "name": "stderr",
     "output_type": "stream",
     "text": [
      "\n",
      "\u001b[1A\r84.7%┣█████████████████████████████████████▎      ┫ 433/511 [14:40<02:39, 2s/it]\n"
     ]
    },
    {
     "name": "stdout",
     "output_type": "stream",
     "text": [
      "Academic license - for non-commercial use only - expires 2023-02-04\r\n"
     ]
    },
    {
     "name": "stderr",
     "output_type": "stream",
     "text": [
      "\u001b[1A\r84.9%┣█████████████████████████████████████▍      ┫ 434/511 [14:46<02:38, 2s/it]"
     ]
    },
    {
     "name": "stdout",
     "output_type": "stream",
     "text": [
      "Academic license - for non-commercial use only - expires 2023-02-04\r\n"
     ]
    },
    {
     "name": "stderr",
     "output_type": "stream",
     "text": [
      "\n",
      "\u001b[1A\r85.1%┣█████████████████████████████████████▌      ┫ 435/511 [14:54<02:37, 2s/it]\n"
     ]
    },
    {
     "name": "stdout",
     "output_type": "stream",
     "text": [
      "Academic license - for non-commercial use only - expires 2023-02-04\r\n"
     ]
    },
    {
     "name": "stderr",
     "output_type": "stream",
     "text": [
      "\u001b[1A\r85.3%┣█████████████████████████████████████▌      ┫ 436/511 [15:02<02:36, 2s/it]\n"
     ]
    },
    {
     "name": "stdout",
     "output_type": "stream",
     "text": [
      "Academic license - for non-commercial use only - expires 2023-02-04\r\n"
     ]
    },
    {
     "name": "stderr",
     "output_type": "stream",
     "text": [
      "\u001b[1A\r85.5%┣█████████████████████████████████████▋      ┫ 437/511 [15:07<02:34, 2s/it]\n",
      "\u001b[1A\r88.3%┣██████████████████████████████████████▉     ┫ 451/511 [15:07<02:01, 2s/it]"
     ]
    },
    {
     "name": "stderr",
     "output_type": "stream",
     "text": [
      "\n",
      "\u001b[1A\r90.4%┣███████████████████████████████████████▉    ┫ 462/511 [15:07<01:36, 2s/it]\n"
     ]
    },
    {
     "name": "stdout",
     "output_type": "stream",
     "text": [
      "Academic license - for non-commercial use only - expires 2023-02-04\r\n"
     ]
    },
    {
     "name": "stderr",
     "output_type": "stream",
     "text": [
      "\u001b[1A\r91.2%┣████████████████████████████████████████▏   ┫ 466/511 [15:14<01:28, 2s/it]"
     ]
    },
    {
     "name": "stdout",
     "output_type": "stream",
     "text": [
      "Academic license - for non-commercial use only - expires 2023-02-04\r\n"
     ]
    },
    {
     "name": "stderr",
     "output_type": "stream",
     "text": [
      "\n",
      "\u001b[1A\r91.4%┣████████████████████████████████████████▏   ┫ 467/511 [15:20<01:27, 2s/it]"
     ]
    },
    {
     "name": "stdout",
     "output_type": "stream",
     "text": [
      "Academic license - for non-commercial use only - expires 2023-02-04\r\n"
     ]
    },
    {
     "name": "stderr",
     "output_type": "stream",
     "text": [
      "\n",
      "\u001b[1A\r91.6%┣████████████████████████████████████████▎   ┫ 468/511 [15:26<01:25, 2s/it]"
     ]
    },
    {
     "name": "stdout",
     "output_type": "stream",
     "text": [
      "Academic license - for non-commercial use only - expires 2023-02-04\r\n"
     ]
    },
    {
     "name": "stderr",
     "output_type": "stream",
     "text": [
      "\n",
      "\u001b[1A\r91.8%┣████████████████████████████████████████▍   ┫ 469/511 [15:31<01:24, 2s/it]\n"
     ]
    },
    {
     "name": "stdout",
     "output_type": "stream",
     "text": [
      "Academic license - for non-commercial use only - expires 2023-02-04\r\n"
     ]
    },
    {
     "name": "stderr",
     "output_type": "stream",
     "text": [
      "\u001b[1A\r92.0%┣████████████████████████████████████████▌   ┫ 470/511 [15:47<01:23, 2s/it]\n"
     ]
    },
    {
     "name": "stdout",
     "output_type": "stream",
     "text": [
      "Academic license - for non-commercial use only - expires 2023-02-04\r\n"
     ]
    },
    {
     "name": "stderr",
     "output_type": "stream",
     "text": [
      "\u001b[1A\r92.2%┣████████████████████████████████████████▋   ┫ 471/511 [15:54<01:21, 2s/it]\n"
     ]
    },
    {
     "name": "stdout",
     "output_type": "stream",
     "text": [
      "Academic license - for non-commercial use only - expires 2023-02-04\r\n"
     ]
    },
    {
     "name": "stderr",
     "output_type": "stream",
     "text": [
      "\u001b[1A\r92.4%┣████████████████████████████████████████▋   ┫ 472/511 [16:02<01:20, 2s/it]\n"
     ]
    },
    {
     "name": "stdout",
     "output_type": "stream",
     "text": [
      "Academic license - for non-commercial use only - expires 2023-02-04\r\n"
     ]
    },
    {
     "name": "stderr",
     "output_type": "stream",
     "text": [
      "\u001b[1A\r92.6%┣████████████████████████████████████████▊   ┫ 473/511 [16:10<01:18, 2s/it]"
     ]
    },
    {
     "name": "stdout",
     "output_type": "stream",
     "text": [
      "Academic license - for non-commercial use only - expires 2023-02-04\r\n"
     ]
    },
    {
     "name": "stderr",
     "output_type": "stream",
     "text": [
      "\n",
      "\u001b[1A\r92.8%┣████████████████████████████████████████▉   ┫ 474/511 [16:16<01:16, 2s/it]\n"
     ]
    },
    {
     "name": "stdout",
     "output_type": "stream",
     "text": [
      "Academic license - for non-commercial use only - expires 2023-02-04\r\n"
     ]
    },
    {
     "name": "stderr",
     "output_type": "stream",
     "text": [
      "\u001b[1A\r93.0%┣█████████████████████████████████████████   ┫ 475/511 [16:25<01:15, 2s/it]\n"
     ]
    },
    {
     "name": "stdout",
     "output_type": "stream",
     "text": [
      "Academic license - for non-commercial use only - expires 2023-02-04\r\n"
     ]
    },
    {
     "name": "stderr",
     "output_type": "stream",
     "text": [
      "\u001b[1A\r93.2%┣█████████████████████████████████████████   ┫ 476/511 [16:28<01:13, 2s/it]"
     ]
    },
    {
     "name": "stdout",
     "output_type": "stream",
     "text": [
      "Academic license - for non-commercial use only - expires 2023-02-04\r\n"
     ]
    },
    {
     "name": "stderr",
     "output_type": "stream",
     "text": [
      "\n",
      "\u001b[1A\r93.3%┣█████████████████████████████████████████   ┫ 477/511 [16:36<01:11, 2s/it]\n"
     ]
    },
    {
     "name": "stdout",
     "output_type": "stream",
     "text": [
      "Academic license - for non-commercial use only - expires 2023-02-04\r\n"
     ]
    },
    {
     "name": "stderr",
     "output_type": "stream",
     "text": [
      "\u001b[1A\r93.5%┣█████████████████████████████████████████▏  ┫ 478/511 [16:41<01:09, 2s/it]"
     ]
    },
    {
     "name": "stdout",
     "output_type": "stream",
     "text": [
      "Academic license - for non-commercial use only - expires 2023-02-04\r\n"
     ]
    },
    {
     "name": "stderr",
     "output_type": "stream",
     "text": [
      "\n",
      "\u001b[1A\r93.7%┣█████████████████████████████████████████▎  ┫ 479/511 [16:47<01:07, 2s/it]\n"
     ]
    },
    {
     "name": "stdout",
     "output_type": "stream",
     "text": [
      "Academic license - for non-commercial use only - expires 2023-02-04\r\n"
     ]
    },
    {
     "name": "stderr",
     "output_type": "stream",
     "text": [
      "\u001b[1A\r93.9%┣█████████████████████████████████████████▎  ┫ 480/511 [16:54<01:06, 2s/it]"
     ]
    },
    {
     "name": "stdout",
     "output_type": "stream",
     "text": [
      "Academic license - for non-commercial use only - expires 2023-02-04\r\n"
     ]
    },
    {
     "name": "stderr",
     "output_type": "stream",
     "text": [
      "\n",
      "\u001b[1A\r94.1%┣█████████████████████████████████████████▍  ┫ 481/511 [16:59<01:04, 2s/it]"
     ]
    },
    {
     "name": "stdout",
     "output_type": "stream",
     "text": [
      "Academic license - for non-commercial use only - expires 2023-02-04\r\n"
     ]
    },
    {
     "name": "stderr",
     "output_type": "stream",
     "text": [
      "\n",
      "\u001b[1A\r94.3%┣█████████████████████████████████████████▌  ┫ 482/511 [17:07<01:02, 2s/it]\n"
     ]
    },
    {
     "name": "stdout",
     "output_type": "stream",
     "text": [
      "Academic license - for non-commercial use only - expires 2023-02-04\r\n"
     ]
    },
    {
     "name": "stderr",
     "output_type": "stream",
     "text": [
      "\u001b[1A\r94.5%┣█████████████████████████████████████████▋  ┫ 483/511 [17:12<01:00, 2s/it]"
     ]
    },
    {
     "name": "stdout",
     "output_type": "stream",
     "text": [
      "Academic license - for non-commercial use only - expires 2023-02-04\r\n"
     ]
    },
    {
     "name": "stderr",
     "output_type": "stream",
     "text": [
      "\n",
      "\u001b[1A\r94.7%┣█████████████████████████████████████████▊  ┫ 484/511 [17:18<00:58, 2s/it]\n"
     ]
    },
    {
     "name": "stdout",
     "output_type": "stream",
     "text": [
      "Academic license - for non-commercial use only - expires 2023-02-04\r\n"
     ]
    },
    {
     "name": "stderr",
     "output_type": "stream",
     "text": [
      "\u001b[1A\r94.9%┣█████████████████████████████████████████▊  ┫ 485/511 [17:24<00:56, 2s/it]\n"
     ]
    },
    {
     "name": "stdout",
     "output_type": "stream",
     "text": [
      "Academic license - for non-commercial use only - expires 2023-02-04\r\n"
     ]
    },
    {
     "name": "stderr",
     "output_type": "stream",
     "text": [
      "\u001b[1A\r95.1%┣█████████████████████████████████████████▉  ┫ 486/511 [17:30<00:54, 2s/it]"
     ]
    },
    {
     "name": "stdout",
     "output_type": "stream",
     "text": [
      "Academic license - for non-commercial use only - expires 2023-02-04\r\n"
     ]
    },
    {
     "name": "stderr",
     "output_type": "stream",
     "text": [
      "\n",
      "\u001b[1A\r95.3%┣██████████████████████████████████████████  ┫ 487/511 [17:39<00:52, 2s/it]"
     ]
    },
    {
     "name": "stdout",
     "output_type": "stream",
     "text": [
      "Academic license - for non-commercial use only - expires 2023-02-04\r\n"
     ]
    },
    {
     "name": "stderr",
     "output_type": "stream",
     "text": [
      "\n",
      "\u001b[1A\r95.5%┣██████████████████████████████████████████  ┫ 488/511 [17:47<00:50, 2s/it]\n"
     ]
    },
    {
     "name": "stdout",
     "output_type": "stream",
     "text": [
      "Academic license - for non-commercial use only - expires 2023-02-04\r\n"
     ]
    },
    {
     "name": "stderr",
     "output_type": "stream",
     "text": [
      "\u001b[1A\r95.7%┣██████████████████████████████████████████  ┫ 489/511 [17:55<00:48, 2s/it]\n"
     ]
    },
    {
     "name": "stdout",
     "output_type": "stream",
     "text": [
      "Academic license - for non-commercial use only - expires 2023-02-04\r\n"
     ]
    },
    {
     "name": "stderr",
     "output_type": "stream",
     "text": [
      "\u001b[1A\r95.9%┣██████████████████████████████████████████▏ ┫ 490/511 [18:02<00:46, 2s/it]\n"
     ]
    },
    {
     "name": "stdout",
     "output_type": "stream",
     "text": [
      "Academic license - for non-commercial use only - expires 2023-02-04\r\n"
     ]
    },
    {
     "name": "stderr",
     "output_type": "stream",
     "text": [
      "\u001b[1A\r96.1%┣██████████████████████████████████████████▎ ┫ 491/511 [18:10<00:44, 2s/it]"
     ]
    },
    {
     "name": "stdout",
     "output_type": "stream",
     "text": [
      "Academic license - for non-commercial use only - expires 2023-02-04\r\n"
     ]
    },
    {
     "name": "stderr",
     "output_type": "stream",
     "text": [
      "\n",
      "\u001b[1A\r96.3%┣██████████████████████████████████████████▍ ┫ 492/511 [18:15<00:42, 2s/it]"
     ]
    },
    {
     "name": "stdout",
     "output_type": "stream",
     "text": [
      "Academic license - for non-commercial use only - expires 2023-02-04\r\n"
     ]
    },
    {
     "name": "stderr",
     "output_type": "stream",
     "text": [
      "\n",
      "\u001b[1A\r96.5%┣██████████████████████████████████████████▌ ┫ 493/511 [18:23<00:40, 2s/it]\n"
     ]
    },
    {
     "name": "stdout",
     "output_type": "stream",
     "text": [
      "Academic license - for non-commercial use only - expires 2023-02-04\r\n"
     ]
    },
    {
     "name": "stderr",
     "output_type": "stream",
     "text": [
      "\u001b[1A\r98.2%┣███████████████████████████████████████████▎┫ 502/511 [18:30<00:20, 2s/it]\n"
     ]
    },
    {
     "name": "stdout",
     "output_type": "stream",
     "text": [
      "Academic license - for non-commercial use only - expires 2023-02-04\r\n"
     ]
    },
    {
     "name": "stderr",
     "output_type": "stream",
     "text": [
      "\u001b[1A\r98.4%┣███████████████████████████████████████████▎┫ 503/511 [18:44<00:18, 2s/it]\n"
     ]
    },
    {
     "name": "stdout",
     "output_type": "stream",
     "text": [
      "Academic license - for non-commercial use only - expires 2023-02-04\r\n"
     ]
    },
    {
     "name": "stderr",
     "output_type": "stream",
     "text": [
      "\u001b[1A\r98.6%┣███████████████████████████████████████████▍┫ 504/511 [18:51<00:16, 2s/it]\n"
     ]
    },
    {
     "name": "stdout",
     "output_type": "stream",
     "text": [
      "Academic license - for non-commercial use only - expires 2023-02-04\r\n"
     ]
    },
    {
     "name": "stderr",
     "output_type": "stream",
     "text": [
      "\u001b[1A\r98.8%┣███████████████████████████████████████████▌┫ 505/511 [19:04<00:14, 2s/it]"
     ]
    },
    {
     "name": "stdout",
     "output_type": "stream",
     "text": [
      "Academic license - for non-commercial use only - expires 2023-02-04\r\n"
     ]
    },
    {
     "name": "stderr",
     "output_type": "stream",
     "text": [
      "\n",
      "\u001b[1A\r99.0%┣███████████████████████████████████████████▋┫ 506/511 [19:13<00:11, 2s/it]"
     ]
    },
    {
     "name": "stdout",
     "output_type": "stream",
     "text": [
      "Academic license - for non-commercial use only - expires 2023-02-04\r\n"
     ]
    },
    {
     "name": "stderr",
     "output_type": "stream",
     "text": [
      "\n",
      "\u001b[1A\r99.2%┣███████████████████████████████████████████▋┫ 507/511 [19:21<00:09, 2s/it]\n"
     ]
    },
    {
     "name": "stdout",
     "output_type": "stream",
     "text": [
      "Academic license - for non-commercial use only - expires 2023-02-04\r\n"
     ]
    },
    {
     "name": "stderr",
     "output_type": "stream",
     "text": [
      "\u001b[1A\r99.4%┣███████████████████████████████████████████▊┫ 508/511 [19:29<00:07, 2s/it]"
     ]
    },
    {
     "name": "stdout",
     "output_type": "stream",
     "text": [
      "Academic license - for non-commercial use only - expires 2023-02-04\r\n"
     ]
    },
    {
     "name": "stderr",
     "output_type": "stream",
     "text": [
      "\n",
      "\u001b[1A\r99.6%┣███████████████████████████████████████████▉┫ 509/511 [19:37<00:05, 2s/it]\n"
     ]
    },
    {
     "name": "stdout",
     "output_type": "stream",
     "text": [
      "Academic license - for non-commercial use only - expires 2023-02-04\r\n",
      "EnumMode calculated with elapsed time [min]: 20.08973759166667\n"
     ]
    },
    {
     "name": "stderr",
     "output_type": "stream",
     "text": [
      "\u001b[1A\r100.0%┣███████████████████████████████████████████┫ 511/511 [19:50<00:00, 2s/it]\n",
      "\u001b[1A\r100.0%┣███████████████████████████████████████████┫ 511/511 [19:50<00:00, 2s/it]\n"
     ]
    }
   ],
   "source": [
    "tick()\n",
    "enum_mode = EnumMode(ECModel, BASE_GROUP; no_aggregator_group=NO_AGG_GROUP)\n",
    "time_elapsed_enum=tok()\n",
    "println(\"EnumMode calculated with elapsed time [min]: $(time_elapsed_enum/60)\")"
   ]
  },
  {
   "cell_type": "markdown",
   "metadata": {},
   "source": [
    "Save enum mode"
   ]
  },
  {
   "cell_type": "code",
   "execution_count": 8,
   "metadata": {
    "vscode": {
     "languageId": "julia"
    }
   },
   "outputs": [
    {
     "name": "stderr",
     "output_type": "stream",
     "text": [
      "┌ Warning: Opening file with JLD2.MmapIO failed, falling back to IOStream\n",
      "└ @ JLD2 C:\\Users\\Davide\\.julia\\packages\\JLD2\\k9Gt0\\src\\JLD2.jl:233\n"
     ]
    }
   ],
   "source": [
    "if !isfile(total_results_file) || overwrite_files\n",
    "    save(enum_mode_file, enum_mode)\n",
    "end"
   ]
  },
  {
   "cell_type": "markdown",
   "metadata": {},
   "source": [
    "Load EnumMode (when needed)"
   ]
  },
  {
   "cell_type": "code",
   "execution_count": 9,
   "metadata": {
    "vscode": {
     "languageId": "julia"
    }
   },
   "outputs": [],
   "source": [
    "# enum_mode = load(enum_mode_file, EnumMode())"
   ]
  },
  {
   "cell_type": "markdown",
   "metadata": {},
   "source": [
    "### Calculate reward distribution using EnumMode"
   ]
  },
  {
   "cell_type": "code",
   "execution_count": 10,
   "metadata": {
    "vscode": {
     "languageId": "julia"
    }
   },
   "outputs": [
    {
     "name": "stderr",
     "output_type": "stream",
     "text": [
      "┌ Info:  started timer at: 2022-06-07T17:25:20.268\n",
      "└ @ TickTock C:\\Users\\Davide\\.julia\\packages\\TickTock\\fGILW\\src\\TickTock.jl:54\n"
     ]
    },
    {
     "name": "stdout",
     "output_type": "stream",
     "text": [
      "Academic license - for non-commercial use only - expires 2023-02-04\r\n"
     ]
    },
    {
     "name": "stderr",
     "output_type": "stream",
     "text": [
      "┌ Info:  started timer at: 2022-06-07T17:25:20.619\n",
      "└ @ TickTock C:\\Users\\Davide\\.julia\\packages\\TickTock\\fGILW\\src\\TickTock.jl:54\n",
      "\r0.4%┣▏                                              ┫ 2/511 [00:02<13:29, 2s/it]\n",
      "\u001b[1A\r100.0%┣█████████████████████████████████████████┫ 511/511 [00:02<00:00, 307it/s]"
     ]
    },
    {
     "name": "stderr",
     "output_type": "stream",
     "text": [
      "\n",
      "┌ Info:  started timer at: 2022-06-07T17:25:23.957\n",
      "└ @ TickTock C:\\Users\\Davide\\.julia\\packages\\TickTock\\fGILW\\src\\TickTock.jl:54\n"
     ]
    },
    {
     "name": "stdout",
     "output_type": "stream",
     "text": [
      "Academic license - for non-commercial use only - expires 2023-02-04\r\n"
     ]
    },
    {
     "name": "stderr",
     "output_type": "stream",
     "text": [
      "┌ Info:  started timer at: 2022-06-07T17:25:27.111\n",
      "└ @ TickTock C:\\Users\\Davide\\.julia\\packages\\TickTock\\fGILW\\src\\TickTock.jl:54\n"
     ]
    },
    {
     "name": "stdout",
     "output_type": "stream",
     "text": [
      "Academic license - for non-commercial use only - expires 2023-02-04\r\n"
     ]
    }
   ],
   "source": [
    "tick()\n",
    "shapley_dist_enum = shapley_value(enum_mode)  # shapley value\n",
    "time_elapsed_shapley_enum=tok()\n",
    "\n",
    "tick()\n",
    "nucleolus_dist_enum = nucleolus(enum_mode, OPTIMIZER)  # nucleolus\n",
    "time_elapsed_nucleolus_enum=tok()\n",
    "\n",
    "tick()\n",
    "varcore_dist_enum = var_in_core(enum_mode, OPTIMIZER)  # variance in core\n",
    "time_elapsed_varcore_enum=tok()\n",
    "\n",
    "tick()\n",
    "varleastcore_dist_enum, val_minsurplus_enum, model_dist_enum = var_least_core(\n",
    "    enum_mode, OPTIMIZER; raw_outputs=true\n",
    ")  # variance least core (include raw outputs for comparison purposes)\n",
    "time_elapsed_varleastcore_enum=tok();"
   ]
  },
  {
   "cell_type": "markdown",
   "metadata": {},
   "source": [
    "Store the EnumMode reward distribution into a DataFrame for ease their use"
   ]
  },
  {
   "cell_type": "code",
   "execution_count": 11,
   "metadata": {
    "vscode": {
     "languageId": "julia"
    }
   },
   "outputs": [
    {
     "data": {
      "text/html": [
       "<div class=\"data-frame\"><p>9 rows × 5 columns</p><table class=\"data-frame\"><thead><tr><th></th><th>user_set</th><th>shapley_enum</th><th>nucleolus_enum</th><th>varcore_enum</th><th>varleastcore_enum</th></tr><tr><th></th><th title=\"String\">String</th><th title=\"Float64\">Float64</th><th title=\"Float64\">Float64</th><th title=\"Float64\">Float64</th><th title=\"Float64\">Float64</th></tr></thead><tbody><tr><th>1</th><td>EC</td><td>33645.8</td><td>45456.5</td><td>37437.9</td><td>40554.4</td></tr><tr><th>2</th><td>user1</td><td>5304.78</td><td>3093.52</td><td>5297.5</td><td>3093.52</td></tr><tr><th>3</th><td>user2</td><td>8693.99</td><td>4022.1</td><td>7115.62</td><td>4360.17</td></tr><tr><th>4</th><td>user3</td><td>11926.3</td><td>6879.99</td><td>9196.55</td><td>7218.06</td></tr><tr><th>5</th><td>user4</td><td>7012.39</td><td>7587.29</td><td>9948.34</td><td>7925.36</td></tr><tr><th>6</th><td>user5</td><td>41512.2</td><td>47816.0</td><td>37437.9</td><td>45176.3</td></tr><tr><th>7</th><td>user6</td><td>9387.19</td><td>3546.45</td><td>6301.9</td><td>3546.45</td></tr><tr><th>8</th><td>user7</td><td>30005.7</td><td>35652.3</td><td>37437.9</td><td>40554.4</td></tr><tr><th>9</th><td>user8</td><td>11264.2</td><td>4698.59</td><td>8579.04</td><td>6324.08</td></tr></tbody></table></div>"
      ],
      "text/latex": [
       "\\begin{tabular}{r|ccccc}\n",
       "\t& user\\_set & shapley\\_enum & nucleolus\\_enum & varcore\\_enum & varleastcore\\_enum\\\\\n",
       "\t\\hline\n",
       "\t& String & Float64 & Float64 & Float64 & Float64\\\\\n",
       "\t\\hline\n",
       "\t1 & EC & 33645.8 & 45456.5 & 37437.9 & 40554.4 \\\\\n",
       "\t2 & user1 & 5304.78 & 3093.52 & 5297.5 & 3093.52 \\\\\n",
       "\t3 & user2 & 8693.99 & 4022.1 & 7115.62 & 4360.17 \\\\\n",
       "\t4 & user3 & 11926.3 & 6879.99 & 9196.55 & 7218.06 \\\\\n",
       "\t5 & user4 & 7012.39 & 7587.29 & 9948.34 & 7925.36 \\\\\n",
       "\t6 & user5 & 41512.2 & 47816.0 & 37437.9 & 45176.3 \\\\\n",
       "\t7 & user6 & 9387.19 & 3546.45 & 6301.9 & 3546.45 \\\\\n",
       "\t8 & user7 & 30005.7 & 35652.3 & 37437.9 & 40554.4 \\\\\n",
       "\t9 & user8 & 11264.2 & 4698.59 & 8579.04 & 6324.08 \\\\\n",
       "\\end{tabular}\n"
      ],
      "text/plain": [
       "\u001b[1m9×5 DataFrame\u001b[0m\n",
       "\u001b[1m Row \u001b[0m│\u001b[1m user_set \u001b[0m\u001b[1m shapley_enum \u001b[0m\u001b[1m nucleolus_enum \u001b[0m\u001b[1m varcore_enum \u001b[0m\u001b[1m varleastcore_enum \u001b[0m\n",
       "\u001b[1m     \u001b[0m│\u001b[90m String   \u001b[0m\u001b[90m Float64      \u001b[0m\u001b[90m Float64        \u001b[0m\u001b[90m Float64      \u001b[0m\u001b[90m Float64           \u001b[0m\n",
       "─────┼─────────────────────────────────────────────────────────────────────────\n",
       "   1 │ EC            33645.8         45456.5       37437.9            40554.4\n",
       "   2 │ user1          5304.78         3093.52       5297.5             3093.52\n",
       "   3 │ user2          8693.99         4022.1        7115.62            4360.17\n",
       "   4 │ user3         11926.3          6879.99       9196.55            7218.06\n",
       "   5 │ user4          7012.39         7587.29       9948.34            7925.36\n",
       "   6 │ user5         41512.2         47816.0       37437.9            45176.3\n",
       "   7 │ user6          9387.19         3546.45       6301.9             3546.45\n",
       "   8 │ user7         30005.7         35652.3       37437.9            40554.4\n",
       "   9 │ user8         11264.2          4698.59       8579.04            6324.08"
      ]
     },
     "metadata": {},
     "output_type": "display_data"
    }
   ],
   "source": [
    "# vector of the users\n",
    "user_set_agg = [EC_CODE; get_user_set(ECModel)]\n",
    "\n",
    "\"Auxiliary function to order the output of reward distributions and return them as vectors\"\n",
    "vectorize_rewards(reward_dist, users_list=user_set_agg) = [reward_dist[u] for u in users_list]\n",
    "\n",
    "# dataframe of reward distributions for the enumerative mode\n",
    "df_reward_enum = DataFrame(\n",
    "    user_set=user_set_agg,\n",
    "    shapley_enum=vectorize_rewards(shapley_dist_enum),\n",
    "    nucleolus_enum=vectorize_rewards(nucleolus_dist_enum),\n",
    "    varcore_enum=vectorize_rewards(varcore_dist_enum),\n",
    "    varleastcore_enum=vectorize_rewards(varleastcore_dist_enum),\n",
    ")\n",
    "\n",
    "# dataframe of the time requirements\n",
    "dict_time_enum = Dict(\n",
    "    \"EnumMode\"=>time_elapsed_enum,\n",
    "    \"shapley_enum\"=>time_elapsed_shapley_enum+time_elapsed_enum,\n",
    "    \"nucleolus_enum\"=>time_elapsed_nucleolus_enum+time_elapsed_enum,\n",
    "    \"varcore_enum\"=>time_elapsed_varcore_enum+time_elapsed_enum,\n",
    "    \"varleastcore_enum\"=>time_elapsed_varleastcore_enum+time_elapsed_enum,\n",
    ")\n",
    "\n",
    "df_reward_enum"
   ]
  },
  {
   "cell_type": "markdown",
   "metadata": {},
   "source": [
    "## Calculate the reward distribution functions by row-generation techniques (IterMode in TheoryOfGames.jl)"
   ]
  },
  {
   "cell_type": "markdown",
   "metadata": {},
   "source": [
    "### Define the row-generation decomposition mode by IterMode"
   ]
  },
  {
   "cell_type": "code",
   "execution_count": 12,
   "metadata": {
    "vscode": {
     "languageId": "julia"
    }
   },
   "outputs": [
    {
     "name": "stdout",
     "output_type": "stream",
     "text": [
      "Academic license - for non-commercial use only - expires 2023-02-04\r\n",
      "Academic license - for non-commercial use only - expires 2023-02-04\r\n",
      "Academic license - for non-commercial use only - expires 2023-02-04\r\n",
      "Academic license - for non-commercial use only - expires 2023-02-04\r\n",
      "Academic license - for non-commercial use only - expires 2023-02-04\r\n"
     ]
    },
    {
     "name": "stdout",
     "output_type": "stream",
     "text": [
      "Model not optimized\n",
      "Solved model\n"
     ]
    },
    {
     "data": {
      "text/plain": [
       "IterMode([\"EC\", \"user1\", \"user2\", \"user3\", \"user4\", \"user5\", \"user6\", \"user7\", \"user8\"], EnergyCommunity.var\"#utility_callback_by_subgroup#664\"{EnergyCommunity.var\"#objective_callback_by_subgroup#585\"{ModelEC, EnergyCommunity.var\"#objective_callback_by_subgroup#613\"{ModelEC}}, EnergyCommunity.var\"#objective_callback_by_subgroup#490\"{JuMP.Containers.DenseAxisArray{Float64, 1, Tuple{Vector{String}}, Tuple{JuMP.Containers._AxisLookup{Dict{String, Int64}}}}}}(EnergyCommunity.var\"#objective_callback_by_subgroup#585\"{ModelEC, EnergyCommunity.var\"#objective_callback_by_subgroup#613\"{ModelEC}}(An Energy Community Model\n",
       "Energy Community problem for a Cooperative Model\n",
       "User set: [\"user1\", \"user2\", \"user3\", \"user4\", \"user5\", \"user6\", \"user7\", \"user8\"]\n",
       ", EnergyCommunity.var\"#objective_callback_by_subgroup#613\"{ModelEC}(An Energy Community Model\n",
       "Energy Community problem for a Aggregating-Non-Cooperative Model\n",
       "User set: [\"user1\", \"user2\", \"user3\", \"user4\", \"user5\", \"user6\", \"user7\", \"user8\"]\n",
       ")), EnergyCommunity.var\"#objective_callback_by_subgroup#490\"{JuMP.Containers.DenseAxisArray{Float64, 1, Tuple{Vector{String}}, Tuple{JuMP.Containers._AxisLookup{Dict{String, Int64}}}}}(1-dimensional DenseAxisArray{Float64,1,...} with index sets:\n",
       "    Dimension 1, [\"EC\", \"user1\", \"user2\", \"user3\", \"user4\", \"user5\", \"user6\", \"user7\", \"user8\"]\n",
       "And data, a 9-element Vector{Float64}:\n",
       "       0.0\n",
       " -563669.0832118867\n",
       " -223241.1205710987\n",
       " -435831.6903603826\n",
       " -262503.5936211658\n",
       " -582508.7834697609\n",
       " -319124.974401537\n",
       " -366510.0412850098\n",
       " -314420.91625068616)), EnergyCommunity.var\"#least_profitable_coalition_callback#695\"{ModelEC, Int64}(An Energy Community Model\n",
       "Energy Community problem for a Cooperative Model\n",
       "User set: [\"user1\", \"user2\", \"user3\", \"user4\", \"user5\", \"user6\", \"user7\", \"user8\"]\n",
       ", 1))"
      ]
     },
     "metadata": {},
     "output_type": "display_data"
    },
    {
     "name": "stdout",
     "output_type": "stream",
     "text": [
      "Model not optimized"
     ]
    },
    {
     "name": "stdout",
     "output_type": "stream",
     "text": [
      "\n"
     ]
    }
   ],
   "source": [
    "iter_mode = IterMode(ECModel, BASE_GROUP; no_aggregator_group=NO_AGG_GROUP, optimizer=OPTIMIZER_ROW_GENERATION)"
   ]
  },
  {
   "cell_type": "markdown",
   "metadata": {},
   "source": [
    "Define coalitions to precompute when performing the iterative procedure"
   ]
  },
  {
   "cell_type": "code",
   "execution_count": 13,
   "metadata": {
    "vscode": {
     "languageId": "julia"
    }
   },
   "outputs": [
    {
     "data": {
      "text/plain": [
       "Base.Iterators.Flatten{Vector{Base.Generator{Combinatorics.Combinations, Combinatorics.var\"#reorder#10\"{Vector{String}}}}}(Base.Generator{Combinatorics.Combinations, Combinatorics.var\"#reorder#10\"{Vector{String}}}[Base.Generator{Combinatorics.Combinations, Combinatorics.var\"#reorder#10\"{Vector{String}}}(Combinatorics.var\"#reorder#10\"{Vector{String}}([\"EC\", \"user1\", \"user2\", \"user3\", \"user4\", \"user5\", \"user6\", \"user7\", \"user8\"]), Combinatorics.Combinations(9, 1)), Base.Generator{Combinatorics.Combinations, Combinatorics.var\"#reorder#10\"{Vector{String}}}(Combinatorics.var\"#reorder#10\"{Vector{String}}([\"EC\", \"user1\", \"user2\", \"user3\", \"user4\", \"user5\", \"user6\", \"user7\", \"user8\"]), Combinatorics.Combinations(9, 2))])"
      ]
     },
     "metadata": {},
     "output_type": "display_data"
    }
   ],
   "source": [
    "# include all coalitions having no more than preload_max_size users\n",
    "preload_max_size = 2\n",
    "\n",
    "preload_coalitions = Iterators.flatten([combinations([EC_CODE; ECModel.user_set], k) for k = 1:preload_max_size])"
   ]
  },
  {
   "cell_type": "markdown",
   "metadata": {},
   "source": [
    "### Calculate reward distribution using row-generation technique"
   ]
  },
  {
   "cell_type": "markdown",
   "metadata": {},
   "source": [
    "Variance Least Core using IterMode"
   ]
  },
  {
   "cell_type": "code",
   "execution_count": 14,
   "metadata": {
    "vscode": {
     "languageId": "julia"
    }
   },
   "outputs": [
    {
     "name": "stderr",
     "output_type": "stream",
     "text": [
      "┌ Info:  started timer at: 2022-06-07T17:26:09.843\n",
      "└ @ TickTock C:\\Users\\Davide\\.julia\\packages\\TickTock\\fGILW\\src\\TickTock.jl:54\n"
     ]
    },
    {
     "name": "stdout",
     "output_type": "stream",
     "text": [
      "PHASE 1: Start first least core analysis\n",
      "\n"
     ]
    },
    {
     "name": "stdout",
     "output_type": "stream",
     "text": [
      "Academic license - for non-commercial use only - expires 2023-02-04\r\n",
      "Academic license - for non-commercial use only - expires 2023-02-04\r\n",
      "Academic license - for non-commercial use only - expires 2023-02-04\r\n",
      "Academic license - for non-commercial use only - expires 2023-02-04\r\n",
      "Academic license - for non-commercial use only - expires 2023-02-04\r\n",
      "Academic license - for non-commercial use only - expires 2023-02-04\r\n",
      "Academic license - for non-commercial use only - expires 2023-02-04\r\n",
      "Academic license - for non-commercial use only - expires 2023-02-04\r\n",
      "Academic license - for non-commercial use only - expires 2023-02-04\r\n",
      "Academic license - for non-commercial use only - expires 2023-02-04\r\n",
      "Preload 45 coalitions"
     ]
    },
    {
     "name": "stdout",
     "output_type": "stream",
     "text": [
      "\n",
      "Iteration       Upper bound     Current value   Tol. [%]        Benefit distribution\n"
     ]
    },
    {
     "name": "stdout",
     "output_type": "stream",
     "text": [
      "1                1.50e+04       -3.94e+04        137.99         [14953.877050342338, 14953.877050342338, 14953.877050342338, 16622.44289514976, 14953.877050342338, 25740.051050740527, 16746.198752985052, 24874.627651595045, 14953.877050342338]\n"
     ]
    },
    {
     "name": "stdout",
     "output_type": "stream",
     "text": [
      "2                6.28e+03       -5.84e+04        110.74         [6278.508012099541, 6278.508012099541, 6278.508012099541, 6515.641840215307, 7237.975211965502, 27171.483067432186, 6278.508012099541, 26666.94935423776, 66046.62407993316]"
     ]
    },
    {
     "name": "stdout",
     "output_type": "stream",
     "text": [
      "\n",
      "3                4.63e+03       -4.33e+04        110.68         [4625.513283844765, 4625.513283844765, 4625.513283844765, 6294.07912865219, 12640.084819856056, 25740.051050740527, 6056.945300536424, 89519.49216701782, 4625.513283844765]\n"
     ]
    },
    {
     "name": "stdout",
     "output_type": "stream",
     "text": [
      "4                4.63e+03       -4.16e+03        189.88         [4625.513283844765, 4625.513283844765, 4625.513283844765, 13356.838968013326, 7008.756997186574, 66595.00450478218, 4625.513283844765, 48664.53871297617, 4625.513283844765]\n"
     ]
    },
    {
     "name": "stdout",
     "output_type": "stream",
     "text": [
      "5                4.63e+03       -2.92e+03        163.15         [4625.513283844765, 4625.513283844765, 4625.513283844765, 8965.413335756486, 11400.182629443425, 70986.43013703902, 4625.513283844765, 44273.113080719326, 4625.513283844765]"
     ]
    },
    {
     "name": "stdout",
     "output_type": "stream",
     "text": [
      "\n",
      "6                4.63e+03       -2.69e+03        158.16         [4625.513283844764, 4625.513283844764, 9656.573402276568, 6449.883276540582, 8884.652570227523, 68470.90007782313, 4625.513283844764, 46788.64313993522, 4625.513283844764]\n"
     ]
    },
    {
     "name": "stdout",
     "output_type": "stream",
     "text": [
      "7                4.63e+03       -3.27e+01        100.71         [10112.156108082869, 4625.513283844766, 5998.811519451157, 8278.76421795329, 10713.533511640228, 64813.13819499771, 4625.513283844766, 44959.76219852253, 4625.513283844766]"
     ]
    },
    {
     "name": "stdout",
     "output_type": "stream",
     "text": [
      "\n",
      "8                4.63e+03       -2.98e+03        164.47         [10112.156108082869, 4625.513283844766, 5998.81151945116, 8278.764217953289, 6055.294304103687, 64813.13819499772, 9283.752491381305, 44959.76219852252, 4625.513283844766]\n"
     ]
    },
    {
     "name": "stdout",
     "output_type": "stream",
     "text": [
      "9                3.15e+03       -4.59e+03        168.61         [14557.925400222477, 3884.5205061588204, 7106.590533644543, 14565.884997301153, 7008.756997186574, 65179.92443150515, 3150.948033143941, 40147.20666987548, 3150.948033143941]"
     ]
    },
    {
     "name": "stdout",
     "output_type": "stream",
     "text": [
      "\n",
      "10               3.15e+03        7.02e+02        77.73          [14036.822842604539, 3884.5205061588204, 3150.948033143941, 6822.561921895831, 7529.859554804512, 69135.56693200575, 3150.948033143941, 47890.5297452808, 3150.948033143941]"
     ]
    },
    {
     "name": "stdout",
     "output_type": "stream",
     "text": [
      "\n",
      "11               3.15e+03        7.52e+02        76.14          [16485.96081037185, 3884.5205061588204, 3150.948033143941, 6822.561921895831, 7529.859554804512, 69135.56693200575, 3150.948033143941, 45441.39177751349, 3150.948033143941]\n"
     ]
    },
    {
     "name": "stdout",
     "output_type": "stream",
     "text": [
      "12               3.15e+03        1.96e+03        37.66          [18885.223996084416, 3884.5205061588204, 3150.948033143941, 6822.561921895831, 7529.859554804512, 66736.30374629318, 3150.948033143941, 45441.39177751349, 3150.948033143941]"
     ]
    },
    {
     "name": "stdout",
     "output_type": "stream",
     "text": [
      "\n",
      "13               2.76e+03        2.76e+03        0.00           [18430.886927228465, 3093.516497103672, 2755.446028616352, 7218.0639264233905, 7925.361559332072, 67131.80575082074, 3546.4500376715005, 45836.89378204105, 2814.2810929448024]\n",
      "PHASE 1: First least core analysis ended with value 2755.446028616352\n",
      " ----\n",
      "PHASE 2: Start second phase to indentify the desired objective\n"
     ]
    },
    {
     "name": "stdout",
     "output_type": "stream",
     "text": [
      "\n",
      "Iteration       Upper bound     Current value   Tol. [%]        Benefit distribution"
     ]
    },
    {
     "name": "stdout",
     "output_type": "stream",
     "text": [
      "\n",
      "13               2.76e+03       -7.21e+03        138.20         [38204.30840146856, 3093.5164971039194, 14328.811051432345, 7218.063926423334, 7925.361559331624, 38204.30840146867, 3546.450037671253, 38204.30840146866, 8027.577325813925]"
     ]
    },
    {
     "name": "stdout",
     "output_type": "stream",
     "text": [
      "\n",
      "14               2.76e+03       -2.14e+02        107.77         [41527.18905822708, 3093.5164971040736, 4360.169081156152, 7218.06392642318, 7925.361559332292, 41527.18905822713, 3546.450037671103, 41527.189058227195, 8027.577325813875]"
     ]
    },
    {
     "name": "stdout",
     "output_type": "stream",
     "text": [
      "\n",
      "15               2.76e+03        1.05e+03        61.82          [40042.415408691864, 3093.5164971040676, 4360.169081156391, 7218.063926424108, 7925.361559331884, 44496.73635729711, 3546.4500376711076, 40042.41540869171, 8027.577325814214]\n"
     ]
    },
    {
     "name": "stdout",
     "output_type": "stream",
     "text": [
      "16               2.76e+03        2.08e+03        24.66          [40894.162056931935, 3093.5164971037952, 4360.169081157319, 7218.063926424398, 7925.361559333381, 44496.73635729663, 3546.4500376713804, 40894.16205693202, 6324.084029332742]"
     ]
    },
    {
     "name": "stdout",
     "output_type": "stream",
     "text": [
      "\n",
      "17               2.76e+03        2.76e+03        0.00           [40554.40474664577, 3093.5164971036515, 4360.169081156094, 7218.063926423408, 7925.361559332137, 45176.2509778712, 3546.4500376715223, 40554.40474664579, 6324.084029332604]\n",
      "PHASE 2: Completed second phase\n",
      "\n",
      "Variance Least Core - IterMode calculated with elapsed time [min]: 74.48898629\n"
     ]
    }
   ],
   "source": [
    "tick()\n",
    "varleastcore_dist_iter, min_surplus_varlc_iter, history_varlc_iter, model_dist_varlc_iter = var_least_core(\n",
    "    iter_mode,\n",
    "    OPTIMIZER;\n",
    "    lower_bound=0.0,\n",
    "    atol=1e-4,\n",
    "    raw_outputs=true,\n",
    "    preload_coalitions=preload_coalitions,\n",
    ")\n",
    "time_elapsed_varleastcore_iter=tok()\n",
    "println(\"Variance Least Core - IterMode calculated with elapsed time [min]: $(time_elapsed_varleastcore_iter/60)\")"
   ]
  },
  {
   "cell_type": "markdown",
   "metadata": {},
   "source": [
    "Variance Core method using IterMode"
   ]
  },
  {
   "cell_type": "code",
   "execution_count": 15,
   "metadata": {
    "vscode": {
     "languageId": "julia"
    }
   },
   "outputs": [
    {
     "name": "stdout",
     "output_type": "stream",
     "text": [
      "Academic license - for non-commercial use only - expires 2023-02-04\r\n",
      "Academic license - for non-commercial use only - expires 2023-02-04\r\n",
      "Academic license - for non-commercial use only - expires 2023-02-04\r\n",
      "Academic license - for non-commercial use only - expires 2023-02-04\r\n",
      "Academic license - for non-commercial use only - expires 2023-02-04\r\n",
      "Academic license - for non-commercial use only - expires 2023-02-04\r\n",
      "Academic license - for non-commercial use only - expires 2023-02-04\r\n",
      "Academic license - for non-commercial use only - expires 2023-02-04\r\n",
      "Academic license - for non-commercial use only - expires 2023-02-04\r\n",
      "Academic license - for non-commercial use only - expires 2023-02-04\r\n",
      "Preload 45 coalitions\n",
      "Iteration       Upper bound     Current value   Tol. [%]        Benefit allocation\n"
     ]
    },
    {
     "name": "stderr",
     "output_type": "stream",
     "text": [
      "┌ Info:  started timer at: 2022-06-07T18:40:39.696\n",
      "└ @ TickTock C:\\Users\\Davide\\.julia\\packages\\TickTock\\fGILW\\src\\TickTock.jl:54\n"
     ]
    },
    {
     "name": "stdout",
     "output_type": "stream",
     "text": [
      "1               -4.93e+04        0.00e+00        100.00         [17639.189511353565, 17639.18951135357, 17639.18951135357, 17639.18951135357, 17639.18951135357, 17639.18951135357, 17639.18951135357, 17639.18951135357, 17639.18951135357]"
     ]
    },
    {
     "name": "stdout",
     "output_type": "stream",
     "text": [
      "\n",
      "2               -2.39e+04        0.00e+00        100.00         [29971.26412540051, 7773.529820115999, 7773.529820116001, 7773.529820116, 7773.529820116002, 29971.264125400514, 7773.529820116001, 29971.264125400518, 29971.264125400514]"
     ]
    },
    {
     "name": "stdout",
     "output_type": "stream",
     "text": [
      "\n",
      "3               -6.20e+03        0.00e+00        100.00         [35336.17221668917, 2.4500948641420324e-12, 9716.912275144998, 9716.91227514531, 9716.912275145187, 35336.17221668882, 9716.912275145129, 35336.17221668875, 13876.539851534937]"
     ]
    },
    {
     "name": "stdout",
     "output_type": "stream",
     "text": [
      "\n",
      "4               -8.05e+03        0.00e+00        100.00         [35336.17221668875, 1.667273828581971e-10, 12817.181877485478, 12817.181877487776, 6616.642672801739, 35336.17221668869, 6616.642672802758, 35336.17221669018, 13876.539851533835]\n"
     ]
    },
    {
     "name": "stdout",
     "output_type": "stream",
     "text": [
      "5               -2.33e+03        0.00e+00        100.00         [36677.57625574131, 4024.212117156142, 8792.969760329646, 8792.96976032973, 8628.748731382217, 36677.57625574131, 8628.74873138222, 36677.576255741296, 9852.32773437828]\n"
     ]
    },
    {
     "name": "stdout",
     "output_type": "stream",
     "text": [
      "6               -2.55e+03        0.00e+00        100.00         [36677.57625574125, 4024.2121171562703, 8792.969760329708, 8792.969760329705, 10955.601396477512, 36677.57625574127, 6301.8960662869, 36677.576255741245, 9852.32773437834]\n"
     ]
    },
    {
     "name": "stdout",
     "output_type": "stream",
     "text": [
      "7               -2.53e+03        0.00e+00        100.00         [36677.576255741384, 4024.212117156212, 6242.577116980684, 11343.362403678406, 10955.601396477963, 36677.576255741325, 6301.8960662864865, 36677.57625574133, 9852.327734378014]"
     ]
    },
    {
     "name": "stdout",
     "output_type": "stream",
     "text": [
      "\n",
      "8               -1.12e+03        0.00e+00        100.00         [37098.68166097327, 5287.5283328520945, 7505.8933326769065, 10080.046187982503, 9692.285180781735, 37098.68166097332, 6301.896066286772, 37098.68166097329, 8589.011518682339]"
     ]
    },
    {
     "name": "stdout",
     "output_type": "stream",
     "text": [
      "\n",
      "9               -8.75e+02        0.00e+00        100.00         [37098.681660973074, 4166.948415219258, 7505.893332677201, 10080.046187982296, 9692.285180781791, 37098.68166097308, 6301.896066286931, 37098.68166097312, 9709.59143631534]\n"
     ]
    },
    {
     "name": "stdout",
     "output_type": "stream",
     "text": [
      "10              -2.47e+02        0.00e+00        100.00         [37390.18251892066, 5443.26249538844, 7104.081826350564, 9205.543614139764, 10094.096687108287, 37390.18251892069, 6301.89606628694, 37390.18251892061, 8433.277356146116]"
     ]
    },
    {
     "name": "stdout",
     "output_type": "stream",
     "text": [
      "\n",
      "11              -2.35e+02        0.00e+00        100.00         [37390.182518918984, 5196.6634847912765, 7350.6808369439805, 9205.54361414752, 9847.497676516725, 37390.182518922426, 6301.8960662853715, 37390.1825189203, 8679.876366738468]"
     ]
    },
    {
     "name": "stdout",
     "output_type": "stream",
     "text": [
      "\n",
      "12              -1.43e+02        0.00e+00        100.00         [37390.18251892089, 5196.66348480597, 7115.615109772135, 9440.609341300069, 9847.497676525758, 37390.18251892081, 6301.896066286334, 37390.18251892071, 8679.876366728642]\n"
     ]
    },
    {
     "name": "stdout",
     "output_type": "stream",
     "text": [
      "13              -4.24e+01        0.00e+00        100.00         [37437.92168559815, 5339.880984838324, 7115.615109773704, 9154.174341233724, 9990.715176558226, 37437.92168559802, 6301.896066287069, 37437.921685598354, 8536.658866696618]"
     ]
    },
    {
     "name": "stdout",
     "output_type": "stream",
     "text": [
      "\n",
      "14              -2.51e-09        0.00e+00        0.25           [37437.92168560002, 5297.504034741061, 7115.615109771428, 9196.551291332922, 9948.33822645868, 37437.921685599125, 6301.896066284523, 37437.92168560066, 8579.035816792302]\n",
      "Variance Core - IterMode calculated with elapsed time [min]: 55.414629795\n"
     ]
    }
   ],
   "source": [
    "tick()\n",
    "varcore_dist_iter, min_surplus_varcore_iter, history_varcore_iter, model_dist_varcore_iter = var_in_core(\n",
    "    iter_mode,\n",
    "    OPTIMIZER;\n",
    "    lower_bound=0.0,\n",
    "    atol=1e-4,\n",
    "    raw_outputs=true,\n",
    "    preload_coalitions=preload_coalitions,\n",
    ")\n",
    "time_elapsed_varcore_iter=tok()\n",
    "println(\"Variance Core - IterMode calculated with elapsed time [min]: $(time_elapsed_varcore_iter/60)\")"
   ]
  },
  {
   "cell_type": "markdown",
   "metadata": {},
   "source": [
    "Store results as a DataFrame"
   ]
  },
  {
   "cell_type": "code",
   "execution_count": 32,
   "metadata": {
    "vscode": {
     "languageId": "julia"
    }
   },
   "outputs": [
    {
     "data": {
      "text/html": [
       "<div class=\"data-frame\"><p>9 rows × 3 columns</p><table class=\"data-frame\"><thead><tr><th></th><th>user_set</th><th>varcore_iter</th><th>varleastcore_iter</th></tr><tr><th></th><th title=\"String\">String</th><th title=\"Float64\">Float64</th><th title=\"Float64\">Float64</th></tr></thead><tbody><tr><th>1</th><td>EC</td><td>37437.9</td><td>40554.4</td></tr><tr><th>2</th><td>user1</td><td>5297.5</td><td>3093.52</td></tr><tr><th>3</th><td>user2</td><td>7115.62</td><td>4360.17</td></tr><tr><th>4</th><td>user3</td><td>9196.55</td><td>7218.06</td></tr><tr><th>5</th><td>user4</td><td>9948.34</td><td>7925.36</td></tr><tr><th>6</th><td>user5</td><td>37437.9</td><td>45176.3</td></tr><tr><th>7</th><td>user6</td><td>6301.9</td><td>3546.45</td></tr><tr><th>8</th><td>user7</td><td>37437.9</td><td>40554.4</td></tr><tr><th>9</th><td>user8</td><td>8579.04</td><td>6324.08</td></tr></tbody></table></div>"
      ],
      "text/latex": [
       "\\begin{tabular}{r|ccc}\n",
       "\t& user\\_set & varcore\\_iter & varleastcore\\_iter\\\\\n",
       "\t\\hline\n",
       "\t& String & Float64 & Float64\\\\\n",
       "\t\\hline\n",
       "\t1 & EC & 37437.9 & 40554.4 \\\\\n",
       "\t2 & user1 & 5297.5 & 3093.52 \\\\\n",
       "\t3 & user2 & 7115.62 & 4360.17 \\\\\n",
       "\t4 & user3 & 9196.55 & 7218.06 \\\\\n",
       "\t5 & user4 & 9948.34 & 7925.36 \\\\\n",
       "\t6 & user5 & 37437.9 & 45176.3 \\\\\n",
       "\t7 & user6 & 6301.9 & 3546.45 \\\\\n",
       "\t8 & user7 & 37437.9 & 40554.4 \\\\\n",
       "\t9 & user8 & 8579.04 & 6324.08 \\\\\n",
       "\\end{tabular}\n"
      ],
      "text/plain": [
       "\u001b[1m9×3 DataFrame\u001b[0m\n",
       "\u001b[1m Row \u001b[0m│\u001b[1m user_set \u001b[0m\u001b[1m varcore_iter \u001b[0m\u001b[1m varleastcore_iter \u001b[0m\n",
       "\u001b[1m     \u001b[0m│\u001b[90m String   \u001b[0m\u001b[90m Float64      \u001b[0m\u001b[90m Float64           \u001b[0m\n",
       "─────┼───────────────────────────────────────────\n",
       "   1 │ EC            37437.9            40554.4\n",
       "   2 │ user1          5297.5             3093.52\n",
       "   3 │ user2          7115.62            4360.17\n",
       "   4 │ user3          9196.55            7218.06\n",
       "   5 │ user4          9948.34            7925.36\n",
       "   6 │ user5         37437.9            45176.3\n",
       "   7 │ user6          6301.9             3546.45\n",
       "   8 │ user7         37437.9            40554.4\n",
       "   9 │ user8          8579.04            6324.08"
      ]
     },
     "metadata": {},
     "output_type": "display_data"
    }
   ],
   "source": [
    "# dataframe of reward distributions for the enumerative mode\n",
    "df_reward_iter = DataFrame(\n",
    "    user_set=user_set_agg,\n",
    "    varcore_iter=vectorize_rewards(varcore_dist_iter),\n",
    "    varleastcore_iter=vectorize_rewards(varleastcore_dist_iter),\n",
    ")\n",
    "\n",
    "# dataframe of the time requirements\n",
    "dict_time_iter = Dict(\n",
    "    \"IterMode\"=>0.0,\n",
    "    \"varcore_iter\"=>time_elapsed_varcore_iter,\n",
    "    \"varleastcore_iter\"=>time_elapsed_varleastcore_iter,\n",
    ")\n",
    "\n",
    "df_reward_iter"
   ]
  },
  {
   "cell_type": "markdown",
   "metadata": {},
   "source": [
    "## Group all results and save them"
   ]
  },
  {
   "cell_type": "markdown",
   "metadata": {},
   "source": [
    "Merge results"
   ]
  },
  {
   "cell_type": "code",
   "execution_count": 33,
   "metadata": {
    "vscode": {
     "languageId": "julia"
    }
   },
   "outputs": [
    {
     "data": {
      "text/html": [
       "<div class=\"data-frame\"><p>9 rows × 7 columns</p><table class=\"data-frame\"><thead><tr><th></th><th>user_set</th><th>shapley_enum</th><th>nucleolus_enum</th><th>varcore_enum</th><th>varleastcore_enum</th><th>varcore_iter</th><th>varleastcore_iter</th></tr><tr><th></th><th title=\"String\">String</th><th title=\"Float64\">Float64</th><th title=\"Float64\">Float64</th><th title=\"Float64\">Float64</th><th title=\"Float64\">Float64</th><th title=\"Float64\">Float64</th><th title=\"Float64\">Float64</th></tr></thead><tbody><tr><th>1</th><td>EC</td><td>33645.8</td><td>45456.5</td><td>37437.9</td><td>40554.4</td><td>37437.9</td><td>40554.4</td></tr><tr><th>2</th><td>user1</td><td>5304.78</td><td>3093.52</td><td>5297.5</td><td>3093.52</td><td>5297.5</td><td>3093.52</td></tr><tr><th>3</th><td>user2</td><td>8693.99</td><td>4022.1</td><td>7115.62</td><td>4360.17</td><td>7115.62</td><td>4360.17</td></tr><tr><th>4</th><td>user3</td><td>11926.3</td><td>6879.99</td><td>9196.55</td><td>7218.06</td><td>9196.55</td><td>7218.06</td></tr><tr><th>5</th><td>user4</td><td>7012.39</td><td>7587.29</td><td>9948.34</td><td>7925.36</td><td>9948.34</td><td>7925.36</td></tr><tr><th>6</th><td>user5</td><td>41512.2</td><td>47816.0</td><td>37437.9</td><td>45176.3</td><td>37437.9</td><td>45176.3</td></tr><tr><th>7</th><td>user6</td><td>9387.19</td><td>3546.45</td><td>6301.9</td><td>3546.45</td><td>6301.9</td><td>3546.45</td></tr><tr><th>8</th><td>user7</td><td>30005.7</td><td>35652.3</td><td>37437.9</td><td>40554.4</td><td>37437.9</td><td>40554.4</td></tr><tr><th>9</th><td>user8</td><td>11264.2</td><td>4698.59</td><td>8579.04</td><td>6324.08</td><td>8579.04</td><td>6324.08</td></tr></tbody></table></div>"
      ],
      "text/latex": [
       "\\begin{tabular}{r|ccccccc}\n",
       "\t& user\\_set & shapley\\_enum & nucleolus\\_enum & varcore\\_enum & varleastcore\\_enum & varcore\\_iter & varleastcore\\_iter\\\\\n",
       "\t\\hline\n",
       "\t& String & Float64 & Float64 & Float64 & Float64 & Float64 & Float64\\\\\n",
       "\t\\hline\n",
       "\t1 & EC & 33645.8 & 45456.5 & 37437.9 & 40554.4 & 37437.9 & 40554.4 \\\\\n",
       "\t2 & user1 & 5304.78 & 3093.52 & 5297.5 & 3093.52 & 5297.5 & 3093.52 \\\\\n",
       "\t3 & user2 & 8693.99 & 4022.1 & 7115.62 & 4360.17 & 7115.62 & 4360.17 \\\\\n",
       "\t4 & user3 & 11926.3 & 6879.99 & 9196.55 & 7218.06 & 9196.55 & 7218.06 \\\\\n",
       "\t5 & user4 & 7012.39 & 7587.29 & 9948.34 & 7925.36 & 9948.34 & 7925.36 \\\\\n",
       "\t6 & user5 & 41512.2 & 47816.0 & 37437.9 & 45176.3 & 37437.9 & 45176.3 \\\\\n",
       "\t7 & user6 & 9387.19 & 3546.45 & 6301.9 & 3546.45 & 6301.9 & 3546.45 \\\\\n",
       "\t8 & user7 & 30005.7 & 35652.3 & 37437.9 & 40554.4 & 37437.9 & 40554.4 \\\\\n",
       "\t9 & user8 & 11264.2 & 4698.59 & 8579.04 & 6324.08 & 8579.04 & 6324.08 \\\\\n",
       "\\end{tabular}\n"
      ],
      "text/plain": [
       "\u001b[1m9×7 DataFrame\u001b[0m\n",
       "\u001b[1m Row \u001b[0m│\u001b[1m user_set \u001b[0m\u001b[1m shapley_enum \u001b[0m\u001b[1m nucleolus_enum \u001b[0m\u001b[1m varcore_enum \u001b[0m\u001b[1m varleastcore_enum \u001b[0m\u001b[1m varcore_iter \u001b[0m\u001b[1m varleastcore_iter \u001b[0m\n",
       "\u001b[1m     \u001b[0m│\u001b[90m String   \u001b[0m\u001b[90m Float64      \u001b[0m\u001b[90m Float64        \u001b[0m\u001b[90m Float64      \u001b[0m\u001b[90m Float64           \u001b[0m\u001b[90m Float64      \u001b[0m\u001b[90m Float64           \u001b[0m\n",
       "─────┼──────────────────────────────────────────────────────────────────────────────────────────────────────────\n",
       "   1 │ EC            33645.8         45456.5       37437.9            40554.4       37437.9            40554.4\n",
       "   2 │ user1          5304.78         3093.52       5297.5             3093.52       5297.5             3093.52\n",
       "   3 │ user2          8693.99         4022.1        7115.62            4360.17       7115.62            4360.17\n",
       "   4 │ user3         11926.3          6879.99       9196.55            7218.06       9196.55            7218.06\n",
       "   5 │ user4          7012.39         7587.29       9948.34            7925.36       9948.34            7925.36\n",
       "   6 │ user5         41512.2         47816.0       37437.9            45176.3       37437.9            45176.3\n",
       "   7 │ user6          9387.19         3546.45       6301.9             3546.45       6301.9             3546.45\n",
       "   8 │ user7         30005.7         35652.3       37437.9            40554.4       37437.9            40554.4\n",
       "   9 │ user8         11264.2          4698.59       8579.04            6324.08       8579.04            6324.08"
      ]
     },
     "metadata": {},
     "output_type": "display_data"
    }
   ],
   "source": [
    "df_reward = innerjoin(df_reward_enum, df_reward_iter, on=:user_set)\n",
    "df_reward"
   ]
  },
  {
   "cell_type": "code",
   "execution_count": 34,
   "metadata": {
    "vscode": {
     "languageId": "julia"
    }
   },
   "outputs": [
    {
     "data": {
      "text/plain": [
       "Dict{String, Float64} with 8 entries:\n",
       "  \"EnumMode\"          => 1205.38\n",
       "  \"varcore_iter\"      => 3324.88\n",
       "  \"varleastcore_enum\" => 1207.17\n",
       "  \"shapley_enum\"      => 1205.74\n",
       "  \"IterMode\"          => 0.0\n",
       "  \"varleastcore_iter\" => 4469.34\n",
       "  \"nucleolus_enum\"    => 1208.72\n",
       "  \"varcore_enum\"      => 1208.54"
      ]
     },
     "metadata": {},
     "output_type": "display_data"
    }
   ],
   "source": [
    "dict_time = merge(dict_time_enum, dict_time_iter)\n",
    "dict_time"
   ]
  },
  {
   "cell_type": "markdown",
   "metadata": {},
   "source": [
    "Save results"
   ]
  },
  {
   "cell_type": "code",
   "execution_count": 35,
   "metadata": {
    "vscode": {
     "languageId": "julia"
    }
   },
   "outputs": [
    {
     "name": "stderr",
     "output_type": "stream",
     "text": [
      "┌ Warning: Opening file with JLD2.MmapIO failed, falling back to IOStream\n",
      "└ @ JLD2 C:\\Users\\Davide\\.julia\\packages\\JLD2\\k9Gt0\\src\\JLD2.jl:233\n"
     ]
    }
   ],
   "source": [
    "if !isfile(total_results_file) || overwrite_files\n",
    "    jldsave(total_results_file; df_reward, dict_time)\n",
    "end"
   ]
  },
  {
   "cell_type": "code",
   "execution_count": null,
   "metadata": {
    "vscode": {
     "languageId": "julia"
    }
   },
   "outputs": [],
   "source": []
  },
  {
   "cell_type": "code",
   "execution_count": 36,
   "metadata": {
    "vscode": {
     "languageId": "julia"
    }
   },
   "outputs": [
    {
     "data": {
      "text/latex": [
       "\\begin{tabular}{ccccccc}\n",
       "user_set & shapley_enum & nucleolus_enum & varcore_enum & varleastcore_enum & varcore_iter & varleastcore_iter\\\\\n",
       "EC & 33.65 & 45.46 & 37.44 & 40.55 & 37.44 & 40.55\\\\\n",
       "user1 & 5.30 & 3.09 & 5.30 & 3.09 & 5.30 & 3.09\\\\\n",
       "user2 & 8.69 & 4.02 & 7.12 & 4.36 & 7.12 & 4.36\\\\\n",
       "user3 & 11.93 & 6.88 & 9.20 & 7.22 & 9.20 & 7.22\\\\\n",
       "user4 & 7.01 & 7.59 & 9.95 & 7.93 & 9.95 & 7.93\\\\\n",
       "user5 & 41.51 & 47.82 & 37.44 & 45.18 & 37.44 & 45.18\\\\\n",
       "user6 & 9.39 & 3.55 & 6.30 & 3.55 & 6.30 & 3.55\\\\\n",
       "user7 & 30.01 & 35.65 & 37.44 & 40.55 & 37.44 & 40.55\\\\\n",
       "user8 & 11.26 & 4.70 & 8.58 & 6.32 & 8.58 & 6.32\\\\\n",
       "\\end{tabular}\n"
      ],
      "text/plain": [
       "L\"\\begin{tabular}{ccccccc}\n",
       "user_set & shapley_enum & nucleolus_enum & varcore_enum & varleastcore_enum & varcore_iter & varleastcore_iter\\\\\n",
       "EC & 33.65 & 45.46 & 37.44 & 40.55 & 37.44 & 40.55\\\\\n",
       "user1 & 5.30 & 3.09 & 5.30 & 3.09 & 5.30 & 3.09\\\\\n",
       "user2 & 8.69 & 4.02 & 7.12 & 4.36 & 7.12 & 4.36\\\\\n",
       "user3 & 11.93 & 6.88 & 9.20 & 7.22 & 9.20 & 7.22\\\\\n",
       "user4 & 7.01 & 7.59 & 9.95 & 7.93 & 9.95 & 7.93\\\\\n",
       "user5 & 41.51 & 47.82 & 37.44 & 45.18 & 37.44 & 45.18\\\\\n",
       "user6 & 9.39 & 3.55 & 6.30 & 3.55 & 6.30 & 3.55\\\\\n",
       "user7 & 30.01 & 35.65 & 37.44 & 40.55 & 37.44 & 40.55\\\\\n",
       "user8 & 11.26 & 4.70 & 8.58 & 6.32 & 8.58 & 6.32\\\\\n",
       "\\end{tabular}\n",
       "\""
      ]
     },
     "metadata": {},
     "output_type": "display_data"
    }
   ],
   "source": [
    "# print to latex the reward table\n",
    "set_default(fmt = \"%.2f\", convert_unicode = false)\n",
    "\n",
    "df_reward_mod = copy(df_reward)\n",
    "df_reward_mod[!, 2:end] = df_reward[!, 2:end] ./ 1000  # change € unit to k€\n",
    "tex_df_reward = latexify(df_reward_mod; env=:table, latex=false)"
   ]
  },
  {
   "cell_type": "code",
   "execution_count": 44,
   "metadata": {
    "vscode": {
     "languageId": "julia"
    }
   },
   "outputs": [
    {
     "data": {
      "text/plain": [
       "6-element Vector{String}:\n",
       " \"shapley_enum\"\n",
       " \"nucleolus_enum\"\n",
       " \"varcore_enum\"\n",
       " \"varleastcore_enum\"\n",
       " \"varcore_iter\"\n",
       " \"varleastcore_iter\""
      ]
     },
     "metadata": {},
     "output_type": "display_data"
    }
   ],
   "source": [
    "names(df_reward)[2:end]"
   ]
  },
  {
   "cell_type": "code",
   "execution_count": 49,
   "metadata": {
    "vscode": {
     "languageId": "julia"
    }
   },
   "outputs": [
    {
     "data": {
      "text/latex": [
       "\\begin{tabular}{cccccc}\n",
       "$shapley_{enum}$ & $nucleolus_{enum}$ & $varcore_{enum}$ & $varleastcore_{enum}$ & $varcore_{iter}$ & $varleastcore_{iter}$\\\\\n",
       "$0.33$ & $0.34$ & $0.34$ & $0.34$ & $0.92$ & $1.24$\\\\\n",
       "\\end{tabular}\n"
      ],
      "text/plain": [
       "L\"\\begin{tabular}{cccccc}\n",
       "$shapley_{enum}$ & $nucleolus_{enum}$ & $varcore_{enum}$ & $varleastcore_{enum}$ & $varcore_{iter}$ & $varleastcore_{iter}$\\\\\n",
       "$0.33$ & $0.34$ & $0.34$ & $0.34$ & $0.92$ & $1.24$\\\\\n",
       "\\end{tabular}\n",
       "\""
      ]
     },
     "metadata": {},
     "output_type": "display_data"
    }
   ],
   "source": [
    "df_computational_time = DataFrame(dict_time)[!, names(df_reward)[2:end]]./3600\n",
    "\n",
    "# print to latex the equivalent dataframe for time\n",
    "tex_df_computational_time = latexify(df_computational_time; env=:table)"
   ]
  },
  {
   "cell_type": "code",
   "execution_count": 50,
   "metadata": {
    "vscode": {
     "languageId": "julia"
    }
   },
   "outputs": [
    {
     "name": "stdout",
     "output_type": "stream",
     "text": [
      "Reward distribution table\n",
      "\n",
      "\n",
      "\n",
      "Computational time table\n",
      "\n",
      "\n",
      "\n"
     ]
    }
   ],
   "source": [
    "# save latex code\n",
    "open(\"latex_output.txt\",\"w\") do io\n",
    "    println(\"Reward distribution table\\n\\n\\n\")\n",
    "    print(io, tex_df_reward)\n",
    "    println(\"Computational time table\\n\\n\\n\")\n",
    "    print(io, tex_df_computational_time)\n",
    "end"
   ]
  }
 ],
 "metadata": {
  "language_info": {
   "name": "python"
  },
  "orig_nbformat": 4
 },
 "nbformat": 4,
 "nbformat_minor": 2
}
