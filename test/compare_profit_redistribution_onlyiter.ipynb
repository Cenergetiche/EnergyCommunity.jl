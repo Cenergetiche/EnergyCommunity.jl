{
 "cells": [
  {
   "cell_type": "markdown",
   "metadata": {},
   "source": [
    "# Compare EC profit redistribution\n",
    "\n",
    "This notebook aims at comparing the profit redistribution for an Energy Community\n",
    "using the package EnergyCommunity.jl and Games.jl"
   ]
  },
  {
   "cell_type": "markdown",
   "metadata": {},
   "source": [
    "## Configuration"
   ]
  },
  {
   "cell_type": "markdown",
   "metadata": {},
   "source": [
    "### Paths"
   ]
  },
  {
   "cell_type": "code",
   "execution_count": 1,
   "metadata": {},
   "outputs": [
    {
     "data": {
      "text/plain": [
       "true"
      ]
     },
     "metadata": {},
     "output_type": "display_data"
    }
   ],
   "source": [
    "input_file = joinpath(@__DIR__, \"../data/energy_community_model.yml\")  # Input file\n",
    "\n",
    "output_file_isolated = joinpath(@__DIR__, \"../results/output_file_NC.xlsx\")  # Output file - model users alone\n",
    "output_plot_isolated = joinpath(@__DIR__, \"../results/Img/plot_user_{:s}_NC.png\")  # Output png file of plot - model users alone\n",
    "\n",
    "output_file_combined = joinpath(@__DIR__, \"../results/output_file_EC.xlsx\")  # Output file - model Energy community\n",
    "output_plot_combined = joinpath(@__DIR__, \"../results/Img/plot_user_{:s}_EC.pdf\")  # Output png file of plot - model energy community\n",
    "\n",
    "output_plot_sankey_agg = joinpath(@__DIR__, \"../results/Img/sankey_EC.png\")  # Output plot of the sankey plot related to the aggregator case\n",
    "output_plot_sankey_noagg = joinpath(@__DIR__, \"../results/Img/sankey_NC.png\")  # Output plot of the sankey plot related to the no aggregator case\n",
    "\n",
    "enum_mode_file = \"enum_mode_datasest.jld2\"  # file used to store the enumerative results\n",
    "total_results_file = \"total_results_file_nocrossover.jld2\"  # file to store all major results\n",
    "latex_output = \"latex_output_nocrossover.txt\"\n",
    "\n",
    "overwrite_files = true  # when true, output files are overwritten"
   ]
  },
  {
   "cell_type": "markdown",
   "metadata": {},
   "source": [
    "### Import libraries"
   ]
  },
  {
   "cell_type": "code",
   "execution_count": 2,
   "metadata": {},
   "outputs": [],
   "source": [
    "using Revise\n",
    "using EnergyCommunity\n",
    "using FileIO\n",
    "using HiGHS, Plots\n",
    "using JuMP\n",
    "using Gurobi\n",
    "using Games\n",
    "using TickTock\n",
    "using Combinatorics\n",
    "using DataFrames\n",
    "using JLD2\n",
    "using Latexify, LaTeXStrings"
   ]
  },
  {
   "cell_type": "markdown",
   "metadata": {},
   "source": [
    "### Solver configurations"
   ]
  },
  {
   "cell_type": "code",
   "execution_count": 3,
   "metadata": {},
   "outputs": [
    {
     "data": {
      "text/plain": [
       "MathOptInterface.OptimizerWithAttributes(Gurobi.Optimizer, Pair{MathOptInterface.AbstractOptimizerAttribute, Any}[MathOptInterface.RawOptimizerAttribute(\"OutputFlag\") => 1, MathOptInterface.RawOptimizerAttribute(\"LogToConsole\") => 0, MathOptInterface.RawOptimizerAttribute(\"MIPGap\") => 0.1, MathOptInterface.RawOptimizerAttribute(\"TimeLimit\") => 1000, MathOptInterface.RawOptimizerAttribute(\"LogFile\") => \"gurobi_nocrossover.log\", MathOptInterface.RawOptimizerAttribute(\"Threads\") => 10, MathOptInterface.RawOptimizerAttribute(\"PoolSolutions\") => 50, MathOptInterface.RawOptimizerAttribute(\"PoolSearchMode\") => 1, MathOptInterface.RawOptimizerAttribute(\"Crossover\") => 0])"
      ]
     },
     "metadata": {},
     "output_type": "display_data"
    }
   ],
   "source": [
    "# General optimizer\n",
    "OPTIMIZER = optimizer_with_attributes(Gurobi.Optimizer, \"OutputFlag\"=>0, \"Threads\"=>10)\n",
    "\n",
    "# Optimizer for row-generation techniques, used in the IterMode of Games.jl\n",
    "OPTIMIZER_ROW_GENERATION = optimizer_with_attributes(Gurobi.Optimizer,\n",
    "    \"OutputFlag\"=>1,\n",
    "    \"LogToConsole\"=>0,\n",
    "    \"MIPGap\"=>0.1,\n",
    "    # \"MIPFocus\"=>1,\n",
    "    \"TimeLimit\"=>1000,\n",
    "    \"LogFile\"=>\"gurobi_nocrossover.log\",\n",
    "    \"Threads\"=>10,\n",
    "    # \"NoRelHeurTime\"=>10,\n",
    "    \"PoolSolutions\"=>50,\n",
    "    \"PoolSearchMode\"=>1,\n",
    "    \"Crossover\"=>0,  # disable crossover\n",
    ")"
   ]
  },
  {
   "cell_type": "markdown",
   "metadata": {},
   "source": [
    "### Energy Community options"
   ]
  },
  {
   "cell_type": "code",
   "execution_count": 4,
   "metadata": {},
   "outputs": [],
   "source": [
    "NO_AGG_GROUP = GroupANC();  # type of aggregation when the Aggregator does not belong to the coalition.\n",
    "                            # options: GroupANC() or GroupNC()\n",
    "BASE_GROUP = GroupNC();     # base type of aggregation (it shall be GroupNC)"
   ]
  },
  {
   "cell_type": "markdown",
   "metadata": {},
   "source": [
    "## General"
   ]
  },
  {
   "cell_type": "code",
   "execution_count": 5,
   "metadata": {},
   "outputs": [
    {
     "data": {
      "text/plain": [
       "1000"
      ]
     },
     "metadata": {},
     "output_type": "display_data"
    }
   ],
   "source": [
    "ENV[\"COLUMNS\"] = 1000  # to print more columns in the output"
   ]
  },
  {
   "cell_type": "markdown",
   "metadata": {},
   "source": [
    "## Optimize the Energy Community in the COperative configuration"
   ]
  },
  {
   "cell_type": "code",
   "execution_count": 6,
   "metadata": {},
   "outputs": [
    {
     "name": "stdout",
     "output_type": "stream",
     "text": [
      "Academic license - for non-commercial use only - expires 2023-02-04\r\n"
     ]
    },
    {
     "data": {
      "text/plain": [
       "An Energy Community Model\n",
       "Energy Community problem for a Cooperative Model\n",
       "User set: Any[\"user4\", \"user7\", \"user8\", \"user9\", \"user2\", \"user1\", \"user5\", \"user3\", \"user6\", \"user10\"]\n"
      ]
     },
     "metadata": {},
     "output_type": "display_data"
    },
    {
     "name": "stdout",
     "output_type": "stream",
     "text": [
      "Solved model\n"
     ]
    }
   ],
   "source": [
    "# Read data from excel file\n",
    "ECModel = ModelEC(input_file, EnergyCommunity.GroupCO(), OPTIMIZER)\n",
    "\n",
    "# Reset the user set to use all stored users (10)\n",
    "reset_user_set!(ECModel)\n",
    "# set_user_set!(ECModel, [\"user$id\" for id=1:8])\n",
    "\n",
    "# Build the model\n",
    "build_model!(ECModel)\n",
    "\n",
    "# Optimize the model\n",
    "optimize!(ECModel)"
   ]
  },
  {
   "cell_type": "markdown",
   "metadata": {},
   "source": [
    "## Calculate the reward distribution functions by row-generation techniques (IterMode in Games.jl)"
   ]
  },
  {
   "cell_type": "markdown",
   "metadata": {},
   "source": [
    "### Define the row-generation decomposition mode by IterMode"
   ]
  },
  {
   "cell_type": "code",
   "execution_count": 7,
   "metadata": {},
   "outputs": [
    {
     "name": "stdout",
     "output_type": "stream",
     "text": [
      "Academic license - for non-commercial use only - expires 2023-02-04\r\n",
      "Academic license - for non-commercial use only - expires 2023-02-04\r\n",
      "Academic license - for non-commercial use only - expires 2023-02-04\r\n",
      "Academic license - for non-commercial use only - expires 2023-02-04\r\n",
      "Academic license - for non-commercial use only - expires 2023-02-04\r\n"
     ]
    },
    {
     "name": "stdout",
     "output_type": "stream",
     "text": [
      "Model not optimized\n",
      "Solved model"
     ]
    },
    {
     "data": {
      "text/plain": [
       "IterMode(Any[\"EC\", \"user4\", \"user7\", \"user8\", \"user9\", \"user2\", \"user1\", \"user5\", \"user3\", \"user6\", \"user10\"], EnergyCommunity.var\"#utility_callback_by_subgroup#664\"{EnergyCommunity.var\"#objective_callback_by_subgroup#585\"{ModelEC, EnergyCommunity.var\"#objective_callback_by_subgroup#613\"{ModelEC}}, EnergyCommunity.var\"#objective_callback_by_subgroup#490\"{JuMP.Containers.DenseAxisArray{Float64, 1, Tuple{Vector{Any}}, Tuple{JuMP.Containers._AxisLookup{Dict{Any, Int64}}}}}}(EnergyCommunity.var\"#objective_callback_by_subgroup#585\"{ModelEC, EnergyCommunity.var\"#objective_callback_by_subgroup#613\"{ModelEC}}(An Energy Community Model\n",
       "Energy Community problem for a Cooperative Model\n",
       "User set: Any[\"user4\", \"user7\", \"user8\", \"user9\", \"user2\", \"user1\", \"user5\", \"user3\", \"user6\", \"user10\"]\n",
       ", EnergyCommunity.var\"#objective_callback_by_subgroup#613\"{ModelEC}(An Energy Community Model\n",
       "Energy Community problem for a Aggregating-Non-Cooperative Model\n",
       "User set: Any[\"user4\", \"user7\", \"user8\", \"user9\", \"user2\", \"user1\", \"user5\", \"user3\", \"user6\", \"user10\"]\n",
       ")), EnergyCommunity.var\"#objective_callback_by_subgroup#490\"{JuMP.Containers.DenseAxisArray{Float64, 1, Tuple{Vector{Any}}, Tuple{JuMP.Containers._AxisLookup{Dict{Any, Int64}}}}}(1-dimensional DenseAxisArray{Float64,1,...} with index sets:\n",
       "    Dimension 1, Any[\"EC\", \"user4\", \"user7\", \"user8\", \"user9\", \"user2\", \"user1\", \"user5\", \"user3\", \"user6\", \"user10\"]\n",
       "And data, a 11-element Vector{Float64}:\n",
       "       0.0\n",
       " -262503.5936211658\n",
       " -366510.0412850098\n",
       " -314420.9162506861\n",
       " -312999.88307746005\n",
       " -223241.12057109876\n",
       " -563669.0832118867\n",
       " -582508.7834697609\n",
       " -435831.69036038255\n",
       " -319124.974401537\n",
       " -354136.2367661281)), EnergyCommunity.var\"#least_profitable_coalition_callback#695\"{ModelEC, Int64}(An Energy Community Model\n",
       "Energy Community problem for a Cooperative Model\n",
       "User set: Any[\"user4\", \"user7\", \"user8\", \"user9\", \"user2\", \"user1\", \"user5\", \"user3\", \"user6\", \"user10\"]\n",
       ", 1))"
      ]
     },
     "metadata": {},
     "output_type": "display_data"
    },
    {
     "name": "stdout",
     "output_type": "stream",
     "text": [
      "\n",
      "Model not optimized\n"
     ]
    }
   ],
   "source": [
    "iter_mode = IterMode(ECModel, BASE_GROUP; no_aggregator_group=NO_AGG_GROUP, optimizer=OPTIMIZER_ROW_GENERATION)"
   ]
  },
  {
   "cell_type": "markdown",
   "metadata": {},
   "source": [
    "Define coalitions to precompute when performing the iterative procedure"
   ]
  },
  {
   "cell_type": "code",
   "execution_count": 8,
   "metadata": {},
   "outputs": [
    {
     "data": {
      "text/plain": [
       "Base.Iterators.Flatten{Vector{Base.Generator{Combinatorics.Combinations, Combinatorics.var\"#reorder#10\"{Vector{Any}}}}}(Base.Generator{Combinatorics.Combinations, Combinatorics.var\"#reorder#10\"{Vector{Any}}}[Base.Generator{Combinatorics.Combinations, Combinatorics.var\"#reorder#10\"{Vector{Any}}}(Combinatorics.var\"#reorder#10\"{Vector{Any}}(Any[\"EC\", \"user4\", \"user7\", \"user8\", \"user9\", \"user2\", \"user1\", \"user5\", \"user3\", \"user6\", \"user10\"]), Combinatorics.Combinations(11, 1)), Base.Generator{Combinatorics.Combinations, Combinatorics.var\"#reorder#10\"{Vector{Any}}}(Combinatorics.var\"#reorder#10\"{Vector{Any}}(Any[\"EC\", \"user4\", \"user7\", \"user8\", \"user9\", \"user2\", \"user1\", \"user5\", \"user3\", \"user6\", \"user10\"]), Combinatorics.Combinations(11, 2)), Base.Generator{Combinatorics.Combinations, Combinatorics.var\"#reorder#10\"{Vector{Any}}}(Combinatorics.var\"#reorder#10\"{Vector{Any}}(Any[\"EC\", \"user4\", \"user7\", \"user8\", \"user9\", \"user2\", \"user1\", \"user5\", \"user3\", \"user6\", \"user10\"]), Combinatorics.Combinations(11, 3))])"
      ]
     },
     "metadata": {},
     "output_type": "display_data"
    }
   ],
   "source": [
    "# include all coalitions having no more than preload_max_size users\n",
    "preload_max_size = 3\n",
    "\n",
    "preload_coalitions = Iterators.flatten([combinations([EC_CODE; ECModel.user_set], k) for k = 1:preload_max_size])"
   ]
  },
  {
   "cell_type": "markdown",
   "metadata": {},
   "source": [
    "### Calculate reward distribution using row-generation technique"
   ]
  },
  {
   "cell_type": "markdown",
   "metadata": {},
   "source": [
    "Variance Least Core using IterMode"
   ]
  },
  {
   "cell_type": "code",
   "execution_count": 9,
   "metadata": {},
   "outputs": [
    {
     "name": "stdout",
     "output_type": "stream",
     "text": [
      "PHASE 1: Start first least core analysis\n"
     ]
    },
    {
     "name": "stderr",
     "output_type": "stream",
     "text": [
      "┌ Info:  started timer at: 2022-06-12T00:51:37.152\n",
      "└ @ TickTock C:\\Users\\Davide\\.julia\\packages\\TickTock\\fGILW\\src\\TickTock.jl:54\n"
     ]
    },
    {
     "name": "stdout",
     "output_type": "stream",
     "text": [
      "\n",
      "Academic license - for non-commercial use only - expires 2023-02-04\r\n",
      "Academic license - for non-commercial use only - expires 2023-02-04\r\n",
      "Academic license - for non-commercial use only - expires 2023-02-04\r\n",
      "Academic license - for non-commercial use only - expires 2023-02-04\r\n",
      "Academic license - for non-commercial use only - expires 2023-02-04\r\n",
      "Academic license - for non-commercial use only - expires 2023-02-04\r\n",
      "Academic license - for non-commercial use only - expires 2023-02-04\r\n",
      "Academic license - for non-commercial use only - expires 2023-02-04\r\n",
      "Academic license - for non-commercial use only - expires 2023-02-04\r\n",
      "Academic license - for non-commercial use only - expires 2023-02-04\r\n",
      "Academic license - for non-commercial use only - expires 2023-02-04\r\n",
      "Academic license - for non-commercial use only - expires 2023-02-04\r\n",
      "Academic license - for non-commercial use only - expires 2023-02-04\r\n",
      "Academic license - for non-commercial use only - expires 2023-02-04\r\n",
      "Academic license - for non-commercial use only - expires 2023-02-04\r\n",
      "Academic license - for non-commercial use only - expires 2023-02-04\r\n",
      "Academic license - for non-commercial use only - expires 2023-02-04\r\n",
      "Academic license - for non-commercial use only - expires 2023-02-04\r\n",
      "Academic license - for non-commercial use only - expires 2023-02-04\r\n",
      "Academic license - for non-commercial use only - expires 2023-02-04\r\n",
      "Academic license - for non-commercial use only - expires 2023-02-04\r\n",
      "Academic license - for non-commercial use only - expires 2023-02-04\r\n",
      "Academic license - for non-commercial use only - expires 2023-02-04\r\n",
      "Academic license - for non-commercial use only - expires 2023-02-04\r\n",
      "Academic license - for non-commercial use only - expires 2023-02-04\r\n",
      "Academic license - for non-commercial use only - expires 2023-02-04\r\n",
      "Academic license - for non-commercial use only - expires 2023-02-04\r\n",
      "Academic license - for non-commercial use only - expires 2023-02-04\r\n",
      "Academic license - for non-commercial use only - expires 2023-02-04\r\n",
      "Academic license - for non-commercial use only - expires 2023-02-04\r\n",
      "Academic license - for non-commercial use only - expires 2023-02-04\r\n",
      "Academic license - for non-commercial use only - expires 2023-02-04\r\n",
      "Academic license - for non-commercial use only - expires 2023-02-04\r\n",
      "Academic license - for non-commercial use only - expires 2023-02-04\r\n",
      "Academic license - for non-commercial use only - expires 2023-02-04\r\n",
      "Academic license - for non-commercial use only - expires 2023-02-04\r\n",
      "Academic license - for non-commercial use only - expires 2023-02-04\r\n",
      "Academic license - for non-commercial use only - expires 2023-02-04\r\n",
      "Academic license - for non-commercial use only - expires 2023-02-04\r\n",
      "Academic license - for non-commercial use only - expires 2023-02-04\r\n",
      "Academic license - for non-commercial use only - expires 2023-02-04\r\n",
      "Academic license - for non-commercial use only - expires 2023-02-04\r\n",
      "Academic license - for non-commercial use only - expires 2023-02-04\r\n",
      "Academic license - for non-commercial use only - expires 2023-02-04\r\n",
      "Academic license - for non-commercial use only - expires 2023-02-04\r\n",
      "Academic license - for non-commercial use only - expires 2023-02-04\r\n",
      "Academic license - for non-commercial use only - expires 2023-02-04\r\n",
      "Academic license - for non-commercial use only - expires 2023-02-04\r\n",
      "Academic license - for non-commercial use only - expires 2023-02-04\r\n",
      "Academic license - for non-commercial use only - expires 2023-02-04\r\n",
      "Academic license - for non-commercial use only - expires 2023-02-04\r\n",
      "Academic license - for non-commercial use only - expires 2023-02-04\r\n",
      "Academic license - for non-commercial use only - expires 2023-02-04\r\n",
      "Academic license - for non-commercial use only - expires 2023-02-04\r\n",
      "Academic license - for non-commercial use only - expires 2023-02-04\r\n",
      "Academic license - for non-commercial use only - expires 2023-02-04\r\n",
      "Academic license - for non-commercial use only - expires 2023-02-04\r\n",
      "Preload 231 coalitions\n"
     ]
    },
    {
     "name": "stdout",
     "output_type": "stream",
     "text": [
      "Iteration       Upper bound     Current value   Tol. [%]        Benefit distribution\n"
     ]
    },
    {
     "name": "stdout",
     "output_type": "stream",
     "text": [
      "1                1.28e+04       -2.62e+04        148.82         [35049.87589167791, 12788.228275191717, 30793.40952735208, 12788.228275191717, 14423.994622248321, 12788.228275191717, 12788.228275191717, 38501.32148124849, 12788.228275191717, 13030.481510193786, 31409.82241316326]\n"
     ]
    },
    {
     "name": "stdout",
     "output_type": "stream",
     "text": [
      "2                5.91e+03       -2.37e+02        104.02         [60584.58103989344, 7701.467871425673, 37395.930409384135, 5912.750730698055, 8063.726975218335, 5912.750730698055, 6121.942047189106, 45103.842363280535, 5912.750730698055, 5912.750730698055, 38527.55319265899]\n"
     ]
    },
    {
     "name": "stdout",
     "output_type": "stream",
     "text": [
      "3                5.91e+03        2.40e+02        95.95          [54434.37224277291, 7701.467871425673, 37395.930409384135, 5912.750730698055, 8063.726975218335, 5912.750730698055, 6121.942047189106, 51254.05116040107, 5912.750730698055, 5912.750730698055, 38527.55319265899]"
     ]
    },
    {
     "name": "stdout",
     "output_type": "stream",
     "text": [
      "\n",
      "4                3.08e+03       -4.68e+03        165.67         [48669.871570479954, 9852.444115945953, 41221.334514026996, 3076.225666413229, 3076.225666413229, 3076.225666413229, 8272.918291709386, 52719.4785851568, 11109.252474870009, 4238.322870575474, 41837.747399838176]"
     ]
    },
    {
     "name": "stdout",
     "output_type": "stream",
     "text": [
      "\n",
      "5                3.08e+03       -4.78e+03        164.34         [47649.996106665, 10310.550386859017, 41679.44078494006, 3076.225666413229, 3430.6690153374802, 3076.225666413229, 7918.474942785135, 60583.88901531945, 3702.9483156204224, 3425.773250738159, 42295.85367075124]"
     ]
    },
    {
     "name": "stdout",
     "output_type": "stream",
     "text": [
      "\n",
      "6                3.08e+03       -1.21e+03        139.29         [39792.659730543746, 10310.550386859017, 41679.44078494006, 3076.225666413229, 3430.6690153374802, 3076.225666413229, 7918.474942785135, 60583.88901531945, 3702.9483156204224, 3425.773250738159, 50153.19004687249]\n"
     ]
    },
    {
     "name": "stdout",
     "output_type": "stream",
     "text": [
      "7"
     ]
    },
    {
     "name": "stdout",
     "output_type": "stream",
     "text": [
      "                3.08e+03        6.79e+02        77.93          [60606.04261298361, 5834.714384307386, 36584.03774826124, 3076.225666413229, 7715.667191004381, 3076.225666413229, 3633.4767671182344, 53626.74334777695, 5564.690946484101, 4236.17811175008, 43196.04437932999]"
     ]
    },
    {
     "name": "stdout",
     "output_type": "stream",
     "text": [
      "\n",
      "8                2.28e+03       -1.08e+03        147.60         [56064.9532273786, 6586.769188185707, 37955.65958626675, 2277.1294814811167, 6117.474821140156, 2277.1294814811167, 4432.572952050346, 56843.25227643026, 4518.900040768417, 3663.6524586766805, 46412.5533079833]"
     ]
    },
    {
     "name": "stdout",
     "output_type": "stream",
     "text": [
      "\n",
      "9                2.28e+03        5.56e+02        75.58          [55230.508936032296, 6225.840619585728, 40233.818152012944, 2638.05805008109, 6117.474821140157, 2277.1294814811117, 4432.572952050341, 55760.46657063033, 4879.828609368396, 4024.581027276654, 45329.76760218337]\n"
     ]
    },
    {
     "name": "stdout",
     "output_type": "stream",
     "text": [
      "10               2.28e+03        9.80e+02        56.98          [53509.47653346454, 6225.840619585727, 40233.81815201294, 2638.0580500810975, 6117.4748211401575, 2277.129481481119, 4432.572952050347, 55760.46657063032, 4879.828609368397, 4024.581027276661, 47050.80000475112]"
     ]
    },
    {
     "name": "stdout",
     "output_type": "stream",
     "text": [
      "\n",
      "11               2.28e+03        2.08e+03        8.68           [52212.02566022111, 6225.84061958572, 40233.81815201292, 2638.0580500810997, 6117.474821140165, 2277.1294814811213, 4432.572952050342, 57057.91744387381, 4879.828609368405, 4024.5810272766635, 47050.80000475111]\n"
     ]
    },
    {
     "name": "stdout",
     "output_type": "stream",
     "text": [
      "12               2.28e+03        1.93e+03        15.28          [52607.546224005375, 6225.840619585733, 40036.05787012077, 2638.058050081094, 6117.474821140151, 2277.1294814811154, 4432.57295205035, 56860.15716198167, 5077.588891260575, 4024.5810272766576, 46853.03972285896]\n"
     ]
    },
    {
     "name": "stdout",
     "output_type": "stream",
     "text": [
      "13               2.28e+03        2.28e+03        0.00           [52259.63936092537, 6225.840619585729, 40383.96473320077, 2638.0580500810956, 6117.474821140156, 2277.129481481117, 4432.572952050347, 56860.15716198165, 5077.588891260578, 4024.5810272766594, 46853.03972285896]"
     ]
    },
    {
     "name": "stdout",
     "output_type": "stream",
     "text": [
      "\n",
      "PHASE 1: First least core analysis ended with value 2277.129481481117\n",
      " ----\n",
      "PHASE 2: Start second phase to indentify the desired objective\n",
      "\n"
     ]
    },
    {
     "name": "stdout",
     "output_type": "stream",
     "text": [
      "Iteration       Upper bound     Current value   Tol. [%]        Benefit distribution\n"
     ]
    },
    {
     "name": "stdout",
     "output_type": "stream",
     "text": [
      "13               2.28e+03       -3.42e+04        106.66         [29336.243019984402, 8378.297447581292, 31187.34415255644, 28419.6679160747, 6117.474821140162, 28419.667916074686, 4432.572952050341, 40611.576637317325, 7987.946491287286, 10431.967892386996, 31827.287575387854]\n"
     ]
    },
    {
     "name": "stdout",
     "output_type": "stream",
     "text": [
      "14               2.28e+03       -8.92e+03        125.53         [41770.37702935609, 6012.098776286931, 41770.37702935596, 11360.139549986141, 6117.474821140139, 11360.139549986125, 4432.572952050364, 41770.3770293561, 7987.9464912872945, 12798.166563681398, 41770.37702935594]"
     ]
    },
    {
     "name": "stdout",
     "output_type": "stream",
     "text": [
      "\n",
      "15               2.28e+03       -1.03e+04        122.13         [42298.44331125067, 8124.363903865689, 42298.443311250674, 18330.884490912424, 6117.474821140155, 2277.129481481117, 4432.572952050348, 42298.44331125068, 7987.9464912873045, 10685.90143610262, 42298.443311250674]\n"
     ]
    },
    {
     "name": "stdout",
     "output_type": "stream",
     "text": [
      "16               2.28e+03       -2.90e+03        178.54         [43345.870207341846, 12314.071488207906, 43345.870207335676, 9951.469322228004, 6117.474821140137, 6466.837065823313, 4432.572952050366, 43345.87020733824, 7987.946491287251, 6496.193851760451, 43345.87020733566]"
     ]
    },
    {
     "name": "stdout",
     "output_type": "stream",
     "text": [
      "\n",
      "17               2.28e+03       -3.67e+01        101.61         [44640.00769435539, 8544.495431179901, 44640.00769435366, 8544.495431183288, 6117.474821140096, 6481.5154587901325, 4432.572952050408, 44640.00769435715, 7987.946491287219, 6481.515458793595, 44640.0076943537]"
     ]
    },
    {
     "name": "stdout",
     "output_type": "stream",
     "text": [
      "\n",
      "18               2.28e+03       -2.30e+03        198.92         [44640.00769435518, 9436.712513370889, 44640.00769435502, 7652.2783489898375, 6117.474821140157, 4167.646092585108, 4432.572952050346, 44640.00769435502, 7987.946491287317, 8795.384824998597, 44640.00769435502]"
     ]
    },
    {
     "name": "stdout",
     "output_type": "stream",
     "text": [
      "\n",
      "19               2.28e+03       -1.40e+03        161.32         [45630.90738302833, 8236.696549617858, 45630.90738303078, 8852.294312742959, 6117.474821140151, 4167.646092585179, 4432.572952050352, 46246.50514615593, 7987.946491287279, 4216.188307170327, 45630.90738303079]"
     ]
    },
    {
     "name": "stdout",
     "output_type": "stream",
     "text": [
      "\n",
      "20               2.28e+03        3.79e+02        83.35          [44406.3810589058, 8544.495431180441, 44406.38105890553, 8544.495431180316, 6117.474821140171, 4167.646092585113, 4432.572952050339, 49920.08411853194, 7987.946491287301, 4216.188307170284, 44406.381058905485]\n"
     ]
    },
    {
     "name": "stdout",
     "output_type": "stream",
     "text": [
      "21               2.28e+03        2.25e+02        90.10          [44406.38105890556, 10442.56056661437, 44406.38105890548, 6646.430295746423, 6117.474821140153, 4167.646092585142, 4432.57295205035, 49920.08411853188, 7987.946491287297, 4216.188307170336, 44406.38105890549]"
     ]
    },
    {
     "name": "stdout",
     "output_type": "stream",
     "text": [
      "\n",
      "22               2.28e+03        4.80e+02        78.91          [45090.30455630436, 8390.790074417466, 45090.30455630448, 6646.430295746427, 6117.474821140163, 4167.64609258517, 4432.572952050341, 49920.084118531784, 7987.946491287339, 4216.188307170345, 45090.304556304465]"
     ]
    },
    {
     "name": "stdout",
     "output_type": "stream",
     "text": [
      "\n",
      "23               2.28e+03        9.89e+02        56.57          [44491.32521693278, 10187.728092532154, 44491.325216932906, 6646.430295746477, 6117.474821140144, 4167.646092585139, 4432.572952050359, 51717.02213664639, 6191.008473172704, 4216.188307170423, 44491.325216932906]\n"
     ]
    },
    {
     "name": "stdout",
     "output_type": "stream",
     "text": [
      "24               2.28e+03        2.28e+03        0.00           [44920.72499461557, 8899.528759484692, 44920.72499461536, 6646.43029574639, 6117.474821140144, 4167.646092585129, 4432.572952050359, 51717.022136646556, 6191.008473172645, 4216.188307170341, 44920.72499461539]\n",
      "PHASE 2: Completed second phase\n",
      "\n",
      "Variance Least Core - IterMode calculated with elapsed time [min]: 129.16455776666666\n"
     ]
    }
   ],
   "source": [
    "tick()\n",
    "varleastcore_dist_iter, min_surplus_varleastcore_iter, history_varleastcore_iter, model_dist_varleastcore_iter = var_least_core(\n",
    "    iter_mode,\n",
    "    OPTIMIZER;\n",
    "    lower_bound=0.0,\n",
    "    atol=1e-4,\n",
    "    raw_outputs=true,\n",
    "    preload_coalitions=preload_coalitions,\n",
    ")\n",
    "time_elapsed_varleastcore_iter=tok()\n",
    "println(\"Variance Least Core - IterMode calculated with elapsed time [min]: $(time_elapsed_varleastcore_iter/60)\")"
   ]
  },
  {
   "cell_type": "markdown",
   "metadata": {},
   "source": [
    "Variance Core method using IterMode"
   ]
  },
  {
   "cell_type": "code",
   "execution_count": 10,
   "metadata": {},
   "outputs": [
    {
     "name": "stdout",
     "output_type": "stream",
     "text": [
      "Academic license - for non-commercial use only - expires 2023-02-04\r\n",
      "Academic license - for non-commercial use only - expires 2023-02-04\r\n",
      "Academic license - for non-commercial use only - expires 2023-02-04\r\n",
      "Academic license - for non-commercial use only - expires 2023-02-04\r\n",
      "Academic license - for non-commercial use only - expires 2023-02-04\r\n",
      "Academic license - for non-commercial use only - expires 2023-02-04\r\n",
      "Academic license - for non-commercial use only - expires 2023-02-04\r\n",
      "Academic license - for non-commercial use only - expires 2023-02-04\r\n",
      "Academic license - for non-commercial use only - expires 2023-02-04\r\n",
      "Academic license - for non-commercial use only - expires 2023-02-04\r\n",
      "Academic license - for non-commercial use only - expires 2023-02-04\r\n",
      "Academic license - for non-commercial use only - expires 2023-02-04\r\n",
      "Academic license - for non-commercial use only - expires 2023-02-04\r\n",
      "Academic license - for non-commercial use only - expires 2023-02-04\r\n",
      "Academic license - for non-commercial use only - expires 2023-02-04\r\n",
      "Academic license - for non-commercial use only - expires 2023-02-04\r\n",
      "Academic license - for non-commercial use only - expires 2023-02-04\r\n",
      "Academic license - for non-commercial use only - expires 2023-02-04\r\n",
      "Academic license - for non-commercial use only - expires 2023-02-04\r\n",
      "Academic license - for non-commercial use only - expires 2023-02-04\r\n",
      "Academic license - for non-commercial use only - expires 2023-02-04\r\n",
      "Academic license - for non-commercial use only - expires 2023-02-04\r\n",
      "Academic license - for non-commercial use only - expires 2023-02-04\r\n",
      "Academic license - for non-commercial use only - expires 2023-02-04\r\n",
      "Academic license - for non-commercial use only - expires 2023-02-04\r\n",
      "Academic license - for non-commercial use only - expires 2023-02-04\r\n",
      "Academic license - for non-commercial use only - expires 2023-02-04\r\n",
      "Academic license - for non-commercial use only - expires 2023-02-04\r\n",
      "Academic license - for non-commercial use only - expires 2023-02-04\r\n",
      "Academic license - for non-commercial use only - expires 2023-02-04\r\n",
      "Academic license - for non-commercial use only - expires 2023-02-04\r\n",
      "Academic license - for non-commercial use only - expires 2023-02-04\r\n",
      "Academic license - for non-commercial use only - expires 2023-02-04\r\n",
      "Academic license - for non-commercial use only - expires 2023-02-04\r\n",
      "Academic license - for non-commercial use only - expires 2023-02-04\r\n",
      "Academic license - for non-commercial use only - expires 2023-02-04\r\n",
      "Academic license - for non-commercial use only - expires 2023-02-04\r\n",
      "Academic license - for non-commercial use only - expires 2023-02-04\r\n",
      "Academic license - for non-commercial use only - expires 2023-02-04\r\n",
      "Academic license - for non-commercial use only - expires 2023-02-04\r\n",
      "Academic license - for non-commercial use only - expires 2023-02-04\r\n",
      "Academic license - for non-commercial use only - expires 2023-02-04\r\n",
      "Academic license - for non-commercial use only - expires 2023-02-04\r\n",
      "Academic license - for non-commercial use only - expires 2023-02-04\r\n",
      "Academic license - for non-commercial use only - expires 2023-02-04\r\n",
      "Academic license - for non-commercial use only - expires 2023-02-04\r\n",
      "Academic license - for non-commercial use only - expires 2023-02-04\r\n",
      "Academic license - for non-commercial use only - expires 2023-02-04\r\n",
      "Academic license - for non-commercial use only - expires 2023-02-04\r\n",
      "Academic license - for non-commercial use only - expires 2023-02-04\r\n",
      "Academic license - for non-commercial use only - expires 2023-02-04\r\n",
      "Academic license - for non-commercial use only - expires 2023-02-04\r\n",
      "Academic license - for non-commercial use only - expires 2023-02-04\r\n",
      "Academic license - for non-commercial use only - expires 2023-02-04\r\n",
      "Academic license - for non-commercial use only - expires 2023-02-04\r\n",
      "Academic license - for non-commercial use only - expires 2023-02-04\r\n",
      "Academic license - for non-commercial use only - expires 2023-02-04\r\n",
      "Preload 231 coalitions\n",
      "Iteration       Upper bound     Current value   Tol. [%]        Benefit allocation"
     ]
    },
    {
     "name": "stderr",
     "output_type": "stream",
     "text": [
      "┌ Info:  started timer at: 2022-06-12T03:00:47.785\n",
      "└ @ TickTock C:\\Users\\Davide\\.julia\\packages\\TickTock\\fGILW\\src\\TickTock.jl:54\n"
     ]
    },
    {
     "name": "stdout",
     "output_type": "stream",
     "text": [
      "\n",
      "1               -5.70e+04        0.00e+00        100.00         [25932.341398662502, 18669.127828231864, 18669.127828231845, 21686.514575601326, 21923.482199636488, 19660.600279888426, 18669.127828231845, 25932.341398662546, 18669.127828231853, 18669.127828231845, 18669.12782823185]\n"
     ]
    },
    {
     "name": "stdout",
     "output_type": "stream",
     "text": [
      "2               -3.95e+04        0.00e+00        100.00         [30634.603791526843, 6438.263822483359, 30634.603791526653, 30634.60379152664, 10155.29880923852, 30634.60379152663, 6438.263822483353, 34351.63877828181, 7932.930880743313, 8660.631750978535, 30634.603791526668]"
     ]
    },
    {
     "name": "stdout",
     "output_type": "stream",
     "text": [
      "\n",
      "3               -1.03e+04        0.00e+00        100.00         [39836.559259666225, 9906.34727148172, 39836.55925966622, 14089.210348625122, 9906.347271481896, 14089.210348625122, 6.286739800533606e-11, 39836.559259666225, 9906.347271481725, 9906.347271481716, 39836.559259666225]"
     ]
    },
    {
     "name": "stdout",
     "output_type": "stream",
     "text": [
      "\n",
      "4               -1.14e+04        0.00e+00        100.00         [39836.5592596663, 7855.146020601642, 39836.55925966621, 18191.61285038542, 16059.951024122176, 9986.807846864882, 4.531007444553809e-11, 39836.55925966622, 7855.146020601653, 7855.146020601636, 39836.559259666225]"
     ]
    },
    {
     "name": "stdout",
     "output_type": "stream",
     "text": [
      "\n",
      "5               -8.68e+03        0.00e+00        100.00         [40587.31867859968, 2484.4422796489653, 40587.31867859965, 14421.331783086935, 13824.156739953023, 10754.051238429573, 3003.037675733935, 40587.31867859969, 10156.876195295681, 10156.87619529566, 40587.31867859965]"
     ]
    },
    {
     "name": "stdout",
     "output_type": "stream",
     "text": [
      "\n",
      "6               -3.48e+03        0.00e+00        100.00         [41310.713818169614, 8271.60339620863, 41310.713818169614, 12354.488527172804, 10103.83887930755, 9927.313936063922, 5896.618234013758, 41310.7138181696, 7676.66428819867, 7676.664288198669, 41310.713818169614]\n"
     ]
    },
    {
     "name": "stdout",
     "output_type": "stream",
     "text": [
      "7               -6.91e+03        0.00e+00        100.00         [41310.71381816961, 8271.603396208666, 41310.71381816962, 15837.026889171379, 6621.300517308963, 6444.775574065333, 5896.618234013735, 41310.713818169614, 9417.933469197953, 9417.933469197953, 41310.713818169614]\n"
     ]
    },
    {
     "name": "stdout",
     "output_type": "stream",
     "text": [
      "8               -2.37e+03        0.00e+00        100.00         [43039.08059615498, 7925.077817185468, 43039.08059615497, 8923.559777229879, 7925.077817185453, 6444.7755740653565, 7925.077817185455, 43039.080596154985, 7925.077817185453, 7925.07781718545, 43039.08059615499]"
     ]
    },
    {
     "name": "stdout",
     "output_type": "stream",
     "text": [
      "\n",
      "9               -1.82e+03        0.00e+00        100.00         [43039.08059615507, 9110.50984199448, 43039.08059615501, 8923.559777229799, 9110.509841994502, 6444.775574065303, 7134.789800646072, 43039.08059615503, 7134.789800646076, 7134.789800646082, 43039.080596155014]"
     ]
    },
    {
     "name": "stdout",
     "output_type": "stream",
     "text": [
      "\n",
      "10              -1.16e+03        0.00e+00        100.00         [43039.08059615502, 9890.479849753703, 43039.08059615499, 8923.559777229815, 8330.539834235315, 6444.775574065326, 6094.829790300505, 43039.08059615501, 7654.769805818868, 7654.769805818871, 43039.08059615499]"
     ]
    },
    {
     "name": "stdout",
     "output_type": "stream",
     "text": [
      "\n",
      "11              -2.96e+02        0.00e+00        100.00         [43039.080596154985, 10180.842854046563, 43039.08059615516, 8923.55977722928, 8040.17682994294, 6444.775574064753, 6385.192794592276, 43039.08059615515, 8525.858818695022, 6493.317788650385, 43039.08059615518]"
     ]
    },
    {
     "name": "stdout",
     "output_type": "stream",
     "text": [
      "\n",
      "12              -3.53e+02        0.00e+00        100.00         [43039.08059616135, 9885.263507990143, 43039.080596156295, 8923.559777228711, 8335.756175998386, 6444.7755740617185, 6089.61344853625, 43039.08059615632, 8821.43816475108, 6493.317788649781, 43039.08059615632]"
     ]
    },
    {
     "name": "stdout",
     "output_type": "stream",
     "text": [
      "\n",
      "13              -2.92e+02        0.00e+00        100.00         [43039.08059615517, 10238.563718085752, 43039.08059615462, 8923.559777229864, 8335.756175998371, 6444.775574065342, 6089.613448537493, 43039.080596155014, 8468.13795465469, 6493.317788650994, 43039.080596155145]"
     ]
    },
    {
     "name": "stdout",
     "output_type": "stream",
     "text": [
      "\n",
      "14              -1.52e+02        0.00e+00        100.00         [43112.01786247127, 9946.814652824936, 43112.01786246923, 8923.559777229866, 8044.007110737563, 6444.775574065356, 6381.362513798312, 43112.017862470144, 8468.137954654689, 6493.31778865099, 43112.01786247009]\n"
     ]
    },
    {
     "name": "stdout",
     "output_type": "stream",
     "text": [
      "15              -5.61e-09        0.00e+00        0.56           [43112.01786246746, 10068.732399251614, 43112.017862470646, 8923.559777229842, 8073.940907944625, 6444.775574065349, 6351.4287165911965, 43112.01786247313, 8346.220208228055, 6493.317788650977, 43112.01786246955]\n",
      "Variance Core - IterMode calculated with elapsed time [min]: 94.973606795\n"
     ]
    }
   ],
   "source": [
    "tick()\n",
    "varcore_dist_iter, min_surplus_varcore_iter, history_varcore_iter, model_dist_varcore_iter = var_in_core(\n",
    "    iter_mode,\n",
    "    OPTIMIZER;\n",
    "    lower_bound=0.0,\n",
    "    atol=1e-4,\n",
    "    raw_outputs=true,\n",
    "    preload_coalitions=preload_coalitions,\n",
    ")\n",
    "time_elapsed_varcore_iter=tok()\n",
    "println(\"Variance Core - IterMode calculated with elapsed time [min]: $(time_elapsed_varcore_iter/60)\")"
   ]
  },
  {
   "cell_type": "markdown",
   "metadata": {},
   "source": [
    "Store results as a DataFrame"
   ]
  },
  {
   "cell_type": "code",
   "execution_count": 11,
   "metadata": {},
   "outputs": [
    {
     "data": {
      "text/html": [
       "<div class=\"data-frame\"><p>11 rows × 3 columns</p><table class=\"data-frame\"><thead><tr><th></th><th>user_set</th><th>varcore_iter</th><th>varleastcore_iter</th></tr><tr><th></th><th title=\"Any\">Any</th><th title=\"Float64\">Float64</th><th title=\"Float64\">Float64</th></tr></thead><tbody><tr><th>1</th><td>EC</td><td>43112.0</td><td>44920.7</td></tr><tr><th>2</th><td>user4</td><td>10068.7</td><td>8899.53</td></tr><tr><th>3</th><td>user7</td><td>43112.0</td><td>44920.7</td></tr><tr><th>4</th><td>user8</td><td>8923.56</td><td>6646.43</td></tr><tr><th>5</th><td>user9</td><td>8073.94</td><td>6117.47</td></tr><tr><th>6</th><td>user2</td><td>6444.78</td><td>4167.65</td></tr><tr><th>7</th><td>user1</td><td>6351.43</td><td>4432.57</td></tr><tr><th>8</th><td>user5</td><td>43112.0</td><td>51717.0</td></tr><tr><th>9</th><td>user3</td><td>8346.22</td><td>6191.01</td></tr><tr><th>10</th><td>user6</td><td>6493.32</td><td>4216.19</td></tr><tr><th>11</th><td>user10</td><td>43112.0</td><td>44920.7</td></tr></tbody></table></div>"
      ],
      "text/latex": [
       "\\begin{tabular}{r|ccc}\n",
       "\t& user\\_set & varcore\\_iter & varleastcore\\_iter\\\\\n",
       "\t\\hline\n",
       "\t& Any & Float64 & Float64\\\\\n",
       "\t\\hline\n",
       "\t1 & EC & 43112.0 & 44920.7 \\\\\n",
       "\t2 & user4 & 10068.7 & 8899.53 \\\\\n",
       "\t3 & user7 & 43112.0 & 44920.7 \\\\\n",
       "\t4 & user8 & 8923.56 & 6646.43 \\\\\n",
       "\t5 & user9 & 8073.94 & 6117.47 \\\\\n",
       "\t6 & user2 & 6444.78 & 4167.65 \\\\\n",
       "\t7 & user1 & 6351.43 & 4432.57 \\\\\n",
       "\t8 & user5 & 43112.0 & 51717.0 \\\\\n",
       "\t9 & user3 & 8346.22 & 6191.01 \\\\\n",
       "\t10 & user6 & 6493.32 & 4216.19 \\\\\n",
       "\t11 & user10 & 43112.0 & 44920.7 \\\\\n",
       "\\end{tabular}\n"
      ],
      "text/plain": [
       "\u001b[1m11×3 DataFrame\u001b[0m\n",
       "\u001b[1m Row \u001b[0m│\u001b[1m user_set \u001b[0m\u001b[1m varcore_iter \u001b[0m\u001b[1m varleastcore_iter \u001b[0m\n",
       "\u001b[1m     \u001b[0m│\u001b[90m Any      \u001b[0m\u001b[90m Float64      \u001b[0m\u001b[90m Float64           \u001b[0m\n",
       "─────┼───────────────────────────────────────────\n",
       "   1 │ EC            43112.0            44920.7\n",
       "   2 │ user4         10068.7             8899.53\n",
       "   3 │ user7         43112.0            44920.7\n",
       "   4 │ user8          8923.56            6646.43\n",
       "   5 │ user9          8073.94            6117.47\n",
       "   6 │ user2          6444.78            4167.65\n",
       "   7 │ user1          6351.43            4432.57\n",
       "   8 │ user5         43112.0            51717.0\n",
       "   9 │ user3          8346.22            6191.01\n",
       "  10 │ user6          6493.32            4216.19\n",
       "  11 │ user10        43112.0            44920.7"
      ]
     },
     "metadata": {},
     "output_type": "display_data"
    }
   ],
   "source": [
    "# vector of the users\n",
    "user_set_agg = [EC_CODE; get_user_set(ECModel)]\n",
    "\n",
    "\"Auxiliary function to order the output of reward distributions and return them as vectors\"\n",
    "vectorize_rewards(reward_dist, users_list=user_set_agg) = [reward_dist[u] for u in users_list]\n",
    "\n",
    "# dataframe of reward distributions for the enumerative mode\n",
    "df_reward_iter = DataFrame(\n",
    "    user_set=user_set_agg,\n",
    "    varcore_iter=vectorize_rewards(varcore_dist_iter),\n",
    "    varleastcore_iter=vectorize_rewards(varleastcore_dist_iter),\n",
    ")\n",
    "\n",
    "# dataframe of the time requirements\n",
    "dict_time_iter = Dict(\n",
    "    \"IterMode\"=>0.0,\n",
    "    \"varcore_iter\"=>time_elapsed_varcore_iter,\n",
    "    \"varleastcore_iter\"=>time_elapsed_varleastcore_iter,\n",
    ")\n",
    "\n",
    "df_reward_iter"
   ]
  },
  {
   "cell_type": "markdown",
   "metadata": {},
   "source": [
    "## Group all results and save them"
   ]
  },
  {
   "cell_type": "markdown",
   "metadata": {},
   "source": [
    "Merge results"
   ]
  },
  {
   "cell_type": "code",
   "execution_count": 12,
   "metadata": {},
   "outputs": [
    {
     "data": {
      "text/html": [
       "<div class=\"data-frame\"><p>11 rows × 3 columns</p><table class=\"data-frame\"><thead><tr><th></th><th>user_set</th><th>varcore_iter</th><th>varleastcore_iter</th></tr><tr><th></th><th title=\"Any\">Any</th><th title=\"Float64\">Float64</th><th title=\"Float64\">Float64</th></tr></thead><tbody><tr><th>1</th><td>EC</td><td>43112.0</td><td>44920.7</td></tr><tr><th>2</th><td>user4</td><td>10068.7</td><td>8899.53</td></tr><tr><th>3</th><td>user7</td><td>43112.0</td><td>44920.7</td></tr><tr><th>4</th><td>user8</td><td>8923.56</td><td>6646.43</td></tr><tr><th>5</th><td>user9</td><td>8073.94</td><td>6117.47</td></tr><tr><th>6</th><td>user2</td><td>6444.78</td><td>4167.65</td></tr><tr><th>7</th><td>user1</td><td>6351.43</td><td>4432.57</td></tr><tr><th>8</th><td>user5</td><td>43112.0</td><td>51717.0</td></tr><tr><th>9</th><td>user3</td><td>8346.22</td><td>6191.01</td></tr><tr><th>10</th><td>user6</td><td>6493.32</td><td>4216.19</td></tr><tr><th>11</th><td>user10</td><td>43112.0</td><td>44920.7</td></tr></tbody></table></div>"
      ],
      "text/latex": [
       "\\begin{tabular}{r|ccc}\n",
       "\t& user\\_set & varcore\\_iter & varleastcore\\_iter\\\\\n",
       "\t\\hline\n",
       "\t& Any & Float64 & Float64\\\\\n",
       "\t\\hline\n",
       "\t1 & EC & 43112.0 & 44920.7 \\\\\n",
       "\t2 & user4 & 10068.7 & 8899.53 \\\\\n",
       "\t3 & user7 & 43112.0 & 44920.7 \\\\\n",
       "\t4 & user8 & 8923.56 & 6646.43 \\\\\n",
       "\t5 & user9 & 8073.94 & 6117.47 \\\\\n",
       "\t6 & user2 & 6444.78 & 4167.65 \\\\\n",
       "\t7 & user1 & 6351.43 & 4432.57 \\\\\n",
       "\t8 & user5 & 43112.0 & 51717.0 \\\\\n",
       "\t9 & user3 & 8346.22 & 6191.01 \\\\\n",
       "\t10 & user6 & 6493.32 & 4216.19 \\\\\n",
       "\t11 & user10 & 43112.0 & 44920.7 \\\\\n",
       "\\end{tabular}\n"
      ],
      "text/plain": [
       "\u001b[1m11×3 DataFrame\u001b[0m\n",
       "\u001b[1m Row \u001b[0m│\u001b[1m user_set \u001b[0m\u001b[1m varcore_iter \u001b[0m\u001b[1m varleastcore_iter \u001b[0m\n",
       "\u001b[1m     \u001b[0m│\u001b[90m Any      \u001b[0m\u001b[90m Float64      \u001b[0m\u001b[90m Float64           \u001b[0m\n",
       "─────┼───────────────────────────────────────────\n",
       "   1 │ EC            43112.0            44920.7\n",
       "   2 │ user4         10068.7             8899.53\n",
       "   3 │ user7         43112.0            44920.7\n",
       "   4 │ user8          8923.56            6646.43\n",
       "   5 │ user9          8073.94            6117.47\n",
       "   6 │ user2          6444.78            4167.65\n",
       "   7 │ user1          6351.43            4432.57\n",
       "   8 │ user5         43112.0            51717.0\n",
       "   9 │ user3          8346.22            6191.01\n",
       "  10 │ user6          6493.32            4216.19\n",
       "  11 │ user10        43112.0            44920.7"
      ]
     },
     "metadata": {},
     "output_type": "display_data"
    }
   ],
   "source": [
    "df_reward = df_reward_iter # innerjoin(df_reward_enum, df_reward_iter, on=:user_set)\n",
    "df_reward"
   ]
  },
  {
   "cell_type": "code",
   "execution_count": 13,
   "metadata": {},
   "outputs": [
    {
     "data": {
      "text/plain": [
       "Dict{String, Float64} with 3 entries:\n",
       "  \"varcore_iter\"      => 5698.42\n",
       "  \"IterMode\"          => 0.0\n",
       "  \"varleastcore_iter\" => 7749.87"
      ]
     },
     "metadata": {},
     "output_type": "display_data"
    }
   ],
   "source": [
    "dict_time = dict_time_iter # merge(dict_time_enum, dict_time_iter)\n",
    "dict_time"
   ]
  },
  {
   "cell_type": "markdown",
   "metadata": {},
   "source": [
    "Save results"
   ]
  },
  {
   "cell_type": "code",
   "execution_count": 14,
   "metadata": {},
   "outputs": [
    {
     "data": {
      "text/latex": [
       "\\begin{tabular}{ccc}\n",
       "user_set & varcore_iter & varleastcore_iter\\\\\n",
       "EC & 43.11 & 44.92\\\\\n",
       "user1 & 10.07 & 8.90\\\\\n",
       "user2 & 43.11 & 44.92\\\\\n",
       "user3 & 8.92 & 6.65\\\\\n",
       "user4 & 8.07 & 6.12\\\\\n",
       "user5 & 6.44 & 4.17\\\\\n",
       "user6 & 6.35 & 4.43\\\\\n",
       "user7 & 43.11 & 51.72\\\\\n",
       "user8 & 8.35 & 6.19\\\\\n",
       "user9 & 6.49 & 4.22\\\\\n",
       "user10 & 43.11 & 44.92\\\\\n",
       "\\end{tabular}\n"
      ],
      "text/plain": [
       "L\"\\begin{tabular}{ccc}\n",
       "user_set & varcore_iter & varleastcore_iter\\\\\n",
       "EC & 43.11 & 44.92\\\\\n",
       "user1 & 10.07 & 8.90\\\\\n",
       "user2 & 43.11 & 44.92\\\\\n",
       "user3 & 8.92 & 6.65\\\\\n",
       "user4 & 8.07 & 6.12\\\\\n",
       "user5 & 6.44 & 4.17\\\\\n",
       "user6 & 6.35 & 4.43\\\\\n",
       "user7 & 43.11 & 51.72\\\\\n",
       "user8 & 8.35 & 6.19\\\\\n",
       "user9 & 6.49 & 4.22\\\\\n",
       "user10 & 43.11 & 44.92\\\\\n",
       "\\end{tabular}\n",
       "\""
      ]
     },
     "metadata": {},
     "output_type": "display_data"
    }
   ],
   "source": [
    "# print to latex the reward table\n",
    "set_default(fmt = \"%.2f\", convert_unicode = false)\n",
    "\n",
    "sorted_user_set = [EC_CODE; [\"user$u\" for u in 1:length(get_user_set(ECModel))]]\n",
    "\n",
    "df_reward_mod = copy(df_reward)\n",
    "sort!(df_reward_mod, [order(:user_set, by=x->findfirst(x .== sorted_user_set))])\n",
    "df_reward_mod[!, 2:end] = df_reward[!, 2:end] ./ 1000  # change € unit to k€\n",
    "tex_df_reward = latexify(df_reward_mod; env=:table, latex=false)"
   ]
  },
  {
   "cell_type": "code",
   "execution_count": 15,
   "metadata": {},
   "outputs": [
    {
     "data": {
      "text/html": [
       "<div class=\"data-frame\"><p>1 rows × 3 columns</p><table class=\"data-frame\"><thead><tr><th></th><th>title</th><th>varcore_iter</th><th>varleastcore_iter</th></tr><tr><th></th><th title=\"LaTeXString\">LaTeXStr…</th><th title=\"Float64\">Float64</th><th title=\"Float64\">Float64</th></tr></thead><tbody><tr><th>1</th><td>$Time [h]$</td><td>1.58289</td><td>2.15274</td></tr></tbody></table></div>"
      ],
      "text/latex": [
       "\\begin{tabular}{r|ccc}\n",
       "\t& title & varcore\\_iter & varleastcore\\_iter\\\\\n",
       "\t\\hline\n",
       "\t& LaTeXStr… & Float64 & Float64\\\\\n",
       "\t\\hline\n",
       "\t1 & $Time [h]$ & 1.58289 & 2.15274 \\\\\n",
       "\\end{tabular}\n"
      ],
      "text/plain": [
       "\u001b[1m1×3 DataFrame\u001b[0m\n",
       "\u001b[1m Row \u001b[0m│\u001b[1m title      \u001b[0m\u001b[1m varcore_iter \u001b[0m\u001b[1m varleastcore_iter \u001b[0m\n",
       "\u001b[1m     \u001b[0m│\u001b[90m LaTeXStr…  \u001b[0m\u001b[90m Float64      \u001b[0m\u001b[90m Float64           \u001b[0m\n",
       "─────┼─────────────────────────────────────────────\n",
       "   1 │ $Time [h]$       1.58289            2.15274"
      ]
     },
     "metadata": {},
     "output_type": "display_data"
    }
   ],
   "source": [
    "df_time = DataFrame(dict_time)[!, names(df_reward)[2:end]]./3600\n",
    "df_time[!, \"title\"] = [L\"Time [h]\"]\n",
    "df_time = df_time[!, [\"title\"; names(df_reward)[2:end]]]"
   ]
  },
  {
   "cell_type": "code",
   "execution_count": 16,
   "metadata": {},
   "outputs": [
    {
     "data": {
      "text/html": [
       "<div class=\"data-frame\"><p>1 rows × 3 columns</p><table class=\"data-frame\"><thead><tr><th></th><th>title</th><th>varcore_iter</th><th>varleastcore_iter</th></tr><tr><th></th><th title=\"LaTeXString\">LaTeXStr…</th><th title=\"Int64\">Int64</th><th title=\"Int64\">Int64</th></tr></thead><tbody><tr><th>1</th><td>$Iterations$</td><td>14</td><td>23</td></tr></tbody></table></div>"
      ],
      "text/latex": [
       "\\begin{tabular}{r|ccc}\n",
       "\t& title & varcore\\_iter & varleastcore\\_iter\\\\\n",
       "\t\\hline\n",
       "\t& LaTeXStr… & Int64 & Int64\\\\\n",
       "\t\\hline\n",
       "\t1 & $Iterations$ & 14 & 23 \\\\\n",
       "\\end{tabular}\n"
      ],
      "text/plain": [
       "\u001b[1m1×3 DataFrame\u001b[0m\n",
       "\u001b[1m Row \u001b[0m│\u001b[1m title        \u001b[0m\u001b[1m varcore_iter \u001b[0m\u001b[1m varleastcore_iter \u001b[0m\n",
       "\u001b[1m     \u001b[0m│\u001b[90m LaTeXStr…    \u001b[0m\u001b[90m Int64        \u001b[0m\u001b[90m Int64             \u001b[0m\n",
       "─────┼───────────────────────────────────────────────\n",
       "   1 │ $Iterations$            14                 23"
      ]
     },
     "metadata": {},
     "output_type": "display_data"
    }
   ],
   "source": [
    "df_iterations = DataFrame(\n",
    "    title=L\"Iterations\",\n",
    "    varcore_iter=history_varcore_iter[end][1],\n",
    "    varleastcore_iter=history_varleastcore_iter[end][1],\n",
    ")"
   ]
  },
  {
   "cell_type": "code",
   "execution_count": 17,
   "metadata": {},
   "outputs": [
    {
     "data": {
      "text/latex": [
       "\\begin{tabular}{ccc}\n",
       "$title$ & $varcore_{iter}$ & $varleastcore_{iter}$\\\\\n",
       "$Time [h]$ & $1.58$ & $2.15$\\\\\n",
       "$Iterations$ & $14.00$ & $23.00$\\\\\n",
       "\\end{tabular}\n"
      ],
      "text/plain": [
       "L\"\\begin{tabular}{ccc}\n",
       "$title$ & $varcore_{iter}$ & $varleastcore_{iter}$\\\\\n",
       "$Time [h]$ & $1.58$ & $2.15$\\\\\n",
       "$Iterations$ & $14.00$ & $23.00$\\\\\n",
       "\\end{tabular}\n",
       "\""
      ]
     },
     "metadata": {},
     "output_type": "display_data"
    }
   ],
   "source": [
    "df_computational_time = vcat(df_time, df_iterations)\n",
    "\n",
    "# print to latex the equivalent dataframe for time\n",
    "tex_df_computational_time = latexify(df_computational_time; env=:table)"
   ]
  },
  {
   "cell_type": "code",
   "execution_count": 18,
   "metadata": {},
   "outputs": [],
   "source": [
    "# save latex code\n",
    "open(latex_output,\"w\") do io\n",
    "    println(io, \"Reward distribution table\\n\\n\\n\")\n",
    "    print(io, tex_df_reward)\n",
    "    println(io, \"Computational time table\\n\\n\\n\")\n",
    "    print(io, tex_df_computational_time)\n",
    "end"
   ]
  },
  {
   "cell_type": "code",
   "execution_count": 19,
   "metadata": {},
   "outputs": [
    {
     "name": "stderr",
     "output_type": "stream",
     "text": [
      "┌ Warning: Opening file with JLD2.MmapIO failed, falling back to IOStream\n",
      "└ @ JLD2 C:\\Users\\Davide\\.julia\\packages\\JLD2\\k9Gt0\\src\\JLD2.jl:233\n"
     ]
    }
   ],
   "source": [
    "if !isfile(total_results_file) || overwrite_files\n",
    "    jldsave(total_results_file; df_reward, dict_time, df_computational_time)\n",
    "end"
   ]
  }
 ],
 "metadata": {
  "kernelspec": {
   "display_name": "Julia 1.6.1",
   "language": "julia",
   "name": "julia-1.6"
  },
  "language_info": {
   "file_extension": ".jl",
   "mimetype": "application/julia",
   "name": "julia",
   "version": "1.6.1"
  },
  "orig_nbformat": 4
 },
 "nbformat": 4,
 "nbformat_minor": 2
}
