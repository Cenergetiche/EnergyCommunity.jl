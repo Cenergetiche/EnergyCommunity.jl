{
 "cells": [
  {
   "cell_type": "markdown",
   "metadata": {},
   "source": [
    "# Compare EC profit redistribution\n",
    "\n",
    "This notebook aims at comparing the profit redistribution for an Energy Community\n",
    "using the package EnergyCommunity.jl and TheoryOfGames.jl"
   ]
  },
  {
   "cell_type": "markdown",
   "metadata": {},
   "source": [
    "## Configuration"
   ]
  },
  {
   "cell_type": "markdown",
   "metadata": {},
   "source": [
    "### Paths"
   ]
  },
  {
   "cell_type": "code",
   "execution_count": 22,
   "metadata": {},
   "outputs": [
    {
     "data": {
      "text/plain": [
       "true"
      ]
     },
     "metadata": {},
     "output_type": "display_data"
    }
   ],
   "source": [
    "input_file = joinpath(@__DIR__, \"../data/energy_community_model.yml\")  # Input file\n",
    "\n",
    "output_file_isolated = joinpath(@__DIR__, \"../results/output_file_NC.xlsx\")  # Output file - model users alone\n",
    "output_plot_isolated = joinpath(@__DIR__, \"../results/Img/plot_user_{:s}_NC.png\")  # Output png file of plot - model users alone\n",
    "\n",
    "output_file_combined = joinpath(@__DIR__, \"../results/output_file_EC.xlsx\")  # Output file - model Energy community\n",
    "output_plot_combined = joinpath(@__DIR__, \"../results/Img/plot_user_{:s}_EC.pdf\")  # Output png file of plot - model energy community\n",
    "\n",
    "output_plot_sankey_agg = joinpath(@__DIR__, \"../results/Img/sankey_EC.png\")  # Output plot of the sankey plot related to the aggregator case\n",
    "output_plot_sankey_noagg = joinpath(@__DIR__, \"../results/Img/sankey_NC.png\")  # Output plot of the sankey plot related to the no aggregator case\n",
    "\n",
    "enum_mode_file = \"enum_mode_datasest.jld2\"  # file used to store the enumerative results\n",
    "total_results_file = \"total_results_file_poolmode0_poolsearch200_poolsearch200_N12.jld2\"  # file to store all major results\n",
    "latex_output = \"latex_output_poolmode0_poolsearch200_poolsearch200_N12.txt\"\n",
    "\n",
    "overwrite_files = true  # when true, output files are overwritten"
   ]
  },
  {
   "cell_type": "markdown",
   "metadata": {},
   "source": [
    "### Import libraries"
   ]
  },
  {
   "cell_type": "code",
   "execution_count": 23,
   "metadata": {},
   "outputs": [],
   "source": [
    "#using Revise\n",
    "using EnergyCommunity\n",
    "using FileIO\n",
    "using HiGHS, Plots\n",
    "using JuMP\n",
    "using Gurobi\n",
    "using TheoryOfGames\n",
    "using TickTock\n",
    "using Combinatorics\n",
    "using DataFrames\n",
    "using JLD2\n",
    "using Latexify, LaTeXStrings"
   ]
  },
  {
   "cell_type": "markdown",
   "metadata": {},
   "source": [
    "### Solver configurations"
   ]
  },
  {
   "cell_type": "code",
   "execution_count": 24,
   "metadata": {},
   "outputs": [
    {
     "data": {
      "text/plain": [
       "MathOptInterface.OptimizerWithAttributes(Gurobi.Optimizer, Pair{MathOptInterface.AbstractOptimizerAttribute, Any}[MathOptInterface.RawOptimizerAttribute(\"OutputFlag\") => 1, MathOptInterface.RawOptimizerAttribute(\"LogToConsole\") => 0, MathOptInterface.RawOptimizerAttribute(\"MIPGap\") => 0.1, MathOptInterface.RawOptimizerAttribute(\"TimeLimit\") => 1000, MathOptInterface.RawOptimizerAttribute(\"LogFile\") => \"gurobi_poolmode0_poolsearch200_N12.log\", MathOptInterface.RawOptimizerAttribute(\"Threads\") => 10, MathOptInterface.RawOptimizerAttribute(\"PoolSolutions\") => 200, MathOptInterface.RawOptimizerAttribute(\"PoolSearchMode\") => 0])"
      ]
     },
     "metadata": {},
     "output_type": "display_data"
    }
   ],
   "source": [
    "# General optimizer\n",
    "OPTIMIZER = optimizer_with_attributes(Gurobi.Optimizer, \"OutputFlag\"=>0, \"Threads\"=>10)\n",
    "\n",
    "# Optimizer for row-generation techniques, used in the IterMode of TheoryOfGames.jl\n",
    "OPTIMIZER_ROW_GENERATION = optimizer_with_attributes(Gurobi.Optimizer,\n",
    "    \"OutputFlag\"=>1,\n",
    "    \"LogToConsole\"=>0,\n",
    "    \"MIPGap\"=>0.1,\n",
    "    # \"MIPFocus\"=>1,\n",
    "    \"TimeLimit\"=>1000,\n",
    "    \"LogFile\"=>\"gurobi_poolmode0_poolsearch200_N12.log\",\n",
    "    \"Threads\"=>10,\n",
    "    # \"NoRelHeurTime\"=>10,\n",
    "    \"PoolSolutions\"=>200,\n",
    "    \"PoolSearchMode\"=>0,\n",
    "    # \"Crossover\"=>0,  # disable crossover\n",
    ")"
   ]
  },
  {
   "cell_type": "markdown",
   "metadata": {},
   "source": [
    "### Energy Community options"
   ]
  },
  {
   "cell_type": "code",
   "execution_count": 25,
   "metadata": {},
   "outputs": [],
   "source": [
    "NO_AGG_GROUP = GroupANC();  # type of aggregation when the Aggregator does not belong to the coalition.\n",
    "                            # options: GroupANC() or GroupNC()\n",
    "BASE_GROUP = GroupNC();     # base type of aggregation (it shall be GroupNC)"
   ]
  },
  {
   "cell_type": "markdown",
   "metadata": {},
   "source": [
    "## General"
   ]
  },
  {
   "cell_type": "code",
   "execution_count": 26,
   "metadata": {},
   "outputs": [
    {
     "data": {
      "text/plain": [
       "1000"
      ]
     },
     "metadata": {},
     "output_type": "display_data"
    }
   ],
   "source": [
    "ENV[\"COLUMNS\"] = 1000  # to print more columns in the output"
   ]
  },
  {
   "cell_type": "markdown",
   "metadata": {},
   "source": [
    "## Optimize the Energy Community in the COperative configuration"
   ]
  },
  {
   "cell_type": "code",
   "execution_count": 27,
   "metadata": {},
   "outputs": [
    {
     "name": "stdout",
     "output_type": "stream",
     "text": [
      "Academic license - for non-commercial use only - expires 2023-02-04\r\n"
     ]
    },
    {
     "data": {
      "text/plain": [
       "An Energy Community Model\n",
       "Energy Community problem for a Cooperative Model\n",
       "User set: Any[\"user4\", \"user7\", \"user8\", \"user9\", \"user2\", \"user1\", \"user5\", \"user3\", \"user6\", \"user10\"]\n"
      ]
     },
     "metadata": {},
     "output_type": "display_data"
    },
    {
     "name": "stdout",
     "output_type": "stream",
     "text": [
      "Solved model\n"
     ]
    }
   ],
   "source": [
    "# Read data from excel file\n",
    "ECModel = ModelEC(input_file, EnergyCommunity.GroupCO(), OPTIMIZER)\n",
    "\n",
    "# Reset the user set to use all stored users (10)\n",
    "reset_user_set!(ECModel)\n",
    "# set_user_set!(ECModel, [\"user$id\" for id=1:8])\n",
    "\n",
    "# Build the model\n",
    "build_model!(ECModel)\n",
    "\n",
    "# Optimize the model\n",
    "optimize!(ECModel)"
   ]
  },
  {
   "cell_type": "markdown",
   "metadata": {},
   "source": [
    "## Calculate the reward distribution functions by row-generation techniques (IterMode in TheoryOfGames.jl)"
   ]
  },
  {
   "cell_type": "markdown",
   "metadata": {},
   "source": [
    "### Define the row-generation decomposition mode by IterMode"
   ]
  },
  {
   "cell_type": "code",
   "execution_count": 28,
   "metadata": {},
   "outputs": [
    {
     "name": "stdout",
     "output_type": "stream",
     "text": [
      "Academic license - for non-commercial use only - expires 2023-02-04\r\n",
      "Academic license - for non-commercial use only - expires 2023-02-04\r\n",
      "Academic license - for non-commercial use only - expires 2023-02-04\r\n",
      "Academic license - for non-commercial use only - expires 2023-02-04\r\n",
      "Academic license - for non-commercial use only - expires 2023-02-04\r\n"
     ]
    },
    {
     "data": {
      "text/plain": [
       "IterMode(Any[\"EC\", \"user4\", \"user7\", \"user8\", \"user9\", \"user2\", \"user1\", \"user5\", \"user3\", \"user6\", \"user10\"], EnergyCommunity.var\"#utility_callback_by_subgroup#662\"{EnergyCommunity.var\"#objective_callback_by_subgroup#583\"{ModelEC, EnergyCommunity.var\"#objective_callback_by_subgroup#611\"{ModelEC}}, EnergyCommunity.var\"#objective_callback_by_subgroup#488\"{JuMP.Containers.DenseAxisArray{Float64, 1, Tuple{Vector{Any}}, Tuple{JuMP.Containers._AxisLookup{Dict{Any, Int64}}}}}}(EnergyCommunity.var\"#objective_callback_by_subgroup#583\"{ModelEC, EnergyCommunity.var\"#objective_callback_by_subgroup#611\"{ModelEC}}(An Energy Community Model\n",
       "Energy Community problem for a Cooperative Model\n",
       "User set: Any[\"user4\", \"user7\", \"user8\", \"user9\", \"user2\", \"user1\", \"user5\", \"user3\", \"user6\", \"user10\"]\n",
       ", EnergyCommunity.var\"#objective_callback_by_subgroup#611\"{ModelEC}(An Energy Community Model\n",
       "Energy Community problem for a Aggregating-Non-Cooperative Model\n",
       "User set: Any[\"user4\", \"user7\", \"user8\", \"user9\", \"user2\", \"user1\", \"user5\", \"user3\", \"user6\", \"user10\"]\n",
       ")), EnergyCommunity.var\"#objective_callback_by_subgroup#488\"{JuMP.Containers.DenseAxisArray{Float64, 1, Tuple{Vector{Any}}, Tuple{JuMP.Containers._AxisLookup{Dict{Any, Int64}}}}}(1-dimensional DenseAxisArray{Float64,1,...} with index sets:\n",
       "    Dimension 1, Any[\"EC\", \"user4\", \"user7\", \"user8\", \"user9\", \"user2\", \"user1\", \"user5\", \"user3\", \"user6\", \"user10\"]\n",
       "And data, a 11-element Vector{Float64}:\n",
       "       0.0\n",
       " -262503.5936211658\n",
       " -366510.0412850098\n",
       " -314420.91625068616\n",
       " -312999.8830774601\n",
       " -223241.1205710987\n",
       " -563669.0832118867\n",
       " -582508.7834697609\n",
       " -435831.6903603825\n",
       " -319124.974401537\n",
       " -354136.2367661281)), EnergyCommunity.var\"#least_profitable_coalition_callback#696\"{EnergyCommunity.var\"#least_profitable_coalition_callback#694#697\"{ModelEC, Int64}}(EnergyCommunity.var\"#least_profitable_coalition_callback#694#697\"{ModelEC, Int64}(An Energy Community Model\n",
       "Energy Community problem for a Cooperative Model\n",
       "User set: Any[\"user4\", \"user7\", \"user8\", \"user9\", \"user2\", \"user1\", \"user5\", \"user3\", \"user6\", \"user10\"]\n",
       ", 1)))"
      ]
     },
     "metadata": {},
     "output_type": "display_data"
    },
    {
     "name": "stdout",
     "output_type": "stream",
     "text": [
      "Model not optimized\n",
      "Solved model\n",
      "Model not optimized\n"
     ]
    }
   ],
   "source": [
    "iter_mode = IterMode(ECModel, BASE_GROUP; no_aggregator_group=NO_AGG_GROUP, optimizer=OPTIMIZER_ROW_GENERATION)"
   ]
  },
  {
   "cell_type": "markdown",
   "metadata": {},
   "source": [
    "Define coalitions to precompute when performing the iterative procedure"
   ]
  },
  {
   "cell_type": "code",
   "execution_count": 29,
   "metadata": {},
   "outputs": [
    {
     "data": {
      "text/plain": [
       "77"
      ]
     },
     "metadata": {},
     "output_type": "display_data"
    }
   ],
   "source": [
    "# include all coalitions having no more than preload_max_size users\n",
    "preload_combs_set =  [1, length(ECModel.user_set)-1, length(ECModel.user_set)] #[1, 2, 3]  #length(ECModel.user_set)]\n",
    "\n",
    "preload_coalitions = collect(Iterators.flatten([combinations([EC_CODE; ECModel.user_set], k) for k = preload_combs_set]))\n",
    "\n",
    "length(preload_coalitions)"
   ]
  },
  {
   "cell_type": "markdown",
   "metadata": {},
   "source": [
    "### Calculate reward distribution using row-generation technique"
   ]
  },
  {
   "cell_type": "markdown",
   "metadata": {},
   "source": [
    "Variance Least Core using IterMode"
   ]
  },
  {
   "cell_type": "code",
   "execution_count": 30,
   "metadata": {},
   "outputs": [
    {
     "name": "stdout",
     "output_type": "stream",
     "text": [
      "PHASE 1: Start first least core analysis\n",
      "\n"
     ]
    },
    {
     "name": "stderr",
     "output_type": "stream",
     "text": [
      "┌ Info:  started timer at: 2022-06-24T18:20:01.916\n",
      "└ @ TickTock C:\\Users\\Davide\\.julia\\packages\\TickTock\\fGILW\\src\\TickTock.jl:54\n"
     ]
    },
    {
     "name": "stdout",
     "output_type": "stream",
     "text": [
      "Academic license - for non-commercial use only - expires 2023-02-04\r\n",
      "Academic license - for non-commercial use only - expires 2023-02-04\r\n",
      "Academic license - for non-commercial use only - expires 2023-02-04\r\n",
      "Academic license - for non-commercial use only - expires 2023-02-04\r\n",
      "Academic license - for non-commercial use only - expires 2023-02-04\r\n",
      "Academic license - for non-commercial use only - expires 2023-02-04\r\n",
      "Academic license - for non-commercial use only - expires 2023-02-04\r\n",
      "Academic license - for non-commercial use only - expires 2023-02-04\r\n",
      "Academic license - for non-commercial use only - expires 2023-02-04\r\n",
      "Academic license - for non-commercial use only - expires 2023-02-04\r\n",
      "Academic license - for non-commercial use only - expires 2023-02-04\r\n",
      "Academic license - for non-commercial use only - expires 2023-02-04\r\n",
      "Academic license - for non-commercial use only - expires 2023-02-04\r\n",
      "Academic license - for non-commercial use only - expires 2023-02-04\r\n",
      "Academic license - for non-commercial use only - expires 2023-02-04\r\n",
      "Academic license - for non-commercial use only - expires 2023-02-04\r\n",
      "Academic license - for non-commercial use only - expires 2023-02-04\r\n",
      "Academic license - for non-commercial use only - expires 2023-02-04\r\n",
      "Academic license - for non-commercial use only - expires 2023-02-04\r\n",
      "Academic license - for non-commercial use only - expires 2023-02-04\r\n",
      "Academic license - for non-commercial use only - expires 2023-02-04\r\n",
      "Academic license - for non-commercial use only - expires 2023-02-04\r\n",
      "Academic license - for non-commercial use only - expires 2023-02-04\r\n",
      "Academic license - for non-commercial use only - expires 2023-02-04\r\n",
      "Academic license - for non-commercial use only - expires 2023-02-04\r\n",
      "Academic license - for non-commercial use only - expires 2023-02-04\r\n",
      "Academic license - for non-commercial use only - expires 2023-02-04\r\n",
      "Academic license - for non-commercial use only - expires 2023-02-04\r\n",
      "Academic license - for non-commercial use only - expires 2023-02-04\r\n",
      "Academic license - for non-commercial use only - expires 2023-02-04\r\n",
      "Academic license - for non-commercial use only - expires 2023-02-04\r\n",
      "Academic license - for non-commercial use only - expires 2023-02-04\r\n",
      "Academic license - for non-commercial use only - expires 2023-02-04\r\n",
      "Academic license - for non-commercial use only - expires 2023-02-04\r\n",
      "Academic license - for non-commercial use only - expires 2023-02-04\r\n",
      "Academic license - for non-commercial use only - expires 2023-02-04\r\n",
      "Academic license - for non-commercial use only - expires 2023-02-04\r\n",
      "Academic license - for non-commercial use only - expires 2023-02-04\r\n",
      "Academic license - for non-commercial use only - expires 2023-02-04\r\n",
      "Academic license - for non-commercial use only - expires 2023-02-04\r\n",
      "Academic license - for non-commercial use only - expires 2023-02-04\r\n",
      "Academic license - for non-commercial use only - expires 2023-02-04\r\n",
      "Academic license - for non-commercial use only - expires 2023-02-04\r\n",
      "Academic license - for non-commercial use only - expires 2023-02-04\r\n",
      "Academic license - for non-commercial use only - expires 2023-02-04\r\n",
      "Academic license - for non-commercial use only - expires 2023-02-04\r\n",
      "Academic license - for non-commercial use only - expires 2023-02-04\r\n",
      "Academic license - for non-commercial use only - expires 2023-02-04\r\n",
      "Academic license - for non-commercial use only - expires 2023-02-04\r\n",
      "Academic license - for non-commercial use only - expires 2023-02-04\r\n",
      "Academic license - for non-commercial use only - expires 2023-02-04\r\n",
      "Academic license - for non-commercial use only - expires 2023-02-04\r\n",
      "Academic license - for non-commercial use only - expires 2023-02-04\r\n",
      "Academic license - for non-commercial use only - expires 2023-02-04\r\n",
      "Academic license - for non-commercial use only - expires 2023-02-04\r\n",
      "Academic license - for non-commercial use only - expires 2023-02-04\r\n",
      "Academic license - for non-commercial use only - expires 2023-02-04\r\n",
      "Preload 77 coalitions"
     ]
    },
    {
     "name": "stdout",
     "output_type": "stream",
     "text": [
      "\n",
      "Iteration       Upper bound     Lower bound     Tol. [%]        Benefit distribution\n"
     ]
    },
    {
     "name": "stdout",
     "output_type": "stream",
     "text": [
      "1                3.22e+03       -2.36e+04        113.64         [61196.22712464025, 7954.270453939913, 46050.589517308166, 5701.171990193194, 5172.216515589273, 3222.387787027983, 3487.3146465045866, 31689.01038339059, 3222.387787027983, 3222.387787027983, 56232.08282918972]\n"
     ]
    },
    {
     "name": "stdout",
     "output_type": "stream",
     "text": [
      "2                3.22e+03       -1.03e+02        103.19         [34349.22707422194, 7954.270453939913, 46050.589517308166, 5701.171990193194, 5172.216515589273, 3222.387787027983, 3487.3146465045866, 58536.0104338089, 3222.387787027983, 3222.387787027983, 56232.08282918972]\n"
     ]
    },
    {
     "name": "stdout",
     "output_type": "stream",
     "text": [
      "3                2.90e+03        1.07e+03        63.20          [33047.278331425856, 8279.757639638936, 46376.07670300719, 6026.659175892217, 5497.703701288305, 2896.9006013289445, 3812.8018322036114, 56187.160867509294, 5571.237353327597, 2896.9006013289445, 56557.57001488874]"
     ]
    },
    {
     "name": "stdout",
     "output_type": "stream",
     "text": [
      "\n",
      "4                2.29e+03        1.36e+03        40.51          [30606.06122477809, 8890.06191630087, 46986.38097966913, 6636.963452554162, 6108.007977950232, 2286.596324667024, 4423.106108865544, 58018.07369749507, 3740.3245233418165, 2286.596324667024, 57167.87429155068]\n"
     ]
    },
    {
     "name": "stdout",
     "output_type": "stream",
     "text": [
      "5                2.29e+03        1.86e+03        18.72          [30606.061224778117, 8890.061916300872, 46986.38097966913, 6636.963452554133, 6108.00797795023, 2286.5963246670235, 4423.106108865546, 57091.727152335945, 4666.671068500935, 2286.5963246670235, 57167.87429155068]\n"
     ]
    },
    {
     "name": "stdout",
     "output_type": "stream",
     "text": [
      "6                2.29e+03        2.29e+03        0.00           [30606.061224778037, 8890.061916300881, 46986.380979669135, 6636.963452554162, 6108.007977950247, 2286.596324667049, 4423.106108865555, 57091.72715233592, 4238.535245205436, 2714.732147962539, 57167.87429155069]\n"
     ]
    },
    {
     "name": "stdout",
     "output_type": "stream",
     "text": [
      "PHASE 1: First least core analysis ended with value 2286.596324667049\n",
      " ----\n",
      "PHASE 2: Start second phase to indentify the desired objective\n",
      "\n"
     ]
    },
    {
     "name": "stdout",
     "output_type": "stream",
     "text": [
      "Iteration       Upper bound     Lower bound     Tol. [%]        Benefit distribution\n"
     ]
    },
    {
     "name": "stdout",
     "output_type": "stream",
     "text": [
      "7                2.29e+03        2.29e+03        0.00           [44920.105498658384, 8890.061916300889, 44920.10549868057, 6636.963452554167, 6108.007977950241, 4158.179249388975, 4423.106108865561, 51785.14852679433, 6181.54162998948, 4206.721463998179, 44920.10549865896]\n",
      "PHASE 2: Completed second phase\n"
     ]
    },
    {
     "name": "stdout",
     "output_type": "stream",
     "text": [
      "\n",
      "Variance Least Core - IterMode calculated with elapsed time [min]: 44.65359430666667\n"
     ]
    }
   ],
   "source": [
    "tick()\n",
    "varleastcore_dist_iter, min_surplus_varleastcore_iter, history_varleastcore_iter, model_dist_varleastcore_iter = var_least_core(\n",
    "    iter_mode,\n",
    "    OPTIMIZER;\n",
    "    lower_bound=0.0,\n",
    "    atol=1e-4,\n",
    "    raw_outputs=true,\n",
    "    preload_coalitions=preload_coalitions,\n",
    "    # best_objective_stop_option=\"BestObjStop\",\n",
    ")\n",
    "time_elapsed_varleastcore_iter=tok()\n",
    "println(\"Variance Least Core - IterMode calculated with elapsed time [min]: $(time_elapsed_varleastcore_iter/60)\")"
   ]
  },
  {
   "cell_type": "markdown",
   "metadata": {},
   "source": [
    "Variance Core method using IterMode"
   ]
  },
  {
   "cell_type": "code",
   "execution_count": 31,
   "metadata": {},
   "outputs": [
    {
     "name": "stdout",
     "output_type": "stream",
     "text": [
      "Academic license - for non-commercial use only - expires 2023-02-04\r\n",
      "Academic license - for non-commercial use only - expires 2023-02-04\r\n",
      "Academic license - for non-commercial use only - expires 2023-02-04\r\n",
      "Academic license - for non-commercial use only - expires 2023-02-04\r\n",
      "Academic license - for non-commercial use only - expires 2023-02-04\r\n",
      "Academic license - for non-commercial use only - expires 2023-02-04\r\n",
      "Academic license - for non-commercial use only - expires 2023-02-04\r\n",
      "Academic license - for non-commercial use only - expires 2023-02-04\r\n",
      "Academic license - for non-commercial use only - expires 2023-02-04\r\n",
      "Academic license - for non-commercial use only - expires 2023-02-04\r\n",
      "Academic license - for non-commercial use only - expires 2023-02-04\r\n",
      "Academic license - for non-commercial use only - expires 2023-02-04\r\n",
      "Academic license - for non-commercial use only - expires 2023-02-04\r\n",
      "Academic license - for non-commercial use only - expires 2023-02-04\r\n",
      "Academic license - for non-commercial use only - expires 2023-02-04\r\n",
      "Academic license - for non-commercial use only - expires 2023-02-04\r\n",
      "Academic license - for non-commercial use only - expires 2023-02-04\r\n",
      "Academic license - for non-commercial use only - expires 2023-02-04\r\n",
      "Academic license - for non-commercial use only - expires 2023-02-04\r\n",
      "Academic license - for non-commercial use only - expires 2023-02-04\r\n",
      "Academic license - for non-commercial use only - expires 2023-02-04\r\n",
      "Academic license - for non-commercial use only - expires 2023-02-04\r\n",
      "Academic license - for non-commercial use only - expires 2023-02-04\r\n",
      "Academic license - for non-commercial use only - expires 2023-02-04\r\n",
      "Academic license - for non-commercial use only - expires 2023-02-04\r\n",
      "Academic license - for non-commercial use only - expires 2023-02-04\r\n",
      "Academic license - for non-commercial use only - expires 2023-02-04\r\n",
      "Academic license - for non-commercial use only - expires 2023-02-04\r\n",
      "Academic license - for non-commercial use only - expires 2023-02-04\r\n",
      "Academic license - for non-commercial use only - expires 2023-02-04\r\n",
      "Academic license - for non-commercial use only - expires 2023-02-04\r\n",
      "Academic license - for non-commercial use only - expires 2023-02-04\r\n",
      "Academic license - for non-commercial use only - expires 2023-02-04\r\n",
      "Academic license - for non-commercial use only - expires 2023-02-04\r\n",
      "Academic license - for non-commercial use only - expires 2023-02-04\r\n",
      "Academic license - for non-commercial use only - expires 2023-02-04\r\n",
      "Academic license - for non-commercial use only - expires 2023-02-04\r\n",
      "Academic license - for non-commercial use only - expires 2023-02-04\r\n",
      "Academic license - for non-commercial use only - expires 2023-02-04\r\n",
      "Academic license - for non-commercial use only - expires 2023-02-04\r\n",
      "Academic license - for non-commercial use only - expires 2023-02-04\r\n",
      "Academic license - for non-commercial use only - expires 2023-02-04\r\n",
      "Academic license - for non-commercial use only - expires 2023-02-04\r\n",
      "Academic license - for non-commercial use only - expires 2023-02-04\r\n",
      "Academic license - for non-commercial use only - expires 2023-02-04\r\n",
      "Academic license - for non-commercial use only - expires 2023-02-04\r\n",
      "Academic license - for non-commercial use only - expires 2023-02-04\r\n",
      "Academic license - for non-commercial use only - expires 2023-02-04\r\n",
      "Academic license - for non-commercial use only - expires 2023-02-04\r\n",
      "Academic license - for non-commercial use only - expires 2023-02-04\r\n",
      "Academic license - for non-commercial use only - expires 2023-02-04\r\n",
      "Academic license - for non-commercial use only - expires 2023-02-04\r\n",
      "Academic license - for non-commercial use only - expires 2023-02-04\r\n",
      "Academic license - for non-commercial use only - expires 2023-02-04\r\n",
      "Academic license - for non-commercial use only - expires 2023-02-04\r\n",
      "Academic license - for non-commercial use only - expires 2023-02-04\r\n",
      "Academic license - for non-commercial use only - expires 2023-02-04\r\n",
      "Preload 77 coalitions\n",
      "Iteration       Upper bound     Lower bound     Tol. [%]        Benefit allocation\n"
     ]
    },
    {
     "name": "stderr",
     "output_type": "stream",
     "text": [
      "┌ Info:  started timer at: 2022-06-24T19:04:42.154\n",
      "└ @ TickTock C:\\Users\\Davide\\.julia\\packages\\TickTock\\fGILW\\src\\TickTock.jl:54\n"
     ]
    },
    {
     "name": "stdout",
     "output_type": "stream",
     "text": [
      "1                0.00e+00       -2.41e+02        100.00         [43051.78950254409, 10249.417479108555, 43051.78950253822, 8923.559777221159, 8134.169267800187, 6444.77557405596, 6291.200356742354, 43051.7895025412, 8406.448568081492, 6493.317788665189, 43051.789502541265]\n"
     ]
    },
    {
     "name": "stdout",
     "output_type": "stream",
     "text": [
      "2                0.00e+00       -9.39e-09        0.93           [43112.0178624679, 10068.732398833426, 43112.01786247398, 8923.559777221157, 8073.940908356586, 6444.775574055957, 6351.428716185725, 43112.01786247016, 8346.220208637622, 6493.317788665181, 43112.01786247196]\n",
      "Variance Core - IterMode calculated with elapsed time [min]: 24.464084373333332\n"
     ]
    }
   ],
   "source": [
    "tick()\n",
    "varcore_dist_iter, min_surplus_varcore_iter, history_varcore_iter, model_dist_varcore_iter = var_in_core(\n",
    "    iter_mode,\n",
    "    OPTIMIZER;\n",
    "    lower_bound=0.0,\n",
    "    atol=1e-4,\n",
    "    raw_outputs=true,\n",
    "    preload_coalitions=preload_coalitions,\n",
    "    # best_objective_stop_option=\"BestObjStop\",\n",
    ")\n",
    "time_elapsed_varcore_iter=tok()\n",
    "println(\"Variance Core - IterMode calculated with elapsed time [min]: $(time_elapsed_varcore_iter/60)\")"
   ]
  },
  {
   "cell_type": "markdown",
   "metadata": {},
   "source": [
    "Store results as a DataFrame"
   ]
  },
  {
   "cell_type": "code",
   "execution_count": 32,
   "metadata": {},
   "outputs": [
    {
     "data": {
      "text/html": [
       "<div class=\"data-frame\"><p>11 rows × 3 columns</p><table class=\"data-frame\"><thead><tr><th></th><th>user_set</th><th>varcore_iter</th><th>varleastcore_iter</th></tr><tr><th></th><th title=\"Any\">Any</th><th title=\"Float64\">Float64</th><th title=\"Float64\">Float64</th></tr></thead><tbody><tr><th>1</th><td>EC</td><td>43112.0</td><td>44920.1</td></tr><tr><th>2</th><td>user4</td><td>10068.7</td><td>8890.06</td></tr><tr><th>3</th><td>user7</td><td>43112.0</td><td>44920.1</td></tr><tr><th>4</th><td>user8</td><td>8923.56</td><td>6636.96</td></tr><tr><th>5</th><td>user9</td><td>8073.94</td><td>6108.01</td></tr><tr><th>6</th><td>user2</td><td>6444.78</td><td>4158.18</td></tr><tr><th>7</th><td>user1</td><td>6351.43</td><td>4423.11</td></tr><tr><th>8</th><td>user5</td><td>43112.0</td><td>51785.1</td></tr><tr><th>9</th><td>user3</td><td>8346.22</td><td>6181.54</td></tr><tr><th>10</th><td>user6</td><td>6493.32</td><td>4206.72</td></tr><tr><th>11</th><td>user10</td><td>43112.0</td><td>44920.1</td></tr></tbody></table></div>"
      ],
      "text/latex": [
       "\\begin{tabular}{r|ccc}\n",
       "\t& user\\_set & varcore\\_iter & varleastcore\\_iter\\\\\n",
       "\t\\hline\n",
       "\t& Any & Float64 & Float64\\\\\n",
       "\t\\hline\n",
       "\t1 & EC & 43112.0 & 44920.1 \\\\\n",
       "\t2 & user4 & 10068.7 & 8890.06 \\\\\n",
       "\t3 & user7 & 43112.0 & 44920.1 \\\\\n",
       "\t4 & user8 & 8923.56 & 6636.96 \\\\\n",
       "\t5 & user9 & 8073.94 & 6108.01 \\\\\n",
       "\t6 & user2 & 6444.78 & 4158.18 \\\\\n",
       "\t7 & user1 & 6351.43 & 4423.11 \\\\\n",
       "\t8 & user5 & 43112.0 & 51785.1 \\\\\n",
       "\t9 & user3 & 8346.22 & 6181.54 \\\\\n",
       "\t10 & user6 & 6493.32 & 4206.72 \\\\\n",
       "\t11 & user10 & 43112.0 & 44920.1 \\\\\n",
       "\\end{tabular}\n"
      ],
      "text/plain": [
       "\u001b[1m11×3 DataFrame\u001b[0m\n",
       "\u001b[1m Row \u001b[0m│\u001b[1m user_set \u001b[0m\u001b[1m varcore_iter \u001b[0m\u001b[1m varleastcore_iter \u001b[0m\n",
       "\u001b[1m     \u001b[0m│\u001b[90m Any      \u001b[0m\u001b[90m Float64      \u001b[0m\u001b[90m Float64           \u001b[0m\n",
       "─────┼───────────────────────────────────────────\n",
       "   1 │ EC            43112.0            44920.1\n",
       "   2 │ user4         10068.7             8890.06\n",
       "   3 │ user7         43112.0            44920.1\n",
       "   4 │ user8          8923.56            6636.96\n",
       "   5 │ user9          8073.94            6108.01\n",
       "   6 │ user2          6444.78            4158.18\n",
       "   7 │ user1          6351.43            4423.11\n",
       "   8 │ user5         43112.0            51785.1\n",
       "   9 │ user3          8346.22            6181.54\n",
       "  10 │ user6          6493.32            4206.72\n",
       "  11 │ user10        43112.0            44920.1"
      ]
     },
     "metadata": {},
     "output_type": "display_data"
    }
   ],
   "source": [
    "# vector of the users\n",
    "user_set_agg = [EC_CODE; get_user_set(ECModel)]\n",
    "\n",
    "\"Auxiliary function to order the output of reward distributions and return them as vectors\"\n",
    "vectorize_rewards(reward_dist, users_list=user_set_agg) = [reward_dist[u] for u in users_list]\n",
    "\n",
    "# dataframe of reward distributions for the enumerative mode\n",
    "df_reward_iter = DataFrame(\n",
    "    user_set=user_set_agg,\n",
    "    varcore_iter=vectorize_rewards(varcore_dist_iter),\n",
    "    varleastcore_iter=vectorize_rewards(varleastcore_dist_iter),\n",
    ")\n",
    "\n",
    "# dataframe of the time requirements\n",
    "dict_time_iter = Dict(\n",
    "    \"IterMode\"=>0.0,\n",
    "    \"varcore_iter\"=>time_elapsed_varcore_iter,\n",
    "    \"varleastcore_iter\"=>time_elapsed_varleastcore_iter,\n",
    ")\n",
    "\n",
    "df_reward_iter"
   ]
  },
  {
   "cell_type": "markdown",
   "metadata": {},
   "source": [
    "## Group all results and save them"
   ]
  },
  {
   "cell_type": "markdown",
   "metadata": {},
   "source": [
    "Merge results"
   ]
  },
  {
   "cell_type": "code",
   "execution_count": 33,
   "metadata": {},
   "outputs": [
    {
     "data": {
      "text/html": [
       "<div class=\"data-frame\"><p>11 rows × 3 columns</p><table class=\"data-frame\"><thead><tr><th></th><th>user_set</th><th>varcore_iter</th><th>varleastcore_iter</th></tr><tr><th></th><th title=\"Any\">Any</th><th title=\"Float64\">Float64</th><th title=\"Float64\">Float64</th></tr></thead><tbody><tr><th>1</th><td>EC</td><td>43112.0</td><td>44920.1</td></tr><tr><th>2</th><td>user4</td><td>10068.7</td><td>8890.06</td></tr><tr><th>3</th><td>user7</td><td>43112.0</td><td>44920.1</td></tr><tr><th>4</th><td>user8</td><td>8923.56</td><td>6636.96</td></tr><tr><th>5</th><td>user9</td><td>8073.94</td><td>6108.01</td></tr><tr><th>6</th><td>user2</td><td>6444.78</td><td>4158.18</td></tr><tr><th>7</th><td>user1</td><td>6351.43</td><td>4423.11</td></tr><tr><th>8</th><td>user5</td><td>43112.0</td><td>51785.1</td></tr><tr><th>9</th><td>user3</td><td>8346.22</td><td>6181.54</td></tr><tr><th>10</th><td>user6</td><td>6493.32</td><td>4206.72</td></tr><tr><th>11</th><td>user10</td><td>43112.0</td><td>44920.1</td></tr></tbody></table></div>"
      ],
      "text/latex": [
       "\\begin{tabular}{r|ccc}\n",
       "\t& user\\_set & varcore\\_iter & varleastcore\\_iter\\\\\n",
       "\t\\hline\n",
       "\t& Any & Float64 & Float64\\\\\n",
       "\t\\hline\n",
       "\t1 & EC & 43112.0 & 44920.1 \\\\\n",
       "\t2 & user4 & 10068.7 & 8890.06 \\\\\n",
       "\t3 & user7 & 43112.0 & 44920.1 \\\\\n",
       "\t4 & user8 & 8923.56 & 6636.96 \\\\\n",
       "\t5 & user9 & 8073.94 & 6108.01 \\\\\n",
       "\t6 & user2 & 6444.78 & 4158.18 \\\\\n",
       "\t7 & user1 & 6351.43 & 4423.11 \\\\\n",
       "\t8 & user5 & 43112.0 & 51785.1 \\\\\n",
       "\t9 & user3 & 8346.22 & 6181.54 \\\\\n",
       "\t10 & user6 & 6493.32 & 4206.72 \\\\\n",
       "\t11 & user10 & 43112.0 & 44920.1 \\\\\n",
       "\\end{tabular}\n"
      ],
      "text/plain": [
       "\u001b[1m11×3 DataFrame\u001b[0m\n",
       "\u001b[1m Row \u001b[0m│\u001b[1m user_set \u001b[0m\u001b[1m varcore_iter \u001b[0m\u001b[1m varleastcore_iter \u001b[0m\n",
       "\u001b[1m     \u001b[0m│\u001b[90m Any      \u001b[0m\u001b[90m Float64      \u001b[0m\u001b[90m Float64           \u001b[0m\n",
       "─────┼───────────────────────────────────────────\n",
       "   1 │ EC            43112.0            44920.1\n",
       "   2 │ user4         10068.7             8890.06\n",
       "   3 │ user7         43112.0            44920.1\n",
       "   4 │ user8          8923.56            6636.96\n",
       "   5 │ user9          8073.94            6108.01\n",
       "   6 │ user2          6444.78            4158.18\n",
       "   7 │ user1          6351.43            4423.11\n",
       "   8 │ user5         43112.0            51785.1\n",
       "   9 │ user3          8346.22            6181.54\n",
       "  10 │ user6          6493.32            4206.72\n",
       "  11 │ user10        43112.0            44920.1"
      ]
     },
     "metadata": {},
     "output_type": "display_data"
    }
   ],
   "source": [
    "df_reward = df_reward_iter # innerjoin(df_reward_enum, df_reward_iter, on=:user_set)\n",
    "df_reward"
   ]
  },
  {
   "cell_type": "code",
   "execution_count": 34,
   "metadata": {},
   "outputs": [
    {
     "data": {
      "text/plain": [
       "Dict{String, Float64} with 3 entries:\n",
       "  \"varcore_iter\"      => 1467.85\n",
       "  \"IterMode\"          => 0.0\n",
       "  \"varleastcore_iter\" => 2679.22"
      ]
     },
     "metadata": {},
     "output_type": "display_data"
    }
   ],
   "source": [
    "dict_time = dict_time_iter # merge(dict_time_enum, dict_time_iter)\n",
    "dict_time"
   ]
  },
  {
   "cell_type": "markdown",
   "metadata": {},
   "source": [
    "Save results"
   ]
  },
  {
   "cell_type": "code",
   "execution_count": 35,
   "metadata": {},
   "outputs": [
    {
     "data": {
      "text/latex": [
       "\\begin{tabular}{ccc}\n",
       "user_set & varcore_iter & varleastcore_iter\\\\\n",
       "EC & 43.11 & 44.92\\\\\n",
       "user1 & 10.07 & 8.89\\\\\n",
       "user2 & 43.11 & 44.92\\\\\n",
       "user3 & 8.92 & 6.64\\\\\n",
       "user4 & 8.07 & 6.11\\\\\n",
       "user5 & 6.44 & 4.16\\\\\n",
       "user6 & 6.35 & 4.42\\\\\n",
       "user7 & 43.11 & 51.79\\\\\n",
       "user8 & 8.35 & 6.18\\\\\n",
       "user9 & 6.49 & 4.21\\\\\n",
       "user10 & 43.11 & 44.92\\\\\n",
       "\\end{tabular}\n"
      ],
      "text/plain": [
       "L\"\\begin{tabular}{ccc}\n",
       "user_set & varcore_iter & varleastcore_iter\\\\\n",
       "EC & 43.11 & 44.92\\\\\n",
       "user1 & 10.07 & 8.89\\\\\n",
       "user2 & 43.11 & 44.92\\\\\n",
       "user3 & 8.92 & 6.64\\\\\n",
       "user4 & 8.07 & 6.11\\\\\n",
       "user5 & 6.44 & 4.16\\\\\n",
       "user6 & 6.35 & 4.42\\\\\n",
       "user7 & 43.11 & 51.79\\\\\n",
       "user8 & 8.35 & 6.18\\\\\n",
       "user9 & 6.49 & 4.21\\\\\n",
       "user10 & 43.11 & 44.92\\\\\n",
       "\\end{tabular}\n",
       "\""
      ]
     },
     "metadata": {},
     "output_type": "display_data"
    }
   ],
   "source": [
    "# print to latex the reward table\n",
    "set_default(fmt = \"%.2f\", convert_unicode = false)\n",
    "\n",
    "sorted_user_set = [EC_CODE; [\"user$u\" for u in 1:length(get_user_set(ECModel))]]\n",
    "\n",
    "df_reward_mod = copy(df_reward)\n",
    "sort!(df_reward_mod, [order(:user_set, by=x->findfirst(x .== sorted_user_set))])\n",
    "df_reward_mod[!, 2:end] = df_reward[!, 2:end] ./ 1000  # change € unit to k€\n",
    "tex_df_reward = latexify(df_reward_mod; env=:table, latex=false)"
   ]
  },
  {
   "cell_type": "code",
   "execution_count": 36,
   "metadata": {},
   "outputs": [
    {
     "data": {
      "text/html": [
       "<div class=\"data-frame\"><p>1 rows × 3 columns</p><table class=\"data-frame\"><thead><tr><th></th><th>title</th><th>varcore_iter</th><th>varleastcore_iter</th></tr><tr><th></th><th title=\"LaTeXString\">LaTeXStr…</th><th title=\"Float64\">Float64</th><th title=\"Float64\">Float64</th></tr></thead><tbody><tr><th>1</th><td>$Time [h]$</td><td>0.407735</td><td>0.744227</td></tr></tbody></table></div>"
      ],
      "text/latex": [
       "\\begin{tabular}{r|ccc}\n",
       "\t& title & varcore\\_iter & varleastcore\\_iter\\\\\n",
       "\t\\hline\n",
       "\t& LaTeXStr… & Float64 & Float64\\\\\n",
       "\t\\hline\n",
       "\t1 & $Time [h]$ & 0.407735 & 0.744227 \\\\\n",
       "\\end{tabular}\n"
      ],
      "text/plain": [
       "\u001b[1m1×3 DataFrame\u001b[0m\n",
       "\u001b[1m Row \u001b[0m│\u001b[1m title      \u001b[0m\u001b[1m varcore_iter \u001b[0m\u001b[1m varleastcore_iter \u001b[0m\n",
       "\u001b[1m     \u001b[0m│\u001b[90m LaTeXStr…  \u001b[0m\u001b[90m Float64      \u001b[0m\u001b[90m Float64           \u001b[0m\n",
       "─────┼─────────────────────────────────────────────\n",
       "   1 │ $Time [h]$      0.407735           0.744227"
      ]
     },
     "metadata": {},
     "output_type": "display_data"
    }
   ],
   "source": [
    "df_time = DataFrame(dict_time)[!, names(df_reward)[2:end]]./3600\n",
    "df_time[!, \"title\"] = [L\"Time [h]\"]\n",
    "df_time = df_time[!, [\"title\"; names(df_reward)[2:end]]]"
   ]
  },
  {
   "cell_type": "code",
   "execution_count": 37,
   "metadata": {},
   "outputs": [
    {
     "data": {
      "text/html": [
       "<div class=\"data-frame\"><p>1 rows × 3 columns</p><table class=\"data-frame\"><thead><tr><th></th><th>title</th><th>varcore_iter</th><th>varleastcore_iter</th></tr><tr><th></th><th title=\"LaTeXString\">LaTeXStr…</th><th title=\"Int64\">Int64</th><th title=\"Int64\">Int64</th></tr></thead><tbody><tr><th>1</th><td>$Iterations$</td><td>2</td><td>7</td></tr></tbody></table></div>"
      ],
      "text/latex": [
       "\\begin{tabular}{r|ccc}\n",
       "\t& title & varcore\\_iter & varleastcore\\_iter\\\\\n",
       "\t\\hline\n",
       "\t& LaTeXStr… & Int64 & Int64\\\\\n",
       "\t\\hline\n",
       "\t1 & $Iterations$ & 2 & 7 \\\\\n",
       "\\end{tabular}\n"
      ],
      "text/plain": [
       "\u001b[1m1×3 DataFrame\u001b[0m\n",
       "\u001b[1m Row \u001b[0m│\u001b[1m title        \u001b[0m\u001b[1m varcore_iter \u001b[0m\u001b[1m varleastcore_iter \u001b[0m\n",
       "\u001b[1m     \u001b[0m│\u001b[90m LaTeXStr…    \u001b[0m\u001b[90m Int64        \u001b[0m\u001b[90m Int64             \u001b[0m\n",
       "─────┼───────────────────────────────────────────────\n",
       "   1 │ $Iterations$             2                  7"
      ]
     },
     "metadata": {},
     "output_type": "display_data"
    }
   ],
   "source": [
    "df_iterations = DataFrame(\n",
    "    title=L\"Iterations\",\n",
    "    varcore_iter=history_varcore_iter[end][1],\n",
    "    varleastcore_iter=history_varleastcore_iter[end][1],\n",
    ")"
   ]
  },
  {
   "cell_type": "code",
   "execution_count": 38,
   "metadata": {},
   "outputs": [
    {
     "data": {
      "text/latex": [
       "\\begin{tabular}{ccc}\n",
       "$title$ & $varcore_{iter}$ & $varleastcore_{iter}$\\\\\n",
       "$Time [h]$ & $0.41$ & $0.74$\\\\\n",
       "$Iterations$ & $2.00$ & $7.00$\\\\\n",
       "\\end{tabular}\n"
      ],
      "text/plain": [
       "L\"\\begin{tabular}{ccc}\n",
       "$title$ & $varcore_{iter}$ & $varleastcore_{iter}$\\\\\n",
       "$Time [h]$ & $0.41$ & $0.74$\\\\\n",
       "$Iterations$ & $2.00$ & $7.00$\\\\\n",
       "\\end{tabular}\n",
       "\""
      ]
     },
     "metadata": {},
     "output_type": "display_data"
    }
   ],
   "source": [
    "df_computational_time = vcat(df_time, df_iterations)\n",
    "\n",
    "# print to latex the equivalent dataframe for time\n",
    "tex_df_computational_time = latexify(df_computational_time; env=:table)"
   ]
  },
  {
   "cell_type": "code",
   "execution_count": 39,
   "metadata": {},
   "outputs": [],
   "source": [
    "# save latex code\n",
    "open(latex_output,\"w\") do io\n",
    "    println(io, \"Reward distribution table\\n\\n\\n\")\n",
    "    print(io, tex_df_reward)\n",
    "    println(io, \"Computational time table\\n\\n\\n\")\n",
    "    print(io, tex_df_computational_time)\n",
    "end"
   ]
  },
  {
   "cell_type": "code",
   "execution_count": 40,
   "metadata": {},
   "outputs": [
    {
     "name": "stderr",
     "output_type": "stream",
     "text": [
      "┌ Warning: Opening file with JLD2.MmapIO failed, falling back to IOStream\n",
      "└ @ JLD2 C:\\Users\\Davide\\.julia\\packages\\JLD2\\k9Gt0\\src\\JLD2.jl:233\n"
     ]
    }
   ],
   "source": [
    "if !isfile(total_results_file) || overwrite_files\n",
    "    jldsave(total_results_file; df_reward, dict_time, df_computational_time)\n",
    "end"
   ]
  },
  {
   "cell_type": "code",
   "execution_count": 41,
   "metadata": {},
   "outputs": [
    {
     "data": {
      "text/plain": [
       "Dict{String, Any} with 3 entries:\n",
       "  \"df_reward\"             => \u001b[1m11×3 DataFrame\u001b[0m…\n",
       "  \"dict_time\"             => Dict(\"varcore_iter\"=>1467.85, \"IterMode\"=>0.0, \"varleastcore_iter\"=>2679.22)\n",
       "  \"df_computational_time\" => \u001b[1m2×3 DataFrame\u001b[0m…"
      ]
     },
     "metadata": {},
     "output_type": "display_data"
    }
   ],
   "source": [
    "load(total_results_file)"
   ]
  },
  {
   "cell_type": "code",
   "execution_count": 42,
   "metadata": {},
   "outputs": [],
   "source": []
  }
 ],
 "metadata": {
  "kernelspec": {
   "display_name": "Julia 1.6.1",
   "language": "julia",
   "name": "julia-1.6"
  },
  "language_info": {
   "file_extension": ".jl",
   "mimetype": "application/julia",
   "name": "julia",
   "version": "1.6.1"
  },
  "orig_nbformat": 4,
  "vscode": {
   "interpreter": {
    "hash": "e0dcd900f171e4ef5c975bbbd12aacff7cb15f6e8bb165de74d6d9f10a5265c5"
   }
  }
 },
 "nbformat": 4,
 "nbformat_minor": 2
}
