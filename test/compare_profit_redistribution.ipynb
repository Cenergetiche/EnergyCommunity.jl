{
 "cells": [
  {
   "cell_type": "markdown",
   "metadata": {},
   "source": [
    "# Compare EC profit redistribution\n",
    "\n",
    "This notebook aims at comparing the profit redistribution for an Energy Community\n",
    "using the package EnergyCommunity.jl and Games.jl"
   ]
  },
  {
   "cell_type": "markdown",
   "metadata": {},
   "source": [
    "## Configuration"
   ]
  },
  {
   "cell_type": "markdown",
   "metadata": {},
   "source": [
    "### Paths"
   ]
  },
  {
   "cell_type": "code",
   "execution_count": null,
   "metadata": {},
   "outputs": [],
   "source": [
    "input_file = joinpath(@__DIR__, \"../data/energy_community_model.yml\")  # Input file\n",
    "\n",
    "output_file_isolated = joinpath(@__DIR__, \"../results/output_file_NC.xlsx\")  # Output file - model users alone\n",
    "output_plot_isolated = joinpath(@__DIR__, \"../results/Img/plot_user_{:s}_NC.png\")  # Output png file of plot - model users alone\n",
    "\n",
    "output_file_combined = joinpath(@__DIR__, \"../results/output_file_EC.xlsx\")  # Output file - model Energy community\n",
    "output_plot_combined = joinpath(@__DIR__, \"../results/Img/plot_user_{:s}_EC.pdf\")  # Output png file of plot - model energy community\n",
    "\n",
    "output_plot_sankey_agg = joinpath(@__DIR__, \"../results/Img/sankey_EC.png\")  # Output plot of the sankey plot related to the aggregator case\n",
    "output_plot_sankey_noagg = joinpath(@__DIR__, \"../results/Img/sankey_NC.png\")  # Output plot of the sankey plot related to the no aggregator case\n",
    "\n",
    "enum_mode_file = \"enum_mode_datasest.jld2\"  # file used to store the enumerative results\n",
    "total_results_file = \"total_results_file_500.jld2\"  # file to store all major results\n",
    "latex_output = \"latex_output3.txt\"\n",
    "\n",
    "overwrite_files = true  # when true, output files are overwritten"
   ]
  },
  {
   "cell_type": "markdown",
   "metadata": {},
   "source": [
    "### Import libraries"
   ]
  },
  {
   "cell_type": "code",
   "execution_count": null,
   "metadata": {},
   "outputs": [],
   "source": [
    "using Revise\n",
    "using EnergyCommunity\n",
    "using FileIO\n",
    "using HiGHS, Plots\n",
    "using JuMP\n",
    "using Gurobi\n",
    "using Games\n",
    "using TickTock\n",
    "using Combinatorics\n",
    "using DataFrames\n",
    "using JLD2\n",
    "using Latexify, LaTeXStrings"
   ]
  },
  {
   "cell_type": "markdown",
   "metadata": {},
   "source": [
    "### Solver configurations"
   ]
  },
  {
   "cell_type": "code",
   "execution_count": null,
   "metadata": {},
   "outputs": [],
   "source": [
    "# General optimizer\n",
    "OPTIMIZER = optimizer_with_attributes(Gurobi.Optimizer, \"OutputFlag\"=>0, \"Threads\"=>10)\n",
    "\n",
    "# Optimizer for row-generation techniques, used in the IterMode of Games.jl\n",
    "OPTIMIZER_ROW_GENERATION = optimizer_with_attributes(Gurobi.Optimizer,\n",
    "    \"OutputFlag\"=>1,\n",
    "    \"LogToConsole\"=>0,\n",
    "    \"MIPGap\"=>0.1,\n",
    "    # \"MIPFocus\"=>1,\n",
    "    \"TimeLimit\"=>1000,\n",
    "    \"LogFile\"=>\"gurobi.log\",\n",
    "    \"Threads\"=>10,\n",
    "    # \"NoRelHeurTime\"=>10,\n",
    "    \"PoolSolutions\"=>500,\n",
    "    \"PoolSearchMode\"=>1,\n",
    ")"
   ]
  },
  {
   "cell_type": "markdown",
   "metadata": {},
   "source": [
    "### Energy Community options"
   ]
  },
  {
   "cell_type": "code",
   "execution_count": null,
   "metadata": {},
   "outputs": [],
   "source": [
    "NO_AGG_GROUP = GroupANC();  # type of aggregation when the Aggregator does not belong to the coalition.\n",
    "                            # options: GroupANC() or GroupNC()\n",
    "BASE_GROUP = GroupNC();     # base type of aggregation (it shall be GroupNC)"
   ]
  },
  {
   "cell_type": "markdown",
   "metadata": {},
   "source": [
    "## General"
   ]
  },
  {
   "cell_type": "code",
   "execution_count": null,
   "metadata": {},
   "outputs": [],
   "source": [
    "ENV[\"COLUMNS\"] = 1000  # to print more columns in the output"
   ]
  },
  {
   "cell_type": "markdown",
   "metadata": {},
   "source": [
    "## Optimize the Energy Community in the COperative configuration"
   ]
  },
  {
   "cell_type": "code",
   "execution_count": null,
   "metadata": {},
   "outputs": [],
   "source": [
    "# Read data from excel file\n",
    "ECModel = ModelEC(input_file, EnergyCommunity.GroupCO(), OPTIMIZER)\n",
    "\n",
    "# Reset the user set to use all stored users (10)\n",
    "reset_user_set!(ECModel)\n",
    "# set_user_set!(ECModel, [\"user$id\" for id=1:8])\n",
    "\n",
    "# Build the model\n",
    "build_model!(ECModel)\n",
    "\n",
    "# Optimize the model\n",
    "optimize!(ECModel)"
   ]
  },
  {
   "cell_type": "markdown",
   "metadata": {},
   "source": [
    "## Calculate the reward distribution functions by enumerative techniques (EnumMode in Games.jl)"
   ]
  },
  {
   "cell_type": "markdown",
   "metadata": {},
   "source": [
    "### Create enumerative mode\n",
    "\n",
    "Calculation of the enumerative mode used to compute several reward distribution functions"
   ]
  },
  {
   "cell_type": "code",
   "execution_count": null,
   "metadata": {},
   "outputs": [],
   "source": [
    "# if !isfile(total_results_file) || overwrite_files\n",
    "#     tick()\n",
    "#     enum_mode = EnumMode(ECModel, BASE_GROUP; no_aggregator_group=NO_AGG_GROUP)\n",
    "#     time_elapsed_enum=tok()\n",
    "#     println(\"EnumMode calculated with elapsed time [min]: $(time_elapsed_enum/60)\")\n",
    "# else\n",
    "time_elapsed_enum=0.0\n",
    "# end"
   ]
  },
  {
   "cell_type": "markdown",
   "metadata": {},
   "source": [
    "Save enum mode"
   ]
  },
  {
   "cell_type": "code",
   "execution_count": null,
   "metadata": {},
   "outputs": [],
   "source": [
    "# if !isfile(total_results_file) || overwrite_files\n",
    "#     save(enum_mode_file, enum_mode)\n",
    "# end"
   ]
  },
  {
   "cell_type": "markdown",
   "metadata": {},
   "source": [
    "Load EnumMode (when needed)"
   ]
  },
  {
   "cell_type": "code",
   "execution_count": null,
   "metadata": {},
   "outputs": [],
   "source": [
    "# enum_mode = load(enum_mode_file, EnumMode())"
   ]
  },
  {
   "cell_type": "markdown",
   "metadata": {},
   "source": [
    "### Calculate reward distribution using EnumMode"
   ]
  },
  {
   "cell_type": "code",
   "execution_count": null,
   "metadata": {},
   "outputs": [],
   "source": [
    "tick()\n",
    "shapley_dist_enum = shapley_value(enum_mode)  # shapley value\n",
    "time_elapsed_shapley_enum=tok()\n",
    "\n",
    "tick()\n",
    "nucleolus_dist_enum, n_iterations_nucleolus_enum, model_nucleolus_enum = nucleolus(enum_mode, OPTIMIZER; raw_outputs=true)  # nucleolus\n",
    "time_elapsed_nucleolus_enum=tok()\n",
    "\n",
    "tick()\n",
    "varcore_dist_enum = var_in_core(enum_mode, OPTIMIZER)  # variance in core\n",
    "time_elapsed_varcore_enum=tok()\n",
    "\n",
    "tick()\n",
    "varleastcore_dist_enum, val_minsurplus_enum, model_dist_enum = var_least_core(\n",
    "    enum_mode, OPTIMIZER; raw_outputs=true\n",
    ")  # variance least core (include raw outputs for comparison purposes)\n",
    "time_elapsed_varleastcore_enum=tok();"
   ]
  },
  {
   "cell_type": "markdown",
   "metadata": {},
   "source": [
    "Store the EnumMode reward distribution into a DataFrame for ease their use"
   ]
  },
  {
   "cell_type": "code",
   "execution_count": null,
   "metadata": {},
   "outputs": [],
   "source": [
    "# vector of the users\n",
    "user_set_agg = [EC_CODE; get_user_set(ECModel)]\n",
    "\n",
    "\"Auxiliary function to order the output of reward distributions and return them as vectors\"\n",
    "vectorize_rewards(reward_dist, users_list=user_set_agg) = [reward_dist[u] for u in users_list]\n",
    "\n",
    "# dataframe of reward distributions for the enumerative mode\n",
    "df_reward_enum = DataFrame(\n",
    "    user_set=user_set_agg,\n",
    "    shapley_enum=vectorize_rewards(shapley_dist_enum),\n",
    "    nucleolus_enum=vectorize_rewards(nucleolus_dist_enum),\n",
    "    varcore_enum=vectorize_rewards(varcore_dist_enum),\n",
    "    varleastcore_enum=vectorize_rewards(varleastcore_dist_enum),\n",
    ")\n",
    "\n",
    "# dataframe of the time requirements\n",
    "dict_time_enum = Dict(\n",
    "    \"EnumMode\"=>time_elapsed_enum,\n",
    "    \"shapley_enum\"=>time_elapsed_shapley_enum+time_elapsed_enum,\n",
    "    \"nucleolus_enum\"=>time_elapsed_nucleolus_enum+time_elapsed_enum,\n",
    "    \"varcore_enum\"=>time_elapsed_varcore_enum+time_elapsed_enum,\n",
    "    \"varleastcore_enum\"=>time_elapsed_varleastcore_enum+time_elapsed_enum,\n",
    ")\n",
    "\n",
    "df_reward_enum"
   ]
  },
  {
   "cell_type": "markdown",
   "metadata": {},
   "source": [
    "## Calculate the reward distribution functions by row-generation techniques (IterMode in Games.jl)"
   ]
  },
  {
   "cell_type": "markdown",
   "metadata": {},
   "source": [
    "### Define the row-generation decomposition mode by IterMode"
   ]
  },
  {
   "cell_type": "code",
   "execution_count": null,
   "metadata": {},
   "outputs": [],
   "source": [
    "iter_mode = IterMode(ECModel, BASE_GROUP; no_aggregator_group=NO_AGG_GROUP, optimizer=OPTIMIZER_ROW_GENERATION)"
   ]
  },
  {
   "cell_type": "markdown",
   "metadata": {},
   "source": [
    "Define coalitions to precompute when performing the iterative procedure"
   ]
  },
  {
   "cell_type": "code",
   "execution_count": null,
   "metadata": {},
   "outputs": [],
   "source": [
    "# include all coalitions having no more than preload_max_size users\n",
    "preload_max_size = 2\n",
    "\n",
    "preload_coalitions = Iterators.flatten([combinations([EC_CODE; ECModel.user_set], k) for k = 1:preload_max_size])"
   ]
  },
  {
   "cell_type": "markdown",
   "metadata": {},
   "source": [
    "### Calculate reward distribution using row-generation technique"
   ]
  },
  {
   "cell_type": "markdown",
   "metadata": {},
   "source": [
    "Variance Least Core using IterMode"
   ]
  },
  {
   "cell_type": "code",
   "execution_count": null,
   "metadata": {},
   "outputs": [],
   "source": [
    "tick()\n",
    "varleastcore_dist_iter, min_surplus_varleastcore_iter, history_varleastcore_iter, model_dist_varleastcore_iter = var_least_core(\n",
    "    iter_mode,\n",
    "    OPTIMIZER;\n",
    "    lower_bound=0.0,\n",
    "    atol=1e-4,\n",
    "    raw_outputs=true,\n",
    "    preload_coalitions=preload_coalitions,\n",
    ")\n",
    "time_elapsed_varleastcore_iter=tok()\n",
    "println(\"Variance Least Core - IterMode calculated with elapsed time [min]: $(time_elapsed_varleastcore_iter/60)\")"
   ]
  },
  {
   "cell_type": "markdown",
   "metadata": {},
   "source": [
    "Variance Core method using IterMode"
   ]
  },
  {
   "cell_type": "code",
   "execution_count": null,
   "metadata": {},
   "outputs": [],
   "source": [
    "tick()\n",
    "varcore_dist_iter, min_surplus_varcore_iter, history_varcore_iter, model_dist_varcore_iter = var_in_core(\n",
    "    iter_mode,\n",
    "    OPTIMIZER;\n",
    "    lower_bound=0.0,\n",
    "    atol=1e-4,\n",
    "    raw_outputs=true,\n",
    "    preload_coalitions=preload_coalitions,\n",
    ")\n",
    "time_elapsed_varcore_iter=tok()\n",
    "println(\"Variance Core - IterMode calculated with elapsed time [min]: $(time_elapsed_varcore_iter/60)\")"
   ]
  },
  {
   "cell_type": "markdown",
   "metadata": {},
   "source": [
    "Store results as a DataFrame"
   ]
  },
  {
   "cell_type": "code",
   "execution_count": null,
   "metadata": {},
   "outputs": [],
   "source": [
    "# dataframe of reward distributions for the enumerative mode\n",
    "df_reward_iter = DataFrame(\n",
    "    user_set=user_set_agg,\n",
    "    varcore_iter=vectorize_rewards(varcore_dist_iter),\n",
    "    varleastcore_iter=vectorize_rewards(varleastcore_dist_iter),\n",
    ")\n",
    "\n",
    "# dataframe of the time requirements\n",
    "dict_time_iter = Dict(\n",
    "    \"IterMode\"=>0.0,\n",
    "    \"varcore_iter\"=>time_elapsed_varcore_iter,\n",
    "    \"varleastcore_iter\"=>time_elapsed_varleastcore_iter,\n",
    ")\n",
    "\n",
    "df_reward_iter"
   ]
  },
  {
   "cell_type": "markdown",
   "metadata": {},
   "source": [
    "## Group all results and save them"
   ]
  },
  {
   "cell_type": "markdown",
   "metadata": {},
   "source": [
    "Merge results"
   ]
  },
  {
   "cell_type": "code",
   "execution_count": null,
   "metadata": {},
   "outputs": [],
   "source": [
    "df_reward = innerjoin(df_reward_enum, df_reward_iter, on=:user_set)\n",
    "df_reward"
   ]
  },
  {
   "cell_type": "code",
   "execution_count": null,
   "metadata": {},
   "outputs": [],
   "source": [
    "dict_time = merge(dict_time_enum, dict_time_iter)\n",
    "dict_time"
   ]
  },
  {
   "cell_type": "markdown",
   "metadata": {},
   "source": [
    "Save results"
   ]
  },
  {
   "cell_type": "code",
   "execution_count": null,
   "metadata": {},
   "outputs": [],
   "source": [
    "# print to latex the reward table\n",
    "set_default(fmt = \"%.2f\", convert_unicode = false)\n",
    "\n",
    "sorted_user_set = [EC_CODE; [\"user$u\" for u in 1:length(get_user_set(ECModel))]]\n",
    "\n",
    "df_reward_mod = copy(df_reward)\n",
    "sort!(df_reward_mod, [order(:user_set, by=x->findfirst(x .== sorted_user_set))])\n",
    "df_reward_mod[!, 2:end] = df_reward[!, 2:end] ./ 1000  # change € unit to k€\n",
    "tex_df_reward = latexify(df_reward_mod; env=:table, latex=false)"
   ]
  },
  {
   "cell_type": "code",
   "execution_count": null,
   "metadata": {},
   "outputs": [],
   "source": [
    "df_time = DataFrame(dict_time)[!, names(df_reward)[2:end]]./3600\n",
    "df_time[!, \"title\"] = [L\"Time [h]\"]\n",
    "df_time = df_time[!, [\"title\"; names(df_reward)[2:end]]]"
   ]
  },
  {
   "cell_type": "code",
   "execution_count": null,
   "metadata": {},
   "outputs": [],
   "source": [
    "df_iterations = DataFrame(\n",
    "    title=L\"Iterations\",\n",
    "    shapley_enum=L\"-\",\n",
    "    nucleolus_enum=n_iterations_nucleolus_enum,\n",
    "    varcore_enum=L\"-\",\n",
    "    varleastcore_enum=L\"-\",\n",
    "    varcore_iter=history_varcore_iter[end][1],\n",
    "    varleastcore_iter=history_varleastcore_iter[end][1],\n",
    ")"
   ]
  },
  {
   "cell_type": "code",
   "execution_count": null,
   "metadata": {},
   "outputs": [],
   "source": [
    "df_computational_time = vcat(df_time, df_iterations)\n",
    "\n",
    "# print to latex the equivalent dataframe for time\n",
    "tex_df_computational_time = latexify(df_computational_time; env=:table)"
   ]
  },
  {
   "cell_type": "code",
   "execution_count": null,
   "metadata": {},
   "outputs": [],
   "source": [
    "# save latex code\n",
    "open(latex_output,\"w\") do io\n",
    "    println(io, \"Reward distribution table\\n\\n\\n\")\n",
    "    print(io, tex_df_reward)\n",
    "    println(io, \"Computational time table\\n\\n\\n\")\n",
    "    print(io, tex_df_computational_time)\n",
    "end"
   ]
  },
  {
   "cell_type": "code",
   "execution_count": null,
   "metadata": {},
   "outputs": [],
   "source": [
    "if !isfile(total_results_file) || overwrite_files\n",
    "    jldsave(total_results_file; df_reward, dict_time, df_computational_time)\n",
    "end"
   ]
  }
 ],
 "metadata": {
  "kernelspec": {
   "display_name": "Julia 1.6.1",
   "language": "julia",
   "name": "julia-1.6"
  },
  "language_info": {
   "file_extension": ".jl",
   "mimetype": "application/julia",
   "name": "julia",
   "version": "1.6.1"
  },
  "orig_nbformat": 4
 },
 "nbformat": 4,
 "nbformat_minor": 2
}
