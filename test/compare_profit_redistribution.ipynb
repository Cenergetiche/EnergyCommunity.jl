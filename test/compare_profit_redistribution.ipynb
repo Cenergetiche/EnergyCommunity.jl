{
 "cells": [
  {
   "cell_type": "markdown",
   "metadata": {},
   "source": [
    "# Compare EC profit redistribution\n",
    "\n",
    "This notebook aims at comparing the profit redistribution for an Energy Community\n",
    "using the package EnergyCommunity.jl and TheoryOfGames.jl"
   ]
  },
  {
   "cell_type": "markdown",
   "metadata": {},
   "source": [
    "## Configuration"
   ]
  },
  {
   "cell_type": "markdown",
   "metadata": {},
   "source": [
    "### Paths"
   ]
  },
  {
   "cell_type": "code",
   "execution_count": 1,
   "metadata": {},
   "outputs": [
    {
     "data": {
      "text/plain": [
       "true"
      ]
     },
     "metadata": {},
     "output_type": "display_data"
    }
   ],
   "source": [
    "input_file = joinpath(@__DIR__, \"../data/energy_community_model.yml\")  # Input file\n",
    "\n",
    "output_file_isolated = joinpath(@__DIR__, \"../results/output_file_NC.xlsx\")  # Output file - model users alone\n",
    "output_plot_isolated = joinpath(@__DIR__, \"../results/Img/plot_user_{:s}_NC.png\")  # Output png file of plot - model users alone\n",
    "\n",
    "output_file_combined = joinpath(@__DIR__, \"../results/output_file_EC.xlsx\")  # Output file - model Energy community\n",
    "output_plot_combined = joinpath(@__DIR__, \"../results/Img/plot_user_{:s}_EC.pdf\")  # Output png file of plot - model energy community\n",
    "\n",
    "output_plot_sankey_agg = joinpath(@__DIR__, \"../results/Img/sankey_EC.png\")  # Output plot of the sankey plot related to the aggregator case\n",
    "output_plot_sankey_noagg = joinpath(@__DIR__, \"../results/Img/sankey_NC.png\")  # Output plot of the sankey plot related to the no aggregator case\n",
    "\n",
    "enum_mode_file = \"enum_mode_datasest.jld2\"  # file used to store the enumerative results\n",
    "total_results_file = \"total_results_file_pmode0_psearch200_modifyobjstop_NC.jld2\"  # file to store all major results\n",
    "latex_output = \"latex_output_pmode0_psearch200_modifyobjstop_NC.txt\"\n",
    "\n",
    "overwrite_files = true  # when true, output files are overwritten"
   ]
  },
  {
   "cell_type": "markdown",
   "metadata": {},
   "source": [
    "### Import libraries"
   ]
  },
  {
   "cell_type": "code",
   "execution_count": 26,
   "metadata": {},
   "outputs": [],
   "source": [
    "using Revise\n",
    "using EnergyCommunity\n",
    "using FileIO\n",
    "using HiGHS, Plots\n",
    "using JuMP\n",
    "using Gurobi\n",
    "using TheoryOfGames\n",
    "using TickTock\n",
    "using Combinatorics\n",
    "using DataFrames\n",
    "using JLD2\n",
    "using Latexify, LaTeXStrings"
   ]
  },
  {
   "cell_type": "markdown",
   "metadata": {},
   "source": [
    "### Solver configurations"
   ]
  },
  {
   "cell_type": "code",
   "execution_count": 3,
   "metadata": {},
   "outputs": [
    {
     "data": {
      "text/plain": [
       "MathOptInterface.OptimizerWithAttributes(Gurobi.Optimizer, Pair{MathOptInterface.AbstractOptimizerAttribute, Any}[MathOptInterface.RawOptimizerAttribute(\"OutputFlag\") => 1, MathOptInterface.RawOptimizerAttribute(\"LogToConsole\") => 0, MathOptInterface.RawOptimizerAttribute(\"MIPGap\") => 0.1, MathOptInterface.RawOptimizerAttribute(\"TimeLimit\") => 1000, MathOptInterface.RawOptimizerAttribute(\"LogFile\") => \"gurobi_pmode0_psearch200_modifyobjstop_NC.log\", MathOptInterface.RawOptimizerAttribute(\"Threads\") => 10, MathOptInterface.RawOptimizerAttribute(\"PoolSolutions\") => 200, MathOptInterface.RawOptimizerAttribute(\"PoolSearchMode\") => 0])"
      ]
     },
     "metadata": {},
     "output_type": "display_data"
    }
   ],
   "source": [
    "# General optimizer\n",
    "OPTIMIZER = optimizer_with_attributes(Gurobi.Optimizer, \"OutputFlag\"=>0, \"Threads\"=>10)\n",
    "\n",
    "# Optimizer for row-generation techniques, used in the IterMode of TheoryOfGames.jl\n",
    "OPTIMIZER_ROW_GENERATION = optimizer_with_attributes(Gurobi.Optimizer,\n",
    "    \"OutputFlag\"=>1,\n",
    "    \"LogToConsole\"=>0,\n",
    "    \"MIPGap\"=>0.1,\n",
    "    # \"MIPFocus\"=>1,\n",
    "    \"TimeLimit\"=>1000,\n",
    "    \"LogFile\"=>\"gurobi_pmode0_psearch200_modifyobjstop_NC.log\",\n",
    "    \"Threads\"=>10,\n",
    "    # \"NoRelHeurTime\"=>10,\n",
    "    \"PoolSolutions\"=>200,\n",
    "    \"PoolSearchMode\"=>0,\n",
    ")"
   ]
  },
  {
   "cell_type": "markdown",
   "metadata": {},
   "source": [
    "### Energy Community options"
   ]
  },
  {
   "cell_type": "code",
   "execution_count": 4,
   "metadata": {},
   "outputs": [],
   "source": [
    "NO_AGG_GROUP = GroupNC();  # type of aggregation when the Aggregator does not belong to the coalition.\n",
    "                            # options: GroupANC() or GroupNC()\n",
    "BASE_GROUP = GroupNC();     # base type of aggregation (it shall be GroupNC)"
   ]
  },
  {
   "cell_type": "markdown",
   "metadata": {},
   "source": [
    "## General"
   ]
  },
  {
   "cell_type": "code",
   "execution_count": 5,
   "metadata": {},
   "outputs": [
    {
     "data": {
      "text/plain": [
       "1000"
      ]
     },
     "metadata": {},
     "output_type": "display_data"
    }
   ],
   "source": [
    "ENV[\"COLUMNS\"] = 1000  # to print more columns in the output"
   ]
  },
  {
   "cell_type": "markdown",
   "metadata": {},
   "source": [
    "## Optimize the Energy Community in the COperative configuration"
   ]
  },
  {
   "cell_type": "code",
   "execution_count": 6,
   "metadata": {},
   "outputs": [
    {
     "name": "stdout",
     "output_type": "stream",
     "text": [
      "Academic license - for non-commercial use only - expires 2023-02-04\r\n"
     ]
    },
    {
     "data": {
      "text/plain": [
       "An Energy Community Model\n",
       "Energy Community problem for a Cooperative Model\n",
       "User set: Any[\"user4\", \"user7\", \"user8\", \"user9\", \"user2\", \"user1\", \"user5\", \"user3\", \"user6\", \"user10\"]\n"
      ]
     },
     "metadata": {},
     "output_type": "display_data"
    },
    {
     "name": "stdout",
     "output_type": "stream",
     "text": [
      "Solved model\n"
     ]
    }
   ],
   "source": [
    "# Read data from excel file\n",
    "ECModel = ModelEC(input_file, EnergyCommunity.GroupCO(), OPTIMIZER)\n",
    "\n",
    "# Reset the user set to use all stored users (10)\n",
    "reset_user_set!(ECModel)\n",
    "# set_user_set!(ECModel, [\"user$id\" for id=1:8])\n",
    "\n",
    "# Build the model\n",
    "build_model!(ECModel)\n",
    "\n",
    "# Optimize the model\n",
    "optimize!(ECModel)"
   ]
  },
  {
   "cell_type": "markdown",
   "metadata": {},
   "source": [
    "## Calculate the reward distribution functions by enumerative techniques (EnumMode in TheoryOfGames.jl)"
   ]
  },
  {
   "cell_type": "markdown",
   "metadata": {},
   "source": [
    "### Create enumerative mode\n",
    "\n",
    "Calculation of the enumerative mode used to compute several reward distribution functions"
   ]
  },
  {
   "cell_type": "code",
   "execution_count": null,
   "metadata": {},
   "outputs": [],
   "source": [
    "if !isfile(total_results_file) || overwrite_files\n",
    "    tick()\n",
    "    enum_mode = EnumMode(ECModel, BASE_GROUP; no_aggregator_group=NO_AGG_GROUP)\n",
    "    time_elapsed_enum=tok()\n",
    "    println(\"EnumMode calculated with elapsed time [min]: $(time_elapsed_enum/60)\")\n",
    "else\n",
    "    time_elapsed_enum=0.0\n",
    "end"
   ]
  },
  {
   "cell_type": "markdown",
   "metadata": {},
   "source": [
    "Save enum mode"
   ]
  },
  {
   "cell_type": "code",
   "execution_count": 8,
   "metadata": {},
   "outputs": [
    {
     "name": "stderr",
     "output_type": "stream",
     "text": [
      "┌ Warning: Opening file with JLD2.MmapIO failed, falling back to IOStream\n",
      "└ @ JLD2 C:\\Users\\Davide\\.julia\\packages\\JLD2\\k9Gt0\\src\\JLD2.jl:233\n"
     ]
    }
   ],
   "source": [
    "if !isfile(total_results_file) || overwrite_files\n",
    "    save(enum_mode_file, enum_mode)\n",
    "end"
   ]
  },
  {
   "cell_type": "markdown",
   "metadata": {},
   "source": [
    "Load EnumMode (when needed)"
   ]
  },
  {
   "cell_type": "code",
   "execution_count": 9,
   "metadata": {},
   "outputs": [
    {
     "data": {
      "text/plain": [
       "EnumMode(Any[\"EC\", \"user4\", \"user7\", \"user8\", \"user9\", \"user2\", \"user1\", \"user5\", \"user3\", \"user6\", \"user10\"], Dict{Set{Any}, Float64}(Set([\"user4\", \"user7\", \"user9\", \"user2\", \"user6\"]) => 0.0, Set([\"user4\", \"user7\", \"EC\", \"user5\", \"user1\", \"user10\"]) => 22063.414377433248, Set([\"user7\", \"user9\", \"user6\", \"user3\", \"user10\"]) => 0.0, Set([\"user4\", \"user3\", \"user10\"]) => 0.0, Set([\"user7\", \"user8\", \"user5\", \"user1\", \"user6\", \"user10\"]) => 0.0, Set([\"user8\", \"user9\", \"user2\", \"user6\", \"user10\"]) => 0.0, Set([\"user9\", \"user2\", \"user6\", \"user3\"]) => 0.0, Set([\"user4\", \"user7\", \"user6\", \"user3\", \"user10\"]) => 0.0, Set([\"EC\", \"user8\", \"user9\", \"user2\", \"user1\", \"user3\", \"user10\"]) => 86831.98882880434, Set([\"user7\", \"EC\", \"user5\", \"user6\", \"user3\", \"user10\"]) => 173419.66703306255…))"
      ]
     },
     "metadata": {},
     "output_type": "display_data"
    }
   ],
   "source": [
    "enum_mode = load(enum_mode_file, EnumMode())"
   ]
  },
  {
   "cell_type": "markdown",
   "metadata": {},
   "source": [
    "### Calculate reward distribution using EnumMode"
   ]
  },
  {
   "cell_type": "code",
   "execution_count": null,
   "metadata": {},
   "outputs": [],
   "source": [
    "tick()\n",
    "shapley_dist_enum = shapley_value(enum_mode)  # shapley value\n",
    "time_elapsed_shapley_enum=tok()\n",
    "\n",
    "tick()\n",
    "nucleolus_dist_enum, n_iterations_nucleolus_enum, model_nucleolus_enum = nucleolus(enum_mode, OPTIMIZER; raw_outputs=true)  # nucleolus\n",
    "time_elapsed_nucleolus_enum=tok()\n",
    "\n",
    "tick()\n",
    "varcore_dist_enum = var_in_core(enum_mode, OPTIMIZER)  # variance in core\n",
    "time_elapsed_varcore_enum=tok()\n",
    "\n",
    "tick()\n",
    "varleastcore_dist_enum, val_minsurplus_enum, model_dist_enum = var_least_core(\n",
    "    enum_mode, OPTIMIZER; raw_outputs=true\n",
    ")  # variance least core (include raw outputs for comparison purposes)\n",
    "time_elapsed_varleastcore_enum=tok();"
   ]
  },
  {
   "cell_type": "markdown",
   "metadata": {},
   "source": [
    "Store the EnumMode reward distribution into a DataFrame for ease their use"
   ]
  },
  {
   "cell_type": "code",
   "execution_count": 11,
   "metadata": {},
   "outputs": [
    {
     "data": {
      "text/html": [
       "<div class=\"data-frame\"><p>11 rows × 5 columns</p><table class=\"data-frame\"><thead><tr><th></th><th>user_set</th><th>shapley_enum</th><th>nucleolus_enum</th><th>varcore_enum</th><th>varleastcore_enum</th></tr><tr><th></th><th title=\"Any\">Any</th><th title=\"Float64\">Float64</th><th title=\"Float64\">Float64</th><th title=\"Float64\">Float64</th><th title=\"Float64\">Float64</th></tr></thead><tbody><tr><th>1</th><td>EC</td><td>1.04939e5</td><td>1.09098e5</td><td>43112.0</td><td>49015.1</td></tr><tr><th>2</th><td>user4</td><td>5248.87</td><td>5588.33</td><td>10068.7</td><td>7954.27</td></tr><tr><th>3</th><td>user7</td><td>22856.2</td><td>24636.5</td><td>43112.0</td><td>46050.6</td></tr><tr><th>4</th><td>user8</td><td>7397.17</td><td>4461.78</td><td>8923.56</td><td>5701.17</td></tr><tr><th>5</th><td>user9</td><td>6298.22</td><td>4197.3</td><td>8073.94</td><td>5172.22</td></tr><tr><th>6</th><td>user2</td><td>5723.51</td><td>3222.39</td><td>6444.78</td><td>3222.39</td></tr><tr><th>7</th><td>user1</td><td>3588.8</td><td>3354.85</td><td>6351.43</td><td>3487.31</td></tr><tr><th>8</th><td>user5</td><td>32604.5</td><td>35382.8</td><td>43112.0</td><td>49015.1</td></tr><tr><th>9</th><td>user3</td><td>6380.4</td><td>4234.07</td><td>8346.22</td><td>5245.75</td></tr><tr><th>10</th><td>user6</td><td>4871.54</td><td>3246.66</td><td>6493.32</td><td>3270.93</td></tr><tr><th>11</th><td>user10</td><td>27241.6</td><td>29727.2</td><td>43112.0</td><td>49015.1</td></tr></tbody></table></div>"
      ],
      "text/latex": [
       "\\begin{tabular}{r|ccccc}\n",
       "\t& user\\_set & shapley\\_enum & nucleolus\\_enum & varcore\\_enum & varleastcore\\_enum\\\\\n",
       "\t\\hline\n",
       "\t& Any & Float64 & Float64 & Float64 & Float64\\\\\n",
       "\t\\hline\n",
       "\t1 & EC & 1.04939e5 & 1.09098e5 & 43112.0 & 49015.1 \\\\\n",
       "\t2 & user4 & 5248.87 & 5588.33 & 10068.7 & 7954.27 \\\\\n",
       "\t3 & user7 & 22856.2 & 24636.5 & 43112.0 & 46050.6 \\\\\n",
       "\t4 & user8 & 7397.17 & 4461.78 & 8923.56 & 5701.17 \\\\\n",
       "\t5 & user9 & 6298.22 & 4197.3 & 8073.94 & 5172.22 \\\\\n",
       "\t6 & user2 & 5723.51 & 3222.39 & 6444.78 & 3222.39 \\\\\n",
       "\t7 & user1 & 3588.8 & 3354.85 & 6351.43 & 3487.31 \\\\\n",
       "\t8 & user5 & 32604.5 & 35382.8 & 43112.0 & 49015.1 \\\\\n",
       "\t9 & user3 & 6380.4 & 4234.07 & 8346.22 & 5245.75 \\\\\n",
       "\t10 & user6 & 4871.54 & 3246.66 & 6493.32 & 3270.93 \\\\\n",
       "\t11 & user10 & 27241.6 & 29727.2 & 43112.0 & 49015.1 \\\\\n",
       "\\end{tabular}\n"
      ],
      "text/plain": [
       "\u001b[1m11×5 DataFrame\u001b[0m\n",
       "\u001b[1m Row \u001b[0m│\u001b[1m user_set \u001b[0m\u001b[1m shapley_enum  \u001b[0m\u001b[1m nucleolus_enum \u001b[0m\u001b[1m varcore_enum \u001b[0m\u001b[1m varleastcore_enum \u001b[0m\n",
       "\u001b[1m     \u001b[0m│\u001b[90m Any      \u001b[0m\u001b[90m Float64       \u001b[0m\u001b[90m Float64        \u001b[0m\u001b[90m Float64      \u001b[0m\u001b[90m Float64           \u001b[0m\n",
       "─────┼──────────────────────────────────────────────────────────────────────────\n",
       "   1 │ EC            1.04939e5       1.09098e5      43112.0            49015.1\n",
       "   2 │ user4      5248.87         5588.33           10068.7             7954.27\n",
       "   3 │ user7     22856.2         24636.5            43112.0            46050.6\n",
       "   4 │ user8      7397.17         4461.78            8923.56            5701.17\n",
       "   5 │ user9      6298.22         4197.3             8073.94            5172.22\n",
       "   6 │ user2      5723.51         3222.39            6444.78            3222.39\n",
       "   7 │ user1      3588.8          3354.85            6351.43            3487.31\n",
       "   8 │ user5     32604.5         35382.8            43112.0            49015.1\n",
       "   9 │ user3      6380.4          4234.07            8346.22            5245.75\n",
       "  10 │ user6      4871.54         3246.66            6493.32            3270.93\n",
       "  11 │ user10    27241.6         29727.2            43112.0            49015.1"
      ]
     },
     "metadata": {},
     "output_type": "display_data"
    }
   ],
   "source": [
    "# vector of the users\n",
    "user_set_agg = [EC_CODE; get_user_set(ECModel)]\n",
    "\n",
    "\"Auxiliary function to order the output of reward distributions and return them as vectors\"\n",
    "vectorize_rewards(reward_dist, users_list=user_set_agg) = [reward_dist[u] for u in users_list]\n",
    "\n",
    "# dataframe of reward distributions for the enumerative mode\n",
    "df_reward_enum = DataFrame(\n",
    "    user_set=user_set_agg,\n",
    "    shapley_enum=vectorize_rewards(shapley_dist_enum),\n",
    "    nucleolus_enum=vectorize_rewards(nucleolus_dist_enum),\n",
    "    varcore_enum=vectorize_rewards(varcore_dist_enum),\n",
    "    varleastcore_enum=vectorize_rewards(varleastcore_dist_enum),\n",
    ")\n",
    "\n",
    "# dataframe of the time requirements\n",
    "dict_time_enum = Dict(\n",
    "    \"EnumMode\"=>time_elapsed_enum,\n",
    "    \"shapley_enum\"=>time_elapsed_shapley_enum+time_elapsed_enum,\n",
    "    \"nucleolus_enum\"=>time_elapsed_nucleolus_enum+time_elapsed_enum,\n",
    "    \"varcore_enum\"=>time_elapsed_varcore_enum+time_elapsed_enum,\n",
    "    \"varleastcore_enum\"=>time_elapsed_varleastcore_enum+time_elapsed_enum,\n",
    ")\n",
    "\n",
    "df_reward_enum"
   ]
  },
  {
   "cell_type": "markdown",
   "metadata": {},
   "source": [
    "## Calculate the reward distribution functions by row-generation techniques (IterMode in TheoryOfGames.jl)"
   ]
  },
  {
   "cell_type": "markdown",
   "metadata": {},
   "source": [
    "### Define the row-generation decomposition mode by IterMode"
   ]
  },
  {
   "cell_type": "code",
   "execution_count": 12,
   "metadata": {},
   "outputs": [
    {
     "name": "stdout",
     "output_type": "stream",
     "text": [
      "Academic license - for non-commercial use only - expires 2023-02-04\r\n",
      "Academic license - for non-commercial use only - expires 2023-02-04\r\n",
      "Academic license - for non-commercial use only - expires 2023-02-04\r\n",
      "Academic license - for non-commercial use only - expires 2023-02-04\r\n"
     ]
    },
    {
     "name": "stdout",
     "output_type": "stream",
     "text": [
      "Model not optimized\n"
     ]
    },
    {
     "data": {
      "text/plain": [
       "IterMode(Any[\"EC\", \"user4\", \"user7\", \"user8\", \"user9\", \"user2\", \"user1\", \"user5\", \"user3\", \"user6\", \"user10\"], EnergyCommunity.var\"#utility_callback_by_subgroup#662\"{EnergyCommunity.var\"#objective_callback_by_subgroup#583\"{ModelEC, EnergyCommunity.var\"#objective_callback_by_subgroup#488\"{JuMP.Containers.DenseAxisArray{Float64, 1, Tuple{Vector{Any}}, Tuple{JuMP.Containers._AxisLookup{Dict{Any, Int64}}}}}}, EnergyCommunity.var\"#objective_callback_by_subgroup#488\"{JuMP.Containers.DenseAxisArray{Float64, 1, Tuple{Vector{Any}}, Tuple{JuMP.Containers._AxisLookup{Dict{Any, Int64}}}}}}(EnergyCommunity.var\"#objective_callback_by_subgroup#583\"{ModelEC, EnergyCommunity.var\"#objective_callback_by_subgroup#488\"{JuMP.Containers.DenseAxisArray{Float64, 1, Tuple{Vector{Any}}, Tuple{JuMP.Containers._AxisLookup{Dict{Any, Int64}}}}}}(An Energy Community Model\n",
       "Energy Community problem for a Cooperative Model\n",
       "User set: Any[\"user4\", \"user7\", \"user8\", \"user9\", \"user2\", \"user1\", \"user5\", \"user3\", \"user6\", \"user10\"]\n",
       ", EnergyCommunity.var\"#objective_callback_by_subgroup#488\"{JuMP.Containers.DenseAxisArray{Float64, 1, Tuple{Vector{Any}}, Tuple{JuMP.Containers._AxisLookup{Dict{Any, Int64}}}}}(1-dimensional DenseAxisArray{Float64,1,...} with index sets:\n",
       "    Dimension 1, Any[\"EC\", \"user4\", \"user7\", \"user8\", \"user9\", \"user2\", \"user1\", \"user5\", \"user3\", \"user6\", \"user10\"]\n",
       "And data, a 11-element Vector{Float64}:\n",
       "       0.0\n",
       " -262503.5936211658\n",
       " -366510.0412850098\n",
       " -314420.91625068616\n",
       " -312999.8830774601\n",
       " -223241.1205710987\n",
       " -563669.0832118867\n",
       " -582508.7834697609\n",
       " -435831.6903603825\n",
       " -319124.974401537\n",
       " -354136.2367661281)), EnergyCommunity.var\"#objective_callback_by_subgroup#488\"{JuMP.Containers.DenseAxisArray{Float64, 1, Tuple{Vector{Any}}, Tuple{JuMP.Containers._AxisLookup{Dict{Any, Int64}}}}}(1-dimensional DenseAxisArray{Float64,1,...} with index sets:\n",
       "    Dimension 1, Any[\"EC\", \"user4\", \"user7\", \"user8\", \"user9\", \"user2\", \"user1\", \"user5\", \"user3\", \"user6\", \"user10\"]\n",
       "And data, a 11-element Vector{Float64}:\n",
       "       0.0\n",
       " -262503.5936211658\n",
       " -366510.0412850098\n",
       " -314420.91625068616\n",
       " -312999.8830774601\n",
       " -223241.1205710987\n",
       " -563669.0832118867\n",
       " -582508.7834697609\n",
       " -435831.6903603825\n",
       " -319124.974401537\n",
       " -354136.2367661281)), EnergyCommunity.var\"#least_profitable_coalition_callback#696\"{EnergyCommunity.var\"#least_profitable_coalition_callback#694#697\"{ModelEC, Int64}}(EnergyCommunity.var\"#least_profitable_coalition_callback#694#697\"{ModelEC, Int64}(An Energy Community Model\n",
       "Energy Community problem for a Cooperative Model\n",
       "User set: Any[\"user4\", \"user7\", \"user8\", \"user9\", \"user2\", \"user1\", \"user5\", \"user3\", \"user6\", \"user10\"]\n",
       ", 1)))"
      ]
     },
     "metadata": {},
     "output_type": "display_data"
    },
    {
     "name": "stdout",
     "output_type": "stream",
     "text": [
      "Model not optimized\n"
     ]
    }
   ],
   "source": [
    "iter_mode = IterMode(ECModel, BASE_GROUP; no_aggregator_group=NO_AGG_GROUP, optimizer=OPTIMIZER_ROW_GENERATION)"
   ]
  },
  {
   "cell_type": "markdown",
   "metadata": {},
   "source": [
    "Define coalitions to precompute when performing the iterative procedure"
   ]
  },
  {
   "cell_type": "code",
   "execution_count": 13,
   "metadata": {},
   "outputs": [
    {
     "data": {
      "text/plain": [
       "77"
      ]
     },
     "metadata": {},
     "output_type": "display_data"
    }
   ],
   "source": [
    "# include all coalitions having no more than preload_max_size users\n",
    "preload_combs_set = [1, 2, length(ECModel.user_set)]\n",
    "\n",
    "preload_coalitions = collect(Iterators.flatten([combinations([EC_CODE; ECModel.user_set], k) for k = preload_combs_set]))\n",
    "\n",
    "length(preload_coalitions)"
   ]
  },
  {
   "cell_type": "markdown",
   "metadata": {},
   "source": [
    "### Calculate reward distribution using row-generation technique"
   ]
  },
  {
   "cell_type": "markdown",
   "metadata": {},
   "source": [
    "Variance Least Core using IterMode"
   ]
  },
  {
   "cell_type": "code",
   "execution_count": 27,
   "metadata": {},
   "outputs": [
    {
     "name": "stdout",
     "output_type": "stream",
     "text": [
      "PHASE 1: Start first least core analysis\n"
     ]
    },
    {
     "name": "stderr",
     "output_type": "stream",
     "text": [
      "┌ Info:  started timer at: 2022-06-24T12:57:35.910\n",
      "└ @ TickTock C:\\Users\\Davide\\.julia\\packages\\TickTock\\fGILW\\src\\TickTock.jl:54\n"
     ]
    },
    {
     "name": "stdout",
     "output_type": "stream",
     "text": [
      "\n",
      "Academic license - for non-commercial use only - expires 2023-02-04\r\n",
      "Academic license - for non-commercial use only - expires 2023-02-04\r\n",
      "Academic license - for non-commercial use only - expires 2023-02-04\r\n",
      "Academic license - for non-commercial use only - expires 2023-02-04\r\n",
      "Academic license - for non-commercial use only - expires 2023-02-04\r\n",
      "Academic license - for non-commercial use only - expires 2023-02-04\r\n",
      "Academic license - for non-commercial use only - expires 2023-02-04\r\n",
      "Academic license - for non-commercial use only - expires 2023-02-04\r\n",
      "Academic license - for non-commercial use only - expires 2023-02-04\r\n",
      "Academic license - for non-commercial use only - expires 2023-02-04\r\n",
      "Academic license - for non-commercial use only - expires 2023-02-04\r\n",
      "Academic license - for non-commercial use only - expires 2023-02-04\r\n",
      "Academic license - for non-commercial use only - expires 2023-02-04\r\n",
      "Academic license - for non-commercial use only - expires 2023-02-04\r\n",
      "Academic license - for non-commercial use only - expires 2023-02-04\r\n",
      "Academic license - for non-commercial use only - expires 2023-02-04\r\n",
      "Academic license - for non-commercial use only - expires 2023-02-04\r\n",
      "Academic license - for non-commercial use only - expires 2023-02-04\r\n",
      "Academic license - for non-commercial use only - expires 2023-02-04\r\n",
      "Academic license - for non-commercial use only - expires 2023-02-04\r\n",
      "Academic license - for non-commercial use only - expires 2023-02-04\r\n",
      "Academic license - for non-commercial use only - expires 2023-02-04\r\n",
      "Preload 77 coalitions\n",
      "Iteration       Upper bound     Lower bound     Tol. [%]        Benefit distribution\n"
     ]
    },
    {
     "name": "stdout",
     "output_type": "stream",
     "text": [
      "1                3.22e+03        3.22e+03        0.00           [194926.1689515598, 3222.387787027983, 3222.387787027983, 3222.387787027983, 3222.387787027983, 3222.387787027983, 3222.387787027983, 3222.387787027983, 3222.387787027983, 3222.387787027983, 3222.387787027983]\n",
      "PHASE 1: First least core analysis ended with value 3222.387787027983\n",
      " ----\n",
      "PHASE 2: Start second phase to indentify the desired objective\n",
      "\n",
      "Iteration       Upper bound     Lower bound     Tol. [%]        Benefit distribution"
     ]
    },
    {
     "name": "stdout",
     "output_type": "stream",
     "text": [
      "\n",
      "2                3.22e+03        3.22e+03        0.00           [49015.138580672734, 7954.270453938542, 46050.5895173068, 5701.171990191588, 5172.216515587834, 3222.387787027983, 3487.3146465044456, 49015.13858067244, 5245.75016762744, 3270.930001636147, 49015.138580672516]\n",
      "PHASE 2: Completed second phase\n",
      "\n",
      "Variance Least Core - IterMode calculated with elapsed time [min]: 11.207293918333333\n"
     ]
    }
   ],
   "source": [
    "tick()\n",
    "varleastcore_dist_iter, min_surplus_varleastcore_iter, history_varleastcore_iter, model_dist_varleastcore_iter = var_least_core(\n",
    "    iter_mode,\n",
    "    OPTIMIZER;\n",
    "    lower_bound=0.0,\n",
    "    atol=1e-4,\n",
    "    raw_outputs=true,\n",
    "    preload_coalitions=preload_coalitions,\n",
    "    best_objective_stop_option=\"BestObjStop\",\n",
    ")\n",
    "time_elapsed_varleastcore_iter=tok()\n",
    "println(\"Variance Least Core - IterMode calculated with elapsed time [min]: $(time_elapsed_varleastcore_iter/60)\")"
   ]
  },
  {
   "cell_type": "markdown",
   "metadata": {},
   "source": [
    "Variance Core method using IterMode"
   ]
  },
  {
   "cell_type": "code",
   "execution_count": 28,
   "metadata": {},
   "outputs": [
    {
     "name": "stdout",
     "output_type": "stream",
     "text": [
      "Academic license - for non-commercial use only - expires 2023-02-04\r\n",
      "Academic license - for non-commercial use only - expires 2023-02-04\r\n",
      "Academic license - for non-commercial use only - expires 2023-02-04\r\n",
      "Academic license - for non-commercial use only - expires 2023-02-04\r\n",
      "Academic license - for non-commercial use only - expires 2023-02-04\r\n",
      "Academic license - for non-commercial use only - expires 2023-02-04\r\n",
      "Academic license - for non-commercial use only - expires 2023-02-04\r\n",
      "Academic license - for non-commercial use only - expires 2023-02-04\r\n",
      "Academic license - for non-commercial use only - expires 2023-02-04\r\n",
      "Academic license - for non-commercial use only - expires 2023-02-04\r\n",
      "Academic license - for non-commercial use only - expires 2023-02-04\r\n",
      "Academic license - for non-commercial use only - expires 2023-02-04\r\n",
      "Academic license - for non-commercial use only - expires 2023-02-04\r\n",
      "Academic license - for non-commercial use only - expires 2023-02-04\r\n",
      "Academic license - for non-commercial use only - expires 2023-02-04\r\n",
      "Academic license - for non-commercial use only - expires 2023-02-04\r\n",
      "Academic license - for non-commercial use only - expires 2023-02-04\r\n",
      "Academic license - for non-commercial use only - expires 2023-02-04\r\n",
      "Academic license - for non-commercial use only - expires 2023-02-04\r\n",
      "Academic license - for non-commercial use only - expires 2023-02-04\r\n",
      "Academic license - for non-commercial use only - expires 2023-02-04\r\n",
      "Academic license - for non-commercial use only - expires 2023-02-04\r\n",
      "Preload 77 coalitions\n",
      "Iteration       Upper bound     Lower bound     Tol. [%]        Benefit allocation\n"
     ]
    },
    {
     "name": "stderr",
     "output_type": "stream",
     "text": [
      "┌ Info:  started timer at: 2022-06-24T13:08:48.462\n",
      "└ @ TickTock C:\\Users\\Davide\\.julia\\packages\\TickTock\\fGILW\\src\\TickTock.jl:54\n"
     ]
    },
    {
     "name": "stdout",
     "output_type": "stream",
     "text": [
      "1                0.00e+00       -1.91e+03        100.00         [42634.82268753651, 11176.658240962657, 42634.822687536536, 8923.559777217413, 8394.604302614796, 6444.775574054047, 6709.702433527054, 42634.82268753599, 8468.137954654785, 6493.317788661401, 42634.82268753638]"
     ]
    },
    {
     "name": "stdout",
     "output_type": "stream",
     "text": [
      "\n",
      "2                0.00e+00       -2.79e+02        100.00         [43112.01786247298, 9267.877541209426, 43112.01786247268, 8923.559777219763, 8394.604302615748, 6444.775574053219, 6709.702433529633, 43112.01786247277, 8468.137954656171, 6493.3177886634185, 43112.01786247283]\n"
     ]
    },
    {
     "name": "stdout",
     "output_type": "stream",
     "text": [
      "3                0.00e+00       -4.00e+02        100.00         [43112.01786247148, 9546.886807362554, 43112.01786247149, 8923.55977722095, 8394.60430261703, 6444.775574055777, 6430.693167375675, 43112.017862471504, 8468.13795465654, 6493.317788664963, 43112.017862471504]"
     ]
    },
    {
     "name": "stdout",
     "output_type": "stream",
     "text": [
      "\n",
      "4                0.00e+00       -2.01e+02        100.00         [43112.01786247162, 9946.814652822626, 43112.01786247166, 8923.559777220766, 7994.676457156902, 6444.775574055653, 6430.693167375927, 43112.017862471635, 8468.137954656482, 6493.317788664957, 43112.017862471606]"
     ]
    },
    {
     "name": "stdout",
     "output_type": "stream",
     "text": [
      "\n",
      "5                0.00e+00       -2.99e-09        0.30           [43112.0178624687, 10068.732399335588, 43112.01786246891, 8923.559777226057, 8073.940907863059, 6444.775574059998, 6351.428716669929, 43112.01786246855, 8346.220208144152, 6493.317788668229, 43112.01786246883]\n",
      "Variance Core - IterMode calculated with elapsed time [min]: 18.03045191333333\n"
     ]
    }
   ],
   "source": [
    "tick()\n",
    "varcore_dist_iter, min_surplus_varcore_iter, history_varcore_iter, model_dist_varcore_iter = var_in_core(\n",
    "    iter_mode,\n",
    "    OPTIMIZER;\n",
    "    lower_bound=0.0,\n",
    "    atol=1e-4,\n",
    "    raw_outputs=true,\n",
    "    preload_coalitions=preload_coalitions,\n",
    "    best_objective_stop_option=\"BestObjStop\",\n",
    ")\n",
    "time_elapsed_varcore_iter=tok()\n",
    "println(\"Variance Core - IterMode calculated with elapsed time [min]: $(time_elapsed_varcore_iter/60)\")"
   ]
  },
  {
   "cell_type": "markdown",
   "metadata": {},
   "source": [
    "Store results as a DataFrame"
   ]
  },
  {
   "cell_type": "code",
   "execution_count": 29,
   "metadata": {},
   "outputs": [
    {
     "data": {
      "text/html": [
       "<div class=\"data-frame\"><p>11 rows × 3 columns</p><table class=\"data-frame\"><thead><tr><th></th><th>user_set</th><th>varcore_iter</th><th>varleastcore_iter</th></tr><tr><th></th><th title=\"Any\">Any</th><th title=\"Float64\">Float64</th><th title=\"Float64\">Float64</th></tr></thead><tbody><tr><th>1</th><td>EC</td><td>43112.0</td><td>49015.1</td></tr><tr><th>2</th><td>user4</td><td>10068.7</td><td>7954.27</td></tr><tr><th>3</th><td>user7</td><td>43112.0</td><td>46050.6</td></tr><tr><th>4</th><td>user8</td><td>8923.56</td><td>5701.17</td></tr><tr><th>5</th><td>user9</td><td>8073.94</td><td>5172.22</td></tr><tr><th>6</th><td>user2</td><td>6444.78</td><td>3222.39</td></tr><tr><th>7</th><td>user1</td><td>6351.43</td><td>3487.31</td></tr><tr><th>8</th><td>user5</td><td>43112.0</td><td>49015.1</td></tr><tr><th>9</th><td>user3</td><td>8346.22</td><td>5245.75</td></tr><tr><th>10</th><td>user6</td><td>6493.32</td><td>3270.93</td></tr><tr><th>11</th><td>user10</td><td>43112.0</td><td>49015.1</td></tr></tbody></table></div>"
      ],
      "text/latex": [
       "\\begin{tabular}{r|ccc}\n",
       "\t& user\\_set & varcore\\_iter & varleastcore\\_iter\\\\\n",
       "\t\\hline\n",
       "\t& Any & Float64 & Float64\\\\\n",
       "\t\\hline\n",
       "\t1 & EC & 43112.0 & 49015.1 \\\\\n",
       "\t2 & user4 & 10068.7 & 7954.27 \\\\\n",
       "\t3 & user7 & 43112.0 & 46050.6 \\\\\n",
       "\t4 & user8 & 8923.56 & 5701.17 \\\\\n",
       "\t5 & user9 & 8073.94 & 5172.22 \\\\\n",
       "\t6 & user2 & 6444.78 & 3222.39 \\\\\n",
       "\t7 & user1 & 6351.43 & 3487.31 \\\\\n",
       "\t8 & user5 & 43112.0 & 49015.1 \\\\\n",
       "\t9 & user3 & 8346.22 & 5245.75 \\\\\n",
       "\t10 & user6 & 6493.32 & 3270.93 \\\\\n",
       "\t11 & user10 & 43112.0 & 49015.1 \\\\\n",
       "\\end{tabular}\n"
      ],
      "text/plain": [
       "\u001b[1m11×3 DataFrame\u001b[0m\n",
       "\u001b[1m Row \u001b[0m│\u001b[1m user_set \u001b[0m\u001b[1m varcore_iter \u001b[0m\u001b[1m varleastcore_iter \u001b[0m\n",
       "\u001b[1m     \u001b[0m│\u001b[90m Any      \u001b[0m\u001b[90m Float64      \u001b[0m\u001b[90m Float64           \u001b[0m\n",
       "─────┼───────────────────────────────────────────\n",
       "   1 │ EC            43112.0            49015.1\n",
       "   2 │ user4         10068.7             7954.27\n",
       "   3 │ user7         43112.0            46050.6\n",
       "   4 │ user8          8923.56            5701.17\n",
       "   5 │ user9          8073.94            5172.22\n",
       "   6 │ user2          6444.78            3222.39\n",
       "   7 │ user1          6351.43            3487.31\n",
       "   8 │ user5         43112.0            49015.1\n",
       "   9 │ user3          8346.22            5245.75\n",
       "  10 │ user6          6493.32            3270.93\n",
       "  11 │ user10        43112.0            49015.1"
      ]
     },
     "metadata": {},
     "output_type": "display_data"
    }
   ],
   "source": [
    "# dataframe of reward distributions for the enumerative mode\n",
    "df_reward_iter = DataFrame(\n",
    "    user_set=user_set_agg,\n",
    "    varcore_iter=vectorize_rewards(varcore_dist_iter),\n",
    "    varleastcore_iter=vectorize_rewards(varleastcore_dist_iter),\n",
    ")\n",
    "\n",
    "# dataframe of the time requirements\n",
    "dict_time_iter = Dict(\n",
    "    \"IterMode\"=>0.0,\n",
    "    \"varcore_iter\"=>time_elapsed_varcore_iter,\n",
    "    \"varleastcore_iter\"=>time_elapsed_varleastcore_iter,\n",
    ")\n",
    "\n",
    "df_reward_iter"
   ]
  },
  {
   "cell_type": "markdown",
   "metadata": {},
   "source": [
    "## Group all results and save them"
   ]
  },
  {
   "cell_type": "markdown",
   "metadata": {},
   "source": [
    "Merge results"
   ]
  },
  {
   "cell_type": "code",
   "execution_count": 30,
   "metadata": {},
   "outputs": [
    {
     "data": {
      "text/html": [
       "<div class=\"data-frame\"><p>11 rows × 7 columns</p><table class=\"data-frame\"><thead><tr><th></th><th>user_set</th><th>shapley_enum</th><th>nucleolus_enum</th><th>varcore_enum</th><th>varleastcore_enum</th><th>varcore_iter</th><th>varleastcore_iter</th></tr><tr><th></th><th title=\"Any\">Any</th><th title=\"Float64\">Float64</th><th title=\"Float64\">Float64</th><th title=\"Float64\">Float64</th><th title=\"Float64\">Float64</th><th title=\"Float64\">Float64</th><th title=\"Float64\">Float64</th></tr></thead><tbody><tr><th>1</th><td>EC</td><td>1.04939e5</td><td>1.09098e5</td><td>43112.0</td><td>49015.1</td><td>43112.0</td><td>49015.1</td></tr><tr><th>2</th><td>user4</td><td>5248.87</td><td>5588.33</td><td>10068.7</td><td>7954.27</td><td>10068.7</td><td>7954.27</td></tr><tr><th>3</th><td>user7</td><td>22856.2</td><td>24636.5</td><td>43112.0</td><td>46050.6</td><td>43112.0</td><td>46050.6</td></tr><tr><th>4</th><td>user8</td><td>7397.17</td><td>4461.78</td><td>8923.56</td><td>5701.17</td><td>8923.56</td><td>5701.17</td></tr><tr><th>5</th><td>user9</td><td>6298.22</td><td>4197.3</td><td>8073.94</td><td>5172.22</td><td>8073.94</td><td>5172.22</td></tr><tr><th>6</th><td>user2</td><td>5723.51</td><td>3222.39</td><td>6444.78</td><td>3222.39</td><td>6444.78</td><td>3222.39</td></tr><tr><th>7</th><td>user1</td><td>3588.8</td><td>3354.85</td><td>6351.43</td><td>3487.31</td><td>6351.43</td><td>3487.31</td></tr><tr><th>8</th><td>user5</td><td>32604.5</td><td>35382.8</td><td>43112.0</td><td>49015.1</td><td>43112.0</td><td>49015.1</td></tr><tr><th>9</th><td>user3</td><td>6380.4</td><td>4234.07</td><td>8346.22</td><td>5245.75</td><td>8346.22</td><td>5245.75</td></tr><tr><th>10</th><td>user6</td><td>4871.54</td><td>3246.66</td><td>6493.32</td><td>3270.93</td><td>6493.32</td><td>3270.93</td></tr><tr><th>11</th><td>user10</td><td>27241.6</td><td>29727.2</td><td>43112.0</td><td>49015.1</td><td>43112.0</td><td>49015.1</td></tr></tbody></table></div>"
      ],
      "text/latex": [
       "\\begin{tabular}{r|ccccccc}\n",
       "\t& user\\_set & shapley\\_enum & nucleolus\\_enum & varcore\\_enum & varleastcore\\_enum & varcore\\_iter & varleastcore\\_iter\\\\\n",
       "\t\\hline\n",
       "\t& Any & Float64 & Float64 & Float64 & Float64 & Float64 & Float64\\\\\n",
       "\t\\hline\n",
       "\t1 & EC & 1.04939e5 & 1.09098e5 & 43112.0 & 49015.1 & 43112.0 & 49015.1 \\\\\n",
       "\t2 & user4 & 5248.87 & 5588.33 & 10068.7 & 7954.27 & 10068.7 & 7954.27 \\\\\n",
       "\t3 & user7 & 22856.2 & 24636.5 & 43112.0 & 46050.6 & 43112.0 & 46050.6 \\\\\n",
       "\t4 & user8 & 7397.17 & 4461.78 & 8923.56 & 5701.17 & 8923.56 & 5701.17 \\\\\n",
       "\t5 & user9 & 6298.22 & 4197.3 & 8073.94 & 5172.22 & 8073.94 & 5172.22 \\\\\n",
       "\t6 & user2 & 5723.51 & 3222.39 & 6444.78 & 3222.39 & 6444.78 & 3222.39 \\\\\n",
       "\t7 & user1 & 3588.8 & 3354.85 & 6351.43 & 3487.31 & 6351.43 & 3487.31 \\\\\n",
       "\t8 & user5 & 32604.5 & 35382.8 & 43112.0 & 49015.1 & 43112.0 & 49015.1 \\\\\n",
       "\t9 & user3 & 6380.4 & 4234.07 & 8346.22 & 5245.75 & 8346.22 & 5245.75 \\\\\n",
       "\t10 & user6 & 4871.54 & 3246.66 & 6493.32 & 3270.93 & 6493.32 & 3270.93 \\\\\n",
       "\t11 & user10 & 27241.6 & 29727.2 & 43112.0 & 49015.1 & 43112.0 & 49015.1 \\\\\n",
       "\\end{tabular}\n"
      ],
      "text/plain": [
       "\u001b[1m11×7 DataFrame\u001b[0m\n",
       "\u001b[1m Row \u001b[0m│\u001b[1m user_set \u001b[0m\u001b[1m shapley_enum  \u001b[0m\u001b[1m nucleolus_enum \u001b[0m\u001b[1m varcore_enum \u001b[0m\u001b[1m varleastcore_enum \u001b[0m\u001b[1m varcore_iter \u001b[0m\u001b[1m varleastcore_iter \u001b[0m\n",
       "\u001b[1m     \u001b[0m│\u001b[90m Any      \u001b[0m\u001b[90m Float64       \u001b[0m\u001b[90m Float64        \u001b[0m\u001b[90m Float64      \u001b[0m\u001b[90m Float64           \u001b[0m\u001b[90m Float64      \u001b[0m\u001b[90m Float64           \u001b[0m\n",
       "─────┼───────────────────────────────────────────────────────────────────────────────────────────────────────────\n",
       "   1 │ EC            1.04939e5       1.09098e5      43112.0            49015.1       43112.0            49015.1\n",
       "   2 │ user4      5248.87         5588.33           10068.7             7954.27      10068.7             7954.27\n",
       "   3 │ user7     22856.2         24636.5            43112.0            46050.6       43112.0            46050.6\n",
       "   4 │ user8      7397.17         4461.78            8923.56            5701.17       8923.56            5701.17\n",
       "   5 │ user9      6298.22         4197.3             8073.94            5172.22       8073.94            5172.22\n",
       "   6 │ user2      5723.51         3222.39            6444.78            3222.39       6444.78            3222.39\n",
       "   7 │ user1      3588.8          3354.85            6351.43            3487.31       6351.43            3487.31\n",
       "   8 │ user5     32604.5         35382.8            43112.0            49015.1       43112.0            49015.1\n",
       "   9 │ user3      6380.4          4234.07            8346.22            5245.75       8346.22            5245.75\n",
       "  10 │ user6      4871.54         3246.66            6493.32            3270.93       6493.32            3270.93\n",
       "  11 │ user10    27241.6         29727.2            43112.0            49015.1       43112.0            49015.1"
      ]
     },
     "metadata": {},
     "output_type": "display_data"
    }
   ],
   "source": [
    "df_reward = innerjoin(df_reward_enum, df_reward_iter, on=:user_set)\n",
    "df_reward"
   ]
  },
  {
   "cell_type": "code",
   "execution_count": 31,
   "metadata": {},
   "outputs": [
    {
     "data": {
      "text/plain": [
       "Dict{String, Float64} with 8 entries:\n",
       "  \"EnumMode\"          => 5091.33\n",
       "  \"varcore_iter\"      => 1081.83\n",
       "  \"varleastcore_enum\" => 5092.35\n",
       "  \"shapley_enum\"      => 5092.08\n",
       "  \"IterMode\"          => 0.0\n",
       "  \"varleastcore_iter\" => 672.438\n",
       "  \"nucleolus_enum\"    => 5170.69\n",
       "  \"varcore_enum\"      => 5093.65"
      ]
     },
     "metadata": {},
     "output_type": "display_data"
    }
   ],
   "source": [
    "dict_time = merge(dict_time_enum, dict_time_iter)\n",
    "dict_time"
   ]
  },
  {
   "cell_type": "markdown",
   "metadata": {},
   "source": [
    "Save results"
   ]
  },
  {
   "cell_type": "code",
   "execution_count": 32,
   "metadata": {},
   "outputs": [
    {
     "data": {
      "text/latex": [
       "\\begin{tabular}{ccccccc}\n",
       "user_set & shapley_enum & nucleolus_enum & varcore_enum & varleastcore_enum & varcore_iter & varleastcore_iter\\\\\n",
       "EC & 104.94 & 109.10 & 43.11 & 49.02 & 43.11 & 49.02\\\\\n",
       "user1 & 5.25 & 5.59 & 10.07 & 7.95 & 10.07 & 7.95\\\\\n",
       "user2 & 22.86 & 24.64 & 43.11 & 46.05 & 43.11 & 46.05\\\\\n",
       "user3 & 7.40 & 4.46 & 8.92 & 5.70 & 8.92 & 5.70\\\\\n",
       "user4 & 6.30 & 4.20 & 8.07 & 5.17 & 8.07 & 5.17\\\\\n",
       "user5 & 5.72 & 3.22 & 6.44 & 3.22 & 6.44 & 3.22\\\\\n",
       "user6 & 3.59 & 3.35 & 6.35 & 3.49 & 6.35 & 3.49\\\\\n",
       "user7 & 32.60 & 35.38 & 43.11 & 49.02 & 43.11 & 49.02\\\\\n",
       "user8 & 6.38 & 4.23 & 8.35 & 5.25 & 8.35 & 5.25\\\\\n",
       "user9 & 4.87 & 3.25 & 6.49 & 3.27 & 6.49 & 3.27\\\\\n",
       "user10 & 27.24 & 29.73 & 43.11 & 49.02 & 43.11 & 49.02\\\\\n",
       "\\end{tabular}\n"
      ],
      "text/plain": [
       "L\"\\begin{tabular}{ccccccc}\n",
       "user_set & shapley_enum & nucleolus_enum & varcore_enum & varleastcore_enum & varcore_iter & varleastcore_iter\\\\\n",
       "EC & 104.94 & 109.10 & 43.11 & 49.02 & 43.11 & 49.02\\\\\n",
       "user1 & 5.25 & 5.59 & 10.07 & 7.95 & 10.07 & 7.95\\\\\n",
       "user2 & 22.86 & 24.64 & 43.11 & 46.05 & 43.11 & 46.05\\\\\n",
       "user3 & 7.40 & 4.46 & 8.92 & 5.70 & 8.92 & 5.70\\\\\n",
       "user4 & 6.30 & 4.20 & 8.07 & 5.17 & 8.07 & 5.17\\\\\n",
       "user5 & 5.72 & 3.22 & 6.44 & 3.22 & 6.44 & 3.22\\\\\n",
       "user6 & 3.59 & 3.35 & 6.35 & 3.49 & 6.35 & 3.49\\\\\n",
       "user7 & 32.60 & 35.38 & 43.11 & 49.02 & 43.11 & 49.02\\\\\n",
       "user8 & 6.38 & 4.23 & 8.35 & 5.25 & 8.35 & 5.25\\\\\n",
       "user9 & 4.87 & 3.25 & 6.49 & 3.27 & 6.49 & 3.27\\\\\n",
       "user10 & 27.24 & 29.73 & 43.11 & 49.02 & 43.11 & 49.02\\\\\n",
       "\\end{tabular}\n",
       "\""
      ]
     },
     "metadata": {},
     "output_type": "display_data"
    }
   ],
   "source": [
    "# print to latex the reward table\n",
    "set_default(fmt = \"%.2f\", convert_unicode = false)\n",
    "\n",
    "sorted_user_set = [EC_CODE; [\"user$u\" for u in 1:length(get_user_set(ECModel))]]\n",
    "\n",
    "df_reward_mod = copy(df_reward)\n",
    "sort!(df_reward_mod, [order(:user_set, by=x->findfirst(x .== sorted_user_set))])\n",
    "df_reward_mod[!, 2:end] = df_reward[!, 2:end] ./ 1000  # change € unit to k€\n",
    "tex_df_reward = latexify(df_reward_mod; env=:table, latex=false)"
   ]
  },
  {
   "cell_type": "code",
   "execution_count": 33,
   "metadata": {},
   "outputs": [
    {
     "data": {
      "text/html": [
       "<div class=\"data-frame\"><p>1 rows × 7 columns</p><table class=\"data-frame\"><thead><tr><th></th><th>title</th><th>shapley_enum</th><th>nucleolus_enum</th><th>varcore_enum</th><th>varleastcore_enum</th><th>varcore_iter</th><th>varleastcore_iter</th></tr><tr><th></th><th title=\"LaTeXString\">LaTeXStr…</th><th title=\"Float64\">Float64</th><th title=\"Float64\">Float64</th><th title=\"Float64\">Float64</th><th title=\"Float64\">Float64</th><th title=\"Float64\">Float64</th><th title=\"Float64\">Float64</th></tr></thead><tbody><tr><th>1</th><td>$Time [h]$</td><td>1.41447</td><td>1.4363</td><td>1.4149</td><td>1.41454</td><td>0.300508</td><td>0.186788</td></tr></tbody></table></div>"
      ],
      "text/latex": [
       "\\begin{tabular}{r|ccccccc}\n",
       "\t& title & shapley\\_enum & nucleolus\\_enum & varcore\\_enum & varleastcore\\_enum & varcore\\_iter & varleastcore\\_iter\\\\\n",
       "\t\\hline\n",
       "\t& LaTeXStr… & Float64 & Float64 & Float64 & Float64 & Float64 & Float64\\\\\n",
       "\t\\hline\n",
       "\t1 & $Time [h]$ & 1.41447 & 1.4363 & 1.4149 & 1.41454 & 0.300508 & 0.186788 \\\\\n",
       "\\end{tabular}\n"
      ],
      "text/plain": [
       "\u001b[1m1×7 DataFrame\u001b[0m\n",
       "\u001b[1m Row \u001b[0m│\u001b[1m title      \u001b[0m\u001b[1m shapley_enum \u001b[0m\u001b[1m nucleolus_enum \u001b[0m\u001b[1m varcore_enum \u001b[0m\u001b[1m varleastcore_enum \u001b[0m\u001b[1m varcore_iter \u001b[0m\u001b[1m varleastcore_iter \u001b[0m\n",
       "\u001b[1m     \u001b[0m│\u001b[90m LaTeXStr…  \u001b[0m\u001b[90m Float64      \u001b[0m\u001b[90m Float64        \u001b[0m\u001b[90m Float64      \u001b[0m\u001b[90m Float64           \u001b[0m\u001b[90m Float64      \u001b[0m\u001b[90m Float64           \u001b[0m\n",
       "─────┼────────────────────────────────────────────────────────────────────────────────────────────────────────────\n",
       "   1 │ $Time [h]$       1.41447          1.4363        1.4149            1.41454      0.300508           0.186788"
      ]
     },
     "metadata": {},
     "output_type": "display_data"
    }
   ],
   "source": [
    "df_time = DataFrame(dict_time)[!, names(df_reward)[2:end]]./3600\n",
    "df_time[!, \"title\"] = [L\"Time [h]\"]\n",
    "df_time = df_time[!, [\"title\"; names(df_reward)[2:end]]]"
   ]
  },
  {
   "cell_type": "code",
   "execution_count": 34,
   "metadata": {},
   "outputs": [
    {
     "data": {
      "text/html": [
       "<div class=\"data-frame\"><p>1 rows × 7 columns</p><table class=\"data-frame\"><thead><tr><th></th><th>title</th><th>shapley_enum</th><th>nucleolus_enum</th><th>varcore_enum</th><th>varleastcore_enum</th><th>varcore_iter</th><th>varleastcore_iter</th></tr><tr><th></th><th title=\"LaTeXString\">LaTeXStr…</th><th title=\"LaTeXString\">LaTeXStr…</th><th title=\"Int64\">Int64</th><th title=\"LaTeXString\">LaTeXStr…</th><th title=\"LaTeXString\">LaTeXStr…</th><th title=\"Int64\">Int64</th><th title=\"Int64\">Int64</th></tr></thead><tbody><tr><th>1</th><td>$Iterations$</td><td>$-$</td><td>2037</td><td>$-$</td><td>$-$</td><td>5</td><td>2</td></tr></tbody></table></div>"
      ],
      "text/latex": [
       "\\begin{tabular}{r|ccccccc}\n",
       "\t& title & shapley\\_enum & nucleolus\\_enum & varcore\\_enum & varleastcore\\_enum & varcore\\_iter & varleastcore\\_iter\\\\\n",
       "\t\\hline\n",
       "\t& LaTeXStr… & LaTeXStr… & Int64 & LaTeXStr… & LaTeXStr… & Int64 & Int64\\\\\n",
       "\t\\hline\n",
       "\t1 & $Iterations$ & $-$ & 2037 & $-$ & $-$ & 5 & 2 \\\\\n",
       "\\end{tabular}\n"
      ],
      "text/plain": [
       "\u001b[1m1×7 DataFrame\u001b[0m\n",
       "\u001b[1m Row \u001b[0m│\u001b[1m title        \u001b[0m\u001b[1m shapley_enum \u001b[0m\u001b[1m nucleolus_enum \u001b[0m\u001b[1m varcore_enum \u001b[0m\u001b[1m varleastcore_enum \u001b[0m\u001b[1m varcore_iter \u001b[0m\u001b[1m varleastcore_iter \u001b[0m\n",
       "\u001b[1m     \u001b[0m│\u001b[90m LaTeXStr…    \u001b[0m\u001b[90m LaTeXStr…    \u001b[0m\u001b[90m Int64          \u001b[0m\u001b[90m LaTeXStr…    \u001b[0m\u001b[90m LaTeXStr…         \u001b[0m\u001b[90m Int64        \u001b[0m\u001b[90m Int64             \u001b[0m\n",
       "─────┼──────────────────────────────────────────────────────────────────────────────────────────────────────────────\n",
       "   1 │ $Iterations$  $-$                     2037  $-$           $-$                           5                  2"
      ]
     },
     "metadata": {},
     "output_type": "display_data"
    }
   ],
   "source": [
    "df_iterations = DataFrame(\n",
    "    title=L\"Iterations\",\n",
    "    shapley_enum=L\"-\",\n",
    "    nucleolus_enum=n_iterations_nucleolus_enum,\n",
    "    varcore_enum=L\"-\",\n",
    "    varleastcore_enum=L\"-\",\n",
    "    varcore_iter=history_varcore_iter[end][1],\n",
    "    varleastcore_iter=history_varleastcore_iter[end][1],\n",
    ")"
   ]
  },
  {
   "cell_type": "code",
   "execution_count": 35,
   "metadata": {},
   "outputs": [
    {
     "data": {
      "text/latex": [
       "\\begin{tabular}{ccccccc}\n",
       "$title$ & $shapley_{enum}$ & $nucleolus_{enum}$ & $varcore_{enum}$ & $varleastcore_{enum}$ & $varcore_{iter}$ & $varleastcore_{iter}$\\\\\n",
       "$Time [h]$ & $1.41$ & $1.44$ & $1.41$ & $1.41$ & $0.30$ & $0.19$\\\\\n",
       "$Iterations$ & $-$ & $2037.00$ & $-$ & $-$ & $5.00$ & $2.00$\\\\\n",
       "\\end{tabular}\n"
      ],
      "text/plain": [
       "L\"\\begin{tabular}{ccccccc}\n",
       "$title$ & $shapley_{enum}$ & $nucleolus_{enum}$ & $varcore_{enum}$ & $varleastcore_{enum}$ & $varcore_{iter}$ & $varleastcore_{iter}$\\\\\n",
       "$Time [h]$ & $1.41$ & $1.44$ & $1.41$ & $1.41$ & $0.30$ & $0.19$\\\\\n",
       "$Iterations$ & $-$ & $2037.00$ & $-$ & $-$ & $5.00$ & $2.00$\\\\\n",
       "\\end{tabular}\n",
       "\""
      ]
     },
     "metadata": {},
     "output_type": "display_data"
    }
   ],
   "source": [
    "df_computational_time = vcat(df_time, df_iterations)\n",
    "\n",
    "# print to latex the equivalent dataframe for time\n",
    "tex_df_computational_time = latexify(df_computational_time; env=:table)"
   ]
  },
  {
   "cell_type": "code",
   "execution_count": 36,
   "metadata": {},
   "outputs": [],
   "source": [
    "# save latex code\n",
    "open(latex_output,\"w\") do io\n",
    "    println(io, \"Reward distribution table\\n\\n\\n\")\n",
    "    print(io, tex_df_reward)\n",
    "    println(io, \"Computational time table\\n\\n\\n\")\n",
    "    print(io, tex_df_computational_time)\n",
    "end"
   ]
  },
  {
   "cell_type": "code",
   "execution_count": 37,
   "metadata": {},
   "outputs": [
    {
     "name": "stderr",
     "output_type": "stream",
     "text": [
      "┌ Warning: Opening file with JLD2.MmapIO failed, falling back to IOStream\n",
      "└ @ JLD2 C:\\Users\\Davide\\.julia\\packages\\JLD2\\k9Gt0\\src\\JLD2.jl:233\n"
     ]
    }
   ],
   "source": [
    "if !isfile(total_results_file) || overwrite_files\n",
    "    jldsave(total_results_file; df_reward, dict_time, df_computational_time)\n",
    "end"
   ]
  }
 ],
 "metadata": {
  "kernelspec": {
   "display_name": "Julia 1.6.1",
   "language": "julia",
   "name": "julia-1.6"
  },
  "language_info": {
   "file_extension": ".jl",
   "mimetype": "application/julia",
   "name": "julia",
   "version": "1.6.1"
  },
  "orig_nbformat": 4
 },
 "nbformat": 4,
 "nbformat_minor": 2
}
